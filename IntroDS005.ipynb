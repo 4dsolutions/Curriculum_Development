{
 "cells": [
  {
   "cell_type": "markdown",
   "metadata": {},
   "source": [
    "## STATISTICAL TESTS\n",
    "\n",
    "The formal idea of a p-value is nuanced.  How rare would our sample be, if drawn at random from a population?  \n",
    "\n",
    "The null hypothesis, that chance explains the difference, is either: \n",
    "\n",
    "* correctly embraced\n",
    "* incorrently embraced (type 1 error, false positive)\n",
    "* correctly rejected, or \n",
    "* incorrectly rejected (type 2 error, false negative)\n",
    "\n",
    "One may accept that some alternative hypothesis is the case, based on a low enough probability that the null hypothesis explains the data.  \n",
    "\n",
    "If the probability or p-value remains higher than the threshold cut-off (the critical value), that doesn't mean the null hypothesis is therefore true, or that it's true with a certain probability.  \n",
    "\n",
    "All we know is there's insufficient evidence to dismiss it.\n",
    "\n",
    "Judging an hypothesis to be more or less probable, given the data, is more what a Bayesian line of thinking would head towards.  The Frequentist turns it around:  given the null hypothesis, how likely is this data?  If the value is low enough, the null hypothesis must be false.\n",
    "\n"
   ]
  },
  {
   "cell_type": "code",
   "execution_count": 10,
   "metadata": {},
   "outputs": [
    {
     "data": {
      "text/plain": [
       "0    4.027051\n",
       "1    2.540304\n",
       "2    4.608112\n",
       "3    2.486566\n",
       "4    5.658187\n",
       "dtype: float64"
      ]
     },
     "execution_count": 10,
     "metadata": {},
     "output_type": "execute_result"
    }
   ],
   "source": [
    "import scipy.stats as stats\n",
    "import pandas as pd\n",
    "\n",
    "sample = pd.Series(stats.norm(loc=3.0, scale=1.4).rvs(100))\n",
    "sample.head()  # play with this, check tail?  Practice slicing?"
   ]
  },
  {
   "cell_type": "code",
   "execution_count": 5,
   "metadata": {},
   "outputs": [
    {
     "data": {
      "text/plain": [
       "155    1.921761\n",
       "156    3.307310\n",
       "157    3.229010\n",
       "158    1.857193\n",
       "159    3.154358\n",
       "dtype: float64"
      ]
     },
     "execution_count": 5,
     "metadata": {},
     "output_type": "execute_result"
    }
   ],
   "source": [
    "sample.iloc[155:160] # up to but no including"
   ]
  },
  {
   "cell_type": "code",
   "execution_count": 3,
   "metadata": {},
   "outputs": [
    {
     "data": {
      "text/plain": [
       "count    1000.000000\n",
       "mean        2.994449\n",
       "std         1.336674\n",
       "min        -0.613772\n",
       "25%         2.140535\n",
       "50%         2.939220\n",
       "75%         3.827405\n",
       "max         7.974718\n",
       "dtype: float64"
      ]
     },
     "execution_count": 3,
     "metadata": {},
     "output_type": "execute_result"
    }
   ],
   "source": [
    "sample.describe()"
   ]
  },
  {
   "cell_type": "code",
   "execution_count": 12,
   "metadata": {},
   "outputs": [
    {
     "data": {
      "image/png": "[encoded data removed]",
      "text/plain": [
       "<Figure size 432x288 with 1 Axes>"
      ]
     },
     "metadata": {
      "needs_background": "light"
     },
     "output_type": "display_data"
    }
   ],
   "source": [
    "%matplotlib inline\n",
    "sample.plot(kind=\"hist\", bins=10);"
   ]
  },
  {
   "cell_type": "markdown",
   "metadata": {},
   "source": [
    "## T-Test\n",
    "\n",
    "The form of play here is to practice generating data samples, including some that shouldn't register as different, and seeing if they do.\n",
    "\n",
    "People who run the same T-Test over and over, until they get p < 0.05, may be falling into a pitfall, in not continuing those tests.  See what results you get here.\n",
    "\n",
    "Beyond the T-test: ANOVA, Tukey, with Chi-Squared in there somewhere.\n",
    "\n",
    "What we're looking for in all these cases is whether we really looking at a difference that makes a difference.  Are these two sets of data worth distinguishing?  What if we have more than two sets?\n",
    "\n",
    "ANOVO is good at detecting the presence of outliers, without saying who they are.  Tukey is good at comparing the sets pairwise and deciding which pairs might have an above threshold difference, meaning a low probability of differing by chance."
   ]
  },
  {
   "cell_type": "code",
   "execution_count": 13,
   "metadata": {},
   "outputs": [],
   "source": [
    "from scipy.stats import ttest_ind\n",
    "import numpy as np"
   ]
  },
  {
   "cell_type": "code",
   "execution_count": 14,
   "metadata": {},
   "outputs": [],
   "source": [
    "before = np.random.normal(2.1, 0.9, 1000)\n",
    "after  = np.random.normal(2.1, 0.7, 1000)\n",
    "\n",
    "results = ttest_ind(before, after)"
   ]
  },
  {
   "cell_type": "markdown",
   "metadata": {},
   "source": [
    "Like try the same $\\mu$ for both, and just mess with the $\\sigma$, by making the curve sharper.  Try plotting both.\n",
    "\n",
    "Remember, a lot of these tests are pretty worthless if we can't assume a normal distrubution on the part of what our samples sample.  \n",
    "\n",
    "The height of the barley plant needs to taper off symmetrically on both sides of some mean, with no equally salient peak somewhere else."
   ]
  },
  {
   "cell_type": "code",
   "execution_count": 15,
   "metadata": {},
   "outputs": [
    {
     "data": {
      "text/plain": [
       "Ttest_indResult(statistic=-0.19628238385671737, pvalue=0.8444091101860818)"
      ]
     },
     "execution_count": 15,
     "metadata": {},
     "output_type": "execute_result"
    }
   ],
   "source": [
    "results"
   ]
  },
  {
   "cell_type": "markdown",
   "metadata": {},
   "source": [
    "## F-Test"
   ]
  },
  {
   "cell_type": "code",
   "execution_count": null,
   "metadata": {},
   "outputs": [],
   "source": [
    "from statistics import variance\n",
    "import scipy\n",
    "\n",
    "sampleA = np.random.normal(1000, 100, 15)\n",
    "sampleB = np.random.normal(1000, 110, 20)\n",
    "\n",
    "F = variance(sampleA) / variance(sampleB)\n",
    "df1 = len(sampleA) - 1\n",
    "df2 = len(sampleB) - 1\n",
    "survival = scipy.stats.f.sf(F, df1, df2)\n",
    "pvalue   = scipy.stats.f.cdf(F, df1, df2)"
   ]
  },
  {
   "cell_type": "code",
   "execution_count": null,
   "metadata": {},
   "outputs": [],
   "source": [
    "survival"
   ]
  },
  {
   "cell_type": "code",
   "execution_count": null,
   "metadata": {},
   "outputs": [],
   "source": [
    "pvalue"
   ]
  },
  {
   "cell_type": "code",
   "execution_count": null,
   "metadata": {},
   "outputs": [],
   "source": [
    "alpha = 0.05\n",
    "if pvalue < alpha:\n",
    "    print(\"Reject the Null Hypothesis H0\")\n",
    "else:\n",
    "    print(\"Fail to reject the Null Hypothesis H0\")"
   ]
  },
  {
   "cell_type": "markdown",
   "metadata": {},
   "source": [
    "## ANOVA"
   ]
  },
  {
   "cell_type": "code",
   "execution_count": null,
   "metadata": {},
   "outputs": [],
   "source": [
    "import scipy.stats as stats\n",
    "\n",
    "sampleA = stats.norm(loc=3.0, scale=1.4).rvs(1000)\n",
    "sampleB = stats.norm(loc=3.0, scale=1.4).rvs(1000)\n",
    "sampleC = stats.norm(loc=3.1, scale=1.4).rvs(1000)\n",
    "\n",
    "stats.f_oneway(sampleA, sampleB, sampleC)"
   ]
  },
  {
   "cell_type": "code",
   "execution_count": null,
   "metadata": {},
   "outputs": [],
   "source": [
    "from IPython.display import YouTubeVideo\n",
    "YouTubeVideo('oOuu8IBd-yo')"
   ]
  },
  {
   "cell_type": "markdown",
   "metadata": {},
   "source": [
    "[Example Online Tutorial](https://towardsdatascience.com/1-way-anova-from-scratch-dissecting-the-anova-table-with-a-worked-example-170f4f2e58ad)"
   ]
  },
  {
   "cell_type": "markdown",
   "metadata": {},
   "source": [
    "## ANCOVA"
   ]
  },
  {
   "cell_type": "code",
   "execution_count": null,
   "metadata": {},
   "outputs": [],
   "source": []
  },
  {
   "cell_type": "code",
   "execution_count": null,
   "metadata": {},
   "outputs": [],
   "source": [
    "# ? stats.norm"
   ]
  },
  {
   "cell_type": "markdown",
   "metadata": {},
   "source": [
    "## Tukey"
   ]
  },
  {
   "cell_type": "code",
   "execution_count": null,
   "metadata": {},
   "outputs": [],
   "source": []
  },
  {
   "cell_type": "markdown",
   "metadata": {},
   "source": [
    "## For Further Reading\n",
    "\n",
    "Windish, Donna M, and Marie Diener-West. [“A clinician-educator's roadmap to choosing and interpreting statistical tests.”](https://www.ncbi.nlm.nih.gov/pmc/articles/PMC1924630/) Journal of general internal medicine vol. 21,6 (2006): 656-60. doi:10.1111/j.1525-1497.2006.00390.x"
   ]
  },
  {
   "cell_type": "code",
   "execution_count": null,
   "metadata": {},
   "outputs": [],
   "source": []
  }
 ],
 "metadata": {
  "kernelspec": {
   "display_name": "Python 3",
   "language": "python",
   "name": "python3"
  },
  "language_info": {
   "codemirror_mode": {
    "name": "ipython",
    "version": 3
   },
   "file_extension": ".py",
   "mimetype": "text/x-python",
   "name": "python",
   "nbconvert_exporter": "python",
   "pygments_lexer": "ipython3",
   "version": "3.7.7"
  }
 },
 "nbformat": 4,
 "nbformat_minor": 4
}
