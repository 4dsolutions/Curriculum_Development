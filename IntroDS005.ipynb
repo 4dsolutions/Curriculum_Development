{
 "cells": [
  {
   "cell_type": "markdown",
   "metadata": {},
   "source": [
    "T-Test\n",
    "\n",
    "The form of play here is to practice generating data samples, including some that shouldn't register as different, and seeing if they do.\n",
    "\n",
    "People who run the same T-Test over and over, until they get p < 0.05, may be falling into a pitfall, in not continuing those tests.  See what results you get here.\n",
    "\n",
    "Beyond the T-test: ANOVA, Tukey, with Chi-Squared in there somewhere.\n",
    "\n",
    "What we're looking for in all these cases is whether we really looking at a difference that makes a difference.  Are these two sets of data worth distinguishing?  What if we have more than two sets?\n",
    "\n",
    "ANOVO is good at detecting the presence of outliers, without saying who they are.  Tukey is good at comparing the sets pairwise and deciding which pairs might have an above threshold difference, meaning a low probability of differing by chance."
   ]
  },
  {
   "cell_type": "code",
   "execution_count": 5,
   "metadata": {},
   "outputs": [],
   "source": [
    "from scipy.stats import ttest_ind\n",
    "import numpy as np"
   ]
  },
  {
   "cell_type": "code",
   "execution_count": 8,
   "metadata": {},
   "outputs": [],
   "source": [
    "before = np.random.normal(2.1, 0.9, 1000)\n",
    "after  = np.random.normal(2.1, 0.7, 1000)\n",
    "\n",
    "results = ttest_ind(before, after)"
   ]
  },
  {
   "cell_type": "markdown",
   "metadata": {},
   "source": [
    "Like try the same $\\mu$ for both, and just mess with the $\\sigma$, by making the curve sharper.  Try plotting both.\n",
    "\n",
    "Remember, a lot of these tests are pretty worthless if we can't assume a normal distrubution on the part of what our samples sample.  \n",
    "\n",
    "The height of the barley plant needs to taper off symmetrically on both sides of some mean, with no equally salient peak somewhere else."
   ]
  },
  {
   "cell_type": "code",
   "execution_count": 9,
   "metadata": {},
   "outputs": [
    {
     "data": {
      "text/plain": [
       "Ttest_indResult(statistic=-1.5089261115054415, pvalue=0.13147577439562574)"
      ]
     },
     "execution_count": 9,
     "metadata": {},
     "output_type": "execute_result"
    }
   ],
   "source": [
    "results"
   ]
  },
  {
   "cell_type": "code",
   "execution_count": null,
   "metadata": {},
   "outputs": [],
   "source": []
  }
 ],
 "metadata": {
  "kernelspec": {
   "display_name": "Python 3",
   "language": "python",
   "name": "python3"
  },
  "language_info": {
   "codemirror_mode": {
    "name": "ipython",
    "version": 3
   },
   "file_extension": ".py",
   "mimetype": "text/x-python",
   "name": "python",
   "nbconvert_exporter": "python",
   "pygments_lexer": "ipython3",
   "version": "3.7.4"
  }
 },
 "nbformat": 4,
 "nbformat_minor": 4
}
