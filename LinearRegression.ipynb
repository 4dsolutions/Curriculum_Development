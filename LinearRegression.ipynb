{
 "cells": [
  {
   "cell_type": "markdown",
   "metadata": {},
   "source": [
    "# Linear Regression Sandbox\n",
    "\n",
    "... and curve fitting more generally.\n",
    "\n",
    "Welcome students, to our Curriculum Development exercise and experiment.  Data science is a new discipline comprised of many pre-existing ones.  Statistics came together with computer science, but also operations research and desktop publishing.  The data visualization side of the discipline owes a lot to Edward Tufte."
   ]
  },
  {
   "cell_type": "code",
   "execution_count": 80,
   "metadata": {},
   "outputs": [],
   "source": [
    "import numpy as np"
   ]
  },
  {
   "cell_type": "markdown",
   "metadata": {},
   "source": [
    "Much of middle and high school algebra is obsessed with the paradigm linear equation $y = mx + b$ where $m$ is the slope of some line through (0, b) at the x-axis.  In statistics, the $m$ flips over to become a $w$ (weight) and the $b$ comes to mean \"bias\" (something you need to keep, not overcome).\n",
    "\n",
    "The statistics community likes to use subscripted $b$ such as $b_{0}, b_{1}, b_{2}, b_{3}, b_{4} \\dots$ for all the coefficients of the linear equation we're hoping to find (fit to the data), and then use as a predictor.\n",
    "\n",
    "Tell me your features (e.g. how many bedrooms, bathrooms, floorspace...) and I'll predict the market value (good luck on that, without some location data).  I'll \"weight\" the features differently, i.e. some will \"count more\" than others.\n",
    "\n",
    "In deep learning with so-called neural networks (only loosely based on the idea of actual neurons), a model may start with thousands upon thousands of randomly initialized weights, all awaiting micro-adjustments over millions of iterations.\n",
    "\n",
    "A multi-variate Linear Regression model has a similar challenge:  to adjust weights so as to minimize some error function, ordinarily the sum of the 2nd powers of \"residuals\" i.e. the \"squared distances\" between actual and predicted values, all summed.  Minimize that sum to get the best model.  Adjust weights to accomplish this goal.\n",
    "\n",
    "Your age is more of a predictor of medical condition Y than your haircolor.  Discovering the most critical features for prediction is an art in itself, given we must concern ourselves with practicality.  \"Nice to have\" measures may be too \"pie in the sky\" meaning we need to go with the measures we have, or at least have a realistic chance of somehow getting.\n",
    "\n",
    "Does this mere difference in notational conventions explain why the $y = mx + b$ chapter was rarely seen as a segue to statistics more generally?  What middle school algebra books jumped from $y = mx + b$ to Linear Regression, we we might go:\n",
    "\n",
    "$$\n",
    "y[i] = b_{0} x_{0}[i] + b_{1} x_{1}[i] + b_{2}\n",
    "$$\n",
    "\n",
    "where $x_{0}$ and $x_{1}$ belong to the \"feature vector\" i.e. row $i$ of predictive variables used in linear combination with fixed coefficients (discovered through computation, i.e. \"machine learning\") $b_{0}$, $b_{1}$ and so on.\n",
    "\n",
    "\n",
    "Think of $i$ (for index) as a row in a DataFrame.\n",
    "\n",
    "That's a little bit more than a line driven by a single variable, $x$, but it's still a linear model."
   ]
  },
  {
   "cell_type": "markdown",
   "metadata": {},
   "source": [
    "Let's play..."
   ]
  },
  {
   "cell_type": "code",
   "execution_count": 81,
   "metadata": {},
   "outputs": [],
   "source": [
    "# y = 3 * x0 - 5 * x1 + 15 where x0 and x1 are two features\n",
    "b0 = 3\n",
    "b1 = -5\n",
    "b2 = 15\n",
    "rng = np.random.default_rng(42)\n",
    "x0 = rng.integers(30, size=20)  # feature\n",
    "x1 = rng.integers(30, size=20)  # feature\n",
    "y = 3 * x0 - 5 * x1 + 15"
   ]
  },
  {
   "cell_type": "markdown",
   "metadata": {},
   "source": [
    "What we're doing above is working backwards from a known rule, coefficients preset, to see if our Linear Regression recipe is able to recover these coefficients from the data alone.  $x0$ and $x1$ are not dependent on each other, aside from both consisting of random integers between 0 and 29.  These values always determine the same $y$ given the linear relationship provided.\n",
    "\n",
    "From the documentation, and example we'll be following rather closely:\n",
    "\n",
    "```python\n",
    "Examples\n",
    "--------\n",
    ">>> import numpy as np\n",
    ">>> from sklearn.linear_model import LinearRegression\n",
    ">>> X = np.array([[1, 1], [1, 2], [2, 2], [2, 3]])\n",
    ">>> # y = 1 * x_0 + 2 * x_1 + 3\n",
    ">>> y = np.dot(X, np.array([1, 2])) + 3\n",
    ">>> reg = LinearRegression().fit(X, y)\n",
    ">>> reg.score(X, y)\n",
    "1.0\n",
    ">>> reg.coef_\n",
    "array([1., 2.])\n",
    ">>> reg.intercept_\n",
    "3.0000...\n",
    ">>> reg.predict(np.array([[3, 5]]))\n",
    "array([16.])\n",
    "```"
   ]
  },
  {
   "cell_type": "code",
   "execution_count": 82,
   "metadata": {},
   "outputs": [],
   "source": [
    "from sklearn.linear_model import LinearRegression"
   ]
  },
  {
   "cell_type": "code",
   "execution_count": 83,
   "metadata": {},
   "outputs": [
    {
     "data": {
      "text/plain": [
       "array([[ 2, 15],\n",
       "       [23, 11],\n",
       "       [19,  5],\n",
       "       [13, 27],\n",
       "       [12, 23],\n",
       "       [25, 19],\n",
       "       [ 2, 12],\n",
       "       [20, 24],\n",
       "       [ 6, 16],\n",
       "       [ 2, 13]])"
      ]
     },
     "execution_count": 83,
     "metadata": {},
     "output_type": "execute_result"
    }
   ],
   "source": [
    "inputs = np.column_stack((x0, x1))\n",
    "inputs[:10]"
   ]
  },
  {
   "cell_type": "code",
   "execution_count": 84,
   "metadata": {},
   "outputs": [],
   "source": [
    "output = np.dot(inputs, np.array([b0, b1])) + b2\n",
    "model = LinearRegression().fit(inputs, output)"
   ]
  },
  {
   "cell_type": "code",
   "execution_count": 85,
   "metadata": {},
   "outputs": [
    {
     "data": {
      "text/plain": [
       "1.0"
      ]
     },
     "execution_count": 85,
     "metadata": {},
     "output_type": "execute_result"
    }
   ],
   "source": [
    "model.score(inputs, output)"
   ]
  },
  {
   "cell_type": "code",
   "execution_count": 86,
   "metadata": {},
   "outputs": [
    {
     "data": {
      "text/plain": [
       "array([ 3., -5.])"
      ]
     },
     "execution_count": 86,
     "metadata": {},
     "output_type": "execute_result"
    }
   ],
   "source": [
    "model.coef_"
   ]
  },
  {
   "cell_type": "code",
   "execution_count": 87,
   "metadata": {},
   "outputs": [
    {
     "data": {
      "text/plain": [
       "15.00000000000001"
      ]
     },
     "execution_count": 87,
     "metadata": {},
     "output_type": "execute_result"
    }
   ],
   "source": [
    "model.intercept_"
   ]
  },
  {
   "cell_type": "markdown",
   "metadata": {},
   "source": [
    "Do we agree that LinearRegression is a smarty pants? :-D"
   ]
  },
  {
   "cell_type": "markdown",
   "metadata": {},
   "source": [
    "### Exploring Tutorial Space, Notebook Open & Ready\n",
    "\n",
    "Now that we're warmed up, lets sample some of what's already out there in Cyberia.  \n",
    "\n",
    "\"Learning how to learn\" includes the technique of opening a fresh Notebook and following step by step tutorials.  Given a coding language is likely involved, there may be a \"learning to read music\" aspect to the activity.  \n",
    "\n",
    "Have you tried to read Julia before?  In this Notebook, our kernel is Python.\n",
    "\n",
    "You will find [Medium](http://medium.com) has become an important repository for all kinds of data science readings.  Consider contributing yourself.  I certainly use it a lot, including [to publish my own stories](https://medium.com/@kirbyurner).\n",
    "\n",
    "#### Tutorial on Medium \n",
    "\n",
    "[*Linear Regression in Python with Pandas & Scikit-Learn*]((https://becominghuman.ai/linear-regression-in-python-with-pandas-scikit-learn-72574a2ec1a5))\n",
    "Pranav Gupta Nov 25, 2018 · 6 min read\n",
    "\n",
    "This tutorial dives right into Python and tackles typical issues of noisy data (what is it OK to drop and/or fill in?), and the need, sometimes, for one hot encoding to improve whatever model.  In this case the model is a Linear Regressor, first with one dependent variable, then with many.\n",
    "\n",
    "[Tweeting my appreciation](https://twitter.com/4DsolutionsPDX/status/1258138571619405824) for the above tutorial -- another way to be a good netizen is to help curate and promote whatever you think might be useful to others."
   ]
  },
  {
   "cell_type": "code",
   "execution_count": 88,
   "metadata": {},
   "outputs": [],
   "source": [
    "URL = \"https://openei.org/datasets/dataset/649aa6d3-2832-4978-bc6e-fa563568398e/resource/b710e97d-29c9-4ca5-8137-63b7cf447317/download/building1retail.csv\""
   ]
  },
  {
   "cell_type": "code",
   "execution_count": 89,
   "metadata": {},
   "outputs": [],
   "source": [
    "import pandas as pd\n",
    "import numpy as np\n",
    "from scipy import stats\n",
    "from datetime import datetime\n",
    "from sklearn import preprocessing\n",
    "from sklearn.model_selection import KFold\n",
    "from sklearn.linear_model import LinearRegression # doesn't hurt to do this again\n",
    "import matplotlib.pyplot as plt\n",
    "%matplotlib inline"
   ]
  },
  {
   "cell_type": "code",
   "execution_count": 90,
   "metadata": {},
   "outputs": [
    {
     "data": {
      "text/html": [
       "<div>\n",
       "<style scoped>\n",
       "    .dataframe tbody tr th:only-of-type {\n",
       "        vertical-align: middle;\n",
       "    }\n",
       "\n",
       "    .dataframe tbody tr th {\n",
       "        vertical-align: top;\n",
       "    }\n",
       "\n",
       "    .dataframe thead th {\n",
       "        text-align: right;\n",
       "    }\n",
       "</style>\n",
       "<table border=\"1\" class=\"dataframe\">\n",
       "  <thead>\n",
       "    <tr style=\"text-align: right;\">\n",
       "      <th></th>\n",
       "      <th>OAT (F)</th>\n",
       "      <th>Power (kW)</th>\n",
       "    </tr>\n",
       "    <tr>\n",
       "      <th>Timestamp</th>\n",
       "      <th></th>\n",
       "      <th></th>\n",
       "    </tr>\n",
       "  </thead>\n",
       "  <tbody>\n",
       "    <tr>\n",
       "      <th>2010-01-01 01:15:00</th>\n",
       "      <td>51</td>\n",
       "      <td>165.1</td>\n",
       "    </tr>\n",
       "    <tr>\n",
       "      <th>2010-01-01 01:30:00</th>\n",
       "      <td>51</td>\n",
       "      <td>151.6</td>\n",
       "    </tr>\n",
       "    <tr>\n",
       "      <th>2010-01-01 01:45:00</th>\n",
       "      <td>51</td>\n",
       "      <td>146.9</td>\n",
       "    </tr>\n",
       "    <tr>\n",
       "      <th>2010-01-01 02:00:00</th>\n",
       "      <td>51</td>\n",
       "      <td>153.7</td>\n",
       "    </tr>\n",
       "    <tr>\n",
       "      <th>2010-01-01 02:15:00</th>\n",
       "      <td>51</td>\n",
       "      <td>153.8</td>\n",
       "    </tr>\n",
       "  </tbody>\n",
       "</table>\n",
       "</div>"
      ],
      "text/plain": [
       "                     OAT (F)  Power (kW)\n",
       "Timestamp                               \n",
       "2010-01-01 01:15:00       51       165.1\n",
       "2010-01-01 01:30:00       51       151.6\n",
       "2010-01-01 01:45:00       51       146.9\n",
       "2010-01-01 02:00:00       51       153.7\n",
       "2010-01-01 02:15:00       51       153.8"
      ]
     },
     "execution_count": 90,
     "metadata": {},
     "output_type": "execute_result"
    }
   ],
   "source": [
    "df = pd.read_csv(URL, index_col=[0], \n",
    "                 date_parser=lambda x: \n",
    "                 datetime.strptime(x, \"%m/%d/%Y %H:%M\"))\n",
    "df.head()"
   ]
  },
  {
   "cell_type": "code",
   "execution_count": 91,
   "metadata": {},
   "outputs": [
    {
     "data": {
      "text/plain": [
       "DatetimeIndex(['2010-01-01 01:15:00', '2010-01-01 01:30:00',\n",
       "               '2010-01-01 01:45:00', '2010-01-01 02:00:00',\n",
       "               '2010-01-01 02:15:00', '2010-01-01 02:30:00',\n",
       "               '2010-01-01 02:45:00', '2010-01-01 03:00:00',\n",
       "               '2010-01-01 03:15:00', '2010-01-01 03:30:00',\n",
       "               ...\n",
       "               '2010-12-30 21:45:00', '2010-12-30 22:00:00',\n",
       "               '2010-12-30 22:15:00', '2010-12-30 22:30:00',\n",
       "               '2010-12-30 22:45:00', '2010-12-30 23:00:00',\n",
       "               '2010-12-30 23:15:00', '2010-12-30 23:30:00',\n",
       "               '2010-12-30 23:45:00', '2010-12-31 00:00:00'],\n",
       "              dtype='datetime64[ns]', name='Timestamp', length=34940, freq=None)"
      ]
     },
     "execution_count": 91,
     "metadata": {},
     "output_type": "execute_result"
    }
   ],
   "source": [
    "df.index"
   ]
  },
  {
   "cell_type": "code",
   "execution_count": 92,
   "metadata": {},
   "outputs": [
    {
     "data": {
      "image/png": "[encoded data removed]",
      "text/plain": [
       "<Figure size 1296x360 with 1 Axes>"
      ]
     },
     "metadata": {
      "needs_background": "light"
     },
     "output_type": "display_data"
    }
   ],
   "source": [
    "df.plot(figsize=(18,5));"
   ]
  },
  {
   "cell_type": "code",
   "execution_count": 93,
   "metadata": {},
   "outputs": [
    {
     "data": {
      "image/png": "[encoded data removed]",
      "text/plain": [
       "<Figure size 432x288 with 2 Axes>"
      ]
     },
     "metadata": {
      "needs_background": "light"
     },
     "output_type": "display_data"
    }
   ],
   "source": [
    "df.hist();"
   ]
  },
  {
   "cell_type": "code",
   "execution_count": 94,
   "metadata": {},
   "outputs": [
    {
     "data": {
      "image/png": "[encoded data removed]",
      "text/plain": [
       "<Figure size 1296x360 with 1 Axes>"
      ]
     },
     "metadata": {
      "needs_background": "light"
     },
     "output_type": "display_data"
    }
   ],
   "source": [
    "std_dev = 3\n",
    "df = df[(np.abs(stats.zscore(df)) < float(std_dev)).all(axis=1)]\n",
    "df.plot(figsize=(18,5));"
   ]
  },
  {
   "cell_type": "code",
   "execution_count": 95,
   "metadata": {},
   "outputs": [
    {
     "data": {
      "text/plain": [
       "False"
      ]
     },
     "execution_count": 95,
     "metadata": {},
     "output_type": "execute_result"
    }
   ],
   "source": [
    "df.isnull().values.any()"
   ]
  },
  {
   "cell_type": "code",
   "execution_count": 96,
   "metadata": {},
   "outputs": [
    {
     "data": {
      "image/png": "[encoded data removed]",
      "text/plain": [
       "<Figure size 432x288 with 1 Axes>"
      ]
     },
     "metadata": {
      "needs_background": "light"
     },
     "output_type": "display_data"
    }
   ],
   "source": [
    "plt.scatter(df['OAT (F)'], df['Power (kW)']);"
   ]
  },
  {
   "cell_type": "markdown",
   "metadata": {},
   "source": [
    "The tutorial we're following gives string dates as an argument to ```df.loc``` which fails to match the index datatype. A range of datetimes, of one day, accomplishes the intended isolation of a single day's temperature fluctuations."
   ]
  },
  {
   "cell_type": "code",
   "execution_count": 97,
   "metadata": {},
   "outputs": [
    {
     "data": {
      "image/png": "[encoded data removed]",
      "text/plain": [
       "<Figure size 432x288 with 1 Axes>"
      ]
     },
     "metadata": {
      "needs_background": "light"
     },
     "output_type": "display_data"
    }
   ],
   "source": [
    "df.loc[datetime(2010, 3, 4):datetime(2010, 3, 5), ['OAT (F)']].plot();"
   ]
  },
  {
   "cell_type": "code",
   "execution_count": 98,
   "metadata": {},
   "outputs": [
    {
     "data": {
      "image/png": "[encoded data removed]",
      "text/plain": [
       "<Figure size 432x288 with 1 Axes>"
      ]
     },
     "metadata": {
      "needs_background": "light"
     },
     "output_type": "display_data"
    }
   ],
   "source": [
    "df.loc[datetime(2010, 3, 4):datetime(2010, 3, 5), ['Power (kW)']].plot();"
   ]
  },
  {
   "cell_type": "markdown",
   "metadata": {},
   "source": [
    "How about we go with subplots and pair the two data sets?"
   ]
  },
  {
   "cell_type": "code",
   "execution_count": 99,
   "metadata": {},
   "outputs": [
    {
     "data": {
      "image/png": "[encoded data removed]",
      "text/plain": [
       "<Figure size 432x288 with 2 Axes>"
      ]
     },
     "metadata": {
      "needs_background": "light"
     },
     "output_type": "display_data"
    }
   ],
   "source": [
    "fig, axes = plt.subplots(2, 1, sharex = True)\n",
    "df.loc[datetime(2010, 3, 4):datetime(2010, 3, 5), ['OAT (F)']].plot(ax=axes[0])\n",
    "df.loc[datetime(2010, 3, 4):datetime(2010, 3, 5), ['Power (kW)']].plot(ax=axes[1]);"
   ]
  },
  {
   "cell_type": "markdown",
   "metadata": {},
   "source": [
    "## Interacting with Widgets\n",
    "\n",
    "Lets take a side trip away from Linear Regression, to discuss the generic topic of populating your Notebooks with wigets, meaning interactive devices such as sliders, text boxes, various kinds of picker.\n",
    "\n",
    "When you manipulate a one of these devices, you trigger updates to the plots, based on changed inputs to whatever functions.\n",
    "\n",
    "Extending Jupyter Notebooks and Labs with this interactive capability requires some work, but not a lot if everything goes smoothly:\n",
    "\n",
    "```bash\n",
    "jupyter nbextension enable --py widgetsnbextension\n",
    "jupyter labextension install @jupyter-widgets/jupyterlab-manager\n",
    "```\n",
    "\n",
    "These widget capabilites work with multiple data visualization libraries.  You can use them with Bokeh for example.\n",
    "\n",
    "Readings:\n",
    "\n",
    "* [Interactive Controls in Jupyter Notebooks](https://towardsdatascience.com/interactive-controls-for-jupyter-notebooks-f5c94829aee6)\n",
    "* [Adding Widgets in Bokeh](https://docs.bokeh.org/en/latest/docs/user_guide/interaction/widgets.html)"
   ]
  },
  {
   "cell_type": "code",
   "execution_count": 100,
   "metadata": {},
   "outputs": [],
   "source": [
    "import ipywidgets as wg"
   ]
  },
  {
   "cell_type": "code",
   "execution_count": 101,
   "metadata": {},
   "outputs": [
    {
     "name": "stdout",
     "output_type": "stream",
     "text": [
      "<ipywidgets.widgets.widget.WidgetRegistry object at 0x1a1ff1b450>\n"
     ]
    }
   ],
   "source": [
    "print(wg.Widget.widget_types)"
   ]
  },
  {
   "cell_type": "code",
   "execution_count": 102,
   "metadata": {},
   "outputs": [
    {
     "data": {
      "application/vnd.jupyter.widget-view+json": {
       "model_id": "26d9fea02d404996933fa219776fde9d",
       "version_major": 2,
       "version_minor": 0
      },
      "text/plain": [
       "Text(value='name')"
      ]
     },
     "metadata": {},
     "output_type": "display_data"
    },
    {
     "data": {
      "application/vnd.jupyter.widget-view+json": {
       "model_id": "e738086eb43f4239a6bd1a0519e7f15e",
       "version_major": 2,
       "version_minor": 0
      },
      "text/plain": [
       "IntSlider(value=0, description='Age:')"
      ]
     },
     "metadata": {},
     "output_type": "display_data"
    }
   ],
   "source": [
    "name = wg.Text(value=\"name\")\n",
    "age = wg.IntSlider(description=\"Age:\")\n",
    "display(name, age)"
   ]
  },
  {
   "cell_type": "code",
   "execution_count": 159,
   "metadata": {},
   "outputs": [
    {
     "name": "stdout",
     "output_type": "stream",
     "text": [
      "JOJO is 64 years old.\n"
     ]
    }
   ],
   "source": [
    "print(name.value + \" is \" + str(age.value) + \" years old.\")"
   ]
  },
  {
   "cell_type": "code",
   "execution_count": 104,
   "metadata": {},
   "outputs": [],
   "source": [
    "# ?? wg.DatePicker"
   ]
  },
  {
   "cell_type": "code",
   "execution_count": 105,
   "metadata": {},
   "outputs": [
    {
     "data": {
      "application/vnd.jupyter.widget-view+json": {
       "model_id": "9720e8859c934bfb961f593c2814c442",
       "version_major": 2,
       "version_minor": 0
      },
      "text/plain": [
       "interactive(children=(DatePicker(value=datetime.datetime(2010, 3, 4, 0, 0), description='Pick a Date:'), Outpu…"
      ]
     },
     "metadata": {},
     "output_type": "display_data"
    }
   ],
   "source": [
    "dp = wg.DatePicker(\n",
    "    description='Pick a Date:',\n",
    "    disabled=False,\n",
    "    value = datetime(2010, 3, 4)\n",
    ")\n",
    "\n",
    "def select_data(dt):\n",
    "    fig, axes = plt.subplots(2, 1, sharex = True)\n",
    "    # next_day = dt + pd.offsets.Day(1)\n",
    "    df.loc[dt:dt+pd.offsets.Day(1), ['OAT (F)']].plot(ax=axes[0])\n",
    "    df.loc[dt:dt+pd.offsets.Day(1), ['Power (kW)']].plot(ax=axes[1])\n",
    "    \n",
    "wg.interact(select_data, dt=dp);"
   ]
  },
  {
   "cell_type": "code",
   "execution_count": 106,
   "metadata": {},
   "outputs": [
    {
     "name": "stdout",
     "output_type": "stream",
     "text": [
      "[0.38768927735902714, 0.3852220878090444, 0.3845165478148713]\n"
     ]
    }
   ],
   "source": [
    "X = pd.DataFrame(df['OAT (F)'])\n",
    "y = pd.DataFrame(df['Power (kW)'])\n",
    "model = LinearRegression()\n",
    "scores = []\n",
    "kfold = KFold(n_splits=3, shuffle=True, random_state=42)\n",
    "for i, (train, test) in enumerate(kfold.split(X, y)):\n",
    "    model.fit(X.iloc[train,:], y.iloc[train,:])\n",
    "    score = model.score(X.iloc[test,:], y.iloc[test,:])\n",
    "    scores.append(score)\n",
    "print(scores)"
   ]
  },
  {
   "cell_type": "code",
   "execution_count": 107,
   "metadata": {},
   "outputs": [
    {
     "data": {
      "text/plain": [
       "array([[4.85534767]])"
      ]
     },
     "execution_count": 107,
     "metadata": {},
     "output_type": "execute_result"
    }
   ],
   "source": [
    "model.coef_"
   ]
  },
  {
   "cell_type": "markdown",
   "metadata": {},
   "source": [
    "The scores were rather poor.  Given the high dependence on hour, and the fact that we haven't signaled that strongly in the data, but for making it a part of the Timestamp, the idea of [one hot encoding](https://pandas.pydata.org/pandas-docs/stable/reference/api/pandas.get_dummies.html) suggests itself."
   ]
  },
  {
   "cell_type": "code",
   "execution_count": 108,
   "metadata": {},
   "outputs": [
    {
     "name": "stdout",
     "output_type": "stream",
     "text": [
      "   color_blue  color_green  color_red\n",
      "0           1            0          0\n",
      "1           0            1          0\n",
      "2           0            1          0\n",
      "3           0            0          1\n"
     ]
    }
   ],
   "source": [
    "data = pd.DataFrame({'color': ['blue', 'green', 'green', 'red']})\n",
    "print(pd.get_dummies(data))"
   ]
  },
  {
   "cell_type": "markdown",
   "metadata": {},
   "source": [
    "Time of day will get split across columns by the hour.\n",
    "\n",
    "By this means, every hour will get a whole column in which to be \"lit\" (have a 1 value).  You'll see the transformation below."
   ]
  },
  {
   "cell_type": "code",
   "execution_count": 109,
   "metadata": {},
   "outputs": [
    {
     "data": {
      "text/html": [
       "<div>\n",
       "<style scoped>\n",
       "    .dataframe tbody tr th:only-of-type {\n",
       "        vertical-align: middle;\n",
       "    }\n",
       "\n",
       "    .dataframe tbody tr th {\n",
       "        vertical-align: top;\n",
       "    }\n",
       "\n",
       "    .dataframe thead th {\n",
       "        text-align: right;\n",
       "    }\n",
       "</style>\n",
       "<table border=\"1\" class=\"dataframe\">\n",
       "  <thead>\n",
       "    <tr style=\"text-align: right;\">\n",
       "      <th></th>\n",
       "      <th>OAT (F)</th>\n",
       "      <th>tod</th>\n",
       "    </tr>\n",
       "    <tr>\n",
       "      <th>Timestamp</th>\n",
       "      <th></th>\n",
       "      <th></th>\n",
       "    </tr>\n",
       "  </thead>\n",
       "  <tbody>\n",
       "    <tr>\n",
       "      <th>2010-01-01 01:15:00</th>\n",
       "      <td>51</td>\n",
       "      <td>1</td>\n",
       "    </tr>\n",
       "    <tr>\n",
       "      <th>2010-01-01 01:30:00</th>\n",
       "      <td>51</td>\n",
       "      <td>1</td>\n",
       "    </tr>\n",
       "    <tr>\n",
       "      <th>2010-01-01 01:45:00</th>\n",
       "      <td>51</td>\n",
       "      <td>1</td>\n",
       "    </tr>\n",
       "    <tr>\n",
       "      <th>2010-01-01 02:00:00</th>\n",
       "      <td>51</td>\n",
       "      <td>2</td>\n",
       "    </tr>\n",
       "    <tr>\n",
       "      <th>2010-01-01 02:15:00</th>\n",
       "      <td>51</td>\n",
       "      <td>2</td>\n",
       "    </tr>\n",
       "    <tr>\n",
       "      <th>2010-01-01 02:30:00</th>\n",
       "      <td>51</td>\n",
       "      <td>2</td>\n",
       "    </tr>\n",
       "    <tr>\n",
       "      <th>2010-01-01 02:45:00</th>\n",
       "      <td>51</td>\n",
       "      <td>2</td>\n",
       "    </tr>\n",
       "    <tr>\n",
       "      <th>2010-01-01 03:00:00</th>\n",
       "      <td>51</td>\n",
       "      <td>3</td>\n",
       "    </tr>\n",
       "    <tr>\n",
       "      <th>2010-01-01 03:15:00</th>\n",
       "      <td>50</td>\n",
       "      <td>3</td>\n",
       "    </tr>\n",
       "    <tr>\n",
       "      <th>2010-01-01 03:30:00</th>\n",
       "      <td>50</td>\n",
       "      <td>3</td>\n",
       "    </tr>\n",
       "  </tbody>\n",
       "</table>\n",
       "</div>"
      ],
      "text/plain": [
       "                     OAT (F)  tod\n",
       "Timestamp                        \n",
       "2010-01-01 01:15:00       51    1\n",
       "2010-01-01 01:30:00       51    1\n",
       "2010-01-01 01:45:00       51    1\n",
       "2010-01-01 02:00:00       51    2\n",
       "2010-01-01 02:15:00       51    2\n",
       "2010-01-01 02:30:00       51    2\n",
       "2010-01-01 02:45:00       51    2\n",
       "2010-01-01 03:00:00       51    3\n",
       "2010-01-01 03:15:00       50    3\n",
       "2010-01-01 03:30:00       50    3"
      ]
     },
     "execution_count": 109,
     "metadata": {},
     "output_type": "execute_result"
    }
   ],
   "source": [
    "X['tod'] = X.index.hour  \n",
    "X.head(10)"
   ]
  },
  {
   "cell_type": "code",
   "execution_count": 110,
   "metadata": {},
   "outputs": [
    {
     "name": "stdout",
     "output_type": "stream",
     "text": [
      "                     OAT (F)  tod_1  tod_2  tod_3  tod_4  tod_5  tod_6  tod_7  \\\n",
      "Timestamp                                                                       \n",
      "2010-12-30 23:00:00       47      0      0      0      0      0      0      0   \n",
      "2010-12-30 23:15:00       44      0      0      0      0      0      0      0   \n",
      "2010-12-30 23:30:00       44      0      0      0      0      0      0      0   \n",
      "2010-12-30 23:45:00       44      0      0      0      0      0      0      0   \n",
      "2010-12-31 00:00:00       44      0      0      0      0      0      0      0   \n",
      "\n",
      "                     tod_8  tod_9  ...  tod_14  tod_15  tod_16  tod_17  \\\n",
      "Timestamp                          ...                                   \n",
      "2010-12-30 23:00:00      0      0  ...       0       0       0       0   \n",
      "2010-12-30 23:15:00      0      0  ...       0       0       0       0   \n",
      "2010-12-30 23:30:00      0      0  ...       0       0       0       0   \n",
      "2010-12-30 23:45:00      0      0  ...       0       0       0       0   \n",
      "2010-12-31 00:00:00      0      0  ...       0       0       0       0   \n",
      "\n",
      "                     tod_18  tod_19  tod_20  tod_21  tod_22  tod_23  \n",
      "Timestamp                                                            \n",
      "2010-12-30 23:00:00       0       0       0       0       0       1  \n",
      "2010-12-30 23:15:00       0       0       0       0       0       1  \n",
      "2010-12-30 23:30:00       0       0       0       0       0       1  \n",
      "2010-12-30 23:45:00       0       0       0       0       0       1  \n",
      "2010-12-31 00:00:00       0       0       0       0       0       0  \n",
      "\n",
      "[5 rows x 24 columns]\n"
     ]
    }
   ],
   "source": [
    "# drop_first = True removes multi-collinearity\n",
    "add_var = pd.get_dummies(X['tod'], prefix='tod', drop_first=True)\n",
    "# Add all the columns to the model data\n",
    "X = X.join(add_var)\n",
    "# Drop the original column that was expanded\n",
    "X.drop(columns=['tod'], inplace=True)\n",
    "print(X.tail())"
   ]
  },
  {
   "cell_type": "markdown",
   "metadata": {},
   "source": [
    "What happens now though is ```LinearRegression``` will be seeking to fit many more inputs to the same output.  The number of weights (coefficients) will increase.  Check it out."
   ]
  },
  {
   "cell_type": "code",
   "execution_count": 111,
   "metadata": {},
   "outputs": [
    {
     "name": "stdout",
     "output_type": "stream",
     "text": [
      "[0.8074246958895389, 0.8139449185141594, 0.8111379602960771]\n"
     ]
    }
   ],
   "source": [
    "model = LinearRegression()\n",
    "scores = []\n",
    "kfold = KFold(n_splits=3, shuffle=True, random_state=42)\n",
    "for i, (train, test) in enumerate(kfold.split(X, y)):\n",
    "    model.fit(X.iloc[train,:], y.iloc[train,:])\n",
    "    score = model.score(X.iloc[test,:], y.iloc[test,:])\n",
    "    scores.append(score)\n",
    "print(scores)"
   ]
  },
  {
   "cell_type": "code",
   "execution_count": 112,
   "metadata": {},
   "outputs": [],
   "source": [
    "# ? model"
   ]
  },
  {
   "cell_type": "code",
   "execution_count": 113,
   "metadata": {},
   "outputs": [
    {
     "data": {
      "text/plain": [
       "array([[  2.84733524,  -1.4079128 ,   1.39148437,   1.52916595,\n",
       "          4.46107749,   5.98306453,   9.35043246,  16.34004074,\n",
       "         77.81087427,  89.72250471,  87.20417047,  87.41000697,\n",
       "         87.8538264 ,  87.05599413,  86.91327856,  86.83812843,\n",
       "         87.01506715,  94.35208956, 102.45393288, 114.32509142,\n",
       "        127.63477514, 130.30634935, 112.10935949,  44.65422443]])"
      ]
     },
     "execution_count": 113,
     "metadata": {},
     "output_type": "execute_result"
    }
   ],
   "source": [
    "model.coef_"
   ]
  },
  {
   "cell_type": "code",
   "execution_count": 114,
   "metadata": {},
   "outputs": [
    {
     "data": {
      "text/plain": [
       "array([30.97976416])"
      ]
     },
     "execution_count": 114,
     "metadata": {},
     "output_type": "execute_result"
    }
   ],
   "source": [
    "model.intercept_"
   ]
  },
  {
   "cell_type": "code",
   "execution_count": 115,
   "metadata": {},
   "outputs": [
    {
     "data": {
      "text/plain": [
       "array([[283.14027519]])"
      ]
     },
     "execution_count": 115,
     "metadata": {},
     "output_type": "execute_result"
    }
   ],
   "source": [
    "model.predict(X.iloc[444].values.reshape(1, -1))"
   ]
  },
  {
   "cell_type": "code",
   "execution_count": 116,
   "metadata": {},
   "outputs": [
    {
     "data": {
      "text/plain": [
       "Power (kW)    268.6\n",
       "Name: 2010-01-05 16:15:00, dtype: float64"
      ]
     },
     "execution_count": 116,
     "metadata": {},
     "output_type": "execute_result"
    }
   ],
   "source": [
    "y.iloc[444]"
   ]
  },
  {
   "cell_type": "markdown",
   "metadata": {},
   "source": [
    "OK, we got what we could from that tutorial.  Onward!\n",
    "\n",
    "Next exhibit:  [Another Linear Regression Tutorial](https://realpython.com/linear-regression-in-python/)\n",
    "\n",
    "This one has great overview before it ever starts with the Python.  The author helpfully puts Linear Regression agains the backdrop of Machine Learning, and introducing fitting a Polynomial in contrast, very helpful for nailing down what we mean by linear."
   ]
  },
  {
   "cell_type": "code",
   "execution_count": 117,
   "metadata": {},
   "outputs": [],
   "source": [
    "x = np.array([5, 15, 25, 35, 45, 55]).reshape((-1, 1))\n",
    "y = np.array([5, 20, 14, 32, 22, 38])"
   ]
  },
  {
   "cell_type": "code",
   "execution_count": 118,
   "metadata": {},
   "outputs": [
    {
     "data": {
      "text/plain": [
       "array([ 5, 20, 14, 32, 22, 38])"
      ]
     },
     "execution_count": 118,
     "metadata": {},
     "output_type": "execute_result"
    }
   ],
   "source": [
    "y"
   ]
  },
  {
   "cell_type": "code",
   "execution_count": 119,
   "metadata": {},
   "outputs": [],
   "source": [
    "model = LinearRegression()"
   ]
  },
  {
   "cell_type": "code",
   "execution_count": 120,
   "metadata": {},
   "outputs": [
    {
     "data": {
      "text/plain": [
       "LinearRegression(copy_X=True, fit_intercept=True, n_jobs=None, normalize=False)"
      ]
     },
     "execution_count": 120,
     "metadata": {},
     "output_type": "execute_result"
    }
   ],
   "source": [
    "model.fit(x, y)"
   ]
  },
  {
   "cell_type": "code",
   "execution_count": 121,
   "metadata": {},
   "outputs": [],
   "source": [
    "r_sq = model.score(x, y)"
   ]
  },
  {
   "cell_type": "code",
   "execution_count": 122,
   "metadata": {},
   "outputs": [
    {
     "data": {
      "text/plain": [
       "0.7158756137479542"
      ]
     },
     "execution_count": 122,
     "metadata": {},
     "output_type": "execute_result"
    }
   ],
   "source": [
    "r_sq"
   ]
  },
  {
   "cell_type": "code",
   "execution_count": 123,
   "metadata": {},
   "outputs": [
    {
     "name": "stdout",
     "output_type": "stream",
     "text": [
      "intercept: 5.633333333333329\n"
     ]
    }
   ],
   "source": [
    "print('intercept:', model.intercept_)"
   ]
  },
  {
   "cell_type": "code",
   "execution_count": 124,
   "metadata": {},
   "outputs": [
    {
     "name": "stdout",
     "output_type": "stream",
     "text": [
      "slope: [0.54]\n"
     ]
    }
   ],
   "source": [
    "print('slope:', model.coef_)"
   ]
  },
  {
   "cell_type": "markdown",
   "metadata": {},
   "source": [
    "One of the readers complete the tutorial and [saved it on Github](https://gist.github.com/vlad-bezden/9533b764034d19d7d8f186d6fbea0750), in a form ready to use in the cloud with Google's Collab (like MyBinder)."
   ]
  },
  {
   "cell_type": "code",
   "execution_count": 125,
   "metadata": {},
   "outputs": [
    {
     "data": {
      "image/png": "[encoded data removed]",
      "text/plain": [
       "<Figure size 432x288 with 1 Axes>"
      ]
     },
     "metadata": {
      "needs_background": "light"
     },
     "output_type": "display_data"
    }
   ],
   "source": [
    "fig = plt.Figure(figsize=(15,15))\n",
    "ax1 = plt.subplot('111')\n",
    "data = pd.DataFrame({\"X\":x.flatten(), \"y\":y})\n",
    "ax1 = data.plot(\"X\", \"y\", kind=\"scatter\", marker=\"^\", c='green', ax=ax1)\n",
    "domain = np.linspace(0, 60, 50)\n",
    "line = (model.coef_[0] * domain) + model.intercept_\n",
    "ax1.plot(domain, line, '-r');"
   ]
  },
  {
   "cell_type": "markdown",
   "metadata": {},
   "source": [
    "# Roller coasters!\n",
    "\n"
   ]
  },
  {
   "cell_type": "code",
   "execution_count": 126,
   "metadata": {},
   "outputs": [],
   "source": [
    "coasters = pd.read_csv(\"./data/roller_coasters.csv\")"
   ]
  },
  {
   "cell_type": "code",
   "execution_count": 127,
   "metadata": {},
   "outputs": [
    {
     "data": {
      "text/html": [
       "<div>\n",
       "<style scoped>\n",
       "    .dataframe tbody tr th:only-of-type {\n",
       "        vertical-align: middle;\n",
       "    }\n",
       "\n",
       "    .dataframe tbody tr th {\n",
       "        vertical-align: top;\n",
       "    }\n",
       "\n",
       "    .dataframe thead th {\n",
       "        text-align: right;\n",
       "    }\n",
       "</style>\n",
       "<table border=\"1\" class=\"dataframe\">\n",
       "  <thead>\n",
       "    <tr style=\"text-align: right;\">\n",
       "      <th></th>\n",
       "      <th>Name</th>\n",
       "      <th>Park</th>\n",
       "      <th>State</th>\n",
       "      <th>Country</th>\n",
       "      <th>Duration</th>\n",
       "      <th>Speed</th>\n",
       "      <th>Height</th>\n",
       "      <th>drop</th>\n",
       "      <th>Length</th>\n",
       "      <th>Yr Opened</th>\n",
       "      <th>Inversions</th>\n",
       "    </tr>\n",
       "  </thead>\n",
       "  <tbody>\n",
       "    <tr>\n",
       "      <th>0</th>\n",
       "      <td>Top Thrill Dragster</td>\n",
       "      <td>Cedar Point</td>\n",
       "      <td>Ohio</td>\n",
       "      <td>USA</td>\n",
       "      <td>60</td>\n",
       "      <td>120.0</td>\n",
       "      <td>420.0</td>\n",
       "      <td>400.0</td>\n",
       "      <td>2800.0</td>\n",
       "      <td>2003</td>\n",
       "      <td>0</td>\n",
       "    </tr>\n",
       "    <tr>\n",
       "      <th>1</th>\n",
       "      <td>Superman The Escape</td>\n",
       "      <td>Six Flags Magic Mountain</td>\n",
       "      <td>California</td>\n",
       "      <td>USA</td>\n",
       "      <td>28</td>\n",
       "      <td>100.0</td>\n",
       "      <td>415.0</td>\n",
       "      <td>328.1</td>\n",
       "      <td>1235.0</td>\n",
       "      <td>1997</td>\n",
       "      <td>0</td>\n",
       "    </tr>\n",
       "    <tr>\n",
       "      <th>2</th>\n",
       "      <td>Millennium Force</td>\n",
       "      <td>Cedar Point</td>\n",
       "      <td>Ohio</td>\n",
       "      <td>USA</td>\n",
       "      <td>165</td>\n",
       "      <td>93.0</td>\n",
       "      <td>310.0</td>\n",
       "      <td>300.0</td>\n",
       "      <td>6595.0</td>\n",
       "      <td>2000</td>\n",
       "      <td>0</td>\n",
       "    </tr>\n",
       "    <tr>\n",
       "      <th>3</th>\n",
       "      <td>Goliath</td>\n",
       "      <td>Six Flags Magic Mountain</td>\n",
       "      <td>California</td>\n",
       "      <td>USA</td>\n",
       "      <td>180</td>\n",
       "      <td>85.0</td>\n",
       "      <td>235.0</td>\n",
       "      <td>255.0</td>\n",
       "      <td>4500.0</td>\n",
       "      <td>2000</td>\n",
       "      <td>0</td>\n",
       "    </tr>\n",
       "    <tr>\n",
       "      <th>4</th>\n",
       "      <td>Titan</td>\n",
       "      <td>Six Flags Over Texas</td>\n",
       "      <td>Texas</td>\n",
       "      <td>USA</td>\n",
       "      <td>210</td>\n",
       "      <td>85.0</td>\n",
       "      <td>245.0</td>\n",
       "      <td>255.0</td>\n",
       "      <td>5312.0</td>\n",
       "      <td>2001</td>\n",
       "      <td>0</td>\n",
       "    </tr>\n",
       "  </tbody>\n",
       "</table>\n",
       "</div>"
      ],
      "text/plain": [
       "                  Name                      Park       State Country  \\\n",
       "0  Top Thrill Dragster               Cedar Point        Ohio     USA   \n",
       "1  Superman The Escape  Six Flags Magic Mountain  California     USA   \n",
       "2     Millennium Force               Cedar Point        Ohio     USA   \n",
       "3              Goliath  Six Flags Magic Mountain  California     USA   \n",
       "4                Titan      Six Flags Over Texas       Texas     USA   \n",
       "\n",
       "   Duration  Speed  Height   drop  Length  Yr Opened  Inversions  \n",
       "0        60  120.0   420.0  400.0  2800.0       2003           0  \n",
       "1        28  100.0   415.0  328.1  1235.0       1997           0  \n",
       "2       165   93.0   310.0  300.0  6595.0       2000           0  \n",
       "3       180   85.0   235.0  255.0  4500.0       2000           0  \n",
       "4       210   85.0   245.0  255.0  5312.0       2001           0  "
      ]
     },
     "execution_count": 127,
     "metadata": {},
     "output_type": "execute_result"
    }
   ],
   "source": [
    "coasters.head()"
   ]
  },
  {
   "cell_type": "code",
   "execution_count": 128,
   "metadata": {},
   "outputs": [
    {
     "data": {
      "image/png": "[encoded data removed]",
      "text/plain": [
       "<Figure size 432x288 with 1 Axes>"
      ]
     },
     "metadata": {
      "needs_background": "light"
     },
     "output_type": "display_data"
    }
   ],
   "source": [
    "coasters.plot(\"Height\", \"Speed\", kind=\"scatter\");"
   ]
  },
  {
   "cell_type": "code",
   "execution_count": 129,
   "metadata": {},
   "outputs": [
    {
     "name": "stdout",
     "output_type": "stream",
     "text": [
      "[0.7501836893633037, -0.09335749434098739, 0.8294942773201045]\n"
     ]
    }
   ],
   "source": [
    "X = pd.DataFrame(coasters['Height'])\n",
    "y = pd.DataFrame(coasters['Speed'])\n",
    "model = LinearRegression()\n",
    "scores = []\n",
    "kfold = KFold(n_splits=3, shuffle=True, random_state=42)\n",
    "for i, (train, test) in enumerate(kfold.split(X, y)):\n",
    "    model.fit(X.iloc[train,:], y.iloc[train,:])\n",
    "    score = model.score(X.iloc[test,:], y.iloc[test,:])\n",
    "    scores.append(score)\n",
    "print(scores)"
   ]
  },
  {
   "cell_type": "code",
   "execution_count": 130,
   "metadata": {},
   "outputs": [
    {
     "data": {
      "text/plain": [
       "array([[0.14043416]])"
      ]
     },
     "execution_count": 130,
     "metadata": {},
     "output_type": "execute_result"
    }
   ],
   "source": [
    "model.coef_"
   ]
  },
  {
   "cell_type": "code",
   "execution_count": 131,
   "metadata": {},
   "outputs": [
    {
     "data": {
      "text/plain": [
       "array([43.68192597])"
      ]
     },
     "execution_count": 131,
     "metadata": {},
     "output_type": "execute_result"
    }
   ],
   "source": [
    "model.intercept_"
   ]
  },
  {
   "cell_type": "code",
   "execution_count": 132,
   "metadata": {},
   "outputs": [
    {
     "data": {
      "text/plain": [
       "55.0"
      ]
     },
     "execution_count": 132,
     "metadata": {},
     "output_type": "execute_result"
    }
   ],
   "source": [
    "y.loc[0]\n",
    "pd.concat([X, y], axis=1)\n",
    "min(X['Height'])"
   ]
  },
  {
   "cell_type": "code",
   "execution_count": 133,
   "metadata": {},
   "outputs": [
    {
     "data": {
      "image/png": "[encoded data removed]",
      "text/plain": [
       "<Figure size 432x288 with 1 Axes>"
      ]
     },
     "metadata": {
      "needs_background": "light"
     },
     "output_type": "display_data"
    }
   ],
   "source": [
    "fig = plt.Figure(figsize=(15,15))\n",
    "ax1 = plt.subplot('111')\n",
    "plt.title(\"Height as Predictor of Speed\")\n",
    "data = pd.concat([X, y], axis=1)\n",
    "ax1 = coasters.plot(\"Height\", \"Speed\", kind=\"scatter\", ax=ax1);\n",
    "domain = np.linspace(min(X['Height']), max(X['Height']), 50)\n",
    "line = (model.coef_[0] * domain) + model.intercept_\n",
    "ax1.plot(domain, line, '-r');"
   ]
  },
  {
   "cell_type": "markdown",
   "metadata": {},
   "source": [
    "Lets do it again use ```statsmodels```."
   ]
  },
  {
   "cell_type": "code",
   "execution_count": 134,
   "metadata": {},
   "outputs": [],
   "source": [
    "import statsmodels.api as sm"
   ]
  },
  {
   "cell_type": "code",
   "execution_count": 135,
   "metadata": {},
   "outputs": [
    {
     "data": {
      "text/html": [
       "<div>\n",
       "<style scoped>\n",
       "    .dataframe tbody tr th:only-of-type {\n",
       "        vertical-align: middle;\n",
       "    }\n",
       "\n",
       "    .dataframe tbody tr th {\n",
       "        vertical-align: top;\n",
       "    }\n",
       "\n",
       "    .dataframe thead th {\n",
       "        text-align: right;\n",
       "    }\n",
       "</style>\n",
       "<table border=\"1\" class=\"dataframe\">\n",
       "  <thead>\n",
       "    <tr style=\"text-align: right;\">\n",
       "      <th></th>\n",
       "      <th>const</th>\n",
       "      <th>Height</th>\n",
       "    </tr>\n",
       "  </thead>\n",
       "  <tbody>\n",
       "    <tr>\n",
       "      <th>0</th>\n",
       "      <td>1.0</td>\n",
       "      <td>420.0</td>\n",
       "    </tr>\n",
       "    <tr>\n",
       "      <th>1</th>\n",
       "      <td>1.0</td>\n",
       "      <td>415.0</td>\n",
       "    </tr>\n",
       "    <tr>\n",
       "      <th>2</th>\n",
       "      <td>1.0</td>\n",
       "      <td>310.0</td>\n",
       "    </tr>\n",
       "    <tr>\n",
       "      <th>3</th>\n",
       "      <td>1.0</td>\n",
       "      <td>235.0</td>\n",
       "    </tr>\n",
       "    <tr>\n",
       "      <th>4</th>\n",
       "      <td>1.0</td>\n",
       "      <td>245.0</td>\n",
       "    </tr>\n",
       "    <tr>\n",
       "      <th>...</th>\n",
       "      <td>...</td>\n",
       "      <td>...</td>\n",
       "    </tr>\n",
       "    <tr>\n",
       "      <th>75</th>\n",
       "      <td>1.0</td>\n",
       "      <td>65.0</td>\n",
       "    </tr>\n",
       "    <tr>\n",
       "      <th>76</th>\n",
       "      <td>1.0</td>\n",
       "      <td>191.6</td>\n",
       "    </tr>\n",
       "    <tr>\n",
       "      <th>77</th>\n",
       "      <td>1.0</td>\n",
       "      <td>137.8</td>\n",
       "    </tr>\n",
       "    <tr>\n",
       "      <th>78</th>\n",
       "      <td>1.0</td>\n",
       "      <td>102.0</td>\n",
       "    </tr>\n",
       "    <tr>\n",
       "      <th>79</th>\n",
       "      <td>1.0</td>\n",
       "      <td>415.0</td>\n",
       "    </tr>\n",
       "  </tbody>\n",
       "</table>\n",
       "<p>80 rows × 2 columns</p>\n",
       "</div>"
      ],
      "text/plain": [
       "    const  Height\n",
       "0     1.0   420.0\n",
       "1     1.0   415.0\n",
       "2     1.0   310.0\n",
       "3     1.0   235.0\n",
       "4     1.0   245.0\n",
       "..    ...     ...\n",
       "75    1.0    65.0\n",
       "76    1.0   191.6\n",
       "77    1.0   137.8\n",
       "78    1.0   102.0\n",
       "79    1.0   415.0\n",
       "\n",
       "[80 rows x 2 columns]"
      ]
     },
     "execution_count": 135,
     "metadata": {},
     "output_type": "execute_result"
    }
   ],
   "source": [
    "X = sm.add_constant(X)\n",
    "X"
   ]
  },
  {
   "cell_type": "code",
   "execution_count": 136,
   "metadata": {},
   "outputs": [],
   "source": [
    "model = sm.OLS(y, X)"
   ]
  },
  {
   "cell_type": "code",
   "execution_count": 137,
   "metadata": {},
   "outputs": [],
   "source": [
    "results = model.fit()"
   ]
  },
  {
   "cell_type": "code",
   "execution_count": 138,
   "metadata": {},
   "outputs": [
    {
     "name": "stdout",
     "output_type": "stream",
     "text": [
      "                            OLS Regression Results                            \n",
      "==============================================================================\n",
      "Dep. Variable:                  Speed   R-squared:                       0.670\n",
      "Model:                            OLS   Adj. R-squared:                  0.666\n",
      "Method:                 Least Squares   F-statistic:                     158.3\n",
      "Date:                Mon, 11 May 2020   Prob (F-statistic):           1.85e-20\n",
      "Time:                        20:38:31   Log-Likelihood:                -281.14\n",
      "No. Observations:                  80   AIC:                             566.3\n",
      "Df Residuals:                      78   BIC:                             571.0\n",
      "Df Model:                           1                                         \n",
      "Covariance Type:            nonrobust                                         \n",
      "==============================================================================\n",
      "                 coef    std err          t      P>|t|      [0.025      0.975]\n",
      "------------------------------------------------------------------------------\n",
      "const         43.1364      2.091     20.634      0.000      38.974      47.298\n",
      "Height         0.1448      0.012     12.581      0.000       0.122       0.168\n",
      "==============================================================================\n",
      "Omnibus:                       64.610   Durbin-Watson:                   1.022\n",
      "Prob(Omnibus):                  0.000   Jarque-Bera (JB):              584.730\n",
      "Skew:                          -2.227   Prob(JB):                    1.07e-127\n",
      "Kurtosis:                      15.473   Cond. No.                         413.\n",
      "==============================================================================\n",
      "\n",
      "Warnings:\n",
      "[1] Standard Errors assume that the covariance matrix of the errors is correctly specified.\n"
     ]
    }
   ],
   "source": [
    "print(results.summary())"
   ]
  },
  {
   "cell_type": "markdown",
   "metadata": {},
   "source": [
    "[Simple and Linear Regression in Python](https://towardsdatascience.com/simple-and-multiple-linear-regression-in-python-c928425168f9) gives more pointers as to how to interpret the above table."
   ]
  },
  {
   "cell_type": "markdown",
   "metadata": {},
   "source": [
    "### LAB IDEAS  \n",
    "\n",
    "Eliminate the one or two main outliers in the roller coaster data inputs, and see how this affects $R^{2}$ and so on.\n",
    "\n",
    "Replot without the outliers."
   ]
  },
  {
   "cell_type": "code",
   "execution_count": 139,
   "metadata": {},
   "outputs": [
    {
     "data": {
      "text/html": [
       "<div>\n",
       "<style scoped>\n",
       "    .dataframe tbody tr th:only-of-type {\n",
       "        vertical-align: middle;\n",
       "    }\n",
       "\n",
       "    .dataframe tbody tr th {\n",
       "        vertical-align: top;\n",
       "    }\n",
       "\n",
       "    .dataframe thead th {\n",
       "        text-align: right;\n",
       "    }\n",
       "</style>\n",
       "<table border=\"1\" class=\"dataframe\">\n",
       "  <thead>\n",
       "    <tr style=\"text-align: right;\">\n",
       "      <th></th>\n",
       "      <th>Name</th>\n",
       "      <th>Park</th>\n",
       "      <th>Height</th>\n",
       "      <th>Speed</th>\n",
       "    </tr>\n",
       "  </thead>\n",
       "  <tbody>\n",
       "    <tr>\n",
       "      <th>0</th>\n",
       "      <td>Top Thrill Dragster</td>\n",
       "      <td>Cedar Point</td>\n",
       "      <td>420.0</td>\n",
       "      <td>120.0</td>\n",
       "    </tr>\n",
       "    <tr>\n",
       "      <th>1</th>\n",
       "      <td>Superman The Escape</td>\n",
       "      <td>Six Flags Magic Mountain</td>\n",
       "      <td>415.0</td>\n",
       "      <td>100.0</td>\n",
       "    </tr>\n",
       "    <tr>\n",
       "      <th>79</th>\n",
       "      <td>Wild Beast</td>\n",
       "      <td>Paramount Canada's Wonderland</td>\n",
       "      <td>415.0</td>\n",
       "      <td>56.0</td>\n",
       "    </tr>\n",
       "  </tbody>\n",
       "</table>\n",
       "</div>"
      ],
      "text/plain": [
       "                   Name                           Park  Height  Speed\n",
       "0   Top Thrill Dragster                    Cedar Point   420.0  120.0\n",
       "1   Superman The Escape       Six Flags Magic Mountain   415.0  100.0\n",
       "79           Wild Beast  Paramount Canada's Wonderland   415.0   56.0"
      ]
     },
     "execution_count": 139,
     "metadata": {},
     "output_type": "execute_result"
    }
   ],
   "source": [
    "coasters[coasters.Height > 400].loc[:,[\"Name\", \"Park\", \"Height\", \"Speed\"]]"
   ]
  },
  {
   "cell_type": "code",
   "execution_count": 140,
   "metadata": {},
   "outputs": [
    {
     "data": {
      "text/html": [
       "<div>\n",
       "<style scoped>\n",
       "    .dataframe tbody tr th:only-of-type {\n",
       "        vertical-align: middle;\n",
       "    }\n",
       "\n",
       "    .dataframe tbody tr th {\n",
       "        vertical-align: top;\n",
       "    }\n",
       "\n",
       "    .dataframe thead th {\n",
       "        text-align: right;\n",
       "    }\n",
       "</style>\n",
       "<table border=\"1\" class=\"dataframe\">\n",
       "  <thead>\n",
       "    <tr style=\"text-align: right;\">\n",
       "      <th></th>\n",
       "      <th>Name</th>\n",
       "      <th>Park</th>\n",
       "      <th>State</th>\n",
       "      <th>Country</th>\n",
       "      <th>Duration</th>\n",
       "      <th>Speed</th>\n",
       "      <th>Height</th>\n",
       "      <th>drop</th>\n",
       "      <th>Length</th>\n",
       "      <th>Yr Opened</th>\n",
       "      <th>Inversions</th>\n",
       "    </tr>\n",
       "  </thead>\n",
       "  <tbody>\n",
       "    <tr>\n",
       "      <th>0</th>\n",
       "      <td>Top Thrill Dragster</td>\n",
       "      <td>Cedar Point</td>\n",
       "      <td>Ohio</td>\n",
       "      <td>USA</td>\n",
       "      <td>60</td>\n",
       "      <td>120.0</td>\n",
       "      <td>420.0</td>\n",
       "      <td>400.0</td>\n",
       "      <td>2800.0</td>\n",
       "      <td>2003</td>\n",
       "      <td>0</td>\n",
       "    </tr>\n",
       "    <tr>\n",
       "      <th>1</th>\n",
       "      <td>Superman The Escape</td>\n",
       "      <td>Six Flags Magic Mountain</td>\n",
       "      <td>California</td>\n",
       "      <td>USA</td>\n",
       "      <td>28</td>\n",
       "      <td>100.0</td>\n",
       "      <td>415.0</td>\n",
       "      <td>328.1</td>\n",
       "      <td>1235.0</td>\n",
       "      <td>1997</td>\n",
       "      <td>0</td>\n",
       "    </tr>\n",
       "    <tr>\n",
       "      <th>2</th>\n",
       "      <td>Millennium Force</td>\n",
       "      <td>Cedar Point</td>\n",
       "      <td>Ohio</td>\n",
       "      <td>USA</td>\n",
       "      <td>165</td>\n",
       "      <td>93.0</td>\n",
       "      <td>310.0</td>\n",
       "      <td>300.0</td>\n",
       "      <td>6595.0</td>\n",
       "      <td>2000</td>\n",
       "      <td>0</td>\n",
       "    </tr>\n",
       "    <tr>\n",
       "      <th>3</th>\n",
       "      <td>Goliath</td>\n",
       "      <td>Six Flags Magic Mountain</td>\n",
       "      <td>California</td>\n",
       "      <td>USA</td>\n",
       "      <td>180</td>\n",
       "      <td>85.0</td>\n",
       "      <td>235.0</td>\n",
       "      <td>255.0</td>\n",
       "      <td>4500.0</td>\n",
       "      <td>2000</td>\n",
       "      <td>0</td>\n",
       "    </tr>\n",
       "    <tr>\n",
       "      <th>4</th>\n",
       "      <td>Titan</td>\n",
       "      <td>Six Flags Over Texas</td>\n",
       "      <td>Texas</td>\n",
       "      <td>USA</td>\n",
       "      <td>210</td>\n",
       "      <td>85.0</td>\n",
       "      <td>245.0</td>\n",
       "      <td>255.0</td>\n",
       "      <td>5312.0</td>\n",
       "      <td>2001</td>\n",
       "      <td>0</td>\n",
       "    </tr>\n",
       "  </tbody>\n",
       "</table>\n",
       "</div>"
      ],
      "text/plain": [
       "                  Name                      Park       State Country  \\\n",
       "0  Top Thrill Dragster               Cedar Point        Ohio     USA   \n",
       "1  Superman The Escape  Six Flags Magic Mountain  California     USA   \n",
       "2     Millennium Force               Cedar Point        Ohio     USA   \n",
       "3              Goliath  Six Flags Magic Mountain  California     USA   \n",
       "4                Titan      Six Flags Over Texas       Texas     USA   \n",
       "\n",
       "   Duration  Speed  Height   drop  Length  Yr Opened  Inversions  \n",
       "0        60  120.0   420.0  400.0  2800.0       2003           0  \n",
       "1        28  100.0   415.0  328.1  1235.0       1997           0  \n",
       "2       165   93.0   310.0  300.0  6595.0       2000           0  \n",
       "3       180   85.0   235.0  255.0  4500.0       2000           0  \n",
       "4       210   85.0   245.0  255.0  5312.0       2001           0  "
      ]
     },
     "execution_count": 140,
     "metadata": {},
     "output_type": "execute_result"
    }
   ],
   "source": [
    "purged = coasters[coasters.Name != \"Wild Beast\"]\n",
    "purged.head()"
   ]
  },
  {
   "cell_type": "code",
   "execution_count": 141,
   "metadata": {},
   "outputs": [
    {
     "name": "stdout",
     "output_type": "stream",
     "text": [
      "                            OLS Regression Results                            \n",
      "==============================================================================\n",
      "Dep. Variable:                  Speed   R-squared:                       0.830\n",
      "Model:                            OLS   Adj. R-squared:                  0.828\n",
      "Method:                 Least Squares   F-statistic:                     376.1\n",
      "Date:                Mon, 11 May 2020   Prob (F-statistic):           2.30e-31\n",
      "Time:                        20:38:31   Log-Likelihood:                -251.60\n",
      "No. Observations:                  79   AIC:                             507.2\n",
      "Df Residuals:                      77   BIC:                             511.9\n",
      "Df Model:                           1                                         \n",
      "Covariance Type:            nonrobust                                         \n",
      "==============================================================================\n",
      "                 coef    std err          t      P>|t|      [0.025      0.975]\n",
      "------------------------------------------------------------------------------\n",
      "const         39.4242      1.565     25.192      0.000      36.308      42.540\n",
      "Height         0.1718      0.009     19.395      0.000       0.154       0.189\n",
      "==============================================================================\n",
      "Omnibus:                        4.708   Durbin-Watson:                   1.572\n",
      "Prob(Omnibus):                  0.095   Jarque-Bera (JB):                3.974\n",
      "Skew:                           0.430   Prob(JB):                        0.137\n",
      "Kurtosis:                       3.684   Cond. No.                         415.\n",
      "==============================================================================\n",
      "\n",
      "Warnings:\n",
      "[1] Standard Errors assume that the covariance matrix of the errors is correctly specified.\n"
     ]
    }
   ],
   "source": [
    "X = pd.DataFrame(purged['Height'])\n",
    "y = pd.DataFrame(purged['Speed'])\n",
    "X = sm.add_constant(X)  # to add intercept term y = b0 + b1 X\n",
    "model = sm.OLS(y, X)\n",
    "results = model.fit()\n",
    "print(results.summary())"
   ]
  },
  {
   "cell_type": "code",
   "execution_count": 142,
   "metadata": {},
   "outputs": [
    {
     "data": {
      "image/png": "[encoded data removed]",
      "text/plain": [
       "<Figure size 432x288 with 1 Axes>"
      ]
     },
     "metadata": {
      "needs_background": "light"
     },
     "output_type": "display_data"
    }
   ],
   "source": [
    "fig = plt.Figure(figsize=(15,15))\n",
    "ax1 = plt.subplot('111')\n",
    "plt.title(\"Height as Predictor of Speed\")\n",
    "data = pd.concat([X, y], axis=1)\n",
    "ax1 = purged.plot(\"Height\", \"Speed\", kind=\"scatter\", ax=ax1);\n",
    "domain = np.linspace(min(X['Height']), max(X['Height']), 50)\n",
    "line = (0.1718 * domain) + 39.4242\n",
    "ax1.plot(domain, line, '-r');"
   ]
  },
  {
   "cell_type": "code",
   "execution_count": 143,
   "metadata": {},
   "outputs": [
    {
     "data": {
      "image/png": "[encoded data removed]",
      "text/plain": [
       "<Figure size 432x288 with 1 Axes>"
      ]
     },
     "metadata": {
      "needs_background": "light"
     },
     "output_type": "display_data"
    }
   ],
   "source": [
    "coasters.plot(\"Length\", \"Speed\", kind=\"scatter\");"
   ]
  },
  {
   "cell_type": "code",
   "execution_count": 144,
   "metadata": {},
   "outputs": [
    {
     "data": {
      "image/png": "[encoded data removed]",
      "text/plain": [
       "<Figure size 432x288 with 1 Axes>"
      ]
     },
     "metadata": {
      "needs_background": "light"
     },
     "output_type": "display_data"
    }
   ],
   "source": [
    "coasters.plot(\"drop\", \"Speed\", kind=\"scatter\");"
   ]
  },
  {
   "cell_type": "code",
   "execution_count": 145,
   "metadata": {},
   "outputs": [],
   "source": [
    "X = coasters.loc[:,[\"drop\"]]"
   ]
  },
  {
   "cell_type": "code",
   "execution_count": 146,
   "metadata": {},
   "outputs": [
    {
     "data": {
      "text/html": [
       "<div>\n",
       "<style scoped>\n",
       "    .dataframe tbody tr th:only-of-type {\n",
       "        vertical-align: middle;\n",
       "    }\n",
       "\n",
       "    .dataframe tbody tr th {\n",
       "        vertical-align: top;\n",
       "    }\n",
       "\n",
       "    .dataframe thead th {\n",
       "        text-align: right;\n",
       "    }\n",
       "</style>\n",
       "<table border=\"1\" class=\"dataframe\">\n",
       "  <thead>\n",
       "    <tr style=\"text-align: right;\">\n",
       "      <th></th>\n",
       "      <th>drop</th>\n",
       "    </tr>\n",
       "  </thead>\n",
       "  <tbody>\n",
       "    <tr>\n",
       "      <th>0</th>\n",
       "      <td>400.00</td>\n",
       "    </tr>\n",
       "    <tr>\n",
       "      <th>1</th>\n",
       "      <td>328.10</td>\n",
       "    </tr>\n",
       "    <tr>\n",
       "      <th>2</th>\n",
       "      <td>300.00</td>\n",
       "    </tr>\n",
       "    <tr>\n",
       "      <th>3</th>\n",
       "      <td>255.00</td>\n",
       "    </tr>\n",
       "    <tr>\n",
       "      <th>4</th>\n",
       "      <td>255.00</td>\n",
       "    </tr>\n",
       "    <tr>\n",
       "      <th>...</th>\n",
       "      <td>...</td>\n",
       "    </tr>\n",
       "    <tr>\n",
       "      <th>75</th>\n",
       "      <td>180.00</td>\n",
       "    </tr>\n",
       "    <tr>\n",
       "      <th>76</th>\n",
       "      <td>177.00</td>\n",
       "    </tr>\n",
       "    <tr>\n",
       "      <th>77</th>\n",
       "      <td>124.67</td>\n",
       "    </tr>\n",
       "    <tr>\n",
       "      <th>78</th>\n",
       "      <td>93.00</td>\n",
       "    </tr>\n",
       "    <tr>\n",
       "      <th>79</th>\n",
       "      <td>78.00</td>\n",
       "    </tr>\n",
       "  </tbody>\n",
       "</table>\n",
       "<p>80 rows × 1 columns</p>\n",
       "</div>"
      ],
      "text/plain": [
       "      drop\n",
       "0   400.00\n",
       "1   328.10\n",
       "2   300.00\n",
       "3   255.00\n",
       "4   255.00\n",
       "..     ...\n",
       "75  180.00\n",
       "76  177.00\n",
       "77  124.67\n",
       "78   93.00\n",
       "79   78.00\n",
       "\n",
       "[80 rows x 1 columns]"
      ]
     },
     "execution_count": 146,
     "metadata": {},
     "output_type": "execute_result"
    }
   ],
   "source": [
    "X"
   ]
  },
  {
   "cell_type": "code",
   "execution_count": 147,
   "metadata": {},
   "outputs": [
    {
     "name": "stdout",
     "output_type": "stream",
     "text": [
      "[0.9424791887488967, 0.7120225191057105, 0.8748915355653138]\n"
     ]
    }
   ],
   "source": [
    "y = pd.DataFrame(coasters['Speed'])\n",
    "model = LinearRegression()\n",
    "scores = []\n",
    "kfold = KFold(n_splits=3, shuffle=True, random_state=42)\n",
    "for i, (train, test) in enumerate(kfold.split(X, y)):\n",
    "    model.fit(X.iloc[train,:], y.iloc[train,:])\n",
    "    score = model.score(X.iloc[test,:], y.iloc[test,:])\n",
    "    scores.append(score)\n",
    "print(scores)"
   ]
  },
  {
   "cell_type": "code",
   "execution_count": 148,
   "metadata": {},
   "outputs": [
    {
     "data": {
      "text/plain": [
       "(array([[0.19283169]]), array([37.12035244]))"
      ]
     },
     "execution_count": 148,
     "metadata": {},
     "output_type": "execute_result"
    }
   ],
   "source": [
    "model.coef_, model.intercept_"
   ]
  },
  {
   "cell_type": "code",
   "execution_count": 149,
   "metadata": {},
   "outputs": [
    {
     "data": {
      "text/html": [
       "<div>\n",
       "<style scoped>\n",
       "    .dataframe tbody tr th:only-of-type {\n",
       "        vertical-align: middle;\n",
       "    }\n",
       "\n",
       "    .dataframe tbody tr th {\n",
       "        vertical-align: top;\n",
       "    }\n",
       "\n",
       "    .dataframe thead th {\n",
       "        text-align: right;\n",
       "    }\n",
       "</style>\n",
       "<table border=\"1\" class=\"dataframe\">\n",
       "  <thead>\n",
       "    <tr style=\"text-align: right;\">\n",
       "      <th></th>\n",
       "      <th>drop</th>\n",
       "      <th>Height</th>\n",
       "    </tr>\n",
       "  </thead>\n",
       "  <tbody>\n",
       "    <tr>\n",
       "      <th>0</th>\n",
       "      <td>400.00</td>\n",
       "      <td>420.0</td>\n",
       "    </tr>\n",
       "    <tr>\n",
       "      <th>1</th>\n",
       "      <td>328.10</td>\n",
       "      <td>415.0</td>\n",
       "    </tr>\n",
       "    <tr>\n",
       "      <th>2</th>\n",
       "      <td>300.00</td>\n",
       "      <td>310.0</td>\n",
       "    </tr>\n",
       "    <tr>\n",
       "      <th>3</th>\n",
       "      <td>255.00</td>\n",
       "      <td>235.0</td>\n",
       "    </tr>\n",
       "    <tr>\n",
       "      <th>4</th>\n",
       "      <td>255.00</td>\n",
       "      <td>245.0</td>\n",
       "    </tr>\n",
       "    <tr>\n",
       "      <th>...</th>\n",
       "      <td>...</td>\n",
       "      <td>...</td>\n",
       "    </tr>\n",
       "    <tr>\n",
       "      <th>75</th>\n",
       "      <td>180.00</td>\n",
       "      <td>65.0</td>\n",
       "    </tr>\n",
       "    <tr>\n",
       "      <th>76</th>\n",
       "      <td>177.00</td>\n",
       "      <td>191.6</td>\n",
       "    </tr>\n",
       "    <tr>\n",
       "      <th>77</th>\n",
       "      <td>124.67</td>\n",
       "      <td>137.8</td>\n",
       "    </tr>\n",
       "    <tr>\n",
       "      <th>78</th>\n",
       "      <td>93.00</td>\n",
       "      <td>102.0</td>\n",
       "    </tr>\n",
       "    <tr>\n",
       "      <th>79</th>\n",
       "      <td>78.00</td>\n",
       "      <td>415.0</td>\n",
       "    </tr>\n",
       "  </tbody>\n",
       "</table>\n",
       "<p>80 rows × 2 columns</p>\n",
       "</div>"
      ],
      "text/plain": [
       "      drop  Height\n",
       "0   400.00   420.0\n",
       "1   328.10   415.0\n",
       "2   300.00   310.0\n",
       "3   255.00   235.0\n",
       "4   255.00   245.0\n",
       "..     ...     ...\n",
       "75  180.00    65.0\n",
       "76  177.00   191.6\n",
       "77  124.67   137.8\n",
       "78   93.00   102.0\n",
       "79   78.00   415.0\n",
       "\n",
       "[80 rows x 2 columns]"
      ]
     },
     "execution_count": 149,
     "metadata": {},
     "output_type": "execute_result"
    }
   ],
   "source": [
    "X = coasters.loc[:,[\"drop\", \"Height\"]]\n",
    "X"
   ]
  },
  {
   "cell_type": "code",
   "execution_count": 150,
   "metadata": {},
   "outputs": [
    {
     "name": "stdout",
     "output_type": "stream",
     "text": [
      "[0.9466735269473453, 0.7502732253479295, 0.8845544943694605]\n"
     ]
    }
   ],
   "source": [
    "model = LinearRegression()\n",
    "scores = []\n",
    "kfold = KFold(n_splits=3, shuffle=True, random_state=42)\n",
    "for i, (train, test) in enumerate(kfold.split(X, y)):\n",
    "    model.fit(X.iloc[train,:], y.iloc[train,:])\n",
    "    score = model.score(X.iloc[test,:], y.iloc[test,:])\n",
    "    scores.append(score)\n",
    "print(scores)"
   ]
  },
  {
   "cell_type": "code",
   "execution_count": 151,
   "metadata": {},
   "outputs": [
    {
     "data": {
      "text/plain": [
       "array([[0.16994844, 0.02693056]])"
      ]
     },
     "execution_count": 151,
     "metadata": {},
     "output_type": "execute_result"
    }
   ],
   "source": [
    "model.coef_"
   ]
  },
  {
   "cell_type": "code",
   "execution_count": 152,
   "metadata": {},
   "outputs": [
    {
     "data": {
      "text/plain": [
       "array([36.20549843])"
      ]
     },
     "execution_count": 152,
     "metadata": {},
     "output_type": "execute_result"
    }
   ],
   "source": [
    "model.intercept_"
   ]
  },
  {
   "cell_type": "code",
   "execution_count": 153,
   "metadata": {},
   "outputs": [
    {
     "data": {
      "image/png": "[encoded data removed]",
      "text/plain": [
       "<Figure size 432x288 with 1 Axes>"
      ]
     },
     "metadata": {
      "needs_background": "light"
     },
     "output_type": "display_data"
    }
   ],
   "source": [
    "ax1 = coasters.plot(\"Height\", \"Speed\", color=\"red\", \n",
    "                    kind=\"scatter\", label=\"height\", marker=\"^\")\n",
    "coasters.plot(\"drop\", \"Speed\", kind=\"scatter\", label=\"drop\", ax=ax1)\n",
    "plt.xlabel(\"Feet\")\n",
    "plt.title(\"Height & Drop versus Speed\")\n",
    "plt.legend();"
   ]
  },
  {
   "cell_type": "code",
   "execution_count": 154,
   "metadata": {},
   "outputs": [],
   "source": [
    "coasters[\"predicted_speed\"] = (model.coef_[0][0] * X[\"drop\"] \n",
    "            + model.coef_[0][1] * X[\"Height\"] \n",
    "            + model.intercept_)"
   ]
  },
  {
   "cell_type": "code",
   "execution_count": 155,
   "metadata": {},
   "outputs": [
    {
     "data": {
      "image/png": "[encoded data removed]",
      "text/plain": [
       "<Figure size 432x288 with 1 Axes>"
      ]
     },
     "metadata": {
      "needs_background": "light"
     },
     "output_type": "display_data"
    }
   ],
   "source": [
    "ax1 = coasters.plot(\"Height\", \"Speed\", color=\"red\", \n",
    "                    kind=\"scatter\", label=\"height\", marker=\"^\")\n",
    "\n",
    "coasters.plot(\"Height\", \"predicted_speed\", \n",
    "              kind=\"scatter\", label=\"predicted\", \n",
    "              color = \"black\",\n",
    "              ax=ax1)\n",
    "\n",
    "plt.ylabel(\"Speed\")\n",
    "plt.legend();"
   ]
  },
  {
   "cell_type": "code",
   "execution_count": 156,
   "metadata": {},
   "outputs": [
    {
     "data": {
      "image/png": "[encoded data removed]",
      "text/plain": [
       "<Figure size 432x288 with 1 Axes>"
      ]
     },
     "metadata": {
      "needs_background": "light"
     },
     "output_type": "display_data"
    }
   ],
   "source": [
    "ax1 = coasters.plot(\"drop\", \"Speed\", color=\"red\", \n",
    "                    kind=\"scatter\", label=\"drop\", marker=\"^\")\n",
    "\n",
    "coasters.plot(\"drop\", \"predicted_speed\", \n",
    "              kind=\"scatter\", label=\"predicted\", \n",
    "              color = \"black\",\n",
    "              ax=ax1)\n",
    "plt.ylabel(\"Speed\")\n",
    "plt.legend();"
   ]
  },
  {
   "cell_type": "code",
   "execution_count": 157,
   "metadata": {},
   "outputs": [
    {
     "data": {
      "text/html": [
       "<div>\n",
       "<style scoped>\n",
       "    .dataframe tbody tr th:only-of-type {\n",
       "        vertical-align: middle;\n",
       "    }\n",
       "\n",
       "    .dataframe tbody tr th {\n",
       "        vertical-align: top;\n",
       "    }\n",
       "\n",
       "    .dataframe thead th {\n",
       "        text-align: right;\n",
       "    }\n",
       "</style>\n",
       "<table border=\"1\" class=\"dataframe\">\n",
       "  <thead>\n",
       "    <tr style=\"text-align: right;\">\n",
       "      <th></th>\n",
       "      <th>Name</th>\n",
       "      <th>Park</th>\n",
       "      <th>Height</th>\n",
       "      <th>drop</th>\n",
       "      <th>Speed</th>\n",
       "      <th>predicted_speed</th>\n",
       "    </tr>\n",
       "  </thead>\n",
       "  <tbody>\n",
       "    <tr>\n",
       "      <th>0</th>\n",
       "      <td>Top Thrill Dragster</td>\n",
       "      <td>Cedar Point</td>\n",
       "      <td>420.0</td>\n",
       "      <td>400.00</td>\n",
       "      <td>120.0</td>\n",
       "      <td>115.495707</td>\n",
       "    </tr>\n",
       "    <tr>\n",
       "      <th>1</th>\n",
       "      <td>Superman The Escape</td>\n",
       "      <td>Six Flags Magic Mountain</td>\n",
       "      <td>415.0</td>\n",
       "      <td>328.10</td>\n",
       "      <td>100.0</td>\n",
       "      <td>103.141762</td>\n",
       "    </tr>\n",
       "    <tr>\n",
       "      <th>2</th>\n",
       "      <td>Millennium Force</td>\n",
       "      <td>Cedar Point</td>\n",
       "      <td>310.0</td>\n",
       "      <td>300.00</td>\n",
       "      <td>93.0</td>\n",
       "      <td>95.538502</td>\n",
       "    </tr>\n",
       "    <tr>\n",
       "      <th>3</th>\n",
       "      <td>Goliath</td>\n",
       "      <td>Six Flags Magic Mountain</td>\n",
       "      <td>235.0</td>\n",
       "      <td>255.00</td>\n",
       "      <td>85.0</td>\n",
       "      <td>85.871031</td>\n",
       "    </tr>\n",
       "    <tr>\n",
       "      <th>4</th>\n",
       "      <td>Titan</td>\n",
       "      <td>Six Flags Over Texas</td>\n",
       "      <td>245.0</td>\n",
       "      <td>255.00</td>\n",
       "      <td>85.0</td>\n",
       "      <td>86.140336</td>\n",
       "    </tr>\n",
       "    <tr>\n",
       "      <th>...</th>\n",
       "      <td>...</td>\n",
       "      <td>...</td>\n",
       "      <td>...</td>\n",
       "      <td>...</td>\n",
       "      <td>...</td>\n",
       "      <td>...</td>\n",
       "    </tr>\n",
       "    <tr>\n",
       "      <th>75</th>\n",
       "      <td>Oblivion</td>\n",
       "      <td>Alton Towers</td>\n",
       "      <td>65.0</td>\n",
       "      <td>180.00</td>\n",
       "      <td>68.0</td>\n",
       "      <td>68.546703</td>\n",
       "    </tr>\n",
       "    <tr>\n",
       "      <th>76</th>\n",
       "      <td>Stunt Fall</td>\n",
       "      <td>Warner Bros. Movie World</td>\n",
       "      <td>191.6</td>\n",
       "      <td>177.00</td>\n",
       "      <td>65.6</td>\n",
       "      <td>71.446266</td>\n",
       "    </tr>\n",
       "    <tr>\n",
       "      <th>77</th>\n",
       "      <td>Hayabusa</td>\n",
       "      <td>Tokyo SummerLand</td>\n",
       "      <td>137.8</td>\n",
       "      <td>124.67</td>\n",
       "      <td>60.3</td>\n",
       "      <td>61.104001</td>\n",
       "    </tr>\n",
       "    <tr>\n",
       "      <th>78</th>\n",
       "      <td>Top Gun</td>\n",
       "      <td>Paramount Canada's Wonderland</td>\n",
       "      <td>102.0</td>\n",
       "      <td>93.00</td>\n",
       "      <td>56.0</td>\n",
       "      <td>54.757620</td>\n",
       "    </tr>\n",
       "    <tr>\n",
       "      <th>79</th>\n",
       "      <td>Wild Beast</td>\n",
       "      <td>Paramount Canada's Wonderland</td>\n",
       "      <td>415.0</td>\n",
       "      <td>78.00</td>\n",
       "      <td>56.0</td>\n",
       "      <td>60.637658</td>\n",
       "    </tr>\n",
       "  </tbody>\n",
       "</table>\n",
       "<p>80 rows × 6 columns</p>\n",
       "</div>"
      ],
      "text/plain": [
       "                   Name                           Park  Height    drop  Speed  \\\n",
       "0   Top Thrill Dragster                    Cedar Point   420.0  400.00  120.0   \n",
       "1   Superman The Escape       Six Flags Magic Mountain   415.0  328.10  100.0   \n",
       "2      Millennium Force                    Cedar Point   310.0  300.00   93.0   \n",
       "3               Goliath       Six Flags Magic Mountain   235.0  255.00   85.0   \n",
       "4                 Titan           Six Flags Over Texas   245.0  255.00   85.0   \n",
       "..                  ...                            ...     ...     ...    ...   \n",
       "75             Oblivion                   Alton Towers    65.0  180.00   68.0   \n",
       "76           Stunt Fall       Warner Bros. Movie World   191.6  177.00   65.6   \n",
       "77             Hayabusa               Tokyo SummerLand   137.8  124.67   60.3   \n",
       "78              Top Gun  Paramount Canada's Wonderland   102.0   93.00   56.0   \n",
       "79           Wild Beast  Paramount Canada's Wonderland   415.0   78.00   56.0   \n",
       "\n",
       "    predicted_speed  \n",
       "0        115.495707  \n",
       "1        103.141762  \n",
       "2         95.538502  \n",
       "3         85.871031  \n",
       "4         86.140336  \n",
       "..              ...  \n",
       "75        68.546703  \n",
       "76        71.446266  \n",
       "77        61.104001  \n",
       "78        54.757620  \n",
       "79        60.637658  \n",
       "\n",
       "[80 rows x 6 columns]"
      ]
     },
     "execution_count": 157,
     "metadata": {},
     "output_type": "execute_result"
    }
   ],
   "source": [
    "coasters.loc[:,[\"Name\", \"Park\", \"Height\", \"drop\", \"Speed\", \"predicted_speed\"]]"
   ]
  },
  {
   "cell_type": "code",
   "execution_count": null,
   "metadata": {},
   "outputs": [],
   "source": []
  }
 ],
 "metadata": {
  "kernelspec": {
   "display_name": "Python 3",
   "language": "python",
   "name": "python3"
  },
  "language_info": {
   "codemirror_mode": {
    "name": "ipython",
    "version": 3
   },
   "file_extension": ".py",
   "mimetype": "text/x-python",
   "name": "python",
   "nbconvert_exporter": "python",
   "pygments_lexer": "ipython3",
   "version": "3.7.7"
  }
 },
 "nbformat": 4,
 "nbformat_minor": 4
}
