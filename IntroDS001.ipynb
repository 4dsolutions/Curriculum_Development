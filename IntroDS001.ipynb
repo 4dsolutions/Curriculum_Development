{
 "cells": [
  {
   "cell_type": "markdown",
   "metadata": {},
   "source": [
    "Introduction to Data Science<br/>\n",
    "[Oregon Curriculum Network](http://www.4dsolutions.net/ocn)"
   ]
  },
  {
   "cell_type": "markdown",
   "metadata": {},
   "source": [
    "Notebooks: \n",
    "[[1](IntroDS001.ipynb)]\n",
    "[[2](IntroDS002.ipynb)]\n",
    "[[3](IntroDS003.ipynb)]\n",
    "[[4](IntroDS004.ipynb)]\n",
    "[[5](IntroDS005.ipynb)]\n",
    "[[6](IntroDS006.ipynb)]\n",
    "[[Appendix](Appendix.ipynb)]"
   ]
  },
  {
   "cell_type": "markdown",
   "metadata": {},
   "source": [
    "# An Introduction to Data Science\n",
    "\n",
    "\n",
    "Good Evening data scientists... students, fellow faculty.  \n",
    "\n",
    "This is a course about process and study methods, techniques around learning, in addition to an exploration of data science.  As technology changes, so do our techniques.  \n",
    "\n",
    "In many cases, the way one learns a discipline is integral to the practice of that same discipline. Consider wine tasting.  Consider any sport.  The practice is likewise the profession, which is why we say doctors and lawyers \"practice\" medicine and law.\n",
    "\n",
    "If you learn it by different means, the jury may take awhile to recognize you (judge you) as a bona fide member of the team.  That's why degrees and certifications may well be important (relevant).\n",
    "\n",
    "On the other hand, many disciplines are still evolving quickly, and if you pioneer new ways to teach and learn them, you'll gain recognition, in proportion to which people try these new ways, and find them effective.  Or maybe you don't gain recognition, yet benefit directly from your self teaching effectiveness.\n",
    "\n",
    "A principal technique I suggest here is installing and opening JupyterLabs and starting a set of Notebooks of your own.  Many of these Notebooks will serve as scratch pads, where you test out your growing understanding of syntax and algorithms.  Other Notebooks you may wish to share with the public, in which case a free service such as Github, which also renders the Notebooks, is yours to use.\n",
    "\n",
    "Now that something technical is going on, look along the deep history axis, for the origins of what you're studying, and extrapolate regarding where this discipline might be headed.  You're being speculative (predictive) based on what data you've tuned in.\n",
    "\n",
    "As Thomas Paine put it, to prophesie is akin to singing in that you're seeing how a sequence of events (a song) might sustain gravitas (inertia) going forward.  The music is \"self fulfilling\" in the sense that the future sometimes conforms to our expectations, because of our expectations.  Othertimes, our expectations are confounded.\n",
    "\n",
    "Once your Notebooks are up and running, I encourage the practice of harvesting bookmarks (hyperlinks), which entails doing enough research to begin filtering out the ones you don't want to keep.  "
   ]
  },
  {
   "cell_type": "code",
   "execution_count": 1,
   "metadata": {},
   "outputs": [
    {
     "data": {
      "text/plain": [
       "Bookmark(Title='Python', Link='http://www.python.org')"
      ]
     },
     "execution_count": 1,
     "metadata": {},
     "output_type": "execute_result"
    }
   ],
   "source": [
    "# direct from Python Standard Library\n",
    "from collections import namedtuple\n",
    "Bkmk = namedtuple(\"Bookmark\", \"Title Link\") \n",
    "example = Bkmk(\"Python\", \"http://www.python.org\")\n",
    "example"
   ]
  },
  {
   "cell_type": "code",
   "execution_count": 2,
   "metadata": {},
   "outputs": [
    {
     "name": "stdout",
     "output_type": "stream",
     "text": [
      "/Users/mac/Documents/Curriculum_Development\n"
     ]
    }
   ],
   "source": [
    "! pwd"
   ]
  },
  {
   "cell_type": "markdown",
   "metadata": {},
   "source": [
    "The code below gives your ecosystem a workout, presuming you've cloned the repo and have the necessary file tree structure.\n",
    "\n",
    "The ```python``` subfolder has its own Python modules, to which you can access simply by importing it.  For this to work, a Python ```__init__.py``` file must be present, potentially devoid of any code.  This file makes the subfolder importable if in the Python path (which includes the current working directory)."
   ]
  },
  {
   "cell_type": "code",
   "execution_count": 3,
   "metadata": {},
   "outputs": [
    {
     "name": "stdout",
     "output_type": "stream",
     "text": [
      "Anaconda.org                   http://anaconda.org \n",
      "Python.org                     http://python.org   \n",
      "Python Docs                    https://docs.python.org/3/\n",
      "Spaghetti Code                 http://c2.com/cgi/wiki?SpaghettiCode\n",
      "Structured Programming         http://c2.com/cgi/wiki?StructuredProgramming\n"
     ]
    }
   ],
   "source": [
    "import imp  # module to force recompile, useful if editing on the fly\n",
    "from python import make_links_v3 as links\n",
    "imp.reload(links) \n",
    "links.main()"
   ]
  },
  {
   "cell_type": "markdown",
   "metadata": {},
   "source": [
    "What are your criteria?  \n",
    "\n",
    "When it comes to Youtubes or other (usually asynchronous) taped presentations, you might want them to be in a language you at least somewhat understand.  \n",
    "\n",
    "\"Language\" would therefore also be a \"principal component\" of your ranking algorithm, to use the data science terms.  After language might come \"Subject\".\n",
    "\n",
    "A reason I stress the practice of curating bookmarks is a lot goes by in life that we don't snag at the time and then have a harder time refinding.  I suggest curating your bookmarks in various ways, including by means of [Python programs](https://www.kaggle.com/learn/python).\n",
    "\n",
    "That's right, I'm throwing a programming language into the mix.  The stress on Jupyter was a tip-off this was coming.  Jupyter is named in honor of three of its first kernel languages:  Julia, Python, and R.  "
   ]
  },
  {
   "cell_type": "code",
   "execution_count": 4,
   "metadata": {},
   "outputs": [],
   "source": [
    "import pandas as pd"
   ]
  },
  {
   "cell_type": "markdown",
   "metadata": {},
   "source": [
    "I recommend a polyglot approach e.g. when you're learning pandas in Python, consider eyeballing some R for contrast and comparison.  The R could be \"back burner\" (of lower importance) but the fact that it also has Data Frames may accelerate your Python learning.  Then turn it around if you like, and make R front burner for awhile, leveraging your existing knowledge of Python, and so on."
   ]
  },
  {
   "cell_type": "code",
   "execution_count": 5,
   "metadata": {},
   "outputs": [
    {
     "data": {
      "text/html": [
       "<div>\n",
       "<style scoped>\n",
       "    .dataframe tbody tr th:only-of-type {\n",
       "        vertical-align: middle;\n",
       "    }\n",
       "\n",
       "    .dataframe tbody tr th {\n",
       "        vertical-align: top;\n",
       "    }\n",
       "\n",
       "    .dataframe thead th {\n",
       "        text-align: right;\n",
       "    }\n",
       "</style>\n",
       "<table border=\"1\" class=\"dataframe\">\n",
       "  <thead>\n",
       "    <tr style=\"text-align: right;\">\n",
       "      <th></th>\n",
       "      <th>Name</th>\n",
       "      <th>Park</th>\n",
       "      <th>State</th>\n",
       "      <th>Country</th>\n",
       "      <th>Duration</th>\n",
       "      <th>Speed</th>\n",
       "      <th>Height</th>\n",
       "      <th>drop</th>\n",
       "      <th>Length</th>\n",
       "      <th>Yr Opened</th>\n",
       "      <th>Inversions</th>\n",
       "    </tr>\n",
       "  </thead>\n",
       "  <tbody>\n",
       "    <tr>\n",
       "      <th>0</th>\n",
       "      <td>Top Thrill Dragster</td>\n",
       "      <td>Cedar Point</td>\n",
       "      <td>Ohio</td>\n",
       "      <td>USA</td>\n",
       "      <td>60</td>\n",
       "      <td>120.0</td>\n",
       "      <td>420.0</td>\n",
       "      <td>400.0</td>\n",
       "      <td>2800.0</td>\n",
       "      <td>2003</td>\n",
       "      <td>0</td>\n",
       "    </tr>\n",
       "    <tr>\n",
       "      <th>1</th>\n",
       "      <td>Superman The Escape</td>\n",
       "      <td>Six Flags Magic Mountain</td>\n",
       "      <td>California</td>\n",
       "      <td>USA</td>\n",
       "      <td>28</td>\n",
       "      <td>100.0</td>\n",
       "      <td>415.0</td>\n",
       "      <td>328.1</td>\n",
       "      <td>1235.0</td>\n",
       "      <td>1997</td>\n",
       "      <td>0</td>\n",
       "    </tr>\n",
       "    <tr>\n",
       "      <th>2</th>\n",
       "      <td>Millennium Force</td>\n",
       "      <td>Cedar Point</td>\n",
       "      <td>Ohio</td>\n",
       "      <td>USA</td>\n",
       "      <td>165</td>\n",
       "      <td>93.0</td>\n",
       "      <td>310.0</td>\n",
       "      <td>300.0</td>\n",
       "      <td>6595.0</td>\n",
       "      <td>2000</td>\n",
       "      <td>0</td>\n",
       "    </tr>\n",
       "    <tr>\n",
       "      <th>3</th>\n",
       "      <td>Goliath</td>\n",
       "      <td>Six Flags Magic Mountain</td>\n",
       "      <td>California</td>\n",
       "      <td>USA</td>\n",
       "      <td>180</td>\n",
       "      <td>85.0</td>\n",
       "      <td>235.0</td>\n",
       "      <td>255.0</td>\n",
       "      <td>4500.0</td>\n",
       "      <td>2000</td>\n",
       "      <td>0</td>\n",
       "    </tr>\n",
       "    <tr>\n",
       "      <th>4</th>\n",
       "      <td>Titan</td>\n",
       "      <td>Six Flags Over Texas</td>\n",
       "      <td>Texas</td>\n",
       "      <td>USA</td>\n",
       "      <td>210</td>\n",
       "      <td>85.0</td>\n",
       "      <td>245.0</td>\n",
       "      <td>255.0</td>\n",
       "      <td>5312.0</td>\n",
       "      <td>2001</td>\n",
       "      <td>0</td>\n",
       "    </tr>\n",
       "  </tbody>\n",
       "</table>\n",
       "</div>"
      ],
      "text/plain": [
       "                  Name                      Park       State Country  \\\n",
       "0  Top Thrill Dragster               Cedar Point        Ohio     USA   \n",
       "1  Superman The Escape  Six Flags Magic Mountain  California     USA   \n",
       "2     Millennium Force               Cedar Point        Ohio     USA   \n",
       "3              Goliath  Six Flags Magic Mountain  California     USA   \n",
       "4                Titan      Six Flags Over Texas       Texas     USA   \n",
       "\n",
       "   Duration  Speed  Height   drop  Length  Yr Opened  Inversions  \n",
       "0        60  120.0   420.0  400.0  2800.0       2003           0  \n",
       "1        28  100.0   415.0  328.1  1235.0       1997           0  \n",
       "2       165   93.0   310.0  300.0  6595.0       2000           0  \n",
       "3       180   85.0   235.0  255.0  4500.0       2000           0  \n",
       "4       210   85.0   245.0  255.0  5312.0       2001           0  "
      ]
     },
     "execution_count": 5,
     "metadata": {},
     "output_type": "execute_result"
    }
   ],
   "source": [
    "rollercoasters = pd.read_csv(\"./data/roller_coasters.csv\")\n",
    "rollercoasters.head()"
   ]
  },
  {
   "cell_type": "markdown",
   "metadata": {},
   "source": [
    "## About The Way I Teach...\n",
    "\n",
    "In this immersive bootcamp-like experience, featuring basecamps and steep learning curves (\"hikes\"), we get to be data scientists from the start.  \n",
    "\n",
    "Per my three hour presentation [at a Pycon in Chicago](https://worldgame.blogspot.com/2009/03/urner-workshop.html), Hyatt-Regency International Room, co-appearing with PSF chairman Steve Holden, I have a pedagogical theory.\n",
    "\n",
    "I think of Lore and Technic as perpendicular to one another, with an opportunity curve a fixed bandwidth, the optimum rate of assimilation.  We're able to max out more (better optimize) if the presentation oscillates between History and Logic, Story and Nit Picky Detail.\n",
    "\n",
    "The reason is obvious I think, and I'm not introducing my theory as especially controversial:  stories provide more background and context for what may seem a too irrelevant foreground skill.  We're also better able to retain detailed information, if we have heuristics and mnemonics with which to glue it all together.\n",
    "\n",
    "I'm also happy with gynmasium excercise metaphors, meaning physical body and muscle building workouts.  When we do sets, we learn to rest between them, and just as important, we learn to vary the activity.  \n",
    "\n",
    "Oscillating between stories and heads down technical lectures, has the flavor of giving muscle groups a rest. The point is to keep cycling, thereby to spiral (drill into it, whatever it is, more deeply).\n",
    "\n",
    "As type Human, we're born hungry for data and soak it up through all senses, and begin to construct our model of the world.  \n",
    "\n",
    "Perhaps we become more scientific about it over time, but if you're reading this now, you've made it to the sciences already."
   ]
  },
  {
   "cell_type": "markdown",
   "metadata": {},
   "source": [
    "### What is Data Science?\n",
    "\n",
    "Data Science is defined in part as a result of hindsight; looking back on Statistics from an age wherein we apply Machine Learning to Big Data, enabling various kinds of Artifical Intelligence such as face, voice and character recognition, as well as generation.\n",
    "\n",
    "A lot of the science is coming from Computer Science.\n",
    "\n",
    "Statistics, one could say, is [a science of inductive reasoning](https://en.wikiquote.org/wiki/Inductive_reasoning), versus the logical techniques of purely deductive reasoning, such as we associate with mathematics.\n",
    "\n",
    "However, as [George Polya](https://www.goodreads.com/book/show/787845.Induction_and_Analogy_in_Mathematics) points out in his famous two volumes, mathematics is replete with inductive reasoning.  Euler was clear on this too.\n",
    "\n",
    "Why didn't people go with [Cybernetics](https://www.nature.com/articles/s42256-019-0100-x) instead of Data Science, since feedback loops and steering functions are intrinsic to both?  Gregory Bateson, who wrote about Cybernetics, [famously said](https://www.cs.bham.ac.uk/research/projects/cogaff/misc/information-difference.html):  bits of information (one could say signal) consist of \"differences that make a difference\" (serve as puzzle pieces) against all the background noise (entropy)."
   ]
  },
  {
   "cell_type": "markdown",
   "metadata": {},
   "source": [
    "### Do We Have Textbooks?\n",
    "\n",
    "Sure.\n",
    "\n",
    "Let me recommend a couple, both free online:\n",
    "\n",
    "* [Think Stats 2e by Allen Downey](https://greenteapress.com/wp/think-stats-2e/)\n",
    "* [Data Science Handbook by Jake Vanderplas](https://jakevdp.github.io/PythonDataScienceHandbook/)\n",
    "\n",
    "However let's each develop our ability to curate learning materials.  The internet is an expanding universe of learning and teaching opportunities.\n",
    "\n",
    "Want to dive into Machine Learning? Maybe try [the Kaggle tutorial](https://www.kaggle.com/learn/pandas)?  \n",
    "\n",
    "We also usually wish to gather the tools together locally, not just use them in the cloud.  Lets start with [Anaconda](https://docs.conda.io/projects/conda/en/latest/).\n",
    "\n",
    "### Lab Activity:\n",
    "\n",
    "Add your own links here (when you get your version):\n",
    "\n",
    "* [Advice from a Pro: Jason Dsouza\n",
    "in Towards Data Science](https://towardsdatascience.com/data-science-with-python-getting-started-4d48e28ca696)\n",
    "\n",
    "* [More Advice from a Pro: Santiago Víquez Segura\n",
    " in Towards Data Science](https://towardsdatascience.com/if-i-had-to-start-learning-data-science-again-how-would-i-do-it-78a72b80fd93)"
   ]
  },
  {
   "cell_type": "markdown",
   "metadata": {},
   "source": [
    "We'll be reviewing / introducing the Python computer language as we go tonight, and you may want to follow along."
   ]
  },
  {
   "cell_type": "code",
   "execution_count": 6,
   "metadata": {},
   "outputs": [],
   "source": [
    "import random  # Python Standard Library"
   ]
  },
  {
   "cell_type": "code",
   "execution_count": 7,
   "metadata": {},
   "outputs": [
    {
     "data": {
      "text/plain": [
       "[89, 78, 43, 96, 20, 49, 30, 15, 57, 99, 7, 46, 80, 5, 45, 28, 49, 73, 29, 43]"
      ]
     },
     "execution_count": 7,
     "metadata": {},
     "output_type": "execute_result"
    }
   ],
   "source": [
    "sample_size = 20\n",
    "sample = [random.randint(1, 100) for _ in range(sample_size)]\n",
    "sample"
   ]
  },
  {
   "cell_type": "code",
   "execution_count": 8,
   "metadata": {},
   "outputs": [
    {
     "data": {
      "text/plain": [
       "0.5285332283478843"
      ]
     },
     "execution_count": 8,
     "metadata": {},
     "output_type": "execute_result"
    }
   ],
   "source": [
    "sample = [random.random() for _ in range(sample_size)]\n",
    "sum(sample)/len(sample)"
   ]
  },
  {
   "cell_type": "code",
   "execution_count": 9,
   "metadata": {},
   "outputs": [],
   "source": [
    "import python"
   ]
  },
  {
   "cell_type": "code",
   "execution_count": 10,
   "metadata": {},
   "outputs": [],
   "source": [
    "class DataScientist:\n",
    "    def flip_a_coin(self):\n",
    "        coin = [\"HEADS\", \"TAILS\"]\n",
    "        return random.choice(coin)\n",
    "        \n",
    "class Human(DataScientist):\n",
    "    def __init__(self):\n",
    "        super().__init__()\n",
    "        self.name = \"Monty Python\""
   ]
  },
  {
   "cell_type": "code",
   "execution_count": 11,
   "metadata": {},
   "outputs": [
    {
     "name": "stdout",
     "output_type": "stream",
     "text": [
      "Monty Python gets HEADS\n"
     ]
    }
   ],
   "source": [
    "e = Human()\n",
    "template = \"{} gets {}\" \n",
    "print(template.format(e.name, e.flip_a_coin()))"
   ]
  },
  {
   "cell_type": "code",
   "execution_count": 12,
   "metadata": {},
   "outputs": [
    {
     "name": "stdout",
     "output_type": "stream",
     "text": [
      "Appendix.ipynb         LICENSE                foo.png\n",
      "Eigen_stuff.ipynb      LinearRegression.ipynb \u001b[34mimages\u001b[m\u001b[m\n",
      "IntroDS001.ipynb       README.md              logos2.ipynb\n",
      "IntroDS002.ipynb       VisualizationLab.ipynb \u001b[34mpython\u001b[m\u001b[m\n",
      "IntroDS003.ipynb       \u001b[34m__pycache__\u001b[m\u001b[m            test_stats.py\n",
      "IntroDS004.ipynb       animation1.ipynb       zoo.csv\n",
      "IntroDS005.ipynb       \u001b[34mdata\u001b[m\u001b[m\n",
      "IntroDS006.ipynb       default.profraw\n"
     ]
    }
   ],
   "source": [
    "! ls"
   ]
  },
  {
   "cell_type": "code",
   "execution_count": 13,
   "metadata": {},
   "outputs": [
    {
     "name": "stdout",
     "output_type": "stream",
     "text": [
      "[2, 3, 4, 5, 6, 7, 8, 9, 10]\n",
      "I don't know how to do that yet,\n",
      "numpy not yet imported as np\n"
     ]
    }
   ],
   "source": [
    "print(list(range(2,11)))\n",
    "try:\n",
    "    np.linspace(2, 10, 1000)\n",
    "except NameError:\n",
    "    print(\"I don't know how to do that yet,\\nnumpy not yet imported as np\")"
   ]
  },
  {
   "cell_type": "code",
   "execution_count": 14,
   "metadata": {},
   "outputs": [
    {
     "name": "stdout",
     "output_type": "stream",
     "text": [
      "HEADS TAILS TAILS TAILS TAILS TAILS HEADS HEADS \n"
     ]
    }
   ],
   "source": [
    "turns = 8\n",
    "for _ in range(turns):\n",
    "    print(e.flip_a_coin(), end=\" \")\n",
    "print()"
   ]
  },
  {
   "cell_type": "markdown",
   "metadata": {},
   "source": [
    "We think in ordinary language to some extent, about various types of object engaged in their business. The ```DataScientist``` in me, a kind of helper class if not an ancestor, informs my Human nature with a sense of possibility.\n",
    "\n",
    "Here we're in the binary world of heads or tails, one or zero.  We might also go with True and False. \n",
    "\n",
    "Remember that in Python these two bools (boolean type objects, named after George Boole), are likewise names of one and zero respectively.  The boolean type is a subclass of the integer type."
   ]
  },
  {
   "cell_type": "markdown",
   "metadata": {},
   "source": [
    "You'll want to keep your ordering testing tools ready for action.  You have the power to create both ordered and unordered types of object.  More below."
   ]
  },
  {
   "cell_type": "code",
   "execution_count": 15,
   "metadata": {},
   "outputs": [
    {
     "data": {
      "text/plain": [
       "True"
      ]
     },
     "execution_count": 15,
     "metadata": {},
     "output_type": "execute_result"
    }
   ],
   "source": [
    "True == 1"
   ]
  },
  {
   "cell_type": "code",
   "execution_count": 16,
   "metadata": {},
   "outputs": [
    {
     "data": {
      "text/plain": [
       "True"
      ]
     },
     "execution_count": 16,
     "metadata": {},
     "output_type": "execute_result"
    }
   ],
   "source": [
    "issubclass(bool, int)"
   ]
  },
  {
   "cell_type": "code",
   "execution_count": 17,
   "metadata": {},
   "outputs": [
    {
     "data": {
      "text/plain": [
       "True"
      ]
     },
     "execution_count": 17,
     "metadata": {},
     "output_type": "execute_result"
    }
   ],
   "source": [
    "issubclass(Human, DataScientist)"
   ]
  },
  {
   "cell_type": "code",
   "execution_count": 18,
   "metadata": {},
   "outputs": [
    {
     "data": {
      "text/plain": [
       "True"
      ]
     },
     "execution_count": 18,
     "metadata": {},
     "output_type": "execute_result"
    }
   ],
   "source": [
    "issubclass(Human, DataScientist)"
   ]
  },
  {
   "cell_type": "markdown",
   "metadata": {},
   "source": [
    "Remember Truth Tables?"
   ]
  },
  {
   "cell_type": "code",
   "execution_count": 19,
   "metadata": {},
   "outputs": [
    {
     "name": "stdout",
     "output_type": "stream",
     "text": [
      "True True\n",
      "False True\n",
      "False True\n",
      "False False\n"
     ]
    }
   ],
   "source": [
    "print(\"{} {}\".format(True and True,   True or True))\n",
    "print(\"{} {}\".format(True and False,  True or False))\n",
    "print(\"{} {}\".format(False and True,  False or True))\n",
    "print(\"{} {}\".format(False and False, False or False))"
   ]
  },
  {
   "cell_type": "code",
   "execution_count": 20,
   "metadata": {},
   "outputs": [
    {
     "data": {
      "text/plain": [
       "False"
      ]
     },
     "execution_count": 20,
     "metadata": {},
     "output_type": "execute_result"
    }
   ],
   "source": [
    "(True and False) or (False and True and True)"
   ]
  },
  {
   "cell_type": "code",
   "execution_count": 21,
   "metadata": {},
   "outputs": [
    {
     "data": {
      "text/html": [
       "\n",
       "        <iframe\n",
       "            width=\"100\"\n",
       "            height=\"100\"\n",
       "            src=\"images/matplotlib.pdf\"\n",
       "            frameborder=\"0\"\n",
       "            allowfullscreen\n",
       "        ></iframe>\n",
       "        "
      ],
      "text/plain": [
       "<IPython.lib.display.IFrame at 0x1219fc3d0>"
      ]
     },
     "execution_count": 21,
     "metadata": {},
     "output_type": "execute_result"
    }
   ],
   "source": [
    "from IPython.display import IFrame\n",
    "plot_fn = 'images/matplotlib.pdf'\n",
    "IFrame(plot_fn, 100,100)"
   ]
  },
  {
   "cell_type": "markdown",
   "metadata": {},
   "source": [
    "Check this Notebook on [nbviewer](https://nbviewer.jupyter.org/github/4dsolutions/Curriculum_Development/blob/master/IntroDS001.ipynb)?  Does the above frame show a logo?"
   ]
  },
  {
   "cell_type": "markdown",
   "metadata": {},
   "source": [
    "## Conditionals\n",
    "\n",
    "IF it's raining tomorrow, THEN I will go to the museum.\n",
    "\n",
    "raining tomorrow $\\implies$ I will go to the museum.\n",
    "\n",
    "Tomorrow comes...\n",
    "\n",
    "* It's raining and I am at the museum.  Check.  Consistent.\n",
    "* I'm at the museum, therefore it must be raining.  No!\n",
    "\n",
    "I might have gone to the museum anyway.  Even on a sunny day.  The condition was not ONLY IF.\n",
    "\n",
    "However, we *might* say the fact that I'm at the museum adds some likelihood to the hypothesis that it is raining."
   ]
  },
  {
   "cell_type": "markdown",
   "metadata": {},
   "source": [
    "Per George Polya, even pure mathematics is expanded through inductive reasoning a lot of the time.  People look for patterns, generalizations, make a conjecture, and only then maybe look for a proof.  Sometimes we're left with something verifiable, yet deductively unproved."
   ]
  },
  {
   "cell_type": "markdown",
   "metadata": {},
   "source": [
    "## Bitwise Operators"
   ]
  },
  {
   "cell_type": "code",
   "execution_count": 22,
   "metadata": {},
   "outputs": [
    {
     "data": {
      "text/plain": [
       "False"
      ]
     },
     "execution_count": 22,
     "metadata": {},
     "output_type": "execute_result"
    }
   ],
   "source": [
    "True & (True & False)"
   ]
  },
  {
   "cell_type": "code",
   "execution_count": 23,
   "metadata": {},
   "outputs": [
    {
     "data": {
      "text/plain": [
       "0"
      ]
     },
     "execution_count": 23,
     "metadata": {},
     "output_type": "execute_result"
    }
   ],
   "source": [
    "1 & 0"
   ]
  },
  {
   "cell_type": "markdown",
   "metadata": {},
   "source": [
    "Try changing the ampersand to a vertical pipe.  The ampersand and pipe do bitwise and-ing and or-ing, which is best appreciated by keeping the number expressions in binary: "
   ]
  },
  {
   "cell_type": "code",
   "execution_count": 24,
   "metadata": {},
   "outputs": [
    {
     "data": {
      "text/plain": [
       "'0b101'"
      ]
     },
     "execution_count": 24,
     "metadata": {},
     "output_type": "execute_result"
    }
   ],
   "source": [
    "bin(0b111 & 0b101)"
   ]
  },
  {
   "cell_type": "code",
   "execution_count": 25,
   "metadata": {},
   "outputs": [
    {
     "name": "stdout",
     "output_type": "stream",
     "text": [
      "CPU times: user 37 µs, sys: 4 µs, total: 41 µs\n",
      "Wall time: 45.1 µs\n"
     ]
    },
    {
     "data": {
      "text/plain": [
       "[19, 110, 91, 59, 35]"
      ]
     },
     "execution_count": 25,
     "metadata": {},
     "output_type": "execute_result"
    }
   ],
   "source": [
    "%%time\n",
    "B = [ x**2 for x in (3, 10, 9, 7, 5)]\n",
    "C = [ x + 10 for x in B]\n",
    "C"
   ]
  },
  {
   "cell_type": "markdown",
   "metadata": {},
   "source": [
    "### Milestone:  Importing Numpy\n",
    "\n",
    "Below is the first time we're making use of this library.  If it doesn't load, you may need to go ```conda install numpy``` in your conda shell, having activated the appropriate environment."
   ]
  },
  {
   "cell_type": "code",
   "execution_count": 26,
   "metadata": {},
   "outputs": [
    {
     "name": "stdout",
     "output_type": "stream",
     "text": [
      "1.17.3\n"
     ]
    }
   ],
   "source": [
    "import numpy as np\n",
    "print(np.__version__)"
   ]
  },
  {
   "cell_type": "code",
   "execution_count": 27,
   "metadata": {},
   "outputs": [
    {
     "name": "stdout",
     "output_type": "stream",
     "text": [
      "CPU times: user 89 µs, sys: 36 µs, total: 125 µs\n",
      "Wall time: 131 µs\n"
     ]
    },
    {
     "data": {
      "text/plain": [
       "array([ 19, 110,  91,  59,  35])"
      ]
     },
     "execution_count": 27,
     "metadata": {},
     "output_type": "execute_result"
    }
   ],
   "source": [
    "%%time\n",
    "A = np.array([9, 100, 81, 49, 25])\n",
    "A**2\n",
    "A + 10"
   ]
  },
  {
   "cell_type": "code",
   "execution_count": 28,
   "metadata": {},
   "outputs": [
    {
     "data": {
      "text/plain": [
       "0.03"
      ]
     },
     "execution_count": 28,
     "metadata": {},
     "output_type": "execute_result"
    }
   ],
   "source": [
    "domain = np.arange(0, 10, 0.01)\n",
    "tabular = domain.reshape(100, 10)\n",
    "tabular[0,3]"
   ]
  },
  {
   "cell_type": "code",
   "execution_count": 29,
   "metadata": {},
   "outputs": [
    {
     "name": "stdout",
     "output_type": "stream",
     "text": [
      "CPU times: user 44 µs, sys: 0 ns, total: 44 µs\n",
      "Wall time: 48.2 µs\n"
     ]
    },
    {
     "data": {
      "text/plain": [
       "19950631168807583848837421626835850838234968318861924548520089498529438830221946631919961684036194597899331129423209124271556491349413781117593785932096323957855730046793794526765246551266059895520550086918193311542508608460618104685509074866089624888090489894838009253941633257850621568309473902556912388065225096643874441046759871626985453222868538161694315775629640762836880760732228535091641476183956381458969463899410840960536267821064621427333394036525565649530603142680234969400335934316651459297773279665775606172582031407994198179607378245683762280037302885487251900834464581454650557929601414833921615734588139257095379769119277800826957735674444123062018757836325502728323789270710373802866393031428133241401624195671690574061419654342324638801248856147305207431992259611796250130992860241708340807605932320161268492288496255841312844061536738951487114256315111089745514203313820202931640957596464756010405845841566072044962867016515061920631004186422275908670900574606417856951911456055068251250406007519842261898059237118054444788072906395242548339221982707404473162376760846613033778706039803413197133493654622700563169937455508241780972810983291314403571877524768509857276937926433221599399876886660808368837838027643282775172273657572744784112294389733810861607423253291974813120197604178281965697475898164531258434135959862784130128185406283476649088690521047580882615823961985770122407044330583075869039319604603404973156583208672105913300903752823415539745394397715257455290510212310947321610753474825740775273986348298498340756937955646638621874569499279016572103701364433135817214311791398222983845847334440270964182851005072927748364550578634501100852987812389473928699540834346158807043959118985815145779177143619698728131459483783202081474982171858011389071228250905826817436220577475921417653715687725614904582904992461028630081535583308130101987675856234343538955409175623400844887526162643568648833519463720377293240094456246923254350400678027273837755376406726898636241037491410966718557050759098100246789880178271925953381282421954028302759408448955014676668389697996886241636313376393903373455801407636741877711055384225739499110186468219696581651485130494222369947714763069155468217682876200362777257723781365331611196811280792669481887201298643660768551639860534602297871557517947385246369446923087894265948217008051120322365496288169035739121368338393591756418733850510970271613915439590991598154654417336311656936031122249937969999226781732358023111862644575299135758175008199839236284615249881088960232244362173771618086357015468484058622329792853875623486556440536962622018963571028812361567512543338303270029097668650568557157505516727518899194129711337690149916181315171544007728650573189557450920330185304847113818315407324053319038462084036421763703911550639789000742853672196280903477974533320468368795868580237952218629120080742819551317948157624448298518461509704888027274721574688131594750409732115080498190455803416826949787141316063210686391511681774304792596709376"
      ]
     },
     "execution_count": 29,
     "metadata": {},
     "output_type": "execute_result"
    }
   ],
   "source": [
    "%time 2**10000"
   ]
  },
  {
   "cell_type": "markdown",
   "metadata": {},
   "source": [
    "#### TYPES OF DATA: NOMINAL, ORDINAL, INTERVAL-RATIO\n",
    "\n",
    "In data science we come across several types of data.  Think of spreadsheet columns.  Some columns are for dates, maybe with times.  \n",
    "\n",
    "Some are for integers (discrete), others for floats (more continuous).  \n",
    "\n",
    "Some may be for a choice of several options, but with [no inherent order](https://microbenotes.com/nominal-ordinal-interval-and-ratio-data/) implied.  For example, you might classify a type as animal, vegetable, mineral without implying that the expression ```animal > vegetable``` is required to make sense.\n",
    "\n",
    "Not every column has to have an obvious sort order, however we might choose to define one, however arbitrary.  \n",
    "\n",
    "Python gives us that power.  Think about whether sorting makes sense.  Sorting is different from hashing, after all."
   ]
  },
  {
   "cell_type": "markdown",
   "metadata": {},
   "source": [
    "Case insensitive sorting is a somewhat relevant topic as we're talking about sorting in general, when and if sorting is a relevant thing to do.\n",
    "\n",
    "The video curated below is useful because as data scientists, we're familiar with SQL (Structured Query Language).  We may need to build data tables ourselves, and/or someone may hand us a data dictionary (a roadmap to a set of tables) and ask us to get comfortable querying that data."
   ]
  },
  {
   "cell_type": "code",
   "execution_count": 30,
   "metadata": {},
   "outputs": [
    {
     "data": {
      "image/jpeg": "[encoded data removed]",
      "text/html": [
       "\n",
       "        <iframe\n",
       "            width=\"400\"\n",
       "            height=\"300\"\n",
       "            src=\"https://www.youtube.com/embed/p974mIfotTA\"\n",
       "            frameborder=\"0\"\n",
       "            allowfullscreen\n",
       "        ></iframe>\n",
       "        "
      ],
      "text/plain": [
       "<IPython.lib.display.YouTubeVideo at 0x121a0b250>"
      ]
     },
     "execution_count": 30,
     "metadata": {},
     "output_type": "execute_result"
    }
   ],
   "source": [
    "from IPython.display import YouTubeVideo\n",
    "YouTubeVideo('p974mIfotTA')"
   ]
  },
  {
   "cell_type": "code",
   "execution_count": 31,
   "metadata": {},
   "outputs": [
    {
     "data": {
      "image/jpeg": "[encoded data removed]",
      "text/html": [
       "\n",
       "        <iframe\n",
       "            width=\"400\"\n",
       "            height=\"300\"\n",
       "            src=\"https://www.youtube.com/embed/hZxnzfnt5v8\"\n",
       "            frameborder=\"0\"\n",
       "            allowfullscreen\n",
       "        ></iframe>\n",
       "        "
      ],
      "text/plain": [
       "<IPython.lib.display.YouTubeVideo at 0x121a06d10>"
      ]
     },
     "execution_count": 31,
     "metadata": {},
     "output_type": "execute_result"
    }
   ],
   "source": [
    "YouTubeVideo(\"hZxnzfnt5v8\")"
   ]
  },
  {
   "cell_type": "code",
   "execution_count": 32,
   "metadata": {},
   "outputs": [
    {
     "data": {
      "image/jpeg": "[encoded data removed]",
      "text/html": [
       "\n",
       "        <iframe\n",
       "            width=\"400\"\n",
       "            height=\"300\"\n",
       "            src=\"https://www.youtube.com/embed/v_4KWmkwmsU\"\n",
       "            frameborder=\"0\"\n",
       "            allowfullscreen\n",
       "        ></iframe>\n",
       "        "
      ],
      "text/plain": [
       "<IPython.lib.display.YouTubeVideo at 0x11279a710>"
      ]
     },
     "execution_count": 32,
     "metadata": {},
     "output_type": "execute_result"
    }
   ],
   "source": [
    "YouTubeVideo(\"v_4KWmkwmsU\")"
   ]
  },
  {
   "cell_type": "markdown",
   "metadata": {},
   "source": [
    "You won't see the above Youtubes appearing if rendering this Jupyter Notebook on Github.  Here's a good place to introduce [nbviewer](https://nbviewer.jupyter.org/)."
   ]
  },
  {
   "cell_type": "markdown",
   "metadata": {},
   "source": [
    "Lets get back to our Human ```e``` and have ```e``` flip that coin quite a few more times.  We're getting into the idea of samples or trials.\n",
    "\n",
    "If the ```random.choice()``` function is truly random, then we expect the number of heads versus tails to even out over time."
   ]
  },
  {
   "cell_type": "code",
   "execution_count": 33,
   "metadata": {},
   "outputs": [],
   "source": [
    "# sorted() is optional\n",
    "flips = sorted([e.flip_a_coin() for _ in range(8)]) # H before T"
   ]
  },
  {
   "cell_type": "code",
   "execution_count": 34,
   "metadata": {},
   "outputs": [
    {
     "data": {
      "text/plain": [
       "['HEADS', 'HEADS', 'HEADS', 'HEADS', 'HEADS', 'HEADS', 'TAILS', 'TAILS']"
      ]
     },
     "execution_count": 34,
     "metadata": {},
     "output_type": "execute_result"
    }
   ],
   "source": [
    "flips"
   ]
  },
  {
   "cell_type": "code",
   "execution_count": 35,
   "metadata": {},
   "outputs": [],
   "source": [
    "from collections import Counter  # tally device\n",
    "\n",
    "trial = Counter(flips)"
   ]
  },
  {
   "cell_type": "code",
   "execution_count": 36,
   "metadata": {},
   "outputs": [
    {
     "data": {
      "text/plain": [
       "Counter({'HEADS': 6, 'TAILS': 2})"
      ]
     },
     "execution_count": 36,
     "metadata": {},
     "output_type": "execute_result"
    }
   ],
   "source": [
    "trial"
   ]
  },
  {
   "cell_type": "markdown",
   "metadata": {},
   "source": [
    "Lets wind up IntroDS001 (this Notebook) by doing N trials featuring a T coin tosses each, and plot the histogram we get of the number of heads.  All heads, or no heads at all, should be the least frequent, right?"
   ]
  },
  {
   "cell_type": "code",
   "execution_count": 37,
   "metadata": {},
   "outputs": [],
   "source": [
    "import matplotlib.pyplot as plt"
   ]
  },
  {
   "cell_type": "code",
   "execution_count": 38,
   "metadata": {},
   "outputs": [],
   "source": [
    "def experiment(N, T):\n",
    "    heads = []\n",
    "    for trial in range(N):\n",
    "        flips = [e.flip_a_coin() for _ in range(T)]\n",
    "        heads.append(flips.count('HEADS'))\n",
    "    return heads\n",
    "\n",
    "trials = 10000\n",
    "tosses = 10\n",
    "data   = experiment(trials, tosses)"
   ]
  },
  {
   "cell_type": "markdown",
   "metadata": {},
   "source": [
    "A lot of the complexity of data science stems as much from the tools used to do the visualizations, as from operating the statistical number crunching machinery."
   ]
  },
  {
   "cell_type": "code",
   "execution_count": 39,
   "metadata": {},
   "outputs": [],
   "source": [
    "%matplotlib inline"
   ]
  },
  {
   "cell_type": "code",
   "execution_count": 40,
   "metadata": {},
   "outputs": [
    {
     "data": {
      "image/png": "[encoded data removed]",
      "text/plain": [
       "<Figure size 288x504 with 1 Axes>"
      ]
     },
     "metadata": {
      "needs_background": "light"
     },
     "output_type": "display_data"
    }
   ],
   "source": [
    "fig  = plt.figure(figsize=(4,7))\n",
    "ax   = plt.subplot('111')  # I will explain\n",
    "rect = ax.patch  # a Rectangle instance\n",
    "rect.set_facecolor('black')\n",
    "\n",
    "plt.title(\"{}'s Coin Tosses\".format(e.name))\n",
    "ax.set_xlabel('Number of Heads')\n",
    "ax.set_ylabel('Frequency in {}'.format(trials))\n",
    "plt.xticks(list(range(tosses+1)))\n",
    "plt.hist(data, \n",
    "         bins=[n - .5 for n in range(tosses+2)], \n",
    "         color=\"orange\");"
   ]
  },
  {
   "cell_type": "markdown",
   "metadata": {},
   "source": [
    "### Black Swan Events\n",
    "\n",
    "We will return often to the inherent unpredictability of events, despite our best efforts to construct models good at predicting. \n",
    "\n",
    "[Nassim Taleb](https://youtu.be/lBjVTm7F1lQ) authored a series of widely read books on this topic. We may also find his presentations on Youtube.\n",
    "\n",
    "With the benefit of hindsight, and our ability to explain what has already occurred, we tend to forget how the future tends to shock us quite a bit (Alvin Toffler).\n",
    "\n",
    "Taleb considers Covid a white swan event, meaning the prospect of another global pandemic has been foreseen for quite some time."
   ]
  },
  {
   "cell_type": "code",
   "execution_count": 41,
   "metadata": {},
   "outputs": [
    {
     "data": {
      "image/jpeg": "[encoded data removed]",
      "text/html": [
       "\n",
       "        <iframe\n",
       "            width=\"400\"\n",
       "            height=\"300\"\n",
       "            src=\"https://www.youtube.com/embed/caPy0OZmXKs\"\n",
       "            frameborder=\"0\"\n",
       "            allowfullscreen\n",
       "        ></iframe>\n",
       "        "
      ],
      "text/plain": [
       "<IPython.lib.display.YouTubeVideo at 0x12376f450>"
      ]
     },
     "execution_count": 41,
     "metadata": {},
     "output_type": "execute_result"
    }
   ],
   "source": [
    "YouTubeVideo(\"caPy0OZmXKs\")"
   ]
  }
 ],
 "metadata": {
  "kernelspec": {
   "display_name": "Python 3",
   "language": "python",
   "name": "python3"
  },
  "language_info": {
   "codemirror_mode": {
    "name": "ipython",
    "version": 3
   },
   "file_extension": ".py",
   "mimetype": "text/x-python",
   "name": "python",
   "nbconvert_exporter": "python",
   "pygments_lexer": "ipython3",
   "version": "3.7.7"
  }
 },
 "nbformat": 4,
 "nbformat_minor": 4
}
