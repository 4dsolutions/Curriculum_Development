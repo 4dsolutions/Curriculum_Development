{
 "cells": [
  {
   "cell_type": "markdown",
   "metadata": {},
   "source": [
    "# Data Visualization Lab\n",
    "\n",
    "Check out [this cool exhibit](https://docs.bokeh.org/en/latest/docs/gallery/slider.html)\n",
    "\n",
    "We're going to look at intereactive widgets (introduced in the Linear Regression Sandbox) and bokeh."
   ]
  },
  {
   "cell_type": "code",
   "execution_count": 29,
   "metadata": {},
   "outputs": [],
   "source": [
    "# at minimum what you'll want from plotting\n",
    "from bokeh.plotting import figure, show\n",
    "\n",
    "# You'll be able to get both output_notebook, and output_file, from bokeh.io\n",
    "from bokeh.io import output_notebook\n",
    "\n",
    "# plus you might need many more of the usual suspects\n",
    "import numpy as np"
   ]
  },
  {
   "cell_type": "code",
   "execution_count": 30,
   "metadata": {},
   "outputs": [
    {
     "data": {
      "text/html": [
       "\n",
       "    <div class=\"bk-root\">\n",
       "        <a href=\"https://bokeh.org\" target=\"_blank\" class=\"bk-logo bk-logo-small bk-logo-notebook\"></a>\n",
       "        <span id=\"2357\">Loading BokehJS ...</span>\n",
       "    </div>"
      ]
     },
     "metadata": {},
     "output_type": "display_data"
    },
    {
     "data": {
      "application/javascript": [
       "\n",
       "(function(root) {\n",
       "  function now() {\n",
       "    return new Date();\n",
       "  }\n",
       "\n",
       "  var force = true;\n",
       "\n",
       "  if (typeof root._bokeh_onload_callbacks === \"undefined\" || force === true) {\n",
       "    root._bokeh_onload_callbacks = [];\n",
       "    root._bokeh_is_loading = undefined;\n",
       "  }\n",
       "\n",
       "  var JS_MIME_TYPE = 'application/javascript';\n",
       "  var HTML_MIME_TYPE = 'text/html';\n",
       "  var EXEC_MIME_TYPE = 'application/vnd.bokehjs_exec.v0+json';\n",
       "  var CLASS_NAME = 'output_bokeh rendered_html';\n",
       "\n",
       "  /**\n",
       "   * Render data to the DOM node\n",
       "   */\n",
       "  function render(props, node) {\n",
       "    var script = document.createElement(\"script\");\n",
       "    node.appendChild(script);\n",
       "  }\n",
       "\n",
       "  /**\n",
       "   * Handle when an output is cleared or removed\n",
       "   */\n",
       "  function handleClearOutput(event, handle) {\n",
       "    var cell = handle.cell;\n",
       "\n",
       "    var id = cell.output_area._bokeh_element_id;\n",
       "    var server_id = cell.output_area._bokeh_server_id;\n",
       "    // Clean up Bokeh references\n",
       "    if (id != null && id in Bokeh.index) {\n",
       "      Bokeh.index[id].model.document.clear();\n",
       "      delete Bokeh.index[id];\n",
       "    }\n",
       "\n",
       "    if (server_id !== undefined) {\n",
       "      // Clean up Bokeh references\n",
       "      var cmd = \"from bokeh.io.state import curstate; print(curstate().uuid_to_server['\" + server_id + \"'].get_sessions()[0].document.roots[0]._id)\";\n",
       "      cell.notebook.kernel.execute(cmd, {\n",
       "        iopub: {\n",
       "          output: function(msg) {\n",
       "            var id = msg.content.text.trim();\n",
       "            if (id in Bokeh.index) {\n",
       "              Bokeh.index[id].model.document.clear();\n",
       "              delete Bokeh.index[id];\n",
       "            }\n",
       "          }\n",
       "        }\n",
       "      });\n",
       "      // Destroy server and session\n",
       "      var cmd = \"import bokeh.io.notebook as ion; ion.destroy_server('\" + server_id + \"')\";\n",
       "      cell.notebook.kernel.execute(cmd);\n",
       "    }\n",
       "  }\n",
       "\n",
       "  /**\n",
       "   * Handle when a new output is added\n",
       "   */\n",
       "  function handleAddOutput(event, handle) {\n",
       "    var output_area = handle.output_area;\n",
       "    var output = handle.output;\n",
       "\n",
       "    // limit handleAddOutput to display_data with EXEC_MIME_TYPE content only\n",
       "    if ((output.output_type != \"display_data\") || (!output.data.hasOwnProperty(EXEC_MIME_TYPE))) {\n",
       "      return\n",
       "    }\n",
       "\n",
       "    var toinsert = output_area.element.find(\".\" + CLASS_NAME.split(' ')[0]);\n",
       "\n",
       "    if (output.metadata[EXEC_MIME_TYPE][\"id\"] !== undefined) {\n",
       "      toinsert[toinsert.length - 1].firstChild.textContent = output.data[JS_MIME_TYPE];\n",
       "      // store reference to embed id on output_area\n",
       "      output_area._bokeh_element_id = output.metadata[EXEC_MIME_TYPE][\"id\"];\n",
       "    }\n",
       "    if (output.metadata[EXEC_MIME_TYPE][\"server_id\"] !== undefined) {\n",
       "      var bk_div = document.createElement(\"div\");\n",
       "      bk_div.innerHTML = output.data[HTML_MIME_TYPE];\n",
       "      var script_attrs = bk_div.children[0].attributes;\n",
       "      for (var i = 0; i < script_attrs.length; i++) {\n",
       "        toinsert[toinsert.length - 1].firstChild.setAttribute(script_attrs[i].name, script_attrs[i].value);\n",
       "        toinsert[toinsert.length - 1].firstChild.textContent = bk_div.children[0].textContent\n",
       "      }\n",
       "      // store reference to server id on output_area\n",
       "      output_area._bokeh_server_id = output.metadata[EXEC_MIME_TYPE][\"server_id\"];\n",
       "    }\n",
       "  }\n",
       "\n",
       "  function register_renderer(events, OutputArea) {\n",
       "\n",
       "    function append_mime(data, metadata, element) {\n",
       "      // create a DOM node to render to\n",
       "      var toinsert = this.create_output_subarea(\n",
       "        metadata,\n",
       "        CLASS_NAME,\n",
       "        EXEC_MIME_TYPE\n",
       "      );\n",
       "      this.keyboard_manager.register_events(toinsert);\n",
       "      // Render to node\n",
       "      var props = {data: data, metadata: metadata[EXEC_MIME_TYPE]};\n",
       "      render(props, toinsert[toinsert.length - 1]);\n",
       "      element.append(toinsert);\n",
       "      return toinsert\n",
       "    }\n",
       "\n",
       "    /* Handle when an output is cleared or removed */\n",
       "    events.on('clear_output.CodeCell', handleClearOutput);\n",
       "    events.on('delete.Cell', handleClearOutput);\n",
       "\n",
       "    /* Handle when a new output is added */\n",
       "    events.on('output_added.OutputArea', handleAddOutput);\n",
       "\n",
       "    /**\n",
       "     * Register the mime type and append_mime function with output_area\n",
       "     */\n",
       "    OutputArea.prototype.register_mime_type(EXEC_MIME_TYPE, append_mime, {\n",
       "      /* Is output safe? */\n",
       "      safe: true,\n",
       "      /* Index of renderer in `output_area.display_order` */\n",
       "      index: 0\n",
       "    });\n",
       "  }\n",
       "\n",
       "  // register the mime type if in Jupyter Notebook environment and previously unregistered\n",
       "  if (root.Jupyter !== undefined) {\n",
       "    var events = require('base/js/events');\n",
       "    var OutputArea = require('notebook/js/outputarea').OutputArea;\n",
       "\n",
       "    if (OutputArea.prototype.mime_types().indexOf(EXEC_MIME_TYPE) == -1) {\n",
       "      register_renderer(events, OutputArea);\n",
       "    }\n",
       "  }\n",
       "\n",
       "  \n",
       "  if (typeof (root._bokeh_timeout) === \"undefined\" || force === true) {\n",
       "    root._bokeh_timeout = Date.now() + 5000;\n",
       "    root._bokeh_failed_load = false;\n",
       "  }\n",
       "\n",
       "  var NB_LOAD_WARNING = {'data': {'text/html':\n",
       "     \"<div style='background-color: #fdd'>\\n\"+\n",
       "     \"<p>\\n\"+\n",
       "     \"BokehJS does not appear to have successfully loaded. If loading BokehJS from CDN, this \\n\"+\n",
       "     \"may be due to a slow or bad network connection. Possible fixes:\\n\"+\n",
       "     \"</p>\\n\"+\n",
       "     \"<ul>\\n\"+\n",
       "     \"<li>re-rerun `output_notebook()` to attempt to load from CDN again, or</li>\\n\"+\n",
       "     \"<li>use INLINE resources instead, as so:</li>\\n\"+\n",
       "     \"</ul>\\n\"+\n",
       "     \"<code>\\n\"+\n",
       "     \"from bokeh.resources import INLINE\\n\"+\n",
       "     \"output_notebook(resources=INLINE)\\n\"+\n",
       "     \"</code>\\n\"+\n",
       "     \"</div>\"}};\n",
       "\n",
       "  function display_loaded() {\n",
       "    var el = document.getElementById(\"2357\");\n",
       "    if (el != null) {\n",
       "      el.textContent = \"BokehJS is loading...\";\n",
       "    }\n",
       "    if (root.Bokeh !== undefined) {\n",
       "      if (el != null) {\n",
       "        el.textContent = \"BokehJS \" + root.Bokeh.version + \" successfully loaded.\";\n",
       "      }\n",
       "    } else if (Date.now() < root._bokeh_timeout) {\n",
       "      setTimeout(display_loaded, 100)\n",
       "    }\n",
       "  }\n",
       "\n",
       "\n",
       "  function run_callbacks() {\n",
       "    try {\n",
       "      root._bokeh_onload_callbacks.forEach(function(callback) {\n",
       "        if (callback != null)\n",
       "          callback();\n",
       "      });\n",
       "    } finally {\n",
       "      delete root._bokeh_onload_callbacks\n",
       "    }\n",
       "    console.debug(\"Bokeh: all callbacks have finished\");\n",
       "  }\n",
       "\n",
       "  function load_libs(css_urls, js_urls, callback) {\n",
       "    if (css_urls == null) css_urls = [];\n",
       "    if (js_urls == null) js_urls = [];\n",
       "\n",
       "    root._bokeh_onload_callbacks.push(callback);\n",
       "    if (root._bokeh_is_loading > 0) {\n",
       "      console.debug(\"Bokeh: BokehJS is being loaded, scheduling callback at\", now());\n",
       "      return null;\n",
       "    }\n",
       "    if (js_urls == null || js_urls.length === 0) {\n",
       "      run_callbacks();\n",
       "      return null;\n",
       "    }\n",
       "    console.debug(\"Bokeh: BokehJS not loaded, scheduling load and callback at\", now());\n",
       "    root._bokeh_is_loading = css_urls.length + js_urls.length;\n",
       "\n",
       "    function on_load() {\n",
       "      root._bokeh_is_loading--;\n",
       "      if (root._bokeh_is_loading === 0) {\n",
       "        console.debug(\"Bokeh: all BokehJS libraries/stylesheets loaded\");\n",
       "        run_callbacks()\n",
       "      }\n",
       "    }\n",
       "\n",
       "    function on_error() {\n",
       "      console.error(\"failed to load \" + url);\n",
       "    }\n",
       "\n",
       "    for (var i = 0; i < css_urls.length; i++) {\n",
       "      var url = css_urls[i];\n",
       "      const element = document.createElement(\"link\");\n",
       "      element.onload = on_load;\n",
       "      element.onerror = on_error;\n",
       "      element.rel = \"stylesheet\";\n",
       "      element.type = \"text/css\";\n",
       "      element.href = url;\n",
       "      console.debug(\"Bokeh: injecting link tag for BokehJS stylesheet: \", url);\n",
       "      document.body.appendChild(element);\n",
       "    }\n",
       "\n",
       "    const hashes = {\"https://cdn.bokeh.org/bokeh/release/bokeh-2.0.2.min.js\": \"ufR9RFnRs6lniiaFvtJziE0YeidtAgBRH6ux2oUItHw5WTvE1zuk9uzhUU/FJXDp\", \"https://cdn.bokeh.org/bokeh/release/bokeh-widgets-2.0.2.min.js\": \"8QM/PGWBT+IssZuRcDcjzwIh1mkOmJSoNMmyYDZbCfXJg3Ap1lEvdVgFuSAwhb/J\", \"https://cdn.bokeh.org/bokeh/release/bokeh-tables-2.0.2.min.js\": \"Jm8cH3Rg0P6UeZhVY5cLy1WzKajUT9KImCY+76hEqrcJt59/d8GPvFHjCkYgnSIn\", \"https://cdn.bokeh.org/bokeh/release/bokeh-gl-2.0.2.min.js\": \"Ozhzj+SI7ywm74aOI/UajcWz+C0NjsPunEVyVIrxzYkB+jA+2tUw8x5xJCbVtK5I\"};\n",
       "\n",
       "    for (var i = 0; i < js_urls.length; i++) {\n",
       "      var url = js_urls[i];\n",
       "      var element = document.createElement('script');\n",
       "      element.onload = on_load;\n",
       "      element.onerror = on_error;\n",
       "      element.async = false;\n",
       "      element.src = url;\n",
       "      if (url in hashes) {\n",
       "        element.crossOrigin = \"anonymous\";\n",
       "        element.integrity = \"sha384-\" + hashes[url];\n",
       "      }\n",
       "      console.debug(\"Bokeh: injecting script tag for BokehJS library: \", url);\n",
       "      document.head.appendChild(element);\n",
       "    }\n",
       "  };\n",
       "\n",
       "  function inject_raw_css(css) {\n",
       "    const element = document.createElement(\"style\");\n",
       "    element.appendChild(document.createTextNode(css));\n",
       "    document.body.appendChild(element);\n",
       "  }\n",
       "\n",
       "  \n",
       "  var js_urls = [\"https://cdn.bokeh.org/bokeh/release/bokeh-2.0.2.min.js\", \"https://cdn.bokeh.org/bokeh/release/bokeh-widgets-2.0.2.min.js\", \"https://cdn.bokeh.org/bokeh/release/bokeh-tables-2.0.2.min.js\", \"https://cdn.bokeh.org/bokeh/release/bokeh-gl-2.0.2.min.js\"];\n",
       "  var css_urls = [];\n",
       "  \n",
       "\n",
       "  var inline_js = [\n",
       "    function(Bokeh) {\n",
       "      Bokeh.set_log_level(\"info\");\n",
       "    },\n",
       "    function(Bokeh) {\n",
       "    \n",
       "    \n",
       "    }\n",
       "  ];\n",
       "\n",
       "  function run_inline_js() {\n",
       "    \n",
       "    if (root.Bokeh !== undefined || force === true) {\n",
       "      \n",
       "    for (var i = 0; i < inline_js.length; i++) {\n",
       "      inline_js[i].call(root, root.Bokeh);\n",
       "    }\n",
       "    if (force === true) {\n",
       "        display_loaded();\n",
       "      }} else if (Date.now() < root._bokeh_timeout) {\n",
       "      setTimeout(run_inline_js, 100);\n",
       "    } else if (!root._bokeh_failed_load) {\n",
       "      console.log(\"Bokeh: BokehJS failed to load within specified timeout.\");\n",
       "      root._bokeh_failed_load = true;\n",
       "    } else if (force !== true) {\n",
       "      var cell = $(document.getElementById(\"2357\")).parents('.cell').data().cell;\n",
       "      cell.output_area.append_execute_result(NB_LOAD_WARNING)\n",
       "    }\n",
       "\n",
       "  }\n",
       "\n",
       "  if (root._bokeh_is_loading === 0) {\n",
       "    console.debug(\"Bokeh: BokehJS loaded, going straight to plotting\");\n",
       "    run_inline_js();\n",
       "  } else {\n",
       "    load_libs(css_urls, js_urls, function() {\n",
       "      console.debug(\"Bokeh: BokehJS plotting callback run at\", now());\n",
       "      run_inline_js();\n",
       "    });\n",
       "  }\n",
       "}(window));"
      ],
      "application/vnd.bokehjs_load.v0+json": "\n(function(root) {\n  function now() {\n    return new Date();\n  }\n\n  var force = true;\n\n  if (typeof root._bokeh_onload_callbacks === \"undefined\" || force === true) {\n    root._bokeh_onload_callbacks = [];\n    root._bokeh_is_loading = undefined;\n  }\n\n  \n\n  \n  if (typeof (root._bokeh_timeout) === \"undefined\" || force === true) {\n    root._bokeh_timeout = Date.now() + 5000;\n    root._bokeh_failed_load = false;\n  }\n\n  var NB_LOAD_WARNING = {'data': {'text/html':\n     \"<div style='background-color: #fdd'>\\n\"+\n     \"<p>\\n\"+\n     \"BokehJS does not appear to have successfully loaded. If loading BokehJS from CDN, this \\n\"+\n     \"may be due to a slow or bad network connection. Possible fixes:\\n\"+\n     \"</p>\\n\"+\n     \"<ul>\\n\"+\n     \"<li>re-rerun `output_notebook()` to attempt to load from CDN again, or</li>\\n\"+\n     \"<li>use INLINE resources instead, as so:</li>\\n\"+\n     \"</ul>\\n\"+\n     \"<code>\\n\"+\n     \"from bokeh.resources import INLINE\\n\"+\n     \"output_notebook(resources=INLINE)\\n\"+\n     \"</code>\\n\"+\n     \"</div>\"}};\n\n  function display_loaded() {\n    var el = document.getElementById(\"2357\");\n    if (el != null) {\n      el.textContent = \"BokehJS is loading...\";\n    }\n    if (root.Bokeh !== undefined) {\n      if (el != null) {\n        el.textContent = \"BokehJS \" + root.Bokeh.version + \" successfully loaded.\";\n      }\n    } else if (Date.now() < root._bokeh_timeout) {\n      setTimeout(display_loaded, 100)\n    }\n  }\n\n\n  function run_callbacks() {\n    try {\n      root._bokeh_onload_callbacks.forEach(function(callback) {\n        if (callback != null)\n          callback();\n      });\n    } finally {\n      delete root._bokeh_onload_callbacks\n    }\n    console.debug(\"Bokeh: all callbacks have finished\");\n  }\n\n  function load_libs(css_urls, js_urls, callback) {\n    if (css_urls == null) css_urls = [];\n    if (js_urls == null) js_urls = [];\n\n    root._bokeh_onload_callbacks.push(callback);\n    if (root._bokeh_is_loading > 0) {\n      console.debug(\"Bokeh: BokehJS is being loaded, scheduling callback at\", now());\n      return null;\n    }\n    if (js_urls == null || js_urls.length === 0) {\n      run_callbacks();\n      return null;\n    }\n    console.debug(\"Bokeh: BokehJS not loaded, scheduling load and callback at\", now());\n    root._bokeh_is_loading = css_urls.length + js_urls.length;\n\n    function on_load() {\n      root._bokeh_is_loading--;\n      if (root._bokeh_is_loading === 0) {\n        console.debug(\"Bokeh: all BokehJS libraries/stylesheets loaded\");\n        run_callbacks()\n      }\n    }\n\n    function on_error() {\n      console.error(\"failed to load \" + url);\n    }\n\n    for (var i = 0; i < css_urls.length; i++) {\n      var url = css_urls[i];\n      const element = document.createElement(\"link\");\n      element.onload = on_load;\n      element.onerror = on_error;\n      element.rel = \"stylesheet\";\n      element.type = \"text/css\";\n      element.href = url;\n      console.debug(\"Bokeh: injecting link tag for BokehJS stylesheet: \", url);\n      document.body.appendChild(element);\n    }\n\n    const hashes = {\"https://cdn.bokeh.org/bokeh/release/bokeh-2.0.2.min.js\": \"ufR9RFnRs6lniiaFvtJziE0YeidtAgBRH6ux2oUItHw5WTvE1zuk9uzhUU/FJXDp\", \"https://cdn.bokeh.org/bokeh/release/bokeh-widgets-2.0.2.min.js\": \"8QM/PGWBT+IssZuRcDcjzwIh1mkOmJSoNMmyYDZbCfXJg3Ap1lEvdVgFuSAwhb/J\", \"https://cdn.bokeh.org/bokeh/release/bokeh-tables-2.0.2.min.js\": \"Jm8cH3Rg0P6UeZhVY5cLy1WzKajUT9KImCY+76hEqrcJt59/d8GPvFHjCkYgnSIn\", \"https://cdn.bokeh.org/bokeh/release/bokeh-gl-2.0.2.min.js\": \"Ozhzj+SI7ywm74aOI/UajcWz+C0NjsPunEVyVIrxzYkB+jA+2tUw8x5xJCbVtK5I\"};\n\n    for (var i = 0; i < js_urls.length; i++) {\n      var url = js_urls[i];\n      var element = document.createElement('script');\n      element.onload = on_load;\n      element.onerror = on_error;\n      element.async = false;\n      element.src = url;\n      if (url in hashes) {\n        element.crossOrigin = \"anonymous\";\n        element.integrity = \"sha384-\" + hashes[url];\n      }\n      console.debug(\"Bokeh: injecting script tag for BokehJS library: \", url);\n      document.head.appendChild(element);\n    }\n  };\n\n  function inject_raw_css(css) {\n    const element = document.createElement(\"style\");\n    element.appendChild(document.createTextNode(css));\n    document.body.appendChild(element);\n  }\n\n  \n  var js_urls = [\"https://cdn.bokeh.org/bokeh/release/bokeh-2.0.2.min.js\", \"https://cdn.bokeh.org/bokeh/release/bokeh-widgets-2.0.2.min.js\", \"https://cdn.bokeh.org/bokeh/release/bokeh-tables-2.0.2.min.js\", \"https://cdn.bokeh.org/bokeh/release/bokeh-gl-2.0.2.min.js\"];\n  var css_urls = [];\n  \n\n  var inline_js = [\n    function(Bokeh) {\n      Bokeh.set_log_level(\"info\");\n    },\n    function(Bokeh) {\n    \n    \n    }\n  ];\n\n  function run_inline_js() {\n    \n    if (root.Bokeh !== undefined || force === true) {\n      \n    for (var i = 0; i < inline_js.length; i++) {\n      inline_js[i].call(root, root.Bokeh);\n    }\n    if (force === true) {\n        display_loaded();\n      }} else if (Date.now() < root._bokeh_timeout) {\n      setTimeout(run_inline_js, 100);\n    } else if (!root._bokeh_failed_load) {\n      console.log(\"Bokeh: BokehJS failed to load within specified timeout.\");\n      root._bokeh_failed_load = true;\n    } else if (force !== true) {\n      var cell = $(document.getElementById(\"2357\")).parents('.cell').data().cell;\n      cell.output_area.append_execute_result(NB_LOAD_WARNING)\n    }\n\n  }\n\n  if (root._bokeh_is_loading === 0) {\n    console.debug(\"Bokeh: BokehJS loaded, going straight to plotting\");\n    run_inline_js();\n  } else {\n    load_libs(css_urls, js_urls, function() {\n      console.debug(\"Bokeh: BokehJS plotting callback run at\", now());\n      run_inline_js();\n    });\n  }\n}(window));"
     },
     "metadata": {},
     "output_type": "display_data"
    }
   ],
   "source": [
    "output_notebook()  # don't forget this step.  You need to run, not just import, output_notebook"
   ]
  },
  {
   "cell_type": "markdown",
   "metadata": {},
   "source": [
    "Is Github not showing the graphics?  [Remember nbviewer](https://nbviewer.jupyter.org/github/4dsolutions/Curriculum_Development/blob/master/VisualizationLab.ipynb) in that case?\n",
    "\n",
    "Bokeh has the ability to serve its own AJAX documents, by translating the Python programs into the corresponding JavaScript.  [Check here](https://docs.bokeh.org/en/latest/docs/installation.html) about installation.  \n",
    "\n",
    "A typical OS shell scenario would be (with conda already installed):\n",
    "\n",
    "```bash\n",
    "conda install bokeh  \n",
    "\n",
    "jupyter labextension install @jupyter-widgets/jupyterlab-manager\n",
    "\n",
    "jupyter labextension install @bokeh/jupyter_bokeh\n",
    "```\n",
    "\n",
    "A Bokeh live document or single page application, might serve as a dashboard that updates itself in real time."
   ]
  },
  {
   "cell_type": "markdown",
   "metadata": {},
   "source": [
    "I was excited to get this far, given my abortive attempt with geopandas (my computer was not beefy enough).  Maybe I can get back to plotting airports using lat/long."
   ]
  },
  {
   "cell_type": "code",
   "execution_count": 31,
   "metadata": {},
   "outputs": [
    {
     "data": {
      "text/html": [
       "\n",
       "\n",
       "\n",
       "\n",
       "\n",
       "\n",
       "  <div class=\"bk-root\" id=\"d8e572f3-359a-42ed-b666-da881b9d0ad9\" data-root-id=\"2359\"></div>\n"
      ]
     },
     "metadata": {},
     "output_type": "display_data"
    },
    {
     "data": {
      "application/javascript": [
       "(function(root) {\n",
       "  function embed_document(root) {\n",
       "    \n",
       "  var docs_json = {\"d7ea0837-b39c-4907-84bc-ee51ad4ab443\":{\"roots\":{\"references\":[{\"attributes\":{\"below\":[{\"id\":\"2368\"}],\"center\":[{\"id\":\"2375\"},{\"id\":\"2383\"}],\"left\":[{\"id\":\"2376\"}],\"renderers\":[{\"id\":\"2398\"}],\"title\":{\"id\":\"2479\"},\"toolbar\":{\"id\":\"2391\"},\"x_range\":{\"id\":\"2360\"},\"x_scale\":{\"id\":\"2364\"},\"y_range\":{\"id\":\"2362\"},\"y_scale\":{\"id\":\"2366\"}},\"id\":\"2359\",\"subtype\":\"Figure\",\"type\":\"Plot\"},{\"attributes\":{\"text\":\"\"},\"id\":\"2479\",\"type\":\"Title\"},{\"attributes\":{\"axis\":{\"id\":\"2376\"},\"dimension\":1,\"ticker\":null},\"id\":\"2383\",\"type\":\"Grid\"},{\"attributes\":{},\"id\":\"2385\",\"type\":\"WheelZoomTool\"},{\"attributes\":{},\"id\":\"2387\",\"type\":\"SaveTool\"},{\"attributes\":{\"overlay\":{\"id\":\"2390\"}},\"id\":\"2386\",\"type\":\"BoxZoomTool\"},{\"attributes\":{\"bottom_units\":\"screen\",\"fill_alpha\":0.5,\"fill_color\":\"lightgrey\",\"left_units\":\"screen\",\"level\":\"overlay\",\"line_alpha\":1.0,\"line_color\":\"black\",\"line_dash\":[4,4],\"line_width\":2,\"render_mode\":\"css\",\"right_units\":\"screen\",\"top_units\":\"screen\"},\"id\":\"2390\",\"type\":\"BoxAnnotation\"},{\"attributes\":{},\"id\":\"2364\",\"type\":\"LinearScale\"},{\"attributes\":{},\"id\":\"2388\",\"type\":\"ResetTool\"},{\"attributes\":{\"active_drag\":\"auto\",\"active_inspect\":\"auto\",\"active_multi\":null,\"active_scroll\":\"auto\",\"active_tap\":\"auto\",\"tools\":[{\"id\":\"2384\"},{\"id\":\"2385\"},{\"id\":\"2386\"},{\"id\":\"2387\"},{\"id\":\"2388\"},{\"id\":\"2389\"}]},\"id\":\"2391\",\"type\":\"Toolbar\"},{\"attributes\":{\"tile_source\":{\"id\":\"2358\"}},\"id\":\"2398\",\"type\":\"TileRenderer\"},{\"attributes\":{},\"id\":\"2389\",\"type\":\"HelpTool\"},{\"attributes\":{\"end\":7000000,\"start\":-1000000},\"id\":\"2362\",\"type\":\"Range1d\"},{\"attributes\":{\"dimension\":\"lon\"},\"id\":\"2369\",\"type\":\"MercatorTicker\"},{\"attributes\":{\"dimension\":\"lat\"},\"id\":\"2379\",\"type\":\"MercatorTickFormatter\"},{\"attributes\":{},\"id\":\"2384\",\"type\":\"PanTool\"},{\"attributes\":{\"dimension\":\"lon\"},\"id\":\"2371\",\"type\":\"MercatorTickFormatter\"},{\"attributes\":{\"formatter\":{\"id\":\"2371\"},\"ticker\":{\"id\":\"2369\"}},\"id\":\"2368\",\"type\":\"MercatorAxis\"},{\"attributes\":{\"dimension\":\"lat\"},\"id\":\"2377\",\"type\":\"MercatorTicker\"},{\"attributes\":{},\"id\":\"2366\",\"type\":\"LinearScale\"},{\"attributes\":{\"formatter\":{\"id\":\"2379\"},\"ticker\":{\"id\":\"2377\"}},\"id\":\"2376\",\"type\":\"MercatorAxis\"},{\"attributes\":{\"attribution\":\"&copy; <a href=\\\"http://downloads.esri.com/ArcGISOnline/docs/tou_summary.pdf\\\">Esri</a>, Earthstar Geographics\",\"url\":\"https://server.arcgisonline.com/ArcGIS/rest/services/World_Imagery/MapServer/tile/{Z}/{Y}/{X}.jpg\"},\"id\":\"2358\",\"type\":\"WMTSTileSource\"},{\"attributes\":{\"end\":6000000,\"start\":-2000000},\"id\":\"2360\",\"type\":\"Range1d\"},{\"attributes\":{\"axis\":{\"id\":\"2368\"},\"ticker\":null},\"id\":\"2375\",\"type\":\"Grid\"}],\"root_ids\":[\"2359\"]},\"title\":\"Bokeh Application\",\"version\":\"2.0.2\"}};\n",
       "  var render_items = [{\"docid\":\"d7ea0837-b39c-4907-84bc-ee51ad4ab443\",\"root_ids\":[\"2359\"],\"roots\":{\"2359\":\"d8e572f3-359a-42ed-b666-da881b9d0ad9\"}}];\n",
       "  root.Bokeh.embed.embed_items_notebook(docs_json, render_items);\n",
       "\n",
       "  }\n",
       "  if (root.Bokeh !== undefined) {\n",
       "    embed_document(root);\n",
       "  } else {\n",
       "    var attempts = 0;\n",
       "    var timer = setInterval(function(root) {\n",
       "      if (root.Bokeh !== undefined) {\n",
       "        clearInterval(timer);\n",
       "        embed_document(root);\n",
       "      } else {\n",
       "        attempts++;\n",
       "        if (attempts > 100) {\n",
       "          clearInterval(timer);\n",
       "          console.log(\"Bokeh: ERROR: Unable to run BokehJS code because BokehJS library is missing\");\n",
       "        }\n",
       "      }\n",
       "    }, 10, root)\n",
       "  }\n",
       "})(window);"
      ],
      "application/vnd.bokehjs_exec.v0+json": ""
     },
     "metadata": {
      "application/vnd.bokehjs_exec.v0+json": {
       "id": "2359"
      }
     },
     "output_type": "display_data"
    }
   ],
   "source": [
    "from bokeh.tile_providers import ESRI_IMAGERY, get_provider\n",
    "\n",
    "tile_provider = get_provider(ESRI_IMAGERY)\n",
    "\n",
    "# range bounds supplied in web mercator coordinates\n",
    "p = figure(x_range=(-2000000, 6000000), y_range=(-1000000, 7000000),\n",
    "           x_axis_type=\"mercator\", y_axis_type=\"mercator\")\n",
    "p.add_tile(tile_provider)\n",
    "\n",
    "show(p)"
   ]
  },
  {
   "cell_type": "code",
   "execution_count": 32,
   "metadata": {},
   "outputs": [],
   "source": [
    "def f(x):\n",
    "    \"\"\"\n",
    "    Try different functions here.  You're back in high school\n",
    "    and this is your graphing calculator.\n",
    "    \"\"\"\n",
    "    return x**3 - 15*x**2 + 10 # some polynomial\n",
    "\n",
    "x = np.linspace(-10, 20, 100)\n",
    "y = f(x)"
   ]
  },
  {
   "cell_type": "code",
   "execution_count": 33,
   "metadata": {},
   "outputs": [
    {
     "data": {
      "text/html": [
       "\n",
       "\n",
       "\n",
       "\n",
       "\n",
       "\n",
       "  <div class=\"bk-root\" id=\"eaa6d136-630f-44cf-8ece-f071d6db826f\" data-root-id=\"2528\"></div>\n"
      ]
     },
     "metadata": {},
     "output_type": "display_data"
    },
    {
     "data": {
      "application/javascript": [
       "(function(root) {\n",
       "  function embed_document(root) {\n",
       "    \n",
       "  var docs_json = {\"cf7671ff-70e7-4f58-95a4-01f7ee75f9f6\":{\"roots\":{\"references\":[{\"attributes\":{\"below\":[{\"id\":\"2539\"}],\"center\":[{\"id\":\"2542\"},{\"id\":\"2546\"}],\"left\":[{\"id\":\"2543\"}],\"plot_height\":400,\"plot_width\":400,\"renderers\":[{\"id\":\"2553\"}],\"title\":{\"id\":\"2529\"},\"toolbar\":{\"id\":\"2548\"},\"x_range\":{\"id\":\"2531\"},\"x_scale\":{\"id\":\"2535\"},\"y_range\":{\"id\":\"2533\"},\"y_scale\":{\"id\":\"2537\"}},\"id\":\"2528\",\"subtype\":\"Figure\",\"type\":\"Plot\"},{\"attributes\":{},\"id\":\"2547\",\"type\":\"SaveTool\"},{\"attributes\":{},\"id\":\"2537\",\"type\":\"LinearScale\"},{\"attributes\":{\"line_color\":\"orange\",\"line_width\":3,\"x\":{\"field\":\"x\"},\"y\":{\"field\":\"y\"}},\"id\":\"2551\",\"type\":\"Line\"},{\"attributes\":{\"source\":{\"id\":\"2550\"}},\"id\":\"2554\",\"type\":\"CDSView\"},{\"attributes\":{},\"id\":\"2645\",\"type\":\"BasicTickFormatter\"},{\"attributes\":{},\"id\":\"2535\",\"type\":\"LinearScale\"},{\"attributes\":{},\"id\":\"2646\",\"type\":\"Selection\"},{\"attributes\":{},\"id\":\"2544\",\"type\":\"BasicTicker\"},{\"attributes\":{\"axis_label\":\"x\",\"formatter\":{\"id\":\"2645\"},\"ticker\":{\"id\":\"2540\"}},\"id\":\"2539\",\"type\":\"LinearAxis\"},{\"attributes\":{\"active_drag\":\"auto\",\"active_inspect\":\"auto\",\"active_multi\":null,\"active_scroll\":\"auto\",\"active_tap\":\"auto\",\"tools\":[{\"id\":\"2547\"}]},\"id\":\"2548\",\"type\":\"Toolbar\"},{\"attributes\":{},\"id\":\"2647\",\"type\":\"UnionRenderers\"},{\"attributes\":{},\"id\":\"2540\",\"type\":\"BasicTicker\"},{\"attributes\":{\"axis\":{\"id\":\"2543\"},\"dimension\":1,\"ticker\":null},\"id\":\"2546\",\"type\":\"Grid\"},{\"attributes\":{},\"id\":\"2643\",\"type\":\"BasicTickFormatter\"},{\"attributes\":{\"axis_label\":\"y\",\"formatter\":{\"id\":\"2643\"},\"ticker\":{\"id\":\"2544\"}},\"id\":\"2543\",\"type\":\"LinearAxis\"},{\"attributes\":{\"data_source\":{\"id\":\"2550\"},\"glyph\":{\"id\":\"2551\"},\"hover_glyph\":null,\"muted_glyph\":null,\"nonselection_glyph\":{\"id\":\"2552\"},\"selection_glyph\":null,\"view\":{\"id\":\"2554\"}},\"id\":\"2553\",\"type\":\"GlyphRenderer\"},{\"attributes\":{\"data\":{\"x\":{\"__ndarray__\":\"AAAAAAAAJMBlk0022WQjwMomm2yyySLALrrooosuIsCTTTbZZJMhwPjggw8++CDAXXTRRRddIMCEDz744IMfwE422WSTTR7AF1100UUXHcDhgw8++OAbwKqqqqqqqhrAdNFFF110GcA++OCDDz4YwAgffPDBBxfA0UUXXXTRFcCbbLLJJpsUwGWTTTbZZBPALrrooosuEsD44IMPPvgQwIQPPvjggw/AFl100UUXDcCqqqqqqqoKwD744IMPPgjA0EUXXXTRBcBkk0022WQDwPjggw8++ADAGF100UUX/b9A+OCDDz74v2CTTTbZZPO/EF100UUX7b9gk0022WTjv2CTTTbZZNO/AAAAAAAAAABgk0022WTTP2CTTTbZZOM/IF100UUX7T9ok0022WTzP0D44IMPPvg/GF100UUX/T/44IMPPvgAQGSTTTbZZANA1EUXXXTRBUBA+OCDDz4IQKyqqqqqqgpAGF100UUXDUCEDz744IMPQPjggw8++BBAMLrooosuEkBmk0022WQTQJxssskmmxRA0kUXXXTRFUAIH3zwwQcXQED44IMPPhhAdNFFF110GUCsqqqqqqoaQOCDDz744BtAGF100UUXHUBQNtlkk00eQIQPPvjggx9AXnTRRRddIED44IMPPvggQJRNNtlkkyFALrrooosuIkDKJptssskiQGaTTTbZZCNAAAAAAAAAJECcbLLJJpskQDbZZJNNNiVA0kUXXXTRJUBssskmm2wmQAgffPDBBydApIsuuuiiJ0A++OCDDz4oQNpkk0022ShAdNFFF110KUAQPvjggw8qQKyqqqqqqipARhdddNFFK0Digw8++OArQHzwwQcffCxAGF100UUXLUCyySabbLItQE422WSTTS5A6qKLLrroLkCEDz744IMvQBA++OCDDzBAXXTRRRddMECrqqqqqqowQPjggw8++DBARhdddNFFMUCUTTbZZJMxQOGDDz744DFAL7rooosuMkB88MEHH3wyQMomm2yyyTJAGF100UUXM0Blk0022WQzQLPJJptssjNAAAAAAAAANEA=\",\"dtype\":\"float64\",\"shape\":[100]},\"y\":{\"__ndarray__\":\"AAAAAAB0o8CN+NWLkhCiwEAdtgNXvaDAFnb+1+/znsDFPSCSP4ycwG4rjz7yQprA9NgI5lwXmMA84EqR1AiWwCvbEkmuFpTAoWMeFj9AksCGEysB3ISQwHkJ7SW0x43AVKJ8qBy5isBiJYCbm9yHwGzGchDbMIXAOLnPGIW0gsCQMRLGQ2aAwHvGalOCiXzACARpqk6deMBggxW0QAV1wBCsZpOsvnHAScul1syNbcBmL6G9hDZowJJTrCEpcmPA1A1okcR2XsAoMUrxsBlXwFqv2O5nwlDAU03aK3TMRsBc1YTJ3+k7wO7Mc4CQoyvAHDnSWR8vCcDcPk4YLBIRQDFKksiEMCFAAAAAAAAAJEDbTqNTA00hQIKJXskU2hJAOINIXXlT+r9yojK87YMkwLwx3dX69DTAXVFD1sLJQMCZDr7IbPlHwBQNEloc9E/Ar0T5UDlSVMDrXwlciPpYwIb2EtpL6F3AYtN3K2qIYcBuhzwvuTRkwIxmRD6782bA3j98nhjAacB84tCVeZRswIgdL2qGa2/AE+DBsPMfccC7zN1gIoZywEq8YWij5XPATxZE6so7dcBfQnsJ7YV2wASo/ehdwXfA1q7Bq3HreMBgvr10fAF6wCs+6GbSAHvA2JU3pcfme8DiLKJSsLB8wOxqHpLgW33AereihqzlfcAmeiVTaEt+wHganRpoin7AAAAAAACgfsBQkkQmhIl+wPg4YbBIRH7AjFtMwaHNfcCcYfx74yJ9wLCyZwNiQXzAVLaEenEme8Ao1EkEZs95wLBzrcOTOXjAiPyl205idsAw1ilv60Z0wEBoL6G95HHAwDRaKTNybsDgpzLZpoJowDD51Jd+9WHAwO9bVsWKVcCAmFPJ2mc3wEAZI2E8ZEZAAMp9xiikXUDAGctBbMNoQMBKADc3uXFAoET5UDlyd0DwEtpLaI99QBAnVgK4CYJASMc8LH6AhUBgtiWSXC2JQIDAlSKpEY1A+NgI5lyXkEBwK48+8sKSQMg9IJI/DJVAHHb+1+9zl0CAOmwHrvqZQCDxqxcloZxAAAAAAABon0A=\",\"dtype\":\"float64\",\"shape\":[100]}},\"selected\":{\"id\":\"2646\"},\"selection_policy\":{\"id\":\"2647\"}},\"id\":\"2550\",\"type\":\"ColumnDataSource\"},{\"attributes\":{\"axis\":{\"id\":\"2539\"},\"ticker\":null},\"id\":\"2542\",\"type\":\"Grid\"},{\"attributes\":{},\"id\":\"2531\",\"type\":\"DataRange1d\"},{\"attributes\":{\"line_alpha\":0.1,\"line_color\":\"orange\",\"line_width\":3,\"x\":{\"field\":\"x\"},\"y\":{\"field\":\"y\"}},\"id\":\"2552\",\"type\":\"Line\"},{\"attributes\":{\"align\":\"center\",\"text\":\"Curvy Curve!\"},\"id\":\"2529\",\"type\":\"Title\"},{\"attributes\":{},\"id\":\"2533\",\"type\":\"DataRange1d\"}],\"root_ids\":[\"2528\"]},\"title\":\"Bokeh Application\",\"version\":\"2.0.2\"}};\n",
       "  var render_items = [{\"docid\":\"cf7671ff-70e7-4f58-95a4-01f7ee75f9f6\",\"root_ids\":[\"2528\"],\"roots\":{\"2528\":\"eaa6d136-630f-44cf-8ece-f071d6db826f\"}}];\n",
       "  root.Bokeh.embed.embed_items_notebook(docs_json, render_items);\n",
       "\n",
       "  }\n",
       "  if (root.Bokeh !== undefined) {\n",
       "    embed_document(root);\n",
       "  } else {\n",
       "    var attempts = 0;\n",
       "    var timer = setInterval(function(root) {\n",
       "      if (root.Bokeh !== undefined) {\n",
       "        clearInterval(timer);\n",
       "        embed_document(root);\n",
       "      } else {\n",
       "        attempts++;\n",
       "        if (attempts > 100) {\n",
       "          clearInterval(timer);\n",
       "          console.log(\"Bokeh: ERROR: Unable to run BokehJS code because BokehJS library is missing\");\n",
       "        }\n",
       "      }\n",
       "    }, 10, root)\n",
       "  }\n",
       "})(window);"
      ],
      "application/vnd.bokehjs_exec.v0+json": ""
     },
     "metadata": {
      "application/vnd.bokehjs_exec.v0+json": {
       "id": "2528"
      }
     },
     "output_type": "display_data"
    }
   ],
   "source": [
    "def plot_me(var):\n",
    "    p = figure(width=400, height=400, title=\"Curvy Curve!\", tools=[\"save\"])\n",
    "    p.title.align = \"center\"\n",
    "    p.xaxis.axis_label = \"x\"\n",
    "    p.yaxis.axis_label = \"y\"\n",
    "    p.line(x, y, line_width=var, line_color=\"orange\")\n",
    "    show(p)\n",
    "    \n",
    "plot_me(3)"
   ]
  },
  {
   "cell_type": "markdown",
   "metadata": {},
   "source": [
    "The locution below is somewhat perverse in that we have no reason, in the flow of this Notebook, to expect an rng (random number generator) to already be in the global namespace. This kind of code will use such a global, if it already exists, or create it as a global if it doesn't."
   ]
  },
  {
   "cell_type": "code",
   "execution_count": 34,
   "metadata": {},
   "outputs": [],
   "source": [
    "def rand_array(n):\n",
    "    global rng\n",
    "    while True:\n",
    "        try:\n",
    "            return rng.integers(1, 100, size = n)\n",
    "        except NameError:\n",
    "            rng = np.random.default_rng(42)\n",
    "            continue\n",
    "        except:\n",
    "            break\n",
    "\n",
    "x = rand_array(100)\n",
    "y = rand_array(100)"
   ]
  },
  {
   "cell_type": "code",
   "execution_count": 35,
   "metadata": {},
   "outputs": [
    {
     "data": {
      "text/html": [
       "\n",
       "\n",
       "\n",
       "\n",
       "\n",
       "\n",
       "  <div class=\"bk-root\" id=\"85daf7d0-e4b4-403a-887c-2c71026abaa1\" data-root-id=\"2690\"></div>\n"
      ]
     },
     "metadata": {},
     "output_type": "display_data"
    },
    {
     "data": {
      "application/javascript": [
       "(function(root) {\n",
       "  function embed_document(root) {\n",
       "    \n",
       "  var docs_json = {\"bf578e70-6f7e-49cb-b1b4-5ca2ac6f4d93\":{\"roots\":{\"references\":[{\"attributes\":{\"below\":[{\"id\":\"2699\"}],\"center\":[{\"id\":\"2702\"},{\"id\":\"2706\"}],\"left\":[{\"id\":\"2703\"}],\"plot_height\":400,\"plot_width\":400,\"renderers\":[{\"id\":\"2713\"}],\"title\":{\"id\":\"2708\"},\"toolbar\":{\"id\":\"2707\"},\"x_range\":{\"id\":\"2691\"},\"x_scale\":{\"id\":\"2695\"},\"y_range\":{\"id\":\"2693\"},\"y_scale\":{\"id\":\"2697\"}},\"id\":\"2690\",\"subtype\":\"Figure\",\"type\":\"Plot\"},{\"attributes\":{\"fill_color\":{\"value\":\"orange\"},\"line_color\":{\"value\":\"orange\"},\"radius\":{\"units\":\"data\",\"value\":1},\"x\":{\"field\":\"x\"},\"y\":{\"field\":\"y\"}},\"id\":\"2711\",\"type\":\"Circle\"},{\"attributes\":{},\"id\":\"2814\",\"type\":\"Selection\"},{\"attributes\":{\"axis\":{\"id\":\"2699\"},\"ticker\":null},\"id\":\"2702\",\"type\":\"Grid\"},{\"attributes\":{},\"id\":\"2813\",\"type\":\"BasicTickFormatter\"},{\"attributes\":{\"data_source\":{\"id\":\"2710\"},\"glyph\":{\"id\":\"2711\"},\"hover_glyph\":null,\"muted_glyph\":null,\"nonselection_glyph\":{\"id\":\"2712\"},\"selection_glyph\":null,\"view\":{\"id\":\"2714\"}},\"id\":\"2713\",\"type\":\"GlyphRenderer\"},{\"attributes\":{\"align\":\"center\",\"text\":\"Circles!\"},\"id\":\"2708\",\"type\":\"Title\"},{\"attributes\":{\"source\":{\"id\":\"2710\"}},\"id\":\"2714\",\"type\":\"CDSView\"},{\"attributes\":{\"active_drag\":\"auto\",\"active_inspect\":\"auto\",\"active_multi\":null,\"active_scroll\":\"auto\",\"active_tap\":\"auto\"},\"id\":\"2707\",\"type\":\"Toolbar\"},{\"attributes\":{},\"id\":\"2691\",\"type\":\"DataRange1d\"},{\"attributes\":{},\"id\":\"2695\",\"type\":\"LinearScale\"},{\"attributes\":{},\"id\":\"2693\",\"type\":\"DataRange1d\"},{\"attributes\":{\"data\":{\"x\":[99,77,32,97,50,50,43,15,93,2,18,23,28,14,2,68,96,13,30,51,92,69,76,58,42,20,86,80,3,71,9,74,82,13,43,13,57,92,9,40,97,30,14,49,51,66,32,95,52,29,96,92,50,3,60,55,15,63,84,11,72,14,75,42,1,96,17,60,18,93,74,80,43,47,63,78,84,2,66,11,29,83,25,79,46,24,34,53,76,60,93,86,75,60,29,41,12,38,92,43],\"y\":[12,65,96,86,28,45,53,25,27,24,99,74,84,81,95,11,88,7,48,59,36,15,20,82,32,31,92,15,91,92,60,17,16,29,58,16,46,12,54,3,71,6,20,18,83,6,43,59,52,68,80,39,82,32,98,50,73,87,79,85,54,5,49,18,89,24,23,25,64,57,94,42,28,5,1,37,92,52,89,11,10,83,11,6,41,92,69,10,83,84,80,90,24,97,32,80,58,78,63,64]},\"selected\":{\"id\":\"2814\"},\"selection_policy\":{\"id\":\"2815\"}},\"id\":\"2710\",\"type\":\"ColumnDataSource\"},{\"attributes\":{},\"id\":\"2704\",\"type\":\"BasicTicker\"},{\"attributes\":{\"fill_alpha\":{\"value\":0.1},\"fill_color\":{\"value\":\"orange\"},\"line_alpha\":{\"value\":0.1},\"line_color\":{\"value\":\"orange\"},\"radius\":{\"units\":\"data\",\"value\":1},\"x\":{\"field\":\"x\"},\"y\":{\"field\":\"y\"}},\"id\":\"2712\",\"type\":\"Circle\"},{\"attributes\":{},\"id\":\"2811\",\"type\":\"BasicTickFormatter\"},{\"attributes\":{},\"id\":\"2815\",\"type\":\"UnionRenderers\"},{\"attributes\":{},\"id\":\"2697\",\"type\":\"LinearScale\"},{\"attributes\":{\"axis_label\":\"x\",\"formatter\":{\"id\":\"2813\"},\"ticker\":{\"id\":\"2700\"}},\"id\":\"2699\",\"type\":\"LinearAxis\"},{\"attributes\":{\"axis_label\":\"y\",\"formatter\":{\"id\":\"2811\"},\"ticker\":{\"id\":\"2704\"}},\"id\":\"2703\",\"type\":\"LinearAxis\"},{\"attributes\":{},\"id\":\"2700\",\"type\":\"BasicTicker\"},{\"attributes\":{\"axis\":{\"id\":\"2703\"},\"dimension\":1,\"ticker\":null},\"id\":\"2706\",\"type\":\"Grid\"}],\"root_ids\":[\"2690\"]},\"title\":\"Bokeh Application\",\"version\":\"2.0.2\"}};\n",
       "  var render_items = [{\"docid\":\"bf578e70-6f7e-49cb-b1b4-5ca2ac6f4d93\",\"root_ids\":[\"2690\"],\"roots\":{\"2690\":\"85daf7d0-e4b4-403a-887c-2c71026abaa1\"}}];\n",
       "  root.Bokeh.embed.embed_items_notebook(docs_json, render_items);\n",
       "\n",
       "  }\n",
       "  if (root.Bokeh !== undefined) {\n",
       "    embed_document(root);\n",
       "  } else {\n",
       "    var attempts = 0;\n",
       "    var timer = setInterval(function(root) {\n",
       "      if (root.Bokeh !== undefined) {\n",
       "        clearInterval(timer);\n",
       "        embed_document(root);\n",
       "      } else {\n",
       "        attempts++;\n",
       "        if (attempts > 100) {\n",
       "          clearInterval(timer);\n",
       "          console.log(\"Bokeh: ERROR: Unable to run BokehJS code because BokehJS library is missing\");\n",
       "        }\n",
       "      }\n",
       "    }, 10, root)\n",
       "  }\n",
       "})(window);"
      ],
      "application/vnd.bokehjs_exec.v0+json": ""
     },
     "metadata": {
      "application/vnd.bokehjs_exec.v0+json": {
       "id": "2690"
      }
     },
     "output_type": "display_data"
    }
   ],
   "source": [
    "p = figure(width=400, height=400, tools=[])\n",
    "p.title.text = \"Circles!\"\n",
    "p.title.align = \"center\"\n",
    "p.xaxis.axis_label = \"x\"\n",
    "p.yaxis.axis_label = \"y\"\n",
    "p.circle(x, y, radius=1, color=\"orange\")\n",
    "show(p)"
   ]
  },
  {
   "cell_type": "code",
   "execution_count": 36,
   "metadata": {},
   "outputs": [],
   "source": [
    "def f(x):\n",
    "    \"\"\"\n",
    "    try out different curves e.g. polynomials, using\n",
    "    this Calculator of Tomorrow\n",
    "    \"\"\"\n",
    "    return x**3 - 15*x**2 + 20\n",
    "\n",
    "x = np.linspace(-10, 20, 200)\n",
    "y = f(x)"
   ]
  },
  {
   "cell_type": "markdown",
   "metadata": {},
   "source": [
    "From the docs:\n",
    "\n",
    "Bokeh provides a simple default set of widgets, largely based off the Bootstrap JavaScript library. In the future, it will be possible for users to wrap and use other widget libraries, or their own custom widgets."
   ]
  },
  {
   "cell_type": "code",
   "execution_count": 37,
   "metadata": {},
   "outputs": [],
   "source": [
    "from bokeh.models import ColorPicker, Slider  # so many to choose from\n",
    "from bokeh.layouts import column              # dashboards need to be layed out"
   ]
  },
  {
   "cell_type": "code",
   "execution_count": 38,
   "metadata": {},
   "outputs": [
    {
     "data": {
      "text/html": [
       "\n",
       "\n",
       "\n",
       "\n",
       "\n",
       "\n",
       "  <div class=\"bk-root\" id=\"ff82994b-421e-447d-bcb2-42e0c357545e\" data-root-id=\"2895\"></div>\n"
      ]
     },
     "metadata": {},
     "output_type": "display_data"
    },
    {
     "data": {
      "application/javascript": [
       "(function(root) {\n",
       "  function embed_document(root) {\n",
       "    \n",
       "  var docs_json = {\"5a30f07b-2ea5-408f-8602-90081fef2cd8\":{\"roots\":{\"references\":[{\"attributes\":{\"children\":[{\"id\":\"2864\"},{\"id\":\"2891\"},{\"id\":\"2892\"}]},\"id\":\"2895\",\"type\":\"Column\"},{\"attributes\":{\"below\":[{\"id\":\"2875\"}],\"center\":[{\"id\":\"2878\"},{\"id\":\"2882\"}],\"left\":[{\"id\":\"2879\"}],\"plot_height\":400,\"plot_width\":400,\"renderers\":[{\"id\":\"2889\"}],\"title\":{\"id\":\"2865\"},\"toolbar\":{\"id\":\"2884\"},\"x_range\":{\"id\":\"2867\"},\"x_scale\":{\"id\":\"2871\"},\"y_range\":{\"id\":\"2869\"},\"y_scale\":{\"id\":\"2873\"}},\"id\":\"2864\",\"subtype\":\"Figure\",\"type\":\"Plot\"},{\"attributes\":{},\"id\":\"3003\",\"type\":\"UnionRenderers\"},{\"attributes\":{\"axis\":{\"id\":\"2879\"},\"dimension\":1,\"ticker\":null},\"id\":\"2882\",\"type\":\"Grid\"},{\"attributes\":{},\"id\":\"2883\",\"type\":\"SaveTool\"},{\"attributes\":{\"align\":\"center\",\"text\":\"Curvy Curve!\"},\"id\":\"2865\",\"type\":\"Title\"},{\"attributes\":{\"line_alpha\":0.1,\"line_color\":\"orange\",\"x\":{\"field\":\"x\"},\"y\":{\"field\":\"y\"}},\"id\":\"2888\",\"type\":\"Line\"},{\"attributes\":{\"end\":10,\"format\":\"0[.]00\",\"js_property_callbacks\":{\"change:value_throttled\":[{\"id\":\"2893\"}]},\"start\":1,\"title\":\"Thickness\",\"value\":1},\"id\":\"2891\",\"type\":\"Slider\"},{\"attributes\":{\"data\":{\"x\":{\"__ndarray__\":\"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\",\"dtype\":\"float64\",\"shape\":[200]},\"y\":{\"__ndarray__\":\"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\",\"dtype\":\"float64\",\"shape\":[200]}},\"selected\":{\"id\":\"3002\"},\"selection_policy\":{\"id\":\"3003\"}},\"id\":\"2886\",\"type\":\"ColumnDataSource\"},{\"attributes\":{},\"id\":\"2880\",\"type\":\"BasicTicker\"},{\"attributes\":{},\"id\":\"2869\",\"type\":\"DataRange1d\"},{\"attributes\":{\"axis_label\":\"y\",\"formatter\":{\"id\":\"2999\"},\"ticker\":{\"id\":\"2880\"}},\"id\":\"2879\",\"type\":\"LinearAxis\"},{\"attributes\":{},\"id\":\"2871\",\"type\":\"LinearScale\"},{\"attributes\":{\"args\":{\"other\":{\"id\":\"2887\"}},\"code\":\"other.line_width = this.value_throttled\"},\"id\":\"2893\",\"type\":\"CustomJS\"},{\"attributes\":{},\"id\":\"3001\",\"type\":\"BasicTickFormatter\"},{\"attributes\":{\"data_source\":{\"id\":\"2886\"},\"glyph\":{\"id\":\"2887\"},\"hover_glyph\":null,\"muted_glyph\":null,\"nonselection_glyph\":{\"id\":\"2888\"},\"selection_glyph\":null,\"view\":{\"id\":\"2890\"}},\"id\":\"2889\",\"type\":\"GlyphRenderer\"},{\"attributes\":{},\"id\":\"2873\",\"type\":\"LinearScale\"},{\"attributes\":{},\"id\":\"3002\",\"type\":\"Selection\"},{\"attributes\":{\"axis_label\":\"x\",\"formatter\":{\"id\":\"3001\"},\"ticker\":{\"id\":\"2876\"}},\"id\":\"2875\",\"type\":\"LinearAxis\"},{\"attributes\":{\"color\":\"#ff4466\",\"js_property_callbacks\":{\"change:color\":[{\"id\":\"2894\"}]},\"title\":\"Choose color:\",\"width\":200},\"id\":\"2892\",\"type\":\"ColorPicker\"},{\"attributes\":{},\"id\":\"2876\",\"type\":\"BasicTicker\"},{\"attributes\":{\"line_color\":\"orange\",\"x\":{\"field\":\"x\"},\"y\":{\"field\":\"y\"}},\"id\":\"2887\",\"type\":\"Line\"},{\"attributes\":{\"axis\":{\"id\":\"2875\"},\"ticker\":null},\"id\":\"2878\",\"type\":\"Grid\"},{\"attributes\":{\"args\":{\"other\":{\"id\":\"2887\"}},\"code\":\"other.line_color = this.color\"},\"id\":\"2894\",\"type\":\"CustomJS\"},{\"attributes\":{},\"id\":\"2999\",\"type\":\"BasicTickFormatter\"},{\"attributes\":{\"source\":{\"id\":\"2886\"}},\"id\":\"2890\",\"type\":\"CDSView\"},{\"attributes\":{\"active_drag\":\"auto\",\"active_inspect\":\"auto\",\"active_multi\":null,\"active_scroll\":\"auto\",\"active_tap\":\"auto\",\"tools\":[{\"id\":\"2883\"}]},\"id\":\"2884\",\"type\":\"Toolbar\"},{\"attributes\":{},\"id\":\"2867\",\"type\":\"DataRange1d\"}],\"root_ids\":[\"2895\"]},\"title\":\"Bokeh Application\",\"version\":\"2.0.2\"}};\n",
       "  var render_items = [{\"docid\":\"5a30f07b-2ea5-408f-8602-90081fef2cd8\",\"root_ids\":[\"2895\"],\"roots\":{\"2895\":\"ff82994b-421e-447d-bcb2-42e0c357545e\"}}];\n",
       "  root.Bokeh.embed.embed_items_notebook(docs_json, render_items);\n",
       "\n",
       "  }\n",
       "  if (root.Bokeh !== undefined) {\n",
       "    embed_document(root);\n",
       "  } else {\n",
       "    var attempts = 0;\n",
       "    var timer = setInterval(function(root) {\n",
       "      if (root.Bokeh !== undefined) {\n",
       "        clearInterval(timer);\n",
       "        embed_document(root);\n",
       "      } else {\n",
       "        attempts++;\n",
       "        if (attempts > 100) {\n",
       "          clearInterval(timer);\n",
       "          console.log(\"Bokeh: ERROR: Unable to run BokehJS code because BokehJS library is missing\");\n",
       "        }\n",
       "      }\n",
       "    }, 10, root)\n",
       "  }\n",
       "})(window);"
      ],
      "application/vnd.bokehjs_exec.v0+json": ""
     },
     "metadata": {
      "application/vnd.bokehjs_exec.v0+json": {
       "id": "2895"
      }
     },
     "output_type": "display_data"
    }
   ],
   "source": [
    "def plot_me(ind, dep):\n",
    "    \"\"\"\n",
    "    ind = independent (the march of time, typically)\n",
    "    dep = dependent (might be caused by, could just be a function of)\n",
    "    \"\"\"\n",
    "    \n",
    "    p = figure(width=400, height=400, title=\"Curvy Curve!\", tools=[\"save\"])\n",
    "    p.title.align = \"center\"\n",
    "    p.xaxis.axis_label = \"x\"  # image\n",
    "    p.yaxis.axis_label = \"y\"  # range in co-domain\n",
    "\n",
    "    # our prospects for interactivity\n",
    "    r = p.line(ind, dep, line_width=1, line_color=\"orange\")\n",
    "\n",
    "    # controls\n",
    "    range_slider = Slider(start=1, end=10, value=1, step=1, title=\"Thickness\")\n",
    "    color_picker = ColorPicker(color=\"#ff4466\", title=\"Choose color:\", width=200)\n",
    "\n",
    "    range_slider.js_link('value_throttled', r.glyph, 'line_width')\n",
    "    color_picker.js_link('color', r.glyph, 'line_color')\n",
    "    \n",
    "    show(column(p, range_slider, color_picker))\n",
    "    \n",
    "plot_me(x, y)"
   ]
  },
  {
   "cell_type": "code",
   "execution_count": null,
   "metadata": {},
   "outputs": [],
   "source": []
  }
 ],
 "metadata": {
  "kernelspec": {
   "display_name": "Python 3",
   "language": "python",
   "name": "python3"
  },
  "language_info": {
   "codemirror_mode": {
    "name": "ipython",
    "version": 3
   },
   "file_extension": ".py",
   "mimetype": "text/x-python",
   "name": "python",
   "nbconvert_exporter": "python",
   "pygments_lexer": "ipython3",
   "version": "3.7.7"
  }
 },
 "nbformat": 4,
 "nbformat_minor": 4
}
