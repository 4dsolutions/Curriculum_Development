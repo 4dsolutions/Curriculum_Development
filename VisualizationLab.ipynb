{
 "cells": [
  {
   "cell_type": "markdown",
   "metadata": {},
   "source": [
    "# Data Visualization Lab\n",
    "\n",
    "Check out [this cool exhibit](https://docs.bokeh.org/en/latest/docs/gallery/slider.html)\n",
    "\n",
    "We're going to look at intereactive widgets (introduced in the Linear Regression Sandbox) and bokeh."
   ]
  },
  {
   "cell_type": "code",
   "execution_count": 18,
   "metadata": {},
   "outputs": [],
   "source": [
    "# at minimum what you'll want from plotting\n",
    "from bokeh.plotting import figure, show\n",
    "\n",
    "# You'll be able to get both output_notebook, and output_file, from bokeh.io\n",
    "from bokeh.io import output_notebook\n",
    "\n",
    "# plus you might need many more of the usual suspects\n",
    "import numpy as np"
   ]
  },
  {
   "cell_type": "code",
   "execution_count": 19,
   "metadata": {},
   "outputs": [
    {
     "data": {
      "text/html": [
       "\n",
       "    <div class=\"bk-root\">\n",
       "        <a href=\"https://bokeh.org\" target=\"_blank\" class=\"bk-logo bk-logo-small bk-logo-notebook\"></a>\n",
       "        <span id=\"1659\">Loading BokehJS ...</span>\n",
       "    </div>"
      ]
     },
     "metadata": {},
     "output_type": "display_data"
    },
    {
     "data": {
      "application/javascript": [
       "\n",
       "(function(root) {\n",
       "  function now() {\n",
       "    return new Date();\n",
       "  }\n",
       "\n",
       "  var force = true;\n",
       "\n",
       "  if (typeof root._bokeh_onload_callbacks === \"undefined\" || force === true) {\n",
       "    root._bokeh_onload_callbacks = [];\n",
       "    root._bokeh_is_loading = undefined;\n",
       "  }\n",
       "\n",
       "  var JS_MIME_TYPE = 'application/javascript';\n",
       "  var HTML_MIME_TYPE = 'text/html';\n",
       "  var EXEC_MIME_TYPE = 'application/vnd.bokehjs_exec.v0+json';\n",
       "  var CLASS_NAME = 'output_bokeh rendered_html';\n",
       "\n",
       "  /**\n",
       "   * Render data to the DOM node\n",
       "   */\n",
       "  function render(props, node) {\n",
       "    var script = document.createElement(\"script\");\n",
       "    node.appendChild(script);\n",
       "  }\n",
       "\n",
       "  /**\n",
       "   * Handle when an output is cleared or removed\n",
       "   */\n",
       "  function handleClearOutput(event, handle) {\n",
       "    var cell = handle.cell;\n",
       "\n",
       "    var id = cell.output_area._bokeh_element_id;\n",
       "    var server_id = cell.output_area._bokeh_server_id;\n",
       "    // Clean up Bokeh references\n",
       "    if (id != null && id in Bokeh.index) {\n",
       "      Bokeh.index[id].model.document.clear();\n",
       "      delete Bokeh.index[id];\n",
       "    }\n",
       "\n",
       "    if (server_id !== undefined) {\n",
       "      // Clean up Bokeh references\n",
       "      var cmd = \"from bokeh.io.state import curstate; print(curstate().uuid_to_server['\" + server_id + \"'].get_sessions()[0].document.roots[0]._id)\";\n",
       "      cell.notebook.kernel.execute(cmd, {\n",
       "        iopub: {\n",
       "          output: function(msg) {\n",
       "            var id = msg.content.text.trim();\n",
       "            if (id in Bokeh.index) {\n",
       "              Bokeh.index[id].model.document.clear();\n",
       "              delete Bokeh.index[id];\n",
       "            }\n",
       "          }\n",
       "        }\n",
       "      });\n",
       "      // Destroy server and session\n",
       "      var cmd = \"import bokeh.io.notebook as ion; ion.destroy_server('\" + server_id + \"')\";\n",
       "      cell.notebook.kernel.execute(cmd);\n",
       "    }\n",
       "  }\n",
       "\n",
       "  /**\n",
       "   * Handle when a new output is added\n",
       "   */\n",
       "  function handleAddOutput(event, handle) {\n",
       "    var output_area = handle.output_area;\n",
       "    var output = handle.output;\n",
       "\n",
       "    // limit handleAddOutput to display_data with EXEC_MIME_TYPE content only\n",
       "    if ((output.output_type != \"display_data\") || (!output.data.hasOwnProperty(EXEC_MIME_TYPE))) {\n",
       "      return\n",
       "    }\n",
       "\n",
       "    var toinsert = output_area.element.find(\".\" + CLASS_NAME.split(' ')[0]);\n",
       "\n",
       "    if (output.metadata[EXEC_MIME_TYPE][\"id\"] !== undefined) {\n",
       "      toinsert[toinsert.length - 1].firstChild.textContent = output.data[JS_MIME_TYPE];\n",
       "      // store reference to embed id on output_area\n",
       "      output_area._bokeh_element_id = output.metadata[EXEC_MIME_TYPE][\"id\"];\n",
       "    }\n",
       "    if (output.metadata[EXEC_MIME_TYPE][\"server_id\"] !== undefined) {\n",
       "      var bk_div = document.createElement(\"div\");\n",
       "      bk_div.innerHTML = output.data[HTML_MIME_TYPE];\n",
       "      var script_attrs = bk_div.children[0].attributes;\n",
       "      for (var i = 0; i < script_attrs.length; i++) {\n",
       "        toinsert[toinsert.length - 1].firstChild.setAttribute(script_attrs[i].name, script_attrs[i].value);\n",
       "        toinsert[toinsert.length - 1].firstChild.textContent = bk_div.children[0].textContent\n",
       "      }\n",
       "      // store reference to server id on output_area\n",
       "      output_area._bokeh_server_id = output.metadata[EXEC_MIME_TYPE][\"server_id\"];\n",
       "    }\n",
       "  }\n",
       "\n",
       "  function register_renderer(events, OutputArea) {\n",
       "\n",
       "    function append_mime(data, metadata, element) {\n",
       "      // create a DOM node to render to\n",
       "      var toinsert = this.create_output_subarea(\n",
       "        metadata,\n",
       "        CLASS_NAME,\n",
       "        EXEC_MIME_TYPE\n",
       "      );\n",
       "      this.keyboard_manager.register_events(toinsert);\n",
       "      // Render to node\n",
       "      var props = {data: data, metadata: metadata[EXEC_MIME_TYPE]};\n",
       "      render(props, toinsert[toinsert.length - 1]);\n",
       "      element.append(toinsert);\n",
       "      return toinsert\n",
       "    }\n",
       "\n",
       "    /* Handle when an output is cleared or removed */\n",
       "    events.on('clear_output.CodeCell', handleClearOutput);\n",
       "    events.on('delete.Cell', handleClearOutput);\n",
       "\n",
       "    /* Handle when a new output is added */\n",
       "    events.on('output_added.OutputArea', handleAddOutput);\n",
       "\n",
       "    /**\n",
       "     * Register the mime type and append_mime function with output_area\n",
       "     */\n",
       "    OutputArea.prototype.register_mime_type(EXEC_MIME_TYPE, append_mime, {\n",
       "      /* Is output safe? */\n",
       "      safe: true,\n",
       "      /* Index of renderer in `output_area.display_order` */\n",
       "      index: 0\n",
       "    });\n",
       "  }\n",
       "\n",
       "  // register the mime type if in Jupyter Notebook environment and previously unregistered\n",
       "  if (root.Jupyter !== undefined) {\n",
       "    var events = require('base/js/events');\n",
       "    var OutputArea = require('notebook/js/outputarea').OutputArea;\n",
       "\n",
       "    if (OutputArea.prototype.mime_types().indexOf(EXEC_MIME_TYPE) == -1) {\n",
       "      register_renderer(events, OutputArea);\n",
       "    }\n",
       "  }\n",
       "\n",
       "  \n",
       "  if (typeof (root._bokeh_timeout) === \"undefined\" || force === true) {\n",
       "    root._bokeh_timeout = Date.now() + 5000;\n",
       "    root._bokeh_failed_load = false;\n",
       "  }\n",
       "\n",
       "  var NB_LOAD_WARNING = {'data': {'text/html':\n",
       "     \"<div style='background-color: #fdd'>\\n\"+\n",
       "     \"<p>\\n\"+\n",
       "     \"BokehJS does not appear to have successfully loaded. If loading BokehJS from CDN, this \\n\"+\n",
       "     \"may be due to a slow or bad network connection. Possible fixes:\\n\"+\n",
       "     \"</p>\\n\"+\n",
       "     \"<ul>\\n\"+\n",
       "     \"<li>re-rerun `output_notebook()` to attempt to load from CDN again, or</li>\\n\"+\n",
       "     \"<li>use INLINE resources instead, as so:</li>\\n\"+\n",
       "     \"</ul>\\n\"+\n",
       "     \"<code>\\n\"+\n",
       "     \"from bokeh.resources import INLINE\\n\"+\n",
       "     \"output_notebook(resources=INLINE)\\n\"+\n",
       "     \"</code>\\n\"+\n",
       "     \"</div>\"}};\n",
       "\n",
       "  function display_loaded() {\n",
       "    var el = document.getElementById(\"1659\");\n",
       "    if (el != null) {\n",
       "      el.textContent = \"BokehJS is loading...\";\n",
       "    }\n",
       "    if (root.Bokeh !== undefined) {\n",
       "      if (el != null) {\n",
       "        el.textContent = \"BokehJS \" + root.Bokeh.version + \" successfully loaded.\";\n",
       "      }\n",
       "    } else if (Date.now() < root._bokeh_timeout) {\n",
       "      setTimeout(display_loaded, 100)\n",
       "    }\n",
       "  }\n",
       "\n",
       "\n",
       "  function run_callbacks() {\n",
       "    try {\n",
       "      root._bokeh_onload_callbacks.forEach(function(callback) {\n",
       "        if (callback != null)\n",
       "          callback();\n",
       "      });\n",
       "    } finally {\n",
       "      delete root._bokeh_onload_callbacks\n",
       "    }\n",
       "    console.debug(\"Bokeh: all callbacks have finished\");\n",
       "  }\n",
       "\n",
       "  function load_libs(css_urls, js_urls, callback) {\n",
       "    if (css_urls == null) css_urls = [];\n",
       "    if (js_urls == null) js_urls = [];\n",
       "\n",
       "    root._bokeh_onload_callbacks.push(callback);\n",
       "    if (root._bokeh_is_loading > 0) {\n",
       "      console.debug(\"Bokeh: BokehJS is being loaded, scheduling callback at\", now());\n",
       "      return null;\n",
       "    }\n",
       "    if (js_urls == null || js_urls.length === 0) {\n",
       "      run_callbacks();\n",
       "      return null;\n",
       "    }\n",
       "    console.debug(\"Bokeh: BokehJS not loaded, scheduling load and callback at\", now());\n",
       "    root._bokeh_is_loading = css_urls.length + js_urls.length;\n",
       "\n",
       "    function on_load() {\n",
       "      root._bokeh_is_loading--;\n",
       "      if (root._bokeh_is_loading === 0) {\n",
       "        console.debug(\"Bokeh: all BokehJS libraries/stylesheets loaded\");\n",
       "        run_callbacks()\n",
       "      }\n",
       "    }\n",
       "\n",
       "    function on_error() {\n",
       "      console.error(\"failed to load \" + url);\n",
       "    }\n",
       "\n",
       "    for (var i = 0; i < css_urls.length; i++) {\n",
       "      var url = css_urls[i];\n",
       "      const element = document.createElement(\"link\");\n",
       "      element.onload = on_load;\n",
       "      element.onerror = on_error;\n",
       "      element.rel = \"stylesheet\";\n",
       "      element.type = \"text/css\";\n",
       "      element.href = url;\n",
       "      console.debug(\"Bokeh: injecting link tag for BokehJS stylesheet: \", url);\n",
       "      document.body.appendChild(element);\n",
       "    }\n",
       "\n",
       "    const hashes = {\"https://cdn.bokeh.org/bokeh/release/bokeh-2.0.2.min.js\": \"ufR9RFnRs6lniiaFvtJziE0YeidtAgBRH6ux2oUItHw5WTvE1zuk9uzhUU/FJXDp\", \"https://cdn.bokeh.org/bokeh/release/bokeh-widgets-2.0.2.min.js\": \"8QM/PGWBT+IssZuRcDcjzwIh1mkOmJSoNMmyYDZbCfXJg3Ap1lEvdVgFuSAwhb/J\", \"https://cdn.bokeh.org/bokeh/release/bokeh-tables-2.0.2.min.js\": \"Jm8cH3Rg0P6UeZhVY5cLy1WzKajUT9KImCY+76hEqrcJt59/d8GPvFHjCkYgnSIn\", \"https://cdn.bokeh.org/bokeh/release/bokeh-gl-2.0.2.min.js\": \"Ozhzj+SI7ywm74aOI/UajcWz+C0NjsPunEVyVIrxzYkB+jA+2tUw8x5xJCbVtK5I\"};\n",
       "\n",
       "    for (var i = 0; i < js_urls.length; i++) {\n",
       "      var url = js_urls[i];\n",
       "      var element = document.createElement('script');\n",
       "      element.onload = on_load;\n",
       "      element.onerror = on_error;\n",
       "      element.async = false;\n",
       "      element.src = url;\n",
       "      if (url in hashes) {\n",
       "        element.crossOrigin = \"anonymous\";\n",
       "        element.integrity = \"sha384-\" + hashes[url];\n",
       "      }\n",
       "      console.debug(\"Bokeh: injecting script tag for BokehJS library: \", url);\n",
       "      document.head.appendChild(element);\n",
       "    }\n",
       "  };\n",
       "\n",
       "  function inject_raw_css(css) {\n",
       "    const element = document.createElement(\"style\");\n",
       "    element.appendChild(document.createTextNode(css));\n",
       "    document.body.appendChild(element);\n",
       "  }\n",
       "\n",
       "  \n",
       "  var js_urls = [\"https://cdn.bokeh.org/bokeh/release/bokeh-2.0.2.min.js\", \"https://cdn.bokeh.org/bokeh/release/bokeh-widgets-2.0.2.min.js\", \"https://cdn.bokeh.org/bokeh/release/bokeh-tables-2.0.2.min.js\", \"https://cdn.bokeh.org/bokeh/release/bokeh-gl-2.0.2.min.js\"];\n",
       "  var css_urls = [];\n",
       "  \n",
       "\n",
       "  var inline_js = [\n",
       "    function(Bokeh) {\n",
       "      Bokeh.set_log_level(\"info\");\n",
       "    },\n",
       "    function(Bokeh) {\n",
       "    \n",
       "    \n",
       "    }\n",
       "  ];\n",
       "\n",
       "  function run_inline_js() {\n",
       "    \n",
       "    if (root.Bokeh !== undefined || force === true) {\n",
       "      \n",
       "    for (var i = 0; i < inline_js.length; i++) {\n",
       "      inline_js[i].call(root, root.Bokeh);\n",
       "    }\n",
       "    if (force === true) {\n",
       "        display_loaded();\n",
       "      }} else if (Date.now() < root._bokeh_timeout) {\n",
       "      setTimeout(run_inline_js, 100);\n",
       "    } else if (!root._bokeh_failed_load) {\n",
       "      console.log(\"Bokeh: BokehJS failed to load within specified timeout.\");\n",
       "      root._bokeh_failed_load = true;\n",
       "    } else if (force !== true) {\n",
       "      var cell = $(document.getElementById(\"1659\")).parents('.cell').data().cell;\n",
       "      cell.output_area.append_execute_result(NB_LOAD_WARNING)\n",
       "    }\n",
       "\n",
       "  }\n",
       "\n",
       "  if (root._bokeh_is_loading === 0) {\n",
       "    console.debug(\"Bokeh: BokehJS loaded, going straight to plotting\");\n",
       "    run_inline_js();\n",
       "  } else {\n",
       "    load_libs(css_urls, js_urls, function() {\n",
       "      console.debug(\"Bokeh: BokehJS plotting callback run at\", now());\n",
       "      run_inline_js();\n",
       "    });\n",
       "  }\n",
       "}(window));"
      ],
      "application/vnd.bokehjs_load.v0+json": "\n(function(root) {\n  function now() {\n    return new Date();\n  }\n\n  var force = true;\n\n  if (typeof root._bokeh_onload_callbacks === \"undefined\" || force === true) {\n    root._bokeh_onload_callbacks = [];\n    root._bokeh_is_loading = undefined;\n  }\n\n  \n\n  \n  if (typeof (root._bokeh_timeout) === \"undefined\" || force === true) {\n    root._bokeh_timeout = Date.now() + 5000;\n    root._bokeh_failed_load = false;\n  }\n\n  var NB_LOAD_WARNING = {'data': {'text/html':\n     \"<div style='background-color: #fdd'>\\n\"+\n     \"<p>\\n\"+\n     \"BokehJS does not appear to have successfully loaded. If loading BokehJS from CDN, this \\n\"+\n     \"may be due to a slow or bad network connection. Possible fixes:\\n\"+\n     \"</p>\\n\"+\n     \"<ul>\\n\"+\n     \"<li>re-rerun `output_notebook()` to attempt to load from CDN again, or</li>\\n\"+\n     \"<li>use INLINE resources instead, as so:</li>\\n\"+\n     \"</ul>\\n\"+\n     \"<code>\\n\"+\n     \"from bokeh.resources import INLINE\\n\"+\n     \"output_notebook(resources=INLINE)\\n\"+\n     \"</code>\\n\"+\n     \"</div>\"}};\n\n  function display_loaded() {\n    var el = document.getElementById(\"1659\");\n    if (el != null) {\n      el.textContent = \"BokehJS is loading...\";\n    }\n    if (root.Bokeh !== undefined) {\n      if (el != null) {\n        el.textContent = \"BokehJS \" + root.Bokeh.version + \" successfully loaded.\";\n      }\n    } else if (Date.now() < root._bokeh_timeout) {\n      setTimeout(display_loaded, 100)\n    }\n  }\n\n\n  function run_callbacks() {\n    try {\n      root._bokeh_onload_callbacks.forEach(function(callback) {\n        if (callback != null)\n          callback();\n      });\n    } finally {\n      delete root._bokeh_onload_callbacks\n    }\n    console.debug(\"Bokeh: all callbacks have finished\");\n  }\n\n  function load_libs(css_urls, js_urls, callback) {\n    if (css_urls == null) css_urls = [];\n    if (js_urls == null) js_urls = [];\n\n    root._bokeh_onload_callbacks.push(callback);\n    if (root._bokeh_is_loading > 0) {\n      console.debug(\"Bokeh: BokehJS is being loaded, scheduling callback at\", now());\n      return null;\n    }\n    if (js_urls == null || js_urls.length === 0) {\n      run_callbacks();\n      return null;\n    }\n    console.debug(\"Bokeh: BokehJS not loaded, scheduling load and callback at\", now());\n    root._bokeh_is_loading = css_urls.length + js_urls.length;\n\n    function on_load() {\n      root._bokeh_is_loading--;\n      if (root._bokeh_is_loading === 0) {\n        console.debug(\"Bokeh: all BokehJS libraries/stylesheets loaded\");\n        run_callbacks()\n      }\n    }\n\n    function on_error() {\n      console.error(\"failed to load \" + url);\n    }\n\n    for (var i = 0; i < css_urls.length; i++) {\n      var url = css_urls[i];\n      const element = document.createElement(\"link\");\n      element.onload = on_load;\n      element.onerror = on_error;\n      element.rel = \"stylesheet\";\n      element.type = \"text/css\";\n      element.href = url;\n      console.debug(\"Bokeh: injecting link tag for BokehJS stylesheet: \", url);\n      document.body.appendChild(element);\n    }\n\n    const hashes = {\"https://cdn.bokeh.org/bokeh/release/bokeh-2.0.2.min.js\": \"ufR9RFnRs6lniiaFvtJziE0YeidtAgBRH6ux2oUItHw5WTvE1zuk9uzhUU/FJXDp\", \"https://cdn.bokeh.org/bokeh/release/bokeh-widgets-2.0.2.min.js\": \"8QM/PGWBT+IssZuRcDcjzwIh1mkOmJSoNMmyYDZbCfXJg3Ap1lEvdVgFuSAwhb/J\", \"https://cdn.bokeh.org/bokeh/release/bokeh-tables-2.0.2.min.js\": \"Jm8cH3Rg0P6UeZhVY5cLy1WzKajUT9KImCY+76hEqrcJt59/d8GPvFHjCkYgnSIn\", \"https://cdn.bokeh.org/bokeh/release/bokeh-gl-2.0.2.min.js\": \"Ozhzj+SI7ywm74aOI/UajcWz+C0NjsPunEVyVIrxzYkB+jA+2tUw8x5xJCbVtK5I\"};\n\n    for (var i = 0; i < js_urls.length; i++) {\n      var url = js_urls[i];\n      var element = document.createElement('script');\n      element.onload = on_load;\n      element.onerror = on_error;\n      element.async = false;\n      element.src = url;\n      if (url in hashes) {\n        element.crossOrigin = \"anonymous\";\n        element.integrity = \"sha384-\" + hashes[url];\n      }\n      console.debug(\"Bokeh: injecting script tag for BokehJS library: \", url);\n      document.head.appendChild(element);\n    }\n  };\n\n  function inject_raw_css(css) {\n    const element = document.createElement(\"style\");\n    element.appendChild(document.createTextNode(css));\n    document.body.appendChild(element);\n  }\n\n  \n  var js_urls = [\"https://cdn.bokeh.org/bokeh/release/bokeh-2.0.2.min.js\", \"https://cdn.bokeh.org/bokeh/release/bokeh-widgets-2.0.2.min.js\", \"https://cdn.bokeh.org/bokeh/release/bokeh-tables-2.0.2.min.js\", \"https://cdn.bokeh.org/bokeh/release/bokeh-gl-2.0.2.min.js\"];\n  var css_urls = [];\n  \n\n  var inline_js = [\n    function(Bokeh) {\n      Bokeh.set_log_level(\"info\");\n    },\n    function(Bokeh) {\n    \n    \n    }\n  ];\n\n  function run_inline_js() {\n    \n    if (root.Bokeh !== undefined || force === true) {\n      \n    for (var i = 0; i < inline_js.length; i++) {\n      inline_js[i].call(root, root.Bokeh);\n    }\n    if (force === true) {\n        display_loaded();\n      }} else if (Date.now() < root._bokeh_timeout) {\n      setTimeout(run_inline_js, 100);\n    } else if (!root._bokeh_failed_load) {\n      console.log(\"Bokeh: BokehJS failed to load within specified timeout.\");\n      root._bokeh_failed_load = true;\n    } else if (force !== true) {\n      var cell = $(document.getElementById(\"1659\")).parents('.cell').data().cell;\n      cell.output_area.append_execute_result(NB_LOAD_WARNING)\n    }\n\n  }\n\n  if (root._bokeh_is_loading === 0) {\n    console.debug(\"Bokeh: BokehJS loaded, going straight to plotting\");\n    run_inline_js();\n  } else {\n    load_libs(css_urls, js_urls, function() {\n      console.debug(\"Bokeh: BokehJS plotting callback run at\", now());\n      run_inline_js();\n    });\n  }\n}(window));"
     },
     "metadata": {},
     "output_type": "display_data"
    }
   ],
   "source": [
    "output_notebook()  # don't forget this step.  You need to run, not just import, output_notebook"
   ]
  },
  {
   "cell_type": "code",
   "execution_count": 20,
   "metadata": {},
   "outputs": [
    {
     "data": {
      "text/html": [
       "\n",
       "\n",
       "\n",
       "\n",
       "\n",
       "\n",
       "  <div class=\"bk-root\" id=\"a5b39740-2486-4385-92da-2e899c23dee1\" data-root-id=\"1661\"></div>\n"
      ]
     },
     "metadata": {},
     "output_type": "display_data"
    },
    {
     "data": {
      "application/javascript": [
       "(function(root) {\n",
       "  function embed_document(root) {\n",
       "    \n",
       "  var docs_json = {\"cef9c835-f931-4e7b-8395-1c59128dca5b\":{\"roots\":{\"references\":[{\"attributes\":{\"below\":[{\"id\":\"1670\"}],\"center\":[{\"id\":\"1677\"},{\"id\":\"1685\"}],\"left\":[{\"id\":\"1678\"}],\"renderers\":[{\"id\":\"1700\"}],\"title\":{\"id\":\"1745\"},\"toolbar\":{\"id\":\"1693\"},\"x_range\":{\"id\":\"1662\"},\"x_scale\":{\"id\":\"1666\"},\"y_range\":{\"id\":\"1664\"},\"y_scale\":{\"id\":\"1668\"}},\"id\":\"1661\",\"subtype\":\"Figure\",\"type\":\"Plot\"},{\"attributes\":{\"axis\":{\"id\":\"1678\"},\"dimension\":1,\"ticker\":null},\"id\":\"1685\",\"type\":\"Grid\"},{\"attributes\":{},\"id\":\"1689\",\"type\":\"SaveTool\"},{\"attributes\":{\"attribution\":\"&copy; <a href=\\\"http://downloads.esri.com/ArcGISOnline/docs/tou_summary.pdf\\\">Esri</a>, Earthstar Geographics\",\"url\":\"https://server.arcgisonline.com/ArcGIS/rest/services/World_Imagery/MapServer/tile/{Z}/{Y}/{X}.jpg\"},\"id\":\"1660\",\"type\":\"WMTSTileSource\"},{\"attributes\":{\"tile_source\":{\"id\":\"1660\"}},\"id\":\"1700\",\"type\":\"TileRenderer\"},{\"attributes\":{\"overlay\":{\"id\":\"1692\"}},\"id\":\"1688\",\"type\":\"BoxZoomTool\"},{\"attributes\":{\"formatter\":{\"id\":\"1681\"},\"ticker\":{\"id\":\"1679\"}},\"id\":\"1678\",\"type\":\"MercatorAxis\"},{\"attributes\":{},\"id\":\"1687\",\"type\":\"WheelZoomTool\"},{\"attributes\":{\"formatter\":{\"id\":\"1673\"},\"ticker\":{\"id\":\"1671\"}},\"id\":\"1670\",\"type\":\"MercatorAxis\"},{\"attributes\":{},\"id\":\"1691\",\"type\":\"HelpTool\"},{\"attributes\":{\"text\":\"\"},\"id\":\"1745\",\"type\":\"Title\"},{\"attributes\":{\"end\":6000000,\"start\":-2000000},\"id\":\"1662\",\"type\":\"Range1d\"},{\"attributes\":{},\"id\":\"1666\",\"type\":\"LinearScale\"},{\"attributes\":{\"axis\":{\"id\":\"1670\"},\"ticker\":null},\"id\":\"1677\",\"type\":\"Grid\"},{\"attributes\":{\"bottom_units\":\"screen\",\"fill_alpha\":0.5,\"fill_color\":\"lightgrey\",\"left_units\":\"screen\",\"level\":\"overlay\",\"line_alpha\":1.0,\"line_color\":\"black\",\"line_dash\":[4,4],\"line_width\":2,\"render_mode\":\"css\",\"right_units\":\"screen\",\"top_units\":\"screen\"},\"id\":\"1692\",\"type\":\"BoxAnnotation\"},{\"attributes\":{\"dimension\":\"lat\"},\"id\":\"1681\",\"type\":\"MercatorTickFormatter\"},{\"attributes\":{},\"id\":\"1668\",\"type\":\"LinearScale\"},{\"attributes\":{\"active_drag\":\"auto\",\"active_inspect\":\"auto\",\"active_multi\":null,\"active_scroll\":\"auto\",\"active_tap\":\"auto\",\"tools\":[{\"id\":\"1686\"},{\"id\":\"1687\"},{\"id\":\"1688\"},{\"id\":\"1689\"},{\"id\":\"1690\"},{\"id\":\"1691\"}]},\"id\":\"1693\",\"type\":\"Toolbar\"},{\"attributes\":{\"dimension\":\"lat\"},\"id\":\"1679\",\"type\":\"MercatorTicker\"},{\"attributes\":{},\"id\":\"1690\",\"type\":\"ResetTool\"},{\"attributes\":{\"end\":7000000,\"start\":-1000000},\"id\":\"1664\",\"type\":\"Range1d\"},{\"attributes\":{\"dimension\":\"lon\"},\"id\":\"1673\",\"type\":\"MercatorTickFormatter\"},{\"attributes\":{},\"id\":\"1686\",\"type\":\"PanTool\"},{\"attributes\":{\"dimension\":\"lon\"},\"id\":\"1671\",\"type\":\"MercatorTicker\"}],\"root_ids\":[\"1661\"]},\"title\":\"Bokeh Application\",\"version\":\"2.0.2\"}};\n",
       "  var render_items = [{\"docid\":\"cef9c835-f931-4e7b-8395-1c59128dca5b\",\"root_ids\":[\"1661\"],\"roots\":{\"1661\":\"a5b39740-2486-4385-92da-2e899c23dee1\"}}];\n",
       "  root.Bokeh.embed.embed_items_notebook(docs_json, render_items);\n",
       "\n",
       "  }\n",
       "  if (root.Bokeh !== undefined) {\n",
       "    embed_document(root);\n",
       "  } else {\n",
       "    var attempts = 0;\n",
       "    var timer = setInterval(function(root) {\n",
       "      if (root.Bokeh !== undefined) {\n",
       "        clearInterval(timer);\n",
       "        embed_document(root);\n",
       "      } else {\n",
       "        attempts++;\n",
       "        if (attempts > 100) {\n",
       "          clearInterval(timer);\n",
       "          console.log(\"Bokeh: ERROR: Unable to run BokehJS code because BokehJS library is missing\");\n",
       "        }\n",
       "      }\n",
       "    }, 10, root)\n",
       "  }\n",
       "})(window);"
      ],
      "application/vnd.bokehjs_exec.v0+json": ""
     },
     "metadata": {
      "application/vnd.bokehjs_exec.v0+json": {
       "id": "1661"
      }
     },
     "output_type": "display_data"
    }
   ],
   "source": [
    "from bokeh.tile_providers import ESRI_IMAGERY, get_provider\n",
    "\n",
    "tile_provider = get_provider(ESRI_IMAGERY)\n",
    "\n",
    "# range bounds supplied in web mercator coordinates\n",
    "p = figure(x_range=(-2000000, 6000000), y_range=(-1000000, 7000000),\n",
    "           x_axis_type=\"mercator\", y_axis_type=\"mercator\")\n",
    "p.add_tile(tile_provider)\n",
    "\n",
    "show(p)"
   ]
  },
  {
   "cell_type": "code",
   "execution_count": 21,
   "metadata": {},
   "outputs": [],
   "source": [
    "from bokeh.models import ColorPicker, Slider\n",
    "from bokeh.layouts import column"
   ]
  },
  {
   "cell_type": "code",
   "execution_count": 22,
   "metadata": {},
   "outputs": [],
   "source": [
    "def f(x):\n",
    "    \"\"\"\n",
    "    Try different functions here.  You're back in high school\n",
    "    and this is your graphing calculator.\n",
    "    \"\"\"\n",
    "    return x**3 - 15*x**2 + 10 # some polynomial\n",
    "\n",
    "x = np.linspace(-10, 20, 100)\n",
    "y = f(x)"
   ]
  },
  {
   "cell_type": "code",
   "execution_count": 23,
   "metadata": {},
   "outputs": [
    {
     "data": {
      "text/html": [
       "\n",
       "\n",
       "\n",
       "\n",
       "\n",
       "\n",
       "  <div class=\"bk-root\" id=\"d3168005-ceba-4a5c-9413-6b641fa1a5c6\" data-root-id=\"1794\"></div>\n"
      ]
     },
     "metadata": {},
     "output_type": "display_data"
    },
    {
     "data": {
      "application/javascript": [
       "(function(root) {\n",
       "  function embed_document(root) {\n",
       "    \n",
       "  var docs_json = {\"f0607072-82a3-4267-8e43-61eb8779328e\":{\"roots\":{\"references\":[{\"attributes\":{\"below\":[{\"id\":\"1805\"}],\"center\":[{\"id\":\"1808\"},{\"id\":\"1812\"}],\"left\":[{\"id\":\"1809\"}],\"plot_height\":400,\"plot_width\":400,\"renderers\":[{\"id\":\"1819\"}],\"title\":{\"id\":\"1795\"},\"toolbar\":{\"id\":\"1814\"},\"x_range\":{\"id\":\"1797\"},\"x_scale\":{\"id\":\"1801\"},\"y_range\":{\"id\":\"1799\"},\"y_scale\":{\"id\":\"1803\"}},\"id\":\"1794\",\"subtype\":\"Figure\",\"type\":\"Plot\"},{\"attributes\":{\"axis\":{\"id\":\"1809\"},\"dimension\":1,\"ticker\":null},\"id\":\"1812\",\"type\":\"Grid\"},{\"attributes\":{\"axis_label\":\"x\",\"formatter\":{\"id\":\"1875\"},\"ticker\":{\"id\":\"1806\"}},\"id\":\"1805\",\"type\":\"LinearAxis\"},{\"attributes\":{},\"id\":\"1799\",\"type\":\"DataRange1d\"},{\"attributes\":{\"axis\":{\"id\":\"1805\"},\"ticker\":null},\"id\":\"1808\",\"type\":\"Grid\"},{\"attributes\":{\"data_source\":{\"id\":\"1816\"},\"glyph\":{\"id\":\"1817\"},\"hover_glyph\":null,\"muted_glyph\":null,\"nonselection_glyph\":{\"id\":\"1818\"},\"selection_glyph\":null,\"view\":{\"id\":\"1820\"}},\"id\":\"1819\",\"type\":\"GlyphRenderer\"},{\"attributes\":{\"data\":{\"x\":{\"__ndarray__\":\"AAAAAAAAJMBlk0022WQjwMomm2yyySLALrrooosuIsCTTTbZZJMhwPjggw8++CDAXXTRRRddIMCEDz744IMfwE422WSTTR7AF1100UUXHcDhgw8++OAbwKqqqqqqqhrAdNFFF110GcA++OCDDz4YwAgffPDBBxfA0UUXXXTRFcCbbLLJJpsUwGWTTTbZZBPALrrooosuEsD44IMPPvgQwIQPPvjggw/AFl100UUXDcCqqqqqqqoKwD744IMPPgjA0EUXXXTRBcBkk0022WQDwPjggw8++ADAGF100UUX/b9A+OCDDz74v2CTTTbZZPO/EF100UUX7b9gk0022WTjv2CTTTbZZNO/AAAAAAAAAABgk0022WTTP2CTTTbZZOM/IF100UUX7T9ok0022WTzP0D44IMPPvg/GF100UUX/T/44IMPPvgAQGSTTTbZZANA1EUXXXTRBUBA+OCDDz4IQKyqqqqqqgpAGF100UUXDUCEDz744IMPQPjggw8++BBAMLrooosuEkBmk0022WQTQJxssskmmxRA0kUXXXTRFUAIH3zwwQcXQED44IMPPhhAdNFFF110GUCsqqqqqqoaQOCDDz744BtAGF100UUXHUBQNtlkk00eQIQPPvjggx9AXnTRRRddIED44IMPPvggQJRNNtlkkyFALrrooosuIkDKJptssskiQGaTTTbZZCNAAAAAAAAAJECcbLLJJpskQDbZZJNNNiVA0kUXXXTRJUBssskmm2wmQAgffPDBBydApIsuuuiiJ0A++OCDDz4oQNpkk0022ShAdNFFF110KUAQPvjggw8qQKyqqqqqqipARhdddNFFK0Digw8++OArQHzwwQcffCxAGF100UUXLUCyySabbLItQE422WSTTS5A6qKLLrroLkCEDz744IMvQBA++OCDDzBAXXTRRRddMECrqqqqqqowQPjggw8++DBARhdddNFFMUCUTTbZZJMxQOGDDz744DFAL7rooosuMkB88MEHH3wyQMomm2yyyTJAGF100UUXM0Blk0022WQzQLPJJptssjNAAAAAAAAANEA=\",\"dtype\":\"float64\",\"shape\":[100]},\"y\":{\"__ndarray__\":\"AAAAAAB0o8CN+NWLkhCiwEAdtgNXvaDAFnb+1+/znsDFPSCSP4ycwG4rjz7yQprA9NgI5lwXmMA84EqR1AiWwCvbEkmuFpTAoWMeFj9AksCGEysB3ISQwHkJ7SW0x43AVKJ8qBy5isBiJYCbm9yHwGzGchDbMIXAOLnPGIW0gsCQMRLGQ2aAwHvGalOCiXzACARpqk6deMBggxW0QAV1wBCsZpOsvnHAScul1syNbcBmL6G9hDZowJJTrCEpcmPA1A1okcR2XsAoMUrxsBlXwFqv2O5nwlDAU03aK3TMRsBc1YTJ3+k7wO7Mc4CQoyvAHDnSWR8vCcDcPk4YLBIRQDFKksiEMCFAAAAAAAAAJEDbTqNTA00hQIKJXskU2hJAOINIXXlT+r9yojK87YMkwLwx3dX69DTAXVFD1sLJQMCZDr7IbPlHwBQNEloc9E/Ar0T5UDlSVMDrXwlciPpYwIb2EtpL6F3AYtN3K2qIYcBuhzwvuTRkwIxmRD6782bA3j98nhjAacB84tCVeZRswIgdL2qGa2/AE+DBsPMfccC7zN1gIoZywEq8YWij5XPATxZE6so7dcBfQnsJ7YV2wASo/ehdwXfA1q7Bq3HreMBgvr10fAF6wCs+6GbSAHvA2JU3pcfme8DiLKJSsLB8wOxqHpLgW33AereihqzlfcAmeiVTaEt+wHganRpoin7AAAAAAACgfsBQkkQmhIl+wPg4YbBIRH7AjFtMwaHNfcCcYfx74yJ9wLCyZwNiQXzAVLaEenEme8Ao1EkEZs95wLBzrcOTOXjAiPyl205idsAw1ilv60Z0wEBoL6G95HHAwDRaKTNybsDgpzLZpoJowDD51Jd+9WHAwO9bVsWKVcCAmFPJ2mc3wEAZI2E8ZEZAAMp9xiikXUDAGctBbMNoQMBKADc3uXFAoET5UDlyd0DwEtpLaI99QBAnVgK4CYJASMc8LH6AhUBgtiWSXC2JQIDAlSKpEY1A+NgI5lyXkEBwK48+8sKSQMg9IJI/DJVAHHb+1+9zl0CAOmwHrvqZQCDxqxcloZxAAAAAAABon0A=\",\"dtype\":\"float64\",\"shape\":[100]}},\"selected\":{\"id\":\"1876\"},\"selection_policy\":{\"id\":\"1877\"}},\"id\":\"1816\",\"type\":\"ColumnDataSource\"},{\"attributes\":{\"align\":\"center\",\"text\":\"Curvy Curve!\"},\"id\":\"1795\",\"type\":\"Title\"},{\"attributes\":{\"line_alpha\":0.1,\"line_color\":\"orange\",\"line_width\":3,\"x\":{\"field\":\"x\"},\"y\":{\"field\":\"y\"}},\"id\":\"1818\",\"type\":\"Line\"},{\"attributes\":{},\"id\":\"1801\",\"type\":\"LinearScale\"},{\"attributes\":{},\"id\":\"1810\",\"type\":\"BasicTicker\"},{\"attributes\":{},\"id\":\"1873\",\"type\":\"BasicTickFormatter\"},{\"attributes\":{},\"id\":\"1803\",\"type\":\"LinearScale\"},{\"attributes\":{},\"id\":\"1797\",\"type\":\"DataRange1d\"},{\"attributes\":{\"source\":{\"id\":\"1816\"}},\"id\":\"1820\",\"type\":\"CDSView\"},{\"attributes\":{},\"id\":\"1875\",\"type\":\"BasicTickFormatter\"},{\"attributes\":{},\"id\":\"1813\",\"type\":\"SaveTool\"},{\"attributes\":{\"line_color\":\"orange\",\"line_width\":3,\"x\":{\"field\":\"x\"},\"y\":{\"field\":\"y\"}},\"id\":\"1817\",\"type\":\"Line\"},{\"attributes\":{},\"id\":\"1877\",\"type\":\"UnionRenderers\"},{\"attributes\":{\"axis_label\":\"y\",\"formatter\":{\"id\":\"1873\"},\"ticker\":{\"id\":\"1810\"}},\"id\":\"1809\",\"type\":\"LinearAxis\"},{\"attributes\":{},\"id\":\"1876\",\"type\":\"Selection\"},{\"attributes\":{},\"id\":\"1806\",\"type\":\"BasicTicker\"},{\"attributes\":{\"active_drag\":\"auto\",\"active_inspect\":\"auto\",\"active_multi\":null,\"active_scroll\":\"auto\",\"active_tap\":\"auto\",\"tools\":[{\"id\":\"1813\"}]},\"id\":\"1814\",\"type\":\"Toolbar\"}],\"root_ids\":[\"1794\"]},\"title\":\"Bokeh Application\",\"version\":\"2.0.2\"}};\n",
       "  var render_items = [{\"docid\":\"f0607072-82a3-4267-8e43-61eb8779328e\",\"root_ids\":[\"1794\"],\"roots\":{\"1794\":\"d3168005-ceba-4a5c-9413-6b641fa1a5c6\"}}];\n",
       "  root.Bokeh.embed.embed_items_notebook(docs_json, render_items);\n",
       "\n",
       "  }\n",
       "  if (root.Bokeh !== undefined) {\n",
       "    embed_document(root);\n",
       "  } else {\n",
       "    var attempts = 0;\n",
       "    var timer = setInterval(function(root) {\n",
       "      if (root.Bokeh !== undefined) {\n",
       "        clearInterval(timer);\n",
       "        embed_document(root);\n",
       "      } else {\n",
       "        attempts++;\n",
       "        if (attempts > 100) {\n",
       "          clearInterval(timer);\n",
       "          console.log(\"Bokeh: ERROR: Unable to run BokehJS code because BokehJS library is missing\");\n",
       "        }\n",
       "      }\n",
       "    }, 10, root)\n",
       "  }\n",
       "})(window);"
      ],
      "application/vnd.bokehjs_exec.v0+json": ""
     },
     "metadata": {
      "application/vnd.bokehjs_exec.v0+json": {
       "id": "1794"
      }
     },
     "output_type": "display_data"
    }
   ],
   "source": [
    "def plot_me(var):\n",
    "    p = figure(width=400, height=400, title=\"Curvy Curve!\", tools=[\"save\"])\n",
    "    p.title.align = \"center\"\n",
    "    p.xaxis.axis_label = \"x\"\n",
    "    p.yaxis.axis_label = \"y\"\n",
    "    p.line(x, y, line_width=var, line_color=\"orange\")\n",
    "    show(p)\n",
    "    \n",
    "plot_me(3)"
   ]
  },
  {
   "cell_type": "markdown",
   "metadata": {},
   "source": [
    "The locution below is somewhat perverse in that we have no reason, in the flow of this Notebook, to expect an rng (random number generator) to already be in the global namespace. This kind of code will use such a global, if it already exists, or create it as a global if it doesn't."
   ]
  },
  {
   "cell_type": "code",
   "execution_count": 24,
   "metadata": {},
   "outputs": [],
   "source": [
    "def rand_array(n):\n",
    "    global rng\n",
    "    while True:\n",
    "        try:\n",
    "            return rng.integers(1, 100, size = n)\n",
    "        except NameError:\n",
    "            rng = np.random.default_rng(42)\n",
    "            continue\n",
    "        except:\n",
    "            break\n",
    "\n",
    "x = rand_array(100)\n",
    "y = rand_array(100)"
   ]
  },
  {
   "cell_type": "code",
   "execution_count": 25,
   "metadata": {},
   "outputs": [
    {
     "data": {
      "text/html": [
       "\n",
       "\n",
       "\n",
       "\n",
       "\n",
       "\n",
       "  <div class=\"bk-root\" id=\"ea73a2ee-a76c-4ae3-8c33-46f0484f38e1\" data-root-id=\"1920\"></div>\n"
      ]
     },
     "metadata": {},
     "output_type": "display_data"
    },
    {
     "data": {
      "application/javascript": [
       "(function(root) {\n",
       "  function embed_document(root) {\n",
       "    \n",
       "  var docs_json = {\"7bde023c-3876-4980-9dba-597538de9a8e\":{\"roots\":{\"references\":[{\"attributes\":{\"below\":[{\"id\":\"1929\"}],\"center\":[{\"id\":\"1932\"},{\"id\":\"1936\"}],\"left\":[{\"id\":\"1933\"}],\"plot_height\":400,\"plot_width\":400,\"renderers\":[{\"id\":\"1943\"}],\"title\":{\"id\":\"1938\"},\"toolbar\":{\"id\":\"1937\"},\"x_range\":{\"id\":\"1921\"},\"x_scale\":{\"id\":\"1925\"},\"y_range\":{\"id\":\"1923\"},\"y_scale\":{\"id\":\"1927\"}},\"id\":\"1920\",\"subtype\":\"Figure\",\"type\":\"Plot\"},{\"attributes\":{\"axis\":{\"id\":\"1929\"},\"ticker\":null},\"id\":\"1932\",\"type\":\"Grid\"},{\"attributes\":{\"align\":\"center\",\"text\":\"Circles!\"},\"id\":\"1938\",\"type\":\"Title\"},{\"attributes\":{\"data_source\":{\"id\":\"1940\"},\"glyph\":{\"id\":\"1941\"},\"hover_glyph\":null,\"muted_glyph\":null,\"nonselection_glyph\":{\"id\":\"1942\"},\"selection_glyph\":null,\"view\":{\"id\":\"1944\"}},\"id\":\"1943\",\"type\":\"GlyphRenderer\"},{\"attributes\":{},\"id\":\"1934\",\"type\":\"BasicTicker\"},{\"attributes\":{\"fill_alpha\":{\"value\":0.1},\"fill_color\":{\"value\":\"orange\"},\"line_alpha\":{\"value\":0.1},\"line_color\":{\"value\":\"orange\"},\"radius\":{\"units\":\"data\",\"value\":1},\"x\":{\"field\":\"x\"},\"y\":{\"field\":\"y\"}},\"id\":\"1942\",\"type\":\"Circle\"},{\"attributes\":{},\"id\":\"1925\",\"type\":\"LinearScale\"},{\"attributes\":{\"axis\":{\"id\":\"1933\"},\"dimension\":1,\"ticker\":null},\"id\":\"1936\",\"type\":\"Grid\"},{\"attributes\":{\"source\":{\"id\":\"1940\"}},\"id\":\"1944\",\"type\":\"CDSView\"},{\"attributes\":{},\"id\":\"1923\",\"type\":\"DataRange1d\"},{\"attributes\":{\"axis_label\":\"x\",\"formatter\":{\"id\":\"2007\"},\"ticker\":{\"id\":\"1930\"}},\"id\":\"1929\",\"type\":\"LinearAxis\"},{\"attributes\":{\"data\":{\"x\":[37,90,50,70,46,27,76,96,27,78,26,71,79,45,73,27,8,10,45,90,13,46,70,21,72,31,81,58,55,18,46,85,2,76,49,72,66,43,31,63,14,58,10,65,63,9,75,42,78,5,18,49,19,33,66,15,68,11,18,59,79,17,30,92,98,58,45,35,61,59,30,3,15,95,42,48,47,78,7,9,28,49,67,49,44,93,16,57,54,47,80,27,95,33,54,52,85,44,29,3],\"y\":[37,82,1,89,54,14,30,55,32,11,66,67,12,28,25,66,73,72,93,77,32,11,61,91,97,23,24,4,14,55,55,37,31,83,46,81,96,32,21,95,63,29,62,51,90,26,99,93,18,17,53,5,30,44,96,99,16,89,10,75,84,89,23,89,12,52,47,32,3,77,34,66,41,37,88,10,73,74,38,26,1,93,94,24,4,13,7,83,89,16,74,18,37,60,72,87,5,20,28,31]},\"selected\":{\"id\":\"2008\"},\"selection_policy\":{\"id\":\"2009\"}},\"id\":\"1940\",\"type\":\"ColumnDataSource\"},{\"attributes\":{},\"id\":\"1930\",\"type\":\"BasicTicker\"},{\"attributes\":{\"axis_label\":\"y\",\"formatter\":{\"id\":\"2005\"},\"ticker\":{\"id\":\"1934\"}},\"id\":\"1933\",\"type\":\"LinearAxis\"},{\"attributes\":{},\"id\":\"2008\",\"type\":\"Selection\"},{\"attributes\":{},\"id\":\"2009\",\"type\":\"UnionRenderers\"},{\"attributes\":{},\"id\":\"2007\",\"type\":\"BasicTickFormatter\"},{\"attributes\":{},\"id\":\"1927\",\"type\":\"LinearScale\"},{\"attributes\":{},\"id\":\"1921\",\"type\":\"DataRange1d\"},{\"attributes\":{\"active_drag\":\"auto\",\"active_inspect\":\"auto\",\"active_multi\":null,\"active_scroll\":\"auto\",\"active_tap\":\"auto\"},\"id\":\"1937\",\"type\":\"Toolbar\"},{\"attributes\":{},\"id\":\"2005\",\"type\":\"BasicTickFormatter\"},{\"attributes\":{\"fill_color\":{\"value\":\"orange\"},\"line_color\":{\"value\":\"orange\"},\"radius\":{\"units\":\"data\",\"value\":1},\"x\":{\"field\":\"x\"},\"y\":{\"field\":\"y\"}},\"id\":\"1941\",\"type\":\"Circle\"}],\"root_ids\":[\"1920\"]},\"title\":\"Bokeh Application\",\"version\":\"2.0.2\"}};\n",
       "  var render_items = [{\"docid\":\"7bde023c-3876-4980-9dba-597538de9a8e\",\"root_ids\":[\"1920\"],\"roots\":{\"1920\":\"ea73a2ee-a76c-4ae3-8c33-46f0484f38e1\"}}];\n",
       "  root.Bokeh.embed.embed_items_notebook(docs_json, render_items);\n",
       "\n",
       "  }\n",
       "  if (root.Bokeh !== undefined) {\n",
       "    embed_document(root);\n",
       "  } else {\n",
       "    var attempts = 0;\n",
       "    var timer = setInterval(function(root) {\n",
       "      if (root.Bokeh !== undefined) {\n",
       "        clearInterval(timer);\n",
       "        embed_document(root);\n",
       "      } else {\n",
       "        attempts++;\n",
       "        if (attempts > 100) {\n",
       "          clearInterval(timer);\n",
       "          console.log(\"Bokeh: ERROR: Unable to run BokehJS code because BokehJS library is missing\");\n",
       "        }\n",
       "      }\n",
       "    }, 10, root)\n",
       "  }\n",
       "})(window);"
      ],
      "application/vnd.bokehjs_exec.v0+json": ""
     },
     "metadata": {
      "application/vnd.bokehjs_exec.v0+json": {
       "id": "1920"
      }
     },
     "output_type": "display_data"
    }
   ],
   "source": [
    "p = figure(width=400, height=400, tools=[])\n",
    "p.title.text = \"Circles!\"\n",
    "p.title.align = \"center\"\n",
    "p.xaxis.axis_label = \"x\"\n",
    "p.yaxis.axis_label = \"y\"\n",
    "p.circle(x, y, radius=1, color=\"orange\")\n",
    "show(p)"
   ]
  },
  {
   "cell_type": "code",
   "execution_count": 26,
   "metadata": {},
   "outputs": [],
   "source": [
    "def f(x):\n",
    "    \"\"\"\n",
    "    try out different curves e.g. polynomials, using\n",
    "    this Calculator of Tomorrow\n",
    "    \"\"\"\n",
    "    return x**3 - 15*x**2 + 20\n",
    "\n",
    "x = np.linspace(-10, 20, 200)\n",
    "y = f(x)"
   ]
  },
  {
   "cell_type": "markdown",
   "metadata": {},
   "source": [
    "From the docs:\n",
    "\n",
    "Bokeh provides a simple default set of widgets, largely based off the Bootstrap JavaScript library. In the future, it will be possible for users to wrap and use other widget libraries, or their own custom widgets."
   ]
  },
  {
   "cell_type": "code",
   "execution_count": 27,
   "metadata": {},
   "outputs": [
    {
     "data": {
      "text/html": [
       "\n",
       "\n",
       "\n",
       "\n",
       "\n",
       "\n",
       "  <div class=\"bk-root\" id=\"c10cfb56-fb73-48d7-99eb-484accab546b\" data-root-id=\"2089\"></div>\n"
      ]
     },
     "metadata": {},
     "output_type": "display_data"
    },
    {
     "data": {
      "application/javascript": [
       "(function(root) {\n",
       "  function embed_document(root) {\n",
       "    \n",
       "  var docs_json = {\"7eb579d3-5e4a-4d59-b098-f4153057e5b3\":{\"roots\":{\"references\":[{\"attributes\":{\"children\":[{\"id\":\"2058\"},{\"id\":\"2085\"},{\"id\":\"2086\"}]},\"id\":\"2089\",\"type\":\"Column\"},{\"attributes\":{\"align\":\"center\",\"text\":\"Curvy Curve!\"},\"id\":\"2059\",\"type\":\"Title\"},{\"attributes\":{},\"id\":\"2061\",\"type\":\"DataRange1d\"},{\"attributes\":{},\"id\":\"2157\",\"type\":\"BasicTickFormatter\"},{\"attributes\":{},\"id\":\"2159\",\"type\":\"BasicTickFormatter\"},{\"attributes\":{\"below\":[{\"id\":\"2069\"}],\"center\":[{\"id\":\"2072\"},{\"id\":\"2076\"}],\"left\":[{\"id\":\"2073\"}],\"plot_height\":400,\"plot_width\":400,\"renderers\":[{\"id\":\"2083\"}],\"title\":{\"id\":\"2059\"},\"toolbar\":{\"id\":\"2078\"},\"x_range\":{\"id\":\"2061\"},\"x_scale\":{\"id\":\"2065\"},\"y_range\":{\"id\":\"2063\"},\"y_scale\":{\"id\":\"2067\"}},\"id\":\"2058\",\"subtype\":\"Figure\",\"type\":\"Plot\"},{\"attributes\":{},\"id\":\"2063\",\"type\":\"DataRange1d\"},{\"attributes\":{},\"id\":\"2161\",\"type\":\"UnionRenderers\"},{\"attributes\":{},\"id\":\"2160\",\"type\":\"Selection\"},{\"attributes\":{},\"id\":\"2065\",\"type\":\"LinearScale\"},{\"attributes\":{\"line_alpha\":0.1,\"line_color\":\"orange\",\"x\":{\"field\":\"x\"},\"y\":{\"field\":\"y\"}},\"id\":\"2082\",\"type\":\"Line\"},{\"attributes\":{},\"id\":\"2067\",\"type\":\"LinearScale\"},{\"attributes\":{\"axis_label\":\"x\",\"formatter\":{\"id\":\"2159\"},\"ticker\":{\"id\":\"2070\"}},\"id\":\"2069\",\"type\":\"LinearAxis\"},{\"attributes\":{},\"id\":\"2074\",\"type\":\"BasicTicker\"},{\"attributes\":{\"line_color\":\"orange\",\"x\":{\"field\":\"x\"},\"y\":{\"field\":\"y\"}},\"id\":\"2081\",\"type\":\"Line\"},{\"attributes\":{\"source\":{\"id\":\"2080\"}},\"id\":\"2084\",\"type\":\"CDSView\"},{\"attributes\":{},\"id\":\"2070\",\"type\":\"BasicTicker\"},{\"attributes\":{\"axis\":{\"id\":\"2069\"},\"ticker\":null},\"id\":\"2072\",\"type\":\"Grid\"},{\"attributes\":{\"axis\":{\"id\":\"2073\"},\"dimension\":1,\"ticker\":null},\"id\":\"2076\",\"type\":\"Grid\"},{\"attributes\":{\"data_source\":{\"id\":\"2080\"},\"glyph\":{\"id\":\"2081\"},\"hover_glyph\":null,\"muted_glyph\":null,\"nonselection_glyph\":{\"id\":\"2082\"},\"selection_glyph\":null,\"view\":{\"id\":\"2084\"}},\"id\":\"2083\",\"type\":\"GlyphRenderer\"},{\"attributes\":{\"axis_label\":\"y\",\"formatter\":{\"id\":\"2157\"},\"ticker\":{\"id\":\"2074\"}},\"id\":\"2073\",\"type\":\"LinearAxis\"},{\"attributes\":{\"color\":\"#ff4466\",\"js_property_callbacks\":{\"change:color\":[{\"id\":\"2088\"}]},\"title\":\"Choose color:\",\"width\":200},\"id\":\"2086\",\"type\":\"ColorPicker\"},{\"attributes\":{\"end\":10,\"format\":\"0[.]00\",\"js_property_callbacks\":{\"change:value_throttled\":[{\"id\":\"2087\"}]},\"start\":1,\"title\":\"Thickness\",\"value\":1},\"id\":\"2085\",\"type\":\"Slider\"},{\"attributes\":{\"args\":{\"other\":{\"id\":\"2081\"}},\"code\":\"other.line_width = this.value_throttled\"},\"id\":\"2087\",\"type\":\"CustomJS\"},{\"attributes\":{},\"id\":\"2077\",\"type\":\"SaveTool\"},{\"attributes\":{\"data\":{\"x\":{\"__ndarray__\":\"AAAAAAAAJMByIepm0LIjwOVC1M2gZSPAWGS+NHEYI8DKhaibQcsiwDynkgISfiLAr8h8aeIwIsAi6mbQsuMhwJQLUTeDliHABi07nlNJIcB5TiUFJPwgwOxvD2z0riDAXpH50sRhIMDQsuM5lRQgwIaom0HLjh/Aa+tvD2z0HsBQLkTdDFoewDVxGKutvx3AGrTseE4lHcD/9sBG74ocwOQ5lRSQ8BvAyXxp4jBWG8Cuvz2w0bsawJMCEn5yIRrAeEXmSxOHGcBdiLoZtOwYwELLjudUUhjAJw5jtfW3F8AMUTeDlh0XwPGTC1E3gxbA1tbfHtjoFcC7GbTseE4VwKBciLoZtBTAhZ9ciLoZFMBq4jBWW38TwE8lBST85BLANGjZ8ZxKEsAZq62/PbARwP7tgY3eFRHA4zBWW397EMCQ51RSQMIPwFpt/e2BjQ7AJPOlicNYDcDueE4lBSQMwLj+9sBG7wrAgoSfXIi6CcBMCkj4yYUIwBaQ8JMLUQfA4BWZL00cBsCqm0HLjucEwHQh6mbQsgPAPqeSAhJ+AsAILTueU0kBwNKy4zmVFADAOHEYq62//b/QfGniMFb7v2CIuhm07Pi/8JMLUTeD9r+In1yIuhn0vyCrrb89sPG/YG397YGN7r+AhJ9ciLrpv7CbQcuO5+S/4LLjOZUU4L8AlAtRN4PWv4CEn1yIusm/AIWfXIi6qb8AhJ9ciLq5P8Cy4zmVFNA/gISfXIi62T8Qq62/PbDhP+CTC1E3g+Y/wHxp4jBW6z/QsuM5lRTwPzinkgISfvI/oJtBy47n9D8QkPCTC1H3P4CEn1yIuvk/6HhOJQUk/D9Qbf3tgY3+P+AwVlt/ewBAGKutvz2wAUBMJQUk/OQCQICfXIi6GQRAuBm07HhOBUDwkwtRN4MGQCQOY7X1twdAWIi6GbTsCECQAhJ+ciEKQMh8aeIwVgtA/PbARu+KDEAwcRirrb8NQGjrbw9s9A5A0LLjOZUUEEDqbw9s9K4QQAQtO55TSRFAIOpm0LLjEUA8p5ICEn4SQFZkvjRxGBNAcCHqZtCyE0CM3hWZL00UQKibQcuO5xRAwlht/e2BFUDcFZkvTRwWQPjSxGGsthZAFJDwkwtRF0AuTRzGausXQEgKSPjJhRhAZMdzKikgGUCAhJ9ciLoZQJhBy47nVBpAtP72wEbvGkDQuyLzpYkbQOx4TiUFJBxACDZ6V2S+HEAg86WJw1gdQDyw0bsi8x1AWG397YGNHkBwKikg4ScfQIznVFJAwh9AVFJAwk8uIEDiMFZbf3sgQHAPbPSuyCBA/O2Bjd4VIUCKzJcmDmMhQBirrb89sCFApInDWG39IUAyaNnxnEoiQMBG74rMlyJATiUFJPzkIkDcAxu9KzIjQGjiMFZbfyNA9sBG74rMI0CEn1yIuhkkQBB+ciHqZiRAnlyIuhm0JEAsO55TSQElQLoZtOx4TiVASPjJhaibJUDU1t8e2OglQGK19bcHNiZA8JMLUTeDJkB8ciHqZtAmQApRN4OWHSdAmC9NHMZqJ0AmDmO19bcnQLTseE4lBShAQMuO51RSKEDOqaSAhJ8oQFyIuhm07ChA6GbQsuM5KUB2ReZLE4cpQAQk/ORC1ClAkgISfnIhKkAg4ScXom4qQKy/PbDRuypAOp5TSQEJK0DIfGniMFYrQFRbf3tgoytA4jmVFJDwK0BwGKutvz0sQP72wEbviixAjNXW3x7YLEAYtOx4TiUtQKaSAhJ+ci1ANHEYq62/LUDATy5E3QwuQE4uRN0MWi5A3AxadjynLkBq628PbPQuQPjJhaibQS9AhKibQcuOL0ASh7Ha+tsvQNCy4zmVFDBAFqJuBi07MEBdkfnSxGEwQKSAhJ9ciDBA628PbPSuMEAyX5o4jNUwQHhOJQUk/DBAvz2w0bsiMUAGLTueU0kxQEwcxmrrbzFAkwtRN4OWMUDa+tsDG70xQCHqZtCy4zFAaNnxnEoKMkCuyHxp4jAyQPW3BzZ6VzJAPKeSAhJ+MkCClh3PqaQyQMmFqJtByzJAEHUzaNnxMkBXZL40cRgzQJ5TSQEJPzNA5ELUzaBlM0ArMl+aOIwzQHIh6mbQsjNAuBB1M2jZM0AAAAAAAAA0QA==\",\"dtype\":\"float64\",\"shape\":[200]},\"y\":{\"__ndarray__\":\"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\",\"dtype\":\"float64\",\"shape\":[200]}},\"selected\":{\"id\":\"2160\"},\"selection_policy\":{\"id\":\"2161\"}},\"id\":\"2080\",\"type\":\"ColumnDataSource\"},{\"attributes\":{\"active_drag\":\"auto\",\"active_inspect\":\"auto\",\"active_multi\":null,\"active_scroll\":\"auto\",\"active_tap\":\"auto\",\"tools\":[{\"id\":\"2077\"}]},\"id\":\"2078\",\"type\":\"Toolbar\"},{\"attributes\":{\"args\":{\"other\":{\"id\":\"2081\"}},\"code\":\"other.line_color = this.color\"},\"id\":\"2088\",\"type\":\"CustomJS\"}],\"root_ids\":[\"2089\"]},\"title\":\"Bokeh Application\",\"version\":\"2.0.2\"}};\n",
       "  var render_items = [{\"docid\":\"7eb579d3-5e4a-4d59-b098-f4153057e5b3\",\"root_ids\":[\"2089\"],\"roots\":{\"2089\":\"c10cfb56-fb73-48d7-99eb-484accab546b\"}}];\n",
       "  root.Bokeh.embed.embed_items_notebook(docs_json, render_items);\n",
       "\n",
       "  }\n",
       "  if (root.Bokeh !== undefined) {\n",
       "    embed_document(root);\n",
       "  } else {\n",
       "    var attempts = 0;\n",
       "    var timer = setInterval(function(root) {\n",
       "      if (root.Bokeh !== undefined) {\n",
       "        clearInterval(timer);\n",
       "        embed_document(root);\n",
       "      } else {\n",
       "        attempts++;\n",
       "        if (attempts > 100) {\n",
       "          clearInterval(timer);\n",
       "          console.log(\"Bokeh: ERROR: Unable to run BokehJS code because BokehJS library is missing\");\n",
       "        }\n",
       "      }\n",
       "    }, 10, root)\n",
       "  }\n",
       "})(window);"
      ],
      "application/vnd.bokehjs_exec.v0+json": ""
     },
     "metadata": {
      "application/vnd.bokehjs_exec.v0+json": {
       "id": "2089"
      }
     },
     "output_type": "display_data"
    }
   ],
   "source": [
    "def plot_me(ind, dep):\n",
    "    p = figure(width=400, height=400, title=\"Curvy Curve!\", tools=[\"save\"])\n",
    "    p.title.align = \"center\"\n",
    "    p.xaxis.axis_label = \"x\"\n",
    "    p.yaxis.axis_label = \"y\"\n",
    "\n",
    "    r = p.line(ind, dep, line_width=1, line_color=\"orange\")\n",
    "\n",
    "    # controls\n",
    "    range_slider = Slider(start=1, end=10, value=1, step=1, title=\"Thickness\")\n",
    "    color_picker = ColorPicker(color=\"#ff4466\", title=\"Choose color:\", width=200)\n",
    "\n",
    "    range_slider.js_link('value_throttled', r.glyph, 'line_width')\n",
    "    color_picker.js_link('color', r.glyph, 'line_color')\n",
    "    \n",
    "    show(column(p, range_slider, color_picker))\n",
    "    \n",
    "plot_me(x, y)"
   ]
  }
 ],
 "metadata": {
  "kernelspec": {
   "display_name": "Python 3",
   "language": "python",
   "name": "python3"
  },
  "language_info": {
   "codemirror_mode": {
    "name": "ipython",
    "version": 3
   },
   "file_extension": ".py",
   "mimetype": "text/x-python",
   "name": "python",
   "nbconvert_exporter": "python",
   "pygments_lexer": "ipython3",
   "version": "3.7.7"
  }
 },
 "nbformat": 4,
 "nbformat_minor": 4
}
