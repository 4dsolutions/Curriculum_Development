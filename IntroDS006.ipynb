{
 "cells": [
  {
   "cell_type": "markdown",
   "metadata": {},
   "source": [
    "# Shaping Filters:  ML in Python\n",
    "\n",
    "Our focus is a Pythonic stack, probably scikit-learn or sklearn.\n",
    "\n",
    "Our ensemble is a set of trainable objects that shape themselves to fit some data, but without overfitting, we hope, such that they're good at predicting based on data they've not previously encountered.  \"The model has wings\" we might say, meaning it's suitable for use beyond the training arena."
   ]
  },
  {
   "cell_type": "markdown",
   "metadata": {},
   "source": [
    "Decision Tree, [Random Forest](https://machinelearningmastery.com/random-forest-ensemble-in-python/), Support Vector... each trainable type of object is going to have it's own positives and negatives.  We're free to mix and match them. We're free to keep it simple, or at least we're free to seek ways to simplify."
   ]
  },
  {
   "cell_type": "code",
   "execution_count": null,
   "metadata": {},
   "outputs": [],
   "source": []
  }
 ],
 "metadata": {
  "kernelspec": {
   "display_name": "Python 3",
   "language": "python",
   "name": "python3"
  },
  "language_info": {
   "codemirror_mode": {
    "name": "ipython",
    "version": 3
   },
   "file_extension": ".py",
   "mimetype": "text/x-python",
   "name": "python",
   "nbconvert_exporter": "python",
   "pygments_lexer": "ipython3",
   "version": "3.7.7"
  }
 },
 "nbformat": 4,
 "nbformat_minor": 4
}
