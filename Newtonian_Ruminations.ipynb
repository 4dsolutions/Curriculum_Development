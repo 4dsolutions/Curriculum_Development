{
 "cells": [
  {
   "cell_type": "markdown",
   "id": "79be19cb-c333-4fe5-bd0c-d56ab851e942",
   "metadata": {
    "tags": []
   },
   "source": [
    "### Newtonian Mechanics\n",
    "\n",
    "* $m$ = mass\n",
    "* $v$ = velocity\n",
    "* $d$ = distance\n",
    "* $mv$ = momentum\n",
    "* $E$ = Energy\n",
    "* $mvd$ = action (momentum for a distance)\n",
    "* $mvd/t$ = action per a time = $E$\n",
    "* $mvv$ = $E$\n",
    "* $h$ = minimum action\n",
    "* $f$ = frequency = $1/t$\n",
    "* $E$ = action per time = action frequency = $hf$.\n",
    "* Power = energy per time = energy frequency = $E/t$."
   ]
  },
  {
   "cell_type": "markdown",
   "id": "765a03ff-6610-45c2-ad61-47ca59d508d4",
   "metadata": {},
   "source": [
    "Momentum for a distance in a time is an Energy amount.  \n",
    "\n",
    "Momentum for a distance is action.  \n",
    "\n",
    "Action per time frame represents an energy event, radiant in both size and time, taking up space in memory.  \n",
    "\n",
    "Time-size events per time interval, the rate of energy expenditure, equals power.  \n",
    "\n",
    "Power is not about how much money you have, it's about your ability to spend it optimally in the face of deadlines.  \n",
    "\n",
    "How fast the work gets done may spell the difference between the work mattering and not mattering.\n",
    "\n",
    "Cutting corners unnecessarily, for the sake of speed, is more about feigning power.  Advertising powers one does not have is self disempowering.\n",
    "\n",
    "Maximizing bang for the buck may require exceeding threshold rates of change.\n",
    "\n",
    "Energy as a function of frequency is not the same as intensity as a function of amplitude.  \n",
    "\n",
    "A brighter light of the same frequency does not have the energy level a higher frequency light will, even if the latter is dimmer overall.\n",
    "\n",
    "Yes, we're talking about the photo-electric effect.  Electrons get excited to higher states only when the incoming action is fast enough, at high enough frequencies.\n",
    "\n",
    "A sound and light program is a mix of frequencies with related dimness, and/or loudness levels.  \n",
    "\n",
    "Think of music with a laser show. \n",
    "\n",
    "The audience is discriminating, meaning it's prepared to \"photosynthesize\" (react) to only so much, and at preset frequencies.\n",
    "\n",
    "Simply playing the music louder, at greater intensity, will not necessarily catalyze all the connections.  \n",
    "\n",
    "One must hit the high notes, to catalyze some of the target electronics.  Low notes are needed too, to satisfy the trained ear."
   ]
  }
 ],
 "metadata": {
  "kernelspec": {
   "display_name": "Python 3 (ipykernel)",
   "language": "python",
   "name": "python3"
  },
  "language_info": {
   "codemirror_mode": {
    "name": "ipython",
    "version": 3
   },
   "file_extension": ".py",
   "mimetype": "text/x-python",
   "name": "python",
   "nbconvert_exporter": "python",
   "pygments_lexer": "ipython3",
   "version": "3.9.15"
  }
 },
 "nbformat": 4,
 "nbformat_minor": 5
}
