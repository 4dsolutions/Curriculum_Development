{
 "cells": [
  {
   "cell_type": "markdown",
   "metadata": {},
   "source": [
    "# On the Road with Data Science Tools\n",
    "\n",
    "If you're able to install the litany of packages imported below, you're in good shape to do some real data science computing.  \n",
    "\n",
    "You'll have access to probability curves galore (the pdfs, controlled by their parameters), and their corresponding cdfs.  You'll have ways to sample, and ways to go back and forth, from probability to zscore, from zscore to probability.\n",
    "\n",
    "What's a zscore again?  That's not an idea from Python, but from statistics, and you might think of z for Zone.  If \"mean\" $\\mu$ is the middle fence, then on either side, you're some distance from the fence, if not sitting right on it.  How far away from the fence are you?  We calibrate in Zones (z zones) with grid lines across the field every standard deviation away."
   ]
  },
  {
   "cell_type": "code",
   "execution_count": 29,
   "metadata": {},
   "outputs": [
    {
     "name": "stdout",
     "output_type": "stream",
     "text": [
      "matplotlib 3.1.3\n",
      "numpy: 1.17.3\n",
      "scipy: 1.4.1\n",
      "seaborn: 0.10.0\n",
      "pandas: 1.0.3\n"
     ]
    }
   ],
   "source": [
    "# Python Standard Library\n",
    "import math\n",
    "import sys\n",
    "\n",
    "# 3rd party, might need to conda or pip install\n",
    "import pandas as pd\n",
    "import numpy as np\n",
    "import matplotlib.pyplot as plt\n",
    "import matplotlib\n",
    "from scipy.stats import norm, zscore\n",
    "import scipy\n",
    "import seaborn as sns\n",
    "\n",
    "print(\"matplotlib\", matplotlib.__version__)\n",
    "print(\"numpy:\", np.__version__)\n",
    "print(\"scipy:\", scipy.__version__)\n",
    "print(\"seaborn:\", sns.__version__)\n",
    "print(\"pandas:\", pd.__version__)"
   ]
  },
  {
   "cell_type": "code",
   "execution_count": 30,
   "metadata": {},
   "outputs": [
    {
     "name": "stdout",
     "output_type": "stream",
     "text": [
      "python itself: 3.7.7 (default, Mar 26 2020, 10:32:53) \n",
      "[Clang 4.0.1 (tags/RELEASE_401/final)]\n"
     ]
    }
   ],
   "source": [
    "print(\"python itself:\", sys.version)\n",
    "sys.path.append(\"./python\")  # local subfolder"
   ]
  },
  {
   "cell_type": "markdown",
   "metadata": {},
   "source": [
    "What's [standard deviation](https://en.wikipedia.org/wiki/Standard_deviation) again?  That's a number you may compute.  Get the mean first...\n",
    "\n",
    "$$\n",
    "A={\\frac {1}{n}}\\sum _{i=1}^{n}a_{i}={\\frac {a_{1}+a_{2}+\\cdots +a_{n}}{n}}\n",
    "$$\n",
    "\n",
    "then sum the 2nd powers (picture squares or triangles, many deltas) for all the differences, and divide by how many. Call that the variance, or \"average of 2nd power differences\".\n",
    "\n",
    "$$\n",
    "V = \\sigma^{2}\n",
    "$$\n",
    "\n",
    "Now take the 2nd root of variance and you're done, you have the standard deviation at last.\n",
    "\n",
    "$$\n",
    "\\sigma = \\sqrt {\\frac{1}{N}\\sum\\limits_{i = 1}^N {\\left( {x_i - \\bar x} \\right)^2 } }\n",
    "$$"
   ]
  },
  {
   "cell_type": "code",
   "execution_count": 44,
   "metadata": {},
   "outputs": [
    {
     "name": "stdout",
     "output_type": "stream",
     "text": [
      "Spelled out...\n",
      "x_bar =  -0.24\n",
      "x_var =  4.8024000000000004\n",
      "x_std =  2.191437884129961\n",
      "Or let numpy do it...\n",
      "x_bar =  -0.24\n",
      "x_var =  4.8024000000000004\n",
      "x_std =  2.191437884129961\n"
     ]
    }
   ],
   "source": [
    "sample = np.random.choice(range(-4,4), size=100, replace=True)\n",
    "x_bar = sample.sum()/len(sample)\n",
    "x_var = ((sample - x_bar)**2).sum()/len(sample)\n",
    "x_std = np.sqrt(x_var)\n",
    "\n",
    "print(\"Spelled out...\")\n",
    "print(\"x_bar = \",x_bar)\n",
    "print(\"x_var = \",x_var)\n",
    "print(\"x_std = \",x_std)\n",
    "\n",
    "print(\"Or let numpy do it...\")\n",
    "print(\"x_bar = \", sample.mean())\n",
    "print(\"x_var = \", sample.var())\n",
    "print(\"x_std = \", sample.std())"
   ]
  },
  {
   "cell_type": "code",
   "execution_count": 31,
   "metadata": {},
   "outputs": [],
   "source": [
    "from statsfun import pascal"
   ]
  },
  {
   "cell_type": "markdown",
   "metadata": {},
   "source": [
    "## Pascal's Triangle\n",
    "\n",
    "The rows of Pascal's Triangle each form a binomial distribution."
   ]
  },
  {
   "cell_type": "code",
   "execution_count": 4,
   "metadata": {},
   "outputs": [
    {
     "data": {
      "text/plain": [
       "[1,\n",
       " 15,\n",
       " 105,\n",
       " 455,\n",
       " 1365,\n",
       " 3003,\n",
       " 5005,\n",
       " 6435,\n",
       " 6435,\n",
       " 5005,\n",
       " 3003,\n",
       " 1365,\n",
       " 455,\n",
       " 105,\n",
       " 15,\n",
       " 1]"
      ]
     },
     "execution_count": 4,
     "metadata": {},
     "output_type": "execute_result"
    }
   ],
   "source": [
    "row  = 15\n",
    "data = pascal(row)\n",
    "data"
   ]
  },
  {
   "cell_type": "code",
   "execution_count": 5,
   "metadata": {},
   "outputs": [],
   "source": [
    "%matplotlib inline"
   ]
  },
  {
   "cell_type": "code",
   "execution_count": 6,
   "metadata": {},
   "outputs": [
    {
     "data": {
      "image/png": "[encoded data removed]",
      "text/plain": [
       "<Figure size 720x360 with 2 Axes>"
      ]
     },
     "metadata": {
      "needs_background": "light"
     },
     "output_type": "display_data"
    }
   ],
   "source": [
    "fig  = plt.figure(figsize=(10,5))\n",
    "ax1   = plt.subplot('121')  # I will explain\n",
    "rect = ax1.patch  # a Rectangle instance\n",
    "rect.set_facecolor('black')\n",
    "\n",
    "plt.title(\"Row {} of Pascal's Triangle\".format(row))\n",
    "ax1.set_xlabel('Index of Coefficient')\n",
    "ax1.set_ylabel('Value')\n",
    "plt.plot(data, color=\"orange\")\n",
    "\n",
    "ax2   = plt.subplot('122', sharey=ax1)  # I will explain\n",
    "rect = ax2.patch  # a Rectangle instance\n",
    "rect.set_facecolor('black')\n",
    "plt.setp(ax2.get_yticklabels(), visible=False)\n",
    "\n",
    "plt.title(\"Bar View\".format(row))\n",
    "ax2.set_xlabel('Index of Coefficient')\n",
    "plt.bar(range(len(data)), data, color=\"orange\");\n",
    "\n",
    "fig.tight_layout()\n",
    "plt.show();"
   ]
  },
  {
   "cell_type": "markdown",
   "metadata": {},
   "source": [
    "## Standard Normal Distribution"
   ]
  },
  {
   "cell_type": "code",
   "execution_count": 7,
   "metadata": {},
   "outputs": [
    {
     "data": {
      "image/png": "[encoded data removed]",
      "text/plain": [
       "<Figure size 432x288 with 1 Axes>"
      ]
     },
     "metadata": {
      "needs_background": "light"
     },
     "output_type": "display_data"
    }
   ],
   "source": [
    "domain = np.linspace(-4,4,1000)  # 1000 equally spaced points between -4 and 4 inclusive\n",
    "y = norm.pdf(domain, 0, 1)       # from scipy.stats\n",
    "plt.plot(domain,y);              # total area under pdf == 1"
   ]
  },
  {
   "cell_type": "markdown",
   "metadata": {},
   "source": [
    "## IQ Data\n",
    "\n",
    "IQ data is often used to impart normal distribution concepts, because it's designed to have specific characteristics.  The standard deviation is defined to be 15 points, meaning every 15 points away from 100 represents one standard deviation, or a z-score of 1.0.\n",
    "\n",
    "The z-score represents a score in terms of z-units or standard deviation units.  The probability of having a z-score of 3 or above, is the same as the probability as an IQ score of 100 + 15 + 15 + 15.  \n",
    "\n",
    "Find the cummulative probability using the ```norm.cdf``` with the actual IQ score, given you already have a normal distribution with $\\mu$ = 100 and $\\sigma$ = 15."
   ]
  },
  {
   "cell_type": "code",
   "execution_count": 8,
   "metadata": {},
   "outputs": [
    {
     "data": {
      "image/png": "[encoded data removed]",
      "text/plain": [
       "<Figure size 432x288 with 1 Axes>"
      ]
     },
     "metadata": {
      "needs_background": "light"
     },
     "output_type": "display_data"
    }
   ],
   "source": [
    "domain = np.linspace(0,200,1000)\n",
    "y = norm.pdf(domain, 100, 5)\n",
    "plt.plot(domain,y);"
   ]
  },
  {
   "cell_type": "code",
   "execution_count": 9,
   "metadata": {},
   "outputs": [
    {
     "data": {
      "text/plain": [
       "3.0"
      ]
     },
     "execution_count": 9,
     "metadata": {},
     "output_type": "execute_result"
    }
   ],
   "source": [
    "def z_score(x, mu, sigma, n=1):\n",
    "    return (x - mu)/(sigma/math.sqrt(n))\n",
    "\n",
    "z = z_score(115, 100, 5) # one standard deviation above mean\n",
    "z"
   ]
  },
  {
   "cell_type": "markdown",
   "metadata": {},
   "source": [
    "Lets create a standard normal distribution.  Now that we have the z-score, the probability of having an IQ of 115 or below is about 84%."
   ]
  },
  {
   "cell_type": "code",
   "execution_count": 10,
   "metadata": {},
   "outputs": [
    {
     "data": {
      "text/plain": [
       "0.9986501019683699"
      ]
     },
     "execution_count": 10,
     "metadata": {},
     "output_type": "execute_result"
    }
   ],
   "source": [
    "d = norm(0, 1) # standard normal distribution\n",
    "d.cdf(z)"
   ]
  },
  {
   "cell_type": "code",
   "execution_count": 11,
   "metadata": {},
   "outputs": [
    {
     "data": {
      "text/plain": [
       "0.9986501019683699"
      ]
     },
     "execution_count": 11,
     "metadata": {},
     "output_type": "execute_result"
    }
   ],
   "source": [
    "d = norm(loc=100.0, scale=5.0) # back to the original bell curve\n",
    "d.cdf(115)  # same answer as before"
   ]
  },
  {
   "cell_type": "markdown",
   "metadata": {},
   "source": [
    "The probability of having an IQ of 115 or above is simply 1 minus the previous result."
   ]
  },
  {
   "cell_type": "code",
   "execution_count": 12,
   "metadata": {},
   "outputs": [
    {
     "data": {
      "text/plain": [
       "0.15865525393145707"
      ]
     },
     "execution_count": 12,
     "metadata": {},
     "output_type": "execute_result"
    }
   ],
   "source": [
    "d = norm(loc=100.0, scale=15.0)\n",
    "1 - d.cdf(115)"
   ]
  },
  {
   "cell_type": "code",
   "execution_count": 13,
   "metadata": {},
   "outputs": [
    {
     "data": {
      "text/plain": [
       "-0.4666666666666667"
      ]
     },
     "execution_count": 13,
     "metadata": {},
     "output_type": "execute_result"
    }
   ],
   "source": [
    "z = z_score(93, 100, 15) # adjusted for sample size\n",
    "z"
   ]
  },
  {
   "cell_type": "code",
   "execution_count": 14,
   "metadata": {},
   "outputs": [
    {
     "data": {
      "text/plain": [
       "0.32036919090127036"
      ]
     },
     "execution_count": 14,
     "metadata": {},
     "output_type": "execute_result"
    }
   ],
   "source": [
    "d = norm(0, 1)\n",
    "d.cdf(z)"
   ]
  },
  {
   "cell_type": "code",
   "execution_count": 15,
   "metadata": {},
   "outputs": [
    {
     "data": {
      "text/plain": [
       "0.32036919090127036"
      ]
     },
     "execution_count": 15,
     "metadata": {},
     "output_type": "execute_result"
    }
   ],
   "source": [
    "d = norm(100, 15)\n",
    "d.cdf(93) # again, same answer"
   ]
  },
  {
   "cell_type": "code",
   "execution_count": 16,
   "metadata": {},
   "outputs": [
    {
     "data": {
      "text/plain": [
       "0.8413447460685429"
      ]
     },
     "execution_count": 16,
     "metadata": {},
     "output_type": "execute_result"
    }
   ],
   "source": [
    "z = z_score(115, 100, 15)\n",
    "d = norm(0, 1)\n",
    "d.cdf(z)"
   ]
  },
  {
   "cell_type": "code",
   "execution_count": 17,
   "metadata": {},
   "outputs": [
    {
     "data": {
      "text/plain": [
       "1.0"
      ]
     },
     "execution_count": 17,
     "metadata": {},
     "output_type": "execute_result"
    }
   ],
   "source": [
    "z"
   ]
  },
  {
   "cell_type": "code",
   "execution_count": 18,
   "metadata": {},
   "outputs": [
    {
     "data": {
      "text/plain": [
       "1.0"
      ]
     },
     "execution_count": 18,
     "metadata": {},
     "output_type": "execute_result"
    }
   ],
   "source": [
    "d.ppf(0.8413447460685429)  # going backwards from cumulative population to z-score"
   ]
  },
  {
   "cell_type": "markdown",
   "metadata": {},
   "source": [
    "# Three Sigma Rule\n",
    "\n",
    "* Plus/minus 1 sigma from mean:  about 68.2% of a population\n",
    "* Plus/minus 2 sigmas from mean: about 95.4% of a population\n",
    "* Plus/minus 3 sigmas from mean: about 99.7% of a population"
   ]
  },
  {
   "cell_type": "code",
   "execution_count": 19,
   "metadata": {},
   "outputs": [
    {
     "data": {
      "text/plain": [
       "0.6826894921370859"
      ]
     },
     "execution_count": 19,
     "metadata": {},
     "output_type": "execute_result"
    }
   ],
   "source": [
    "d = norm(100, 15)\n",
    "d.cdf(100+15) - d.cdf(100-15)"
   ]
  },
  {
   "cell_type": "code",
   "execution_count": 20,
   "metadata": {},
   "outputs": [
    {
     "data": {
      "text/plain": [
       "0.9544997361036416"
      ]
     },
     "execution_count": 20,
     "metadata": {},
     "output_type": "execute_result"
    }
   ],
   "source": [
    "d = norm(100, 15)\n",
    "d.cdf(100+2*15) - d.cdf(100-2*15)"
   ]
  },
  {
   "cell_type": "code",
   "execution_count": 21,
   "metadata": {},
   "outputs": [
    {
     "data": {
      "text/plain": [
       "0.9973002039367398"
      ]
     },
     "execution_count": 21,
     "metadata": {},
     "output_type": "execute_result"
    }
   ],
   "source": [
    "d = norm(100, 15)\n",
    "d.cdf(100+3*15) - d.cdf(100-3*15)"
   ]
  },
  {
   "cell_type": "markdown",
   "metadata": {},
   "source": [
    "### Shading Areas Under the Curve"
   ]
  },
  {
   "cell_type": "code",
   "execution_count": 22,
   "metadata": {},
   "outputs": [],
   "source": [
    "def draw_z_score(x, cond, mu, sigma, title):\n",
    "    y = norm.pdf(x, mu, sigma)\n",
    "    z = x[cond]\n",
    "    plt.plot(x, y)\n",
    "    plt.fill_between(z, 0, norm.pdf(z, mu, sigma))\n",
    "    plt.title(title)\n",
    "    plt.show()"
   ]
  },
  {
   "cell_type": "code",
   "execution_count": 23,
   "metadata": {},
   "outputs": [
    {
     "data": {
      "text/plain": [
       "0.6826894921370859"
      ]
     },
     "execution_count": 23,
     "metadata": {},
     "output_type": "execute_result"
    }
   ],
   "source": [
    "d.cdf(115)-d.cdf(100-15)"
   ]
  },
  {
   "cell_type": "code",
   "execution_count": 24,
   "metadata": {},
   "outputs": [
    {
     "data": {
      "image/png": "[encoded data removed]",
      "text/plain": [
       "<Figure size 432x288 with 1 Axes>"
      ]
     },
     "metadata": {
      "needs_background": "light"
     },
     "output_type": "display_data"
    }
   ],
   "source": [
    "domain = np.arange(0, 200, 0.001)\n",
    "draw_z_score(domain, domain>115, 100, 15, 'z > 115')"
   ]
  },
  {
   "cell_type": "code",
   "execution_count": 25,
   "metadata": {},
   "outputs": [
    {
     "data": {
      "image/png": "[encoded data removed]",
      "text/plain": [
       "<Figure size 432x288 with 1 Axes>"
      ]
     },
     "metadata": {
      "needs_background": "light"
     },
     "output_type": "display_data"
    }
   ],
   "source": [
    "from numpy import random\n",
    "sns.distplot(random.normal(loc=100, scale=15, size=1000), hist=True)\n",
    "plt.show() "
   ]
  },
  {
   "cell_type": "code",
   "execution_count": 26,
   "metadata": {},
   "outputs": [
    {
     "data": {
      "image/png": "[encoded data removed]",
      "text/plain": [
       "<Figure size 432x288 with 1 Axes>"
      ]
     },
     "metadata": {
      "needs_background": "light"
     },
     "output_type": "display_data"
    }
   ],
   "source": [
    "x = np.arange(-3,3,0.001)\n",
    "z0 = -0.75\n",
    "draw_z_score(x, x<z0, 0, 1, 'z<-0.75')"
   ]
  },
  {
   "cell_type": "code",
   "execution_count": 27,
   "metadata": {},
   "outputs": [
    {
     "data": {
      "image/png": "[encoded data removed]",
      "text/plain": [
       "<Figure size 432x288 with 1 Axes>"
      ]
     },
     "metadata": {
      "needs_background": "light"
     },
     "output_type": "display_data"
    }
   ],
   "source": [
    "x = np.arange(-3,3,0.001)\n",
    "z0 = 0.75\n",
    "draw_z_score(x, (-z0 < x) & (x < z0), 0, 1, '-0.75<z<0.75')"
   ]
  },
  {
   "cell_type": "code",
   "execution_count": 28,
   "metadata": {},
   "outputs": [
    {
     "data": {
      "image/png": "[encoded data removed]",
      "text/plain": [
       "<Figure size 432x288 with 1 Axes>"
      ]
     },
     "metadata": {
      "needs_background": "light"
     },
     "output_type": "display_data"
    }
   ],
   "source": [
    "x = np.arange(-3,3,0.001)\n",
    "z0 = 0.75\n",
    "draw_z_score(x, x > z0, 0, 1, ' z> 0.75')"
   ]
  },
  {
   "cell_type": "markdown",
   "metadata": {},
   "source": [
    "![overview](http://greenteapress.com/thinkstats2/html/thinkstats2026.png)\n",
    "\n",
    "Figure 6.2: A framework that relates representations of distribution functions.\n",
    "\n",
    "*Think Stats* by Allen B. Downing\n",
    "ISBN-13: 978-1491907337\n",
    "ISBN-10: 1491907339 "
   ]
  },
  {
   "cell_type": "markdown",
   "metadata": {},
   "source": [
    "[Hypothesis Testing](http://greenteapress.com/thinkstats2/html/thinkstats2010.html#sec95)\n",
    "*Ibid.*"
   ]
  }
 ],
 "metadata": {
  "kernelspec": {
   "display_name": "Python 3",
   "language": "python",
   "name": "python3"
  },
  "language_info": {
   "codemirror_mode": {
    "name": "ipython",
    "version": 3
   },
   "file_extension": ".py",
   "mimetype": "text/x-python",
   "name": "python",
   "nbconvert_exporter": "python",
   "pygments_lexer": "ipython3",
   "version": "3.7.7"
  }
 },
 "nbformat": 4,
 "nbformat_minor": 4
}
