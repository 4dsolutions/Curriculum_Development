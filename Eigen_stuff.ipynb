{
 "cells": [
  {
   "cell_type": "markdown",
   "metadata": {},
   "source": [
    "# Python and Linear Algebra\n",
    "\n",
    "Insofar as data science is grounded mathematics, we have seen probability at work.  Next we should talk about linear algebra.\n",
    "\n",
    "Think of the primary colors used in most computer graphics. If you have Red, Green and Blue as primary \"directions\" (we could call them vectors) then you're able to describe any color by means of a recipe: this much red, blue and green.\n",
    "\n",
    "When you're confronted with a dataset and hope to study it for predictive power, you're looking for a minimal set of primary features, a basis, that will prove maximally determinative and let you address every data point in the corpus, without overfitting.  \n",
    "\n",
    "What features matter most?  Linear algebra has some techniques for discovering some answers.\n",
    "\n",
    "Imagine a postal service where you had no idea in what order the addressing elements were scrambled. The differences of greatest geographical distance, such as continent or nation, might come at the top, or somewhere in the middle. \n",
    "\n",
    "With linear algebra, we discover what features that we have (are able to measure), vary the most, span the greatest distance.  Then we find the next most varying coordinate (address component), such as city or zip, then the street, and so on.\n",
    "\n",
    "Perhaps we only needed to be in the ballpark.  Actual street address or room number, or table leg is overkill, in terms of zooming in on some location.  The extra precision is of no consequence, given our marketing strategy.  So linear algebra has helped us dismiss the irrelevant.\n",
    "\n",
    "Once we know how to order the dimensions, we know which ones we might safely dispense with. Such is one purpose of singular value decomposition (SVD), such as when used in principal components analysis, to project from higher to lower dimensional spaces.  That's what homeomorphism is all about (versus isomorphism, which doesn't allow for lossy compression).\n",
    "\n",
    "If you didn't already know about R, G, B you might have a hard time working backwards (reverse engineering) starting from the millions of colors, to get just those three, or four in the case of C, Y, M, K.  \n",
    "\n",
    "Given any data set, you'll be looking for the principal components, or factors, that seem to explain (predict) most of the data (future outcomes).\n",
    "\n",
    "This idea relates to eigenvectors and eigenvalues, which stem from methods for finding the axes of rotation in a dataset, such that instead of rotating ourselves (and getting dizzy) we see more of the simpler linear relationships. \n",
    "\n",
    "We've like discovered a control panel or \"more with less\" API.\n",
    "\n",
    "If by turning this dial, I make the lights dim, and by flipping this switch, I make something else happen, then I feel I've got my mind wrapped around a working model at last.  \n",
    "\n",
    "I'm in the driver's seat, at least in terms of understanding the most with the least.  If I'm able to generate what appear to be believable vistas from my model (using a model to simulate new data), such as we find in the real world -- like with fractals -- then maybe I'm onto something, in terms of finally having a handle on what we're dealing with here.\n",
    "\n",
    "Eigenvectors are the directions in which a transformation may be regarded as purely linear, and the corresponding eigenvalues have to do with by how much (designated with $\\lambda$), by what scale or weight."
   ]
  },
  {
   "cell_type": "markdown",
   "metadata": {},
   "source": [
    "Before we dive in too deeply, lets add T for Transpose to our vocabulary. Given a rectangle of numbers (matrix), turning rows into columns and columns into rows, is known as transposing the matrix."
   ]
  },
  {
   "cell_type": "code",
   "execution_count": 1,
   "metadata": {},
   "outputs": [],
   "source": [
    "import numpy as np\n",
    "rng = np.random.default_rng(42) # one ring to rule them all..."
   ]
  },
  {
   "cell_type": "code",
   "execution_count": 2,
   "metadata": {},
   "outputs": [
    {
     "data": {
      "text/plain": [
       "array([[0, 1, 2, 3, 4],\n",
       "       [5, 6, 7, 8, 9]])"
      ]
     },
     "execution_count": 2,
     "metadata": {},
     "output_type": "execute_result"
    }
   ],
   "source": [
    "A = np.array(range(10)).reshape(2,5) # two rows, five columns\n",
    "A  # show me!"
   ]
  },
  {
   "cell_type": "markdown",
   "metadata": {},
   "source": [
    "A lot of the time, you'll have a lying down vector you'll want to stand up and \"stand tall\" (turn a row vector into a column vector).  Note that when numpy arrays are born, of lower life forms, such as Python lists and ranges, they have only one dimension, not even rows and columns yet.  They're not really in condition to play matrix multiplication games at all, until \"hardened\" with at least one row and one column."
   ]
  },
  {
   "cell_type": "markdown",
   "metadata": {},
   "source": [
    "![transpose](https://i.imgur.com/16Afrj1.gif)"
   ]
  },
  {
   "cell_type": "code",
   "execution_count": 3,
   "metadata": {},
   "outputs": [
    {
     "data": {
      "text/plain": [
       "array([[0, 5],\n",
       "       [1, 6],\n",
       "       [2, 7],\n",
       "       [3, 8],\n",
       "       [4, 9]])"
      ]
     },
     "execution_count": 3,
     "metadata": {},
     "output_type": "execute_result"
    }
   ],
   "source": [
    "B = A.T\n",
    "B"
   ]
  },
  {
   "cell_type": "code",
   "execution_count": 4,
   "metadata": {},
   "outputs": [
    {
     "data": {
      "text/plain": [
       "1"
      ]
     },
     "execution_count": 4,
     "metadata": {},
     "output_type": "execute_result"
    }
   ],
   "source": [
    "limp_spaghetti = np.array(range(10))\n",
    "limp_spaghetti.ndim"
   ]
  },
  {
   "cell_type": "code",
   "execution_count": 5,
   "metadata": {},
   "outputs": [
    {
     "data": {
      "text/plain": [
       "array([0, 1, 2, 3, 4, 5, 6, 7, 8, 9])"
      ]
     },
     "execution_count": 5,
     "metadata": {},
     "output_type": "execute_result"
    }
   ],
   "source": [
    "limp_spaghetti"
   ]
  },
  {
   "cell_type": "markdown",
   "metadata": {},
   "source": [
    "Matrix multiplication is working just fine, so I must have exaggerated."
   ]
  },
  {
   "cell_type": "code",
   "execution_count": 6,
   "metadata": {},
   "outputs": [
    {
     "data": {
      "text/plain": [
       "285"
      ]
     },
     "execution_count": 6,
     "metadata": {},
     "output_type": "execute_result"
    }
   ],
   "source": [
    "limp_spaghetti @ limp_spaghetti"
   ]
  },
  {
   "cell_type": "code",
   "execution_count": 7,
   "metadata": {},
   "outputs": [
    {
     "data": {
      "text/plain": [
       "2"
      ]
     },
     "execution_count": 7,
     "metadata": {},
     "output_type": "execute_result"
    }
   ],
   "source": [
    "# means one row, take as many columns as you need\n",
    "hard_spaghetti = limp_spaghetti.reshape(1, -1) \n",
    "hard_spaghetti.ndim"
   ]
  },
  {
   "cell_type": "code",
   "execution_count": 8,
   "metadata": {},
   "outputs": [
    {
     "data": {
      "text/plain": [
       "array([[0, 1, 2, 3, 4, 5, 6, 7, 8, 9]])"
      ]
     },
     "execution_count": 8,
     "metadata": {},
     "output_type": "execute_result"
    }
   ],
   "source": [
    "hard_spaghetti"
   ]
  },
  {
   "cell_type": "code",
   "execution_count": 9,
   "metadata": {},
   "outputs": [
    {
     "data": {
      "text/plain": [
       "(1, 10)"
      ]
     },
     "execution_count": 9,
     "metadata": {},
     "output_type": "execute_result"
    }
   ],
   "source": [
    "hard_spaghetti.shape"
   ]
  },
  {
   "cell_type": "code",
   "execution_count": 10,
   "metadata": {},
   "outputs": [
    {
     "data": {
      "text/plain": [
       "array([[ 0,  1,  4,  9, 16, 25, 36, 49, 64, 81]])"
      ]
     },
     "execution_count": 10,
     "metadata": {},
     "output_type": "execute_result"
    }
   ],
   "source": [
    "hard_spaghetti * hard_spaghetti # elementwise multiplication is different"
   ]
  },
  {
   "cell_type": "code",
   "execution_count": 11,
   "metadata": {},
   "outputs": [
    {
     "name": "stdout",
     "output_type": "stream",
     "text": [
      "No the dimensions don't work here\n"
     ]
    }
   ],
   "source": [
    "try:\n",
    "    hard_spaghetti @ hard_spaghetti\n",
    "except:\n",
    "    print(\"No the dimensions don't work here\")"
   ]
  },
  {
   "cell_type": "code",
   "execution_count": 12,
   "metadata": {},
   "outputs": [
    {
     "data": {
      "text/plain": [
       "array([[285]])"
      ]
     },
     "execution_count": 12,
     "metadata": {},
     "output_type": "execute_result"
    }
   ],
   "source": [
    "hard_spaghetti @ hard_spaghetti.T"
   ]
  },
  {
   "cell_type": "code",
   "execution_count": 13,
   "metadata": {},
   "outputs": [
    {
     "data": {
      "text/plain": [
       "array([[ 0,  0,  0,  0,  0,  0,  0,  0,  0,  0],\n",
       "       [ 0,  1,  2,  3,  4,  5,  6,  7,  8,  9],\n",
       "       [ 0,  2,  4,  6,  8, 10, 12, 14, 16, 18],\n",
       "       [ 0,  3,  6,  9, 12, 15, 18, 21, 24, 27],\n",
       "       [ 0,  4,  8, 12, 16, 20, 24, 28, 32, 36],\n",
       "       [ 0,  5, 10, 15, 20, 25, 30, 35, 40, 45],\n",
       "       [ 0,  6, 12, 18, 24, 30, 36, 42, 48, 54],\n",
       "       [ 0,  7, 14, 21, 28, 35, 42, 49, 56, 63],\n",
       "       [ 0,  8, 16, 24, 32, 40, 48, 56, 64, 72],\n",
       "       [ 0,  9, 18, 27, 36, 45, 54, 63, 72, 81]])"
      ]
     },
     "execution_count": 13,
     "metadata": {},
     "output_type": "execute_result"
    }
   ],
   "source": [
    "hard_spaghetti.T @ hard_spaghetti"
   ]
  },
  {
   "cell_type": "markdown",
   "metadata": {},
   "source": [
    "That there (what you just witnessed) is ```@``` and/or ```__matmul__``` in action, newly an overloadable operator [in standard Python as well](https://www.python.org/dev/peps/pep-0465/). \n",
    "\n",
    "The all-important algorithm (credited to whom again?) is also triggered by ```np.dot(A, B)``` in the 3rd party [numpy library](https://numpy.org/doc/stable/reference/generated/numpy.dot.html), already imported up top if you were paying attention.\n",
    "\n",
    "In theory, the 2nd dimension of the left argument has to match the first dimension of the 2nd argument.  \n",
    "\n",
    "With an N x 1 column vector, and a 1 x M row vector (or even N, as above), that can work.  Or maybe it's an M x N matrix times an N x P matrix.  In both cases, the column dimension of the first matches the row dimension of the 2nd."
   ]
  },
  {
   "cell_type": "code",
   "execution_count": 14,
   "metadata": {},
   "outputs": [
    {
     "data": {
      "text/plain": [
       "array([[-193,  -49,   75],\n",
       "       [ -81,  -52,  -31],\n",
       "       [  92,  157,  -16],\n",
       "       [  52,  308,   36],\n",
       "       [  91,  -74, -141],\n",
       "       [  66,  -20,   -5],\n",
       "       [  24,  158,   33]])"
      ]
     },
     "execution_count": 14,
     "metadata": {},
     "output_type": "execute_result"
    }
   ],
   "source": [
    "A_backup = A\n",
    "\n",
    "M = 7\n",
    "N = 10\n",
    "P = 3\n",
    "\n",
    "A = np.array(rng.integers(-10, 11, size = M*N)).reshape(M,N)\n",
    "B = np.array(rng.integers(-10, 11, size = N*P)).reshape(N,P)\n",
    "A @ B"
   ]
  },
  {
   "cell_type": "code",
   "execution_count": 15,
   "metadata": {},
   "outputs": [
    {
     "data": {
      "text/plain": [
       "array([[  7],\n",
       "       [ -6],\n",
       "       [  6],\n",
       "       [-10],\n",
       "       [  6],\n",
       "       [  6],\n",
       "       [  6],\n",
       "       [  3],\n",
       "       [ -1],\n",
       "       [  4]])"
      ]
     },
     "execution_count": 15,
     "metadata": {},
     "output_type": "execute_result"
    }
   ],
   "source": [
    "A = np.array(rng.integers(-10, 11, size = N)).reshape(N,1)\n",
    "B = np.array(rng.integers(-10, 11, size = M)).reshape(1,M)\n",
    "A"
   ]
  },
  {
   "cell_type": "code",
   "execution_count": 16,
   "metadata": {},
   "outputs": [
    {
     "data": {
      "text/plain": [
       "array([[ -5,   6,   1,  -1,   0,   1, -10]])"
      ]
     },
     "execution_count": 16,
     "metadata": {},
     "output_type": "execute_result"
    }
   ],
   "source": [
    "B"
   ]
  },
  {
   "cell_type": "code",
   "execution_count": 17,
   "metadata": {},
   "outputs": [
    {
     "data": {
      "text/plain": [
       "array([[-35,  42,   7,  -7,   0,   7, -70],\n",
       "       [ 30, -36,  -6,   6,   0,  -6,  60],\n",
       "       [-30,  36,   6,  -6,   0,   6, -60],\n",
       "       [ 50, -60, -10,  10,   0, -10, 100],\n",
       "       [-30,  36,   6,  -6,   0,   6, -60],\n",
       "       [-30,  36,   6,  -6,   0,   6, -60],\n",
       "       [-30,  36,   6,  -6,   0,   6, -60],\n",
       "       [-15,  18,   3,  -3,   0,   3, -30],\n",
       "       [  5,  -6,  -1,   1,   0,  -1,  10],\n",
       "       [-20,  24,   4,  -4,   0,   4, -40]])"
      ]
     },
     "execution_count": 17,
     "metadata": {},
     "output_type": "execute_result"
    }
   ],
   "source": [
    "C = A @ B\n",
    "C"
   ]
  },
  {
   "cell_type": "markdown",
   "metadata": {},
   "source": [
    "Just for fun lets review what it means to normalize our data columns, as before feeding to some Machine Learning algorithms, as well as to PCA itself, this step is a part of routine data cleaning."
   ]
  },
  {
   "cell_type": "code",
   "execution_count": 18,
   "metadata": {},
   "outputs": [],
   "source": [
    "from scipy.stats import zscore"
   ]
  },
  {
   "cell_type": "code",
   "execution_count": 19,
   "metadata": {},
   "outputs": [],
   "source": [
    "mask = (C == 0).all(0)\n",
    "column_indices = np.where(mask)[0]\n",
    "# Update C to only include the columns where non-zero values occur.\n",
    "C = C[:,~mask] # all rows, not these columns"
   ]
  },
  {
   "cell_type": "code",
   "execution_count": 20,
   "metadata": {},
   "outputs": [
    {
     "data": {
      "text/plain": [
       "array([[-0.88,  0.88,  0.88, -0.88,  0.88, -0.88],\n",
       "       [ 1.45, -1.45, -1.45,  1.45, -1.45,  1.45],\n",
       "       [-0.7 ,  0.7 ,  0.7 , -0.7 ,  0.7 , -0.7 ],\n",
       "       [ 2.17, -2.17, -2.17,  2.17, -2.17,  2.17],\n",
       "       [-0.7 ,  0.7 ,  0.7 , -0.7 ,  0.7 , -0.7 ],\n",
       "       [-0.7 ,  0.7 ,  0.7 , -0.7 ,  0.7 , -0.7 ],\n",
       "       [-0.7 ,  0.7 ,  0.7 , -0.7 ,  0.7 , -0.7 ],\n",
       "       [-0.16,  0.16,  0.16, -0.16,  0.16, -0.16],\n",
       "       [ 0.56, -0.56, -0.56,  0.56, -0.56,  0.56],\n",
       "       [-0.34,  0.34,  0.34, -0.34,  0.34, -0.34]])"
      ]
     },
     "execution_count": 20,
     "metadata": {},
     "output_type": "execute_result"
    }
   ],
   "source": [
    "np.round(zscore(C), 2)"
   ]
  },
  {
   "cell_type": "markdown",
   "metadata": {},
   "source": [
    "#### In sum...\n",
    "\n",
    "A rectangular matrix multiplied by its own transpose gives a square matix.  \n",
    "\n",
    "However we've seen  \"multiplication\" in the sense of ```@``` or ```__matmul__``` is not elementwise. Additing and subtraction would elementwise also, unless we're talking about broadcasting, a way in which numpy is smart enough to find the applicable axis.  \n",
    "\n",
    "In the case of \"matrix multiply\" we really mean to take the dot product.\n",
    "\n",
    "In other words, numpy gives us two convenient ways to take the dot product of two matrices.  \n",
    "\n",
    "Either matrix may be only a single row or column, in which case we may refer to it as a row or column vector, or just a vector for short."
   ]
  },
  {
   "cell_type": "code",
   "execution_count": 21,
   "metadata": {},
   "outputs": [
    {
     "data": {
      "text/plain": [
       "array([[-35,  42,   7,  -7,   0,   7, -70],\n",
       "       [ 30, -36,  -6,   6,   0,  -6,  60],\n",
       "       [-30,  36,   6,  -6,   0,   6, -60],\n",
       "       [ 50, -60, -10,  10,   0, -10, 100],\n",
       "       [-30,  36,   6,  -6,   0,   6, -60],\n",
       "       [-30,  36,   6,  -6,   0,   6, -60],\n",
       "       [-30,  36,   6,  -6,   0,   6, -60],\n",
       "       [-15,  18,   3,  -3,   0,   3, -30],\n",
       "       [  5,  -6,  -1,   1,   0,  -1,  10],\n",
       "       [-20,  24,   4,  -4,   0,   4, -40]])"
      ]
     },
     "execution_count": 21,
     "metadata": {},
     "output_type": "execute_result"
    }
   ],
   "source": [
    "np.dot(A,B)"
   ]
  },
  {
   "cell_type": "code",
   "execution_count": 22,
   "metadata": {},
   "outputs": [
    {
     "data": {
      "text/plain": [
       "array([[-35,  42,   7,  -7,   0,   7, -70],\n",
       "       [ 30, -36,  -6,   6,   0,  -6,  60],\n",
       "       [-30,  36,   6,  -6,   0,   6, -60],\n",
       "       [ 50, -60, -10,  10,   0, -10, 100],\n",
       "       [-30,  36,   6,  -6,   0,   6, -60],\n",
       "       [-30,  36,   6,  -6,   0,   6, -60],\n",
       "       [-30,  36,   6,  -6,   0,   6, -60],\n",
       "       [-15,  18,   3,  -3,   0,   3, -30],\n",
       "       [  5,  -6,  -1,   1,   0,  -1,  10],\n",
       "       [-20,  24,   4,  -4,   0,   4, -40]])"
      ]
     },
     "execution_count": 22,
     "metadata": {},
     "output_type": "execute_result"
    }
   ],
   "source": [
    "A @ B"
   ]
  },
  {
   "cell_type": "markdown",
   "metadata": {},
   "source": [
    "Below is a way to make Jupyter Notebook code cells output all their representations instead of the last expression only."
   ]
  },
  {
   "cell_type": "code",
   "execution_count": 23,
   "metadata": {},
   "outputs": [],
   "source": [
    "from IPython.core.interactiveshell import InteractiveShell\n",
    "InteractiveShell.ast_node_interactivity = \"all\""
   ]
  },
  {
   "cell_type": "code",
   "execution_count": 24,
   "metadata": {},
   "outputs": [
    {
     "data": {
      "text/plain": [
       "array([[0, 1, 2, 3, 4],\n",
       "       [5, 6, 7, 8, 9]])"
      ]
     },
     "execution_count": 24,
     "metadata": {},
     "output_type": "execute_result"
    }
   ],
   "source": [
    "A = A_backup\n",
    "A"
   ]
  },
  {
   "cell_type": "code",
   "execution_count": 25,
   "metadata": {},
   "outputs": [],
   "source": [
    "B = A.T"
   ]
  },
  {
   "cell_type": "code",
   "execution_count": 26,
   "metadata": {},
   "outputs": [
    {
     "data": {
      "text/plain": [
       "array([0, 1, 2, 3, 4])"
      ]
     },
     "execution_count": 26,
     "metadata": {},
     "output_type": "execute_result"
    },
    {
     "data": {
      "text/plain": [
       "array([0, 1, 2, 3, 4])"
      ]
     },
     "execution_count": 26,
     "metadata": {},
     "output_type": "execute_result"
    }
   ],
   "source": [
    "A[0]             # all columns, row 0\n",
    "B[:,0].flatten() # all rows, column 0"
   ]
  },
  {
   "cell_type": "markdown",
   "metadata": {},
   "source": [
    "[What trick was that again?](https://www.dataquest.io/blog/jupyter-notebook-tips-tricks-shortcuts/)  How did we get to see both outputs?\n",
    "\n",
    "For reference, the options for that are 'all', 'none', 'last' and 'last_expr'."
   ]
  },
  {
   "cell_type": "markdown",
   "metadata": {},
   "source": [
    "Remember, the plain old multiplication operator, the asterisk, is an element-wise operator. \n",
    "\n",
    "Since the two vectors are the same, the resulting elementwise multiplication raises each element to a 2nd power."
   ]
  },
  {
   "cell_type": "code",
   "execution_count": 27,
   "metadata": {},
   "outputs": [
    {
     "data": {
      "text/plain": [
       "array([ 0,  1,  4,  9, 16])"
      ]
     },
     "execution_count": 27,
     "metadata": {},
     "output_type": "execute_result"
    }
   ],
   "source": [
    "A[0] * B[:,0].flatten()"
   ]
  },
  {
   "cell_type": "markdown",
   "metadata": {},
   "source": [
    "In this second case, the B column is different.  The dot product would sum these terms as a final operation, distilling the result to a single number."
   ]
  },
  {
   "cell_type": "code",
   "execution_count": 28,
   "metadata": {},
   "outputs": [
    {
     "data": {
      "text/plain": [
       "array([5, 6, 7, 8, 9])"
      ]
     },
     "execution_count": 28,
     "metadata": {},
     "output_type": "execute_result"
    },
    {
     "data": {
      "text/plain": [
       "array([0, 1, 2, 3, 4])"
      ]
     },
     "execution_count": 28,
     "metadata": {},
     "output_type": "execute_result"
    },
    {
     "data": {
      "text/plain": [
       "array([ 0,  6, 14, 24, 36])"
      ]
     },
     "execution_count": 28,
     "metadata": {},
     "output_type": "execute_result"
    },
    {
     "data": {
      "text/plain": [
       "80"
      ]
     },
     "execution_count": 28,
     "metadata": {},
     "output_type": "execute_result"
    }
   ],
   "source": [
    "B[:,1]         # all rows, column 1 (start from 0)\n",
    "A[0]           # row 0 of A\n",
    "A[0] * B[:,1]  # elementwise multiply\n",
    "A[0] @ B[:,1]  # single number (sum of the above)"
   ]
  },
  {
   "cell_type": "markdown",
   "metadata": {},
   "source": [
    "Multiplying each row of A, by each column of B, is what the plain old multiplication operator does.  The dot product would be summing the elements of each result vector and storing it in the resulting matrix."
   ]
  },
  {
   "cell_type": "code",
   "execution_count": 29,
   "metadata": {},
   "outputs": [
    {
     "data": {
      "text/plain": [
       "array([ 0,  6, 14, 24, 36])"
      ]
     },
     "execution_count": 29,
     "metadata": {},
     "output_type": "execute_result"
    }
   ],
   "source": [
    "A[1] * B[:,0].flatten()"
   ]
  },
  {
   "cell_type": "code",
   "execution_count": 30,
   "metadata": {},
   "outputs": [
    {
     "data": {
      "text/plain": [
       "array([25, 36, 49, 64, 81])"
      ]
     },
     "execution_count": 30,
     "metadata": {},
     "output_type": "execute_result"
    }
   ],
   "source": [
    "A[1] * B[:,1].flatten()"
   ]
  },
  {
   "cell_type": "markdown",
   "metadata": {},
   "source": [
    "Even though numpy provides a dot product, one could write it from scratch, making use of elementwise multiplication and np.sum internally.  The key line below is:\n",
    "\n",
    "```python\n",
    "output[i,j] = np.sum(A[i,:] * B[:,j].flatten())\n",
    "```"
   ]
  },
  {
   "cell_type": "code",
   "execution_count": 31,
   "metadata": {},
   "outputs": [],
   "source": [
    "def dot_product(A, B, dt=int):\n",
    "    \"\"\"\n",
    "    multiply and sum A[i] * B[j] to get O[i,j]\n",
    "    for i ranging through m rows of A, j through\n",
    "    n columns of B. O will by m x n\n",
    "    dt = int, float\n",
    "    \"\"\"\n",
    "    m = A_rows = A.shape[0]\n",
    "    if B.ndim==1: # lying sideways\n",
    "        B = B.reshape(-1,1) # stand it up as col vector\n",
    "    n = B_cols = B.shape[1]\n",
    "    # if you don't want or expect integer output\n",
    "    # change dtype to float\n",
    "    output = np.zeros(shape=(m,n), dtype=dt)\n",
    "    for i in range(A_rows):\n",
    "        for j in range(B_cols):\n",
    "            output[i,j] = np.sum(A[i,:] * B[:,j].flatten())\n",
    "    return output"
   ]
  },
  {
   "cell_type": "markdown",
   "metadata": {},
   "source": [
    "Same answer as above, using the built-in numpy function or operator."
   ]
  },
  {
   "cell_type": "code",
   "execution_count": 32,
   "metadata": {},
   "outputs": [
    {
     "data": {
      "text/plain": [
       "array([[ 30,  80],\n",
       "       [ 80, 255]])"
      ]
     },
     "execution_count": 32,
     "metadata": {},
     "output_type": "execute_result"
    }
   ],
   "source": [
    "dot_product(A, B)"
   ]
  },
  {
   "cell_type": "code",
   "execution_count": 33,
   "metadata": {},
   "outputs": [
    {
     "data": {
      "text/plain": [
       "array([[1],\n",
       "       [2],\n",
       "       [3],\n",
       "       [4],\n",
       "       [5]])"
      ]
     },
     "execution_count": 33,
     "metadata": {},
     "output_type": "execute_result"
    },
    {
     "data": {
      "text/plain": [
       "array([[1, 2, 3, 4, 5]])"
      ]
     },
     "execution_count": 33,
     "metadata": {},
     "output_type": "execute_result"
    }
   ],
   "source": [
    "U1 = np.array([1,2,3,4,5]).reshape(-1,1)\n",
    "V1 = np.array([1,2,3,4,5]).reshape(1,5)\n",
    "U1\n",
    "V1"
   ]
  },
  {
   "cell_type": "code",
   "execution_count": 34,
   "metadata": {},
   "outputs": [
    {
     "data": {
      "text/plain": [
       "array([[ 1,  2,  3,  4,  5],\n",
       "       [ 2,  4,  6,  8, 10],\n",
       "       [ 3,  6,  9, 12, 15],\n",
       "       [ 4,  8, 12, 16, 20],\n",
       "       [ 5, 10, 15, 20, 25]])"
      ]
     },
     "execution_count": 34,
     "metadata": {},
     "output_type": "execute_result"
    },
    {
     "data": {
      "text/plain": [
       "array([[ 1,  2,  3,  4,  5],\n",
       "       [ 2,  4,  6,  8, 10],\n",
       "       [ 3,  6,  9, 12, 15],\n",
       "       [ 4,  8, 12, 16, 20],\n",
       "       [ 5, 10, 15, 20, 25]])"
      ]
     },
     "execution_count": 34,
     "metadata": {},
     "output_type": "execute_result"
    }
   ],
   "source": [
    "U1 @ V1\n",
    "dot_product(U1, V1)"
   ]
  },
  {
   "cell_type": "markdown",
   "metadata": {},
   "source": [
    "* [Academo.org](https://academo.org/)\n",
    "* [Matrix Multiply (MM) GIF](https://pages.hep.wisc.edu/~jnb/poster_group/matrix_multiply.html)\n",
    "* [MM Exhibit](http://matrixmultiplication.xyz/)\n",
    "![MM](https://pages.hep.wisc.edu/~jnb/poster_group/examples/matrix_times_vector_large.gif)"
   ]
  },
  {
   "cell_type": "code",
   "execution_count": 35,
   "metadata": {},
   "outputs": [
    {
     "data": {
      "text/plain": [
       "array([[ 30,  80],\n",
       "       [ 80, 255]])"
      ]
     },
     "execution_count": 35,
     "metadata": {},
     "output_type": "execute_result"
    }
   ],
   "source": [
    "np.dot(A,B)"
   ]
  },
  {
   "cell_type": "code",
   "execution_count": 36,
   "metadata": {},
   "outputs": [
    {
     "data": {
      "text/plain": [
       "array([[ 30,  80],\n",
       "       [ 80, 255]])"
      ]
     },
     "execution_count": 36,
     "metadata": {},
     "output_type": "execute_result"
    }
   ],
   "source": [
    "A @ B  # preferred"
   ]
  },
  {
   "cell_type": "markdown",
   "metadata": {},
   "source": [
    "# Singular Value Decomposition\n",
    "\n",
    "According to SVD, any matrix (non-square OK) may be decomposed into a dot product of three matrices:\n",
    "\n",
    "* left hand singular vectors in an orthogonal matrix\n",
    "* a diagonal matrix of singular values\n",
    "* right hand singular vectors in an orthogonal matrix\n",
    "\n",
    "These operations correspond to a rotation, a stretching in several directions, and another rotation.  \n",
    "\n",
    "The stretching will be biggest in one direction, with other such linear transformations then ranked in order of equal or lesser magnitude.\n",
    "\n",
    "This ranking of stretch factors, or singular values, may serve as a basis for eliminating those of lesser importance, thereby reducing the overall number of columns required of the original matrix, to get a best approximation using some number of principal components.\n",
    "\n",
    "Some linear combination of a subset of the original columns, will make the greatest contribution to landing us in the target neighborhood of predicted clusters.  \n",
    "\n",
    "More columns of data would not provide significantly more accuracy.  That's what we're aiming for in anycase: dimension reduction (fewer columns). "
   ]
  },
  {
   "cell_type": "code",
   "execution_count": 37,
   "metadata": {},
   "outputs": [
    {
     "data": {
      "image/jpeg": "[encoded data removed]",
      "text/html": [
       "\n",
       "        <iframe\n",
       "            width=\"400\"\n",
       "            height=\"300\"\n",
       "            src=\"https://www.youtube.com/embed/YPe5OP7Clv4\"\n",
       "            frameborder=\"0\"\n",
       "            allowfullscreen\n",
       "        ></iframe>\n",
       "        "
      ],
      "text/plain": [
       "<IPython.lib.display.YouTubeVideo at 0x11ef0c4d0>"
      ]
     },
     "execution_count": 37,
     "metadata": {},
     "output_type": "execute_result"
    }
   ],
   "source": [
    "from IPython.display import YouTubeVideo\n",
    "YouTubeVideo('YPe5OP7Clv4')"
   ]
  },
  {
   "cell_type": "code",
   "execution_count": 62,
   "metadata": {},
   "outputs": [
    {
     "data": {
      "image/jpeg": "[encoded data removed]",
      "text/html": [
       "\n",
       "        <iframe\n",
       "            width=\"400\"\n",
       "            height=\"300\"\n",
       "            src=\"https://www.youtube.com/embed/SsNXg6KpLSU\"\n",
       "            frameborder=\"0\"\n",
       "            allowfullscreen\n",
       "        ></iframe>\n",
       "        "
      ],
      "text/plain": [
       "<IPython.lib.display.YouTubeVideo at 0x1a21228f90>"
      ]
     },
     "execution_count": 62,
     "metadata": {},
     "output_type": "execute_result"
    }
   ],
   "source": [
    "YouTubeVideo('SsNXg6KpLSU')"
   ]
  },
  {
   "cell_type": "code",
   "execution_count": 63,
   "metadata": {},
   "outputs": [
    {
     "data": {
      "image/jpeg": "[encoded data removed]",
      "text/html": [
       "\n",
       "        <iframe\n",
       "            width=\"400\"\n",
       "            height=\"300\"\n",
       "            src=\"https://www.youtube.com/embed/J0arU2PAMls\"\n",
       "            frameborder=\"0\"\n",
       "            allowfullscreen\n",
       "        ></iframe>\n",
       "        "
      ],
      "text/plain": [
       "<IPython.lib.display.YouTubeVideo at 0x1a21221190>"
      ]
     },
     "execution_count": 63,
     "metadata": {},
     "output_type": "execute_result"
    }
   ],
   "source": [
    "YouTubeVideo('J0arU2PAMls')"
   ]
  },
  {
   "cell_type": "markdown",
   "metadata": {},
   "source": [
    "A first rectangular matrix.  Any will do."
   ]
  },
  {
   "cell_type": "code",
   "execution_count": 38,
   "metadata": {},
   "outputs": [
    {
     "data": {
      "text/plain": [
       "array([[0, 1, 2, 3, 4],\n",
       "       [5, 6, 7, 8, 9]])"
      ]
     },
     "execution_count": 38,
     "metadata": {},
     "output_type": "execute_result"
    }
   ],
   "source": [
    "A = np.array(range(10)).reshape(2,5)\n",
    "A"
   ]
  },
  {
   "cell_type": "markdown",
   "metadata": {},
   "source": [
    "The function below uses the native svd algorithm inside numpy, while making the returned matrices suitable for multiplying back together (dot product), thereby giving the original matrix."
   ]
  },
  {
   "cell_type": "code",
   "execution_count": 39,
   "metadata": {},
   "outputs": [],
   "source": [
    "def svd(the_matrix):\n",
    "    # the matrix D needs columns of 0s \n",
    "    # to the right, up to the number of columns \n",
    "    # in the_matrix\n",
    "    U, D, VT = np.linalg.svd(A, full_matrices=True)\n",
    "    # add columns to the right to match number of rows of VT (same as the_matrix)\n",
    "    padding = np.zeros((the_matrix.shape[0], the_matrix.shape[1] - len(D)))\n",
    "    S = np.hstack([np.diag(D), padding])\n",
    "    return U, S, VT"
   ]
  },
  {
   "cell_type": "markdown",
   "metadata": {},
   "source": [
    "Note that rounding only affects the display, not the internals of any of this matrices."
   ]
  },
  {
   "cell_type": "code",
   "execution_count": 40,
   "metadata": {},
   "outputs": [
    {
     "name": "stdout",
     "output_type": "stream",
     "text": [
      "U =\n"
     ]
    },
    {
     "data": {
      "text/plain": [
       "array([[-0.304, -0.953],\n",
       "       [-0.953,  0.304]])"
      ]
     },
     "execution_count": 40,
     "metadata": {},
     "output_type": "execute_result"
    },
    {
     "name": "stdout",
     "output_type": "stream",
     "text": [
      "S =\n"
     ]
    },
    {
     "data": {
      "text/plain": [
       "array([[16.749,  0.   ,  0.   ,  0.   ,  0.   ],\n",
       "       [ 0.   ,  2.111,  0.   ,  0.   ,  0.   ]])"
      ]
     },
     "execution_count": 40,
     "metadata": {},
     "output_type": "execute_result"
    },
    {
     "name": "stdout",
     "output_type": "stream",
     "text": [
      "VT =\n"
     ]
    },
    {
     "data": {
      "text/plain": [
       "array([[-0.284, -0.359, -0.434, -0.509, -0.585],\n",
       "       [ 0.721,  0.413,  0.106, -0.201, -0.508],\n",
       "       [-0.355, -0.04 ,  0.87 , -0.202, -0.274],\n",
       "       [-0.365,  0.358, -0.141,  0.669, -0.521],\n",
       "       [-0.376,  0.755, -0.152, -0.46 ,  0.232]])"
      ]
     },
     "execution_count": 40,
     "metadata": {},
     "output_type": "execute_result"
    }
   ],
   "source": [
    "U,S,VT = svd(A)\n",
    "print(\"U =\")\n",
    "np.round(U, 3)\n",
    "print(\"S =\")\n",
    "np.round(S, 3)\n",
    "print(\"VT =\")\n",
    "np.round(VT,3)"
   ]
  },
  {
   "cell_type": "code",
   "execution_count": 41,
   "metadata": {},
   "outputs": [
    {
     "data": {
      "text/plain": [
       "array([[0., 1., 2., 3., 4.],\n",
       "       [5., 6., 7., 8., 9.]])"
      ]
     },
     "execution_count": 41,
     "metadata": {},
     "output_type": "execute_result"
    }
   ],
   "source": [
    "A_reconstructed = U @ S @ VT\n",
    "np.round(A_reconstructed,2)"
   ]
  },
  {
   "cell_type": "code",
   "execution_count": 42,
   "metadata": {},
   "outputs": [
    {
     "data": {
      "text/plain": [
       "array([[280.5444,   0.    ,   0.    ,   0.    ,   0.    ],\n",
       "       [  0.    ,   4.4556,   0.    ,   0.    ,   0.    ]])"
      ]
     },
     "execution_count": 42,
     "metadata": {},
     "output_type": "execute_result"
    }
   ],
   "source": [
    "np.round(S*S,4)"
   ]
  },
  {
   "cell_type": "markdown",
   "metadata": {},
   "source": [
    "Both U and VT are what we call \"orthogonal matrices\" in that each times its own transpose yields the identity matrix."
   ]
  },
  {
   "cell_type": "code",
   "execution_count": 43,
   "metadata": {},
   "outputs": [
    {
     "data": {
      "text/plain": [
       "array([[1., 0.],\n",
       "       [0., 1.]])"
      ]
     },
     "execution_count": 43,
     "metadata": {},
     "output_type": "execute_result"
    }
   ],
   "source": [
    "np.round(U @ U.T, 3)"
   ]
  },
  {
   "cell_type": "code",
   "execution_count": 44,
   "metadata": {},
   "outputs": [
    {
     "data": {
      "text/plain": [
       "array([[ 1.,  0., -0.,  0., -0.],\n",
       "       [ 0.,  1.,  0.,  0.,  0.],\n",
       "       [-0.,  0.,  1.,  0., -0.],\n",
       "       [ 0.,  0.,  0.,  1., -0.],\n",
       "       [-0.,  0., -0., -0.,  1.]])"
      ]
     },
     "execution_count": 44,
     "metadata": {},
     "output_type": "execute_result"
    }
   ],
   "source": [
    "np.round(VT @ VT.T,3)"
   ]
  },
  {
   "cell_type": "markdown",
   "metadata": {},
   "source": [
    "A deeper dive into SVD shows that the matrix U is actually the eigenvectors of A dot A.T.\n",
    "\n",
    "The eigenvectors and U (below) are the same but for column order, with the eigenvalues likewise reversed."
   ]
  },
  {
   "cell_type": "code",
   "execution_count": 45,
   "metadata": {},
   "outputs": [
    {
     "data": {
      "text/plain": [
       "array([[-0.953, -0.304],\n",
       "       [ 0.304, -0.953]])"
      ]
     },
     "execution_count": 45,
     "metadata": {},
     "output_type": "execute_result"
    },
    {
     "data": {
      "text/plain": [
       "array([[-0.304, -0.953],\n",
       "       [-0.953,  0.304]])"
      ]
     },
     "execution_count": 45,
     "metadata": {},
     "output_type": "execute_result"
    },
    {
     "data": {
      "text/plain": [
       "array([  4.45562308, 280.54437692])"
      ]
     },
     "execution_count": 45,
     "metadata": {},
     "output_type": "execute_result"
    }
   ],
   "source": [
    "AAT = dot_product(A, A.T)\n",
    "AAT_evals, AAT_evecs = np.linalg.eig(AAT) # get eigen stuff\n",
    "np.round(AAT_evecs,3)\n",
    "np.round(U,3)\n",
    "AAT_evals"
   ]
  },
  {
   "cell_type": "markdown",
   "metadata": {},
   "source": [
    "Remember these two eigenvalues as you'll be seeing them again. And remember S*S above."
   ]
  },
  {
   "cell_type": "code",
   "execution_count": 46,
   "metadata": {},
   "outputs": [
    {
     "data": {
      "text/plain": [
       "array([[280.5444,   0.    ,   0.    ,   0.    ,   0.    ],\n",
       "       [  0.    ,   4.4556,   0.    ,   0.    ,   0.    ]])"
      ]
     },
     "execution_count": 46,
     "metadata": {},
     "output_type": "execute_result"
    }
   ],
   "source": [
    "np.round(S*S,4)"
   ]
  },
  {
   "cell_type": "code",
   "execution_count": 47,
   "metadata": {},
   "outputs": [
    {
     "data": {
      "text/plain": [
       "array([ -89.57904182, -265.89583537])"
      ]
     },
     "execution_count": 47,
     "metadata": {},
     "output_type": "execute_result"
    },
    {
     "data": {
      "text/plain": [
       "array([[ -5.095,  -2.011,   0.   ,   0.   ,   0.   ],\n",
       "       [-15.956,   0.642,   0.   ,   0.   ,   0.   ]])"
      ]
     },
     "execution_count": 47,
     "metadata": {},
     "output_type": "execute_result"
    }
   ],
   "source": [
    "AAT_evecs @ AAT_evals\n",
    "np.round(U @ S, 3)"
   ]
  },
  {
   "cell_type": "code",
   "execution_count": 48,
   "metadata": {},
   "outputs": [
    {
     "data": {
      "text/plain": [
       "array([-0.95261622,  0.30417485])"
      ]
     },
     "execution_count": 48,
     "metadata": {},
     "output_type": "execute_result"
    },
    {
     "data": {
      "text/plain": [
       "array([[-4.24449881],\n",
       "       [ 1.35528847]])"
      ]
     },
     "execution_count": 48,
     "metadata": {},
     "output_type": "execute_result"
    },
    {
     "data": {
      "text/plain": [
       "array([-4.24449881,  1.35528847])"
      ]
     },
     "execution_count": 48,
     "metadata": {},
     "output_type": "execute_result"
    }
   ],
   "source": [
    "AAT_evecs[:,0]\n",
    "dot_product(AAT, AAT_evecs[:,0], np.float)\n",
    "AAT_evals[0] * AAT_evecs[:,0]"
   ]
  },
  {
   "cell_type": "code",
   "execution_count": 49,
   "metadata": {},
   "outputs": [
    {
     "data": {
      "text/plain": [
       "array([280.544,   4.456,   0.   ,   0.   ,  -0.   ])"
      ]
     },
     "execution_count": 49,
     "metadata": {},
     "output_type": "execute_result"
    }
   ],
   "source": [
    "ATA = A.T @ A\n",
    "ATA_evals, ATA_evecs = np.linalg.eig(ATA)\n",
    "np.round(ATA_evals, 3)"
   ]
  },
  {
   "cell_type": "markdown",
   "metadata": {},
   "source": [
    "Aha!"
   ]
  },
  {
   "cell_type": "code",
   "execution_count": 50,
   "metadata": {},
   "outputs": [
    {
     "name": "stdout",
     "output_type": "stream",
     "text": [
      "Same matrix computed 3 ways\n"
     ]
    },
    {
     "data": {
      "text/plain": [
       "array([[  -4.24449881,  -85.334543  ],\n",
       "       [   1.35528847, -267.25112384]])"
      ]
     },
     "execution_count": 50,
     "metadata": {},
     "output_type": "execute_result"
    },
    {
     "data": {
      "text/plain": [
       "array([[  -4.24449881,  -85.334543  ],\n",
       "       [   1.35528847, -267.25112384]])"
      ]
     },
     "execution_count": 50,
     "metadata": {},
     "output_type": "execute_result"
    },
    {
     "data": {
      "text/plain": [
       "array([[  -4.24449881,  -85.334543  ],\n",
       "       [   1.35528847, -267.25112384]])"
      ]
     },
     "execution_count": 50,
     "metadata": {},
     "output_type": "execute_result"
    },
    {
     "name": "stdout",
     "output_type": "stream",
     "text": [
      "------------\n",
      "Eigenvalues: [  4.45562308 280.54437692]\n",
      "Eigenvalues times Eigenvectors (same outcome):\n",
      " [[  -4.24449881  -85.334543  ]\n",
      " [   1.35528847 -267.25112384]]\n"
     ]
    }
   ],
   "source": [
    "print(\"Same matrix computed 3 ways\")\n",
    "dot_product(AAT, AAT_evecs, dt=np.float)\n",
    "AAT @ AAT_evecs\n",
    "np.dot(AAT, AAT_evecs)\n",
    "print(\"------------\")\n",
    "print(\"Eigenvalues:\", AAT_evals)\n",
    "print(\"Eigenvalues times Eigenvectors (same outcome):\\n\", AAT_evals * AAT_evecs)"
   ]
  },
  {
   "cell_type": "markdown",
   "metadata": {},
   "source": [
    "Same outcome because the linear transformation of eigenvalues times eigenvectors is a $\\lambda$ kind of solution, i.e. elementwise scalar multiplication is at work.  The matrix multiplies its own eigenvectors, by simply stretching them."
   ]
  },
  {
   "cell_type": "code",
   "execution_count": 51,
   "metadata": {},
   "outputs": [
    {
     "data": {
      "text/plain": [
       "array([[0., 0.],\n",
       "       [0., 0.]])"
      ]
     },
     "execution_count": 51,
     "metadata": {},
     "output_type": "execute_result"
    },
    {
     "data": {
      "text/plain": [
       "array([[-0.,  0.,  0.,  0.,  0.],\n",
       "       [ 0.,  0., -0.,  0.,  0.],\n",
       "       [-0.,  0.,  0.,  0.,  0.],\n",
       "       [-0.,  0.,  0., -0.,  0.],\n",
       "       [-0.,  0.,  0., -0.,  0.]])"
      ]
     },
     "execution_count": 51,
     "metadata": {},
     "output_type": "execute_result"
    }
   ],
   "source": [
    "check1 = AAT @ AAT_evecs - AAT_evals * AAT_evecs\n",
    "check2 = ATA @ ATA_evecs - ATA_evals * ATA_evecs\n",
    "np.round(check1, 5)\n",
    "np.round(check2, 5)"
   ]
  },
  {
   "cell_type": "code",
   "execution_count": 52,
   "metadata": {},
   "outputs": [
    {
     "data": {
      "text/plain": [
       "array([[ 3,  1,  1],\n",
       "       [-1,  3,  1]])"
      ]
     },
     "execution_count": 52,
     "metadata": {},
     "output_type": "execute_result"
    }
   ],
   "source": [
    "A = np.array((3, 1, 1, -1, 3, 1)).reshape(2,3)\n",
    "A"
   ]
  },
  {
   "cell_type": "code",
   "execution_count": 53,
   "metadata": {},
   "outputs": [
    {
     "name": "stdout",
     "output_type": "stream",
     "text": [
      "U =\n"
     ]
    },
    {
     "data": {
      "text/plain": [
       "array([[-0.707, -0.707],\n",
       "       [-0.707,  0.707]])"
      ]
     },
     "execution_count": 53,
     "metadata": {},
     "output_type": "execute_result"
    },
    {
     "name": "stdout",
     "output_type": "stream",
     "text": [
      "S =\n"
     ]
    },
    {
     "data": {
      "text/plain": [
       "array([[3.464, 0.   , 0.   ],\n",
       "       [0.   , 3.162, 0.   ]])"
      ]
     },
     "execution_count": 53,
     "metadata": {},
     "output_type": "execute_result"
    },
    {
     "name": "stdout",
     "output_type": "stream",
     "text": [
      "VT =\n"
     ]
    },
    {
     "data": {
      "text/plain": [
       "array([[-0.408, -0.816, -0.408],\n",
       "       [-0.894,  0.447,  0.   ],\n",
       "       [-0.183, -0.365,  0.913]])"
      ]
     },
     "execution_count": 53,
     "metadata": {},
     "output_type": "execute_result"
    }
   ],
   "source": [
    "U,S,VT = svd(A)\n",
    "\n",
    "print(\"U =\")\n",
    "np.round(U, 3)\n",
    "print(\"S =\")\n",
    "np.round(S, 3)\n",
    "print(\"VT =\")\n",
    "np.round(VT, 3)"
   ]
  },
  {
   "cell_type": "code",
   "execution_count": 54,
   "metadata": {},
   "outputs": [
    {
     "data": {
      "text/plain": [
       "array([[ 3.,  1.,  1.],\n",
       "       [-1.,  3.,  1.]])"
      ]
     },
     "execution_count": 54,
     "metadata": {},
     "output_type": "execute_result"
    }
   ],
   "source": [
    "A_reconstructed = U @ S @ VT\n",
    "A_reconstructed"
   ]
  },
  {
   "cell_type": "markdown",
   "metadata": {},
   "source": [
    "* [SVD Tutorial](https://datajobs.com/data-science-repo/SVD-Tutorial-%5bKirk-Baker%5d.pdf)\n",
    "* [EigenFaces with Scikit-Learn](http://jaquesgrobler.github.io/Online-Scikit-Learn-stat-tut/auto_examples/decomposition/plot_faces_decomposition.html)"
   ]
  },
  {
   "cell_type": "code",
   "execution_count": 55,
   "metadata": {},
   "outputs": [
    {
     "data": {
      "text/plain": [
       "array([[-0.95261622, -0.30417485],\n",
       "       [ 0.30417485, -0.95261622]])"
      ]
     },
     "execution_count": 55,
     "metadata": {},
     "output_type": "execute_result"
    }
   ],
   "source": [
    "AAT_evecs"
   ]
  },
  {
   "cell_type": "code",
   "execution_count": 56,
   "metadata": {},
   "outputs": [
    {
     "data": {
      "text/plain": [
       "array([[ 30,  80],\n",
       "       [ 80, 255]])"
      ]
     },
     "execution_count": 56,
     "metadata": {},
     "output_type": "execute_result"
    }
   ],
   "source": [
    "AAT"
   ]
  },
  {
   "cell_type": "code",
   "execution_count": 57,
   "metadata": {},
   "outputs": [
    {
     "data": {
      "text/plain": [
       "array([[  -4.24449881,  -85.334543  ],\n",
       "       [   1.35528847, -267.25112384]])"
      ]
     },
     "execution_count": 57,
     "metadata": {},
     "output_type": "execute_result"
    }
   ],
   "source": [
    "AAT @ AAT_evecs"
   ]
  },
  {
   "cell_type": "code",
   "execution_count": 58,
   "metadata": {},
   "outputs": [
    {
     "data": {
      "text/plain": [
       "array([[  -4.24449881,  -85.334543  ],\n",
       "       [   1.35528847, -267.25112384]])"
      ]
     },
     "execution_count": 58,
     "metadata": {},
     "output_type": "execute_result"
    }
   ],
   "source": [
    "AAT_evals * AAT_evecs # linear"
   ]
  },
  {
   "cell_type": "code",
   "execution_count": 59,
   "metadata": {},
   "outputs": [],
   "source": [
    "def svd2(the_matrix):\n",
    "    # the matrix D needs columns of 0s \n",
    "    # to the right, up to the number of columns \n",
    "    # in the_matrix\n",
    "    U, D, VT = np.linalg.svd(A, full_matrices=False)\n",
    "    # add columns to the right to match number of row of VT (same as the_matrix)\n",
    "    padding = np.zeros((the_matrix.shape[0], the_matrix.shape[1] - len(D)))\n",
    "    S = np.hstack([np.diag(D), padding])\n",
    "    return U, S, VT"
   ]
  },
  {
   "cell_type": "code",
   "execution_count": 60,
   "metadata": {},
   "outputs": [
    {
     "name": "stdout",
     "output_type": "stream",
     "text": [
      "U =\n"
     ]
    },
    {
     "data": {
      "text/plain": [
       "array([[-0.707, -0.707],\n",
       "       [-0.707,  0.707]])"
      ]
     },
     "execution_count": 60,
     "metadata": {},
     "output_type": "execute_result"
    },
    {
     "name": "stdout",
     "output_type": "stream",
     "text": [
      "S =\n"
     ]
    },
    {
     "data": {
      "text/plain": [
       "array([[3.464, 0.   , 0.   ],\n",
       "       [0.   , 3.162, 0.   ]])"
      ]
     },
     "execution_count": 60,
     "metadata": {},
     "output_type": "execute_result"
    },
    {
     "name": "stdout",
     "output_type": "stream",
     "text": [
      "VT =\n"
     ]
    },
    {
     "data": {
      "text/plain": [
       "array([[-0.408, -0.816, -0.408],\n",
       "       [-0.894,  0.447,  0.   ]])"
      ]
     },
     "execution_count": 60,
     "metadata": {},
     "output_type": "execute_result"
    }
   ],
   "source": [
    "U,S,VT = svd2(A)\n",
    "print(\"U =\")\n",
    "np.round(U, 3)\n",
    "print(\"S =\")\n",
    "np.round(S, 3)\n",
    "print(\"VT =\")\n",
    "np.round(VT,3)"
   ]
  },
  {
   "cell_type": "code",
   "execution_count": 61,
   "metadata": {},
   "outputs": [
    {
     "data": {
      "text/plain": [
       "array([[-0.70710678],\n",
       "       [-0.70710678]])"
      ]
     },
     "execution_count": 61,
     "metadata": {},
     "output_type": "execute_result"
    },
    {
     "ename": "ValueError",
     "evalue": "cannot reshape array of size 3 into shape (1,5)",
     "output_type": "error",
     "traceback": [
      "\u001b[0;31m---------------------------------------------------------------------------\u001b[0m",
      "\u001b[0;31mValueError\u001b[0m                                Traceback (most recent call last)",
      "\u001b[0;32m<ipython-input-61-db2caf972625>\u001b[0m in \u001b[0;36m<module>\u001b[0;34m\u001b[0m\n\u001b[1;32m      1\u001b[0m \u001b[0mU\u001b[0m\u001b[0;34m[\u001b[0m\u001b[0;34m:\u001b[0m\u001b[0;34m,\u001b[0m\u001b[0;36m0\u001b[0m\u001b[0;34m]\u001b[0m\u001b[0;34m.\u001b[0m\u001b[0mreshape\u001b[0m\u001b[0;34m(\u001b[0m\u001b[0;34m-\u001b[0m\u001b[0;36m1\u001b[0m\u001b[0;34m,\u001b[0m\u001b[0;36m1\u001b[0m\u001b[0;34m)\u001b[0m\u001b[0;34m\u001b[0m\u001b[0;34m\u001b[0m\u001b[0m\n\u001b[0;32m----> 2\u001b[0;31m \u001b[0mS\u001b[0m\u001b[0;34m[\u001b[0m\u001b[0;36m0\u001b[0m\u001b[0;34m]\u001b[0m\u001b[0;34m.\u001b[0m\u001b[0mreshape\u001b[0m\u001b[0;34m(\u001b[0m\u001b[0;36m1\u001b[0m\u001b[0;34m,\u001b[0m\u001b[0;36m5\u001b[0m\u001b[0;34m)\u001b[0m\u001b[0;34m\u001b[0m\u001b[0;34m\u001b[0m\u001b[0m\n\u001b[0m",
      "\u001b[0;31mValueError\u001b[0m: cannot reshape array of size 3 into shape (1,5)"
     ]
    }
   ],
   "source": [
    "U[:,0].reshape(-1,1)\n",
    "S[0].reshape(1,5)"
   ]
  },
  {
   "cell_type": "code",
   "execution_count": null,
   "metadata": {},
   "outputs": [],
   "source": [
    "np.round(U[:,0].reshape(-1,1) @ S[0].reshape(1,5), 3)"
   ]
  },
  {
   "cell_type": "code",
   "execution_count": null,
   "metadata": {},
   "outputs": [],
   "source": []
  }
 ],
 "metadata": {
  "kernelspec": {
   "display_name": "Python 3",
   "language": "python",
   "name": "python3"
  },
  "language_info": {
   "codemirror_mode": {
    "name": "ipython",
    "version": 3
   },
   "file_extension": ".py",
   "mimetype": "text/x-python",
   "name": "python",
   "nbconvert_exporter": "python",
   "pygments_lexer": "ipython3",
   "version": "3.7.7"
  }
 },
 "nbformat": 4,
 "nbformat_minor": 4
}
