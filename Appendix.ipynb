{
 "cells": [
  {
   "cell_type": "markdown",
   "metadata": {},
   "source": [
    "Introduction to Data Science<br/>\n",
    "[Oregon Curriculum Network](http://www.4dsolutions.net/ocn)"
   ]
  },
  {
   "cell_type": "markdown",
   "metadata": {},
   "source": [
    "Notebooks: \n",
    "[[1](IntroDS001.ipynb)]\n",
    "[[2](IntroDS002.ipynb)]\n",
    "[[3](IntroDS003.ipynb)]\n",
    "[[4](IntroDS004.ipynb)]\n",
    "[[5](IntroDS005.ipynb)]\n",
    "[[6](IntroDS006.ipynb)]\n",
    "[[Appendix](Appendix.ipynb)]"
   ]
  },
  {
   "cell_type": "markdown",
   "metadata": {},
   "source": [
    "# Appendix\n",
    "\n",
    "When I share these Notebooks with a live audience, or asynchronously, I'm continually recommending pursuing a similar strategy locally:  treat the Notebook as your scrap book study space, as well as your publication space.  \n",
    "\n",
    "Curate examples, and craft new ones with an eye towards reminding yourself of what you hope to remember.\n",
    "\n",
    "* [Visualization Lab](VisualizationLab.ipynb)\n",
    "* [Linear Regression Sandbox](LinearRegression.ipynb)\n",
    "* [Eigen Stuff](Eigen_stuff.ipynb)"
   ]
  }
 ],
 "metadata": {
  "kernelspec": {
   "display_name": "Python 3",
   "language": "python",
   "name": "python3"
  },
  "language_info": {
   "codemirror_mode": {
    "name": "ipython",
    "version": 3
   },
   "file_extension": ".py",
   "mimetype": "text/x-python",
   "name": "python",
   "nbconvert_exporter": "python",
   "pygments_lexer": "ipython3",
   "version": "3.7.7"
  }
 },
 "nbformat": 4,
 "nbformat_minor": 4
}
