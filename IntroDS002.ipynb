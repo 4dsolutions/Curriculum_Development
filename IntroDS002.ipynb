{
 "cells": [
  {
   "cell_type": "markdown",
   "metadata": {},
   "source": [
    "Introduction to Data Science<br/>\n",
    "[Oregon Curriculum Network](http://www.4dsolutions.net/ocn)\n",
    "\n",
    "# Collecting the Tools"
   ]
  },
  {
   "cell_type": "markdown",
   "metadata": {},
   "source": [
    "## Anaconda\n",
    "\n",
    "Like many involved in data science, I encourage getting the Anaconda distribution and relying on the conda package manager, not only to install packages, but to manage environments more generally.\n",
    "\n",
    "However, no introduction to the Python toolchest can afford to ignore pip, and the conda documentation does a good job describing their differences.  One may use both.\n",
    "\n",
    "#### A Story from the Real World\n",
    "\n",
    "This story is examplary of the kind of situation you might encounter.\n",
    "\n",
    "When running on an older MacBook Pro, I encountered an incompatibility with the latest numpy that was frustrating everything my in workhorse Python 3.7 environment.  \n",
    "\n",
    "I had just done ```python upgrade --all``` only later remembering this had led to disaster before.  \n",
    "\n",
    "Fortunately, I was able to track down the source of the bug (the newest numpy [won't run on old Macs](https://github.com/das-developers/condaCDF/issues/1)) and conda managed to figure a way to downgrade to numpy 1.7.3 that apparently involved no other changes, so I got to keep almost all of the upgrade.\n",
    "\n",
    "But then my Python 3.8 environment insisted on numpy=1.7.3 or above, and installing from the default channel, that would not work.  So I added [conda-forge](https://conda-forge.org/) as another channel and [got numpy=1.7.3 from there](https://campus.datacamp.com/courses/conda-essentials/utilizing-channels?ex=5) and that all worked great.\n",
    "\n",
    "Note:  you "
   ]
  },
  {
   "cell_type": "markdown",
   "metadata": {},
   "source": [
    "## Let's Talk About Typesetting...\n",
    "\n",
    "A data scientist likely knows some $\\LaTeX$ but maybe never wrote a whole thesis in it.  We're in a [Jupyter Notebook](https://jupyter-notebook.readthedocs.io/en/stable/examples/Notebook/What%20is%20the%20Jupyter%20Notebook.html) and need some [math expressions]((https://jupyter-notebook.readthedocs.io/en/stable/examples/Notebook/Typesetting%20Equations.html) thanks to [MathJax](https://www.mathjax.org/).\n",
    "\n",
    "Jupyter is our principal tool in many dimensions, as it includes our kernel language (Python), along with many auxilliary features, such as [Markdown](https://github.com/adam-p/markdown-here/wiki/Markdown-Cheatsheet).\n",
    "\n",
    "The console query below requests that Jupyter list its possible kernels on Kirbys-MacBook-Pro:\n",
    "\n",
    "```console\n",
    "(base) Kirbys-MacBook-Pro:python_camp mac$ jupyter kernelspec list\n",
    "Available kernels:\n",
    "  python3    /Users/mac/opt/anaconda3/share/jupyter/kernels/python3\n",
    "```"
   ]
  },
  {
   "cell_type": "markdown",
   "metadata": {},
   "source": [
    "So thanks to LaTeX (OK to write it that way too), I can intersperse typeset mathematics with my runnable code.  Often the two will do the \"same thing\" with the typeset version providing a summary picture of what the source code actually does, when run through its kernel interpreter. \n",
    "\n",
    "The first equation below shows off how the notation of linear algebra, with its many matrices, is within our purview, as $LaTeX$ers. \n",
    "\n",
    "The second equation is one of Ramanujan's.  I'm tempted to verify it using an arbitrary precision library.  The sequence of digits on the right compared to those on the left, serve an inductive reasoning process.  Euler is right:  mathematics proceeds inductively and then, if we're lucky, we'll get a deductive proof someday, from some genius."
   ]
  },
  {
   "cell_type": "markdown",
   "metadata": {},
   "source": [
    "$\\LaTeX$\n",
    "\n",
    "\\begin{equation*}\n",
    "\\mathbf{V}_1 \\times \\mathbf{V}_2 =  \\begin{vmatrix}\n",
    "\\mathbf{i} & \\mathbf{j} & \\mathbf{k} \\\\\n",
    "\\frac{\\partial X}{\\partial u} &  \\frac{\\partial Y}{\\partial u} & 0 \\\\\n",
    "\\frac{\\partial X}{\\partial v} &  \\frac{\\partial Y}{\\partial v} & 0\n",
    "\\end{vmatrix}\n",
    "\\end{equation*}\n",
    "\n",
    "\\begin{equation*}\n",
    "\\frac{1}{\\Bigl(\\sqrt{\\phi \\sqrt{5}}-\\phi\\Bigr) e^{\\frac25 \\pi}} =\n",
    "1+\\frac{e^{-2\\pi}} {1+\\frac{e^{-4\\pi}} {1+\\frac{e^{-6\\pi}}\n",
    "{1+\\frac{e^{-8\\pi}} {1+\\ldots} } } }\n",
    "\\end{equation*}"
   ]
  },
  {
   "cell_type": "markdown",
   "metadata": {},
   "source": [
    "The source code for the two above is demarcated differently than those below, which use \\$\\$.  The first two are the same and have to do with \"choosing\". For example how many five card hands might be dealt from a standard deck of fifty-two cards?  \n",
    "\n",
    "The third shows how that choice algorithm features when computing the coefficients of a polynomial of a specific form. These correspond to the numbers in row n of Pascal's Triangle, a binomial distribution that smooths to a Gaussian distribution at the limit.\n",
    "\n",
    "The last two formulae are likewise special to the statistical sciences (data science, cybernetics, psychometrics):  Bayes' Rule and the Chi-Squared test."
   ]
  },
  {
   "cell_type": "markdown",
   "metadata": {},
   "source": [
    "## Python Itself\n",
    "\n",
    "So far, we have not talked to the Python3 kernel at all.  Lets do so."
   ]
  },
  {
   "cell_type": "markdown",
   "metadata": {},
   "source": [
    "Lets verify the last equation above, one of Ramanujan's, using [mpmath](http://mpmath.org/) for arbitrary precision computations, and generally included with Anaconda.  Try ```conda search mpmath``` if you need to install it.\n",
    "\n",
    "We'll use 60 decimal places of precision, but this could be increased.  You will need to continue the continued fraction if so."
   ]
  },
  {
   "cell_type": "code",
   "execution_count": 26,
   "metadata": {},
   "outputs": [
    {
     "name": "stdout",
     "output_type": "stream",
     "text": [
      "gmpy\n",
      "1.001867436219318606077227680424157087122424127427497054500130190210949798909523477849981786389799808\n",
      "1.001867436219318606077227680424157087122424127427497054500130190210949798909562825712938250353099963\n",
      "Ta daa!\n"
     ]
    }
   ],
   "source": [
    "import mpmath\n",
    "from mpmath import e, pi\n",
    "print(mpmath.libmp.BACKEND)\n",
    "mpmath.mp.dps = 100\n",
    "two   = mpmath.mpf('2')\n",
    "five  = mpmath.mpf('5')\n",
    "root5 = mpmath.mpf('5').sqrt()\n",
    "phi = (1 + root5)/2\n",
    "\n",
    "term = \"(1 + (e ** (-2*{} * pi))/{})\"\n",
    "\n",
    "def cont_frac(n, c=1):\n",
    "    \"\"\"\n",
    "    Recursively build the continued fraction, \n",
    "    as a string, to level of depth n\n",
    "    \"\"\"\n",
    "    if n==0:\n",
    "        return \"1\"\n",
    "    else:    \n",
    "        return \"(1 + ((e ** (-2*{} * pi)/{})))\".format(c, cont_frac(n-1, c+1))\n",
    "\n",
    "print(eval(cont_frac(6))) # evaluate the continued fraction\n",
    "print(1/(((phi * root5).sqrt() - phi) * e ** (two/five * pi))) # left side of the equation\n",
    "print(\"Ta daa!\")"
   ]
  },
  {
   "cell_type": "markdown",
   "metadata": {},
   "source": [
    "Cool!  Now, back to $\\LaTeX$:"
   ]
  },
  {
   "cell_type": "markdown",
   "metadata": {},
   "source": [
    "$$\n",
    "\\frac{n!}{k!(n - k)!} = \\binom{n}{k} = {}^{n}C_{k} = C_{n}^k\n",
    "$$\n",
    "\n",
    "$$\n",
    "\\frac{n!}{k!(n - k)!} = \\binom{n}{k}\n",
    "$$\n",
    "\n",
    "$$\n",
    "(x+y)^n = \\sum_{k=0}^n {n \\choose k} x^{n - k} y^k\n",
    "$$\n",
    "\n",
    "$$ P(A \\mid B) = \\frac{P(B \\mid A) \\, P(A)}{P(B)} $$\n",
    "\n",
    "$$\n",
    "\\tilde{\\chi}^2=\\frac{1}{d}\\sum_{k=1}^{n} \\frac{(O_k - E_k)^2}{E_k}\n",
    "$$\n"
   ]
  },
  {
   "cell_type": "markdown",
   "metadata": {},
   "source": [
    "The last formula above is an expression of Bayes' Theorem, which comes in many forms.  \n",
    "\n",
    "Give $\\LaTeX$ a workout as you feel led."
   ]
  },
  {
   "cell_type": "markdown",
   "metadata": {},
   "source": [
    "$$\n",
    "\\frac{P(A \\mid B) \\, P(B)}{P(A)}  = P(A \\cap B) = \\frac{P(B \\mid A) \\, P(A)}{P(B)} \n",
    "$$"
   ]
  },
  {
   "cell_type": "markdown",
   "metadata": {},
   "source": [
    "Links:\n",
    "\n",
    "* https://en.wikiquote.org/wiki/Inductive_reasoning\n",
    "* https://oeis.org/wiki/List_of_LaTeX_mathematical_symbols"
   ]
  },
  {
   "cell_type": "markdown",
   "metadata": {},
   "source": [
    "### Data Formats\n",
    "\n",
    "* JSON\n",
    "* XML\n",
    "  * [Brief History](https://sonra.io/2016/10/18/brief-history-xml-hype-useful-data-format/)\n",
    "  * [pandas to XML?](https://stackoverflow.com/questions/18574108/how-do-convert-a-pandas-dataframe-to-xml)\n",
    "* CSV"
   ]
  },
  {
   "cell_type": "markdown",
   "metadata": {},
   "source": [
    "## pandas: Our Spreadsheet Workalike\n",
    "\n",
    "As I discussed in class, spreadsheets work well as scratch pads, but are somewhat volatile and tough to nail down programmatically.  \n",
    "\n",
    "How does one include a spreadsheet as one more object in a general purpose programming language.  We're not talking about macros here, and you're afraid of vendor lock in (lets say).\n",
    "\n",
    "pandas gives us a way to import data at the top of a worksheet, a Notebook, and then document all the step by step transformations that bring us to our conclusions.  Stakeholders have an opportunity to run the same Notebook and verify our conclusions, and/or probe whatever weaknesses.\n",
    "\n",
    "Yes, it's more work to manipulate a DataFrame programmatically, than to mouse around in a spreadsheet, but once it's all working, you have a documented pipeline or workflow."
   ]
  },
  {
   "cell_type": "code",
   "execution_count": 2,
   "metadata": {},
   "outputs": [
    {
     "data": {
      "text/plain": [
       "'1.0.3'"
      ]
     },
     "execution_count": 2,
     "metadata": {},
     "output_type": "execute_result"
    }
   ],
   "source": [
    "import pandas as pd\n",
    "pd.__version__"
   ]
  },
  {
   "cell_type": "code",
   "execution_count": 3,
   "metadata": {},
   "outputs": [
    {
     "data": {
      "text/html": [
       "<div>\n",
       "<style scoped>\n",
       "    .dataframe tbody tr th:only-of-type {\n",
       "        vertical-align: middle;\n",
       "    }\n",
       "\n",
       "    .dataframe tbody tr th {\n",
       "        vertical-align: top;\n",
       "    }\n",
       "\n",
       "    .dataframe thead th {\n",
       "        text-align: right;\n",
       "    }\n",
       "</style>\n",
       "<table border=\"1\" class=\"dataframe\">\n",
       "  <thead>\n",
       "    <tr style=\"text-align: right;\">\n",
       "      <th></th>\n",
       "      <th>Ages</th>\n",
       "    </tr>\n",
       "    <tr>\n",
       "      <th>Animals</th>\n",
       "      <th></th>\n",
       "    </tr>\n",
       "  </thead>\n",
       "  <tbody>\n",
       "    <tr>\n",
       "      <th>Zebra</th>\n",
       "      <td>1</td>\n",
       "    </tr>\n",
       "    <tr>\n",
       "      <th>Lion</th>\n",
       "      <td>2</td>\n",
       "    </tr>\n",
       "    <tr>\n",
       "      <th>Tiger</th>\n",
       "      <td>3</td>\n",
       "    </tr>\n",
       "    <tr>\n",
       "      <th>Bear</th>\n",
       "      <td>4</td>\n",
       "    </tr>\n",
       "  </tbody>\n",
       "</table>\n",
       "</div>"
      ],
      "text/plain": [
       "         Ages\n",
       "Animals      \n",
       "Zebra       1\n",
       "Lion        2\n",
       "Tiger       3\n",
       "Bear        4"
      ]
     },
     "execution_count": 3,
     "metadata": {},
     "output_type": "execute_result"
    }
   ],
   "source": [
    "zoo = pd.DataFrame({\"Animals\":[\"Zebra\",\"Lion\",\"Tiger\",\"Bear\"], \n",
    "                   \"Ages\":[1,2,3,4]})\n",
    "zoo.set_index(zoo.Animals, inplace=True)\n",
    "zoo.drop(labels=[\"Animals\"],axis=1,inplace=True)\n",
    "zoo"
   ]
  },
  {
   "cell_type": "code",
   "execution_count": 4,
   "metadata": {},
   "outputs": [
    {
     "data": {
      "text/plain": [
       "'{\"Ages\":{\"Zebra\":1,\"Lion\":2,\"Tiger\":3,\"Bear\":4}}'"
      ]
     },
     "execution_count": 4,
     "metadata": {},
     "output_type": "execute_result"
    }
   ],
   "source": [
    "storage = zoo.to_json()\n",
    "storage"
   ]
  },
  {
   "cell_type": "code",
   "execution_count": 5,
   "metadata": {},
   "outputs": [
    {
     "data": {
      "text/html": [
       "<div>\n",
       "<style scoped>\n",
       "    .dataframe tbody tr th:only-of-type {\n",
       "        vertical-align: middle;\n",
       "    }\n",
       "\n",
       "    .dataframe tbody tr th {\n",
       "        vertical-align: top;\n",
       "    }\n",
       "\n",
       "    .dataframe thead th {\n",
       "        text-align: right;\n",
       "    }\n",
       "</style>\n",
       "<table border=\"1\" class=\"dataframe\">\n",
       "  <thead>\n",
       "    <tr style=\"text-align: right;\">\n",
       "      <th></th>\n",
       "      <th>Ages</th>\n",
       "    </tr>\n",
       "  </thead>\n",
       "  <tbody>\n",
       "    <tr>\n",
       "      <th>Bear</th>\n",
       "      <td>4</td>\n",
       "    </tr>\n",
       "    <tr>\n",
       "      <th>Lion</th>\n",
       "      <td>2</td>\n",
       "    </tr>\n",
       "    <tr>\n",
       "      <th>Tiger</th>\n",
       "      <td>3</td>\n",
       "    </tr>\n",
       "    <tr>\n",
       "      <th>Zebra</th>\n",
       "      <td>1</td>\n",
       "    </tr>\n",
       "  </tbody>\n",
       "</table>\n",
       "</div>"
      ],
      "text/plain": [
       "       Ages\n",
       "Bear      4\n",
       "Lion      2\n",
       "Tiger     3\n",
       "Zebra     1"
      ]
     },
     "execution_count": 5,
     "metadata": {},
     "output_type": "execute_result"
    }
   ],
   "source": [
    "new_zoo = pd.read_json(storage)\n",
    "new_zoo"
   ]
  },
  {
   "cell_type": "code",
   "execution_count": 6,
   "metadata": {},
   "outputs": [
    {
     "name": "stdout",
     "output_type": "stream",
     "text": [
      "Animals,Ages\n",
      "Zebra,1\n",
      "Lion,2\n",
      "Tiger,3\n",
      "Bear,4\n",
      "\n"
     ]
    }
   ],
   "source": [
    "outbound = zoo.to_csv()\n",
    "print(outbound) # remove print to see single string"
   ]
  },
  {
   "cell_type": "code",
   "execution_count": 7,
   "metadata": {},
   "outputs": [
    {
     "data": {
      "text/html": [
       "<div>\n",
       "<style scoped>\n",
       "    .dataframe tbody tr th:only-of-type {\n",
       "        vertical-align: middle;\n",
       "    }\n",
       "\n",
       "    .dataframe tbody tr th {\n",
       "        vertical-align: top;\n",
       "    }\n",
       "\n",
       "    .dataframe thead th {\n",
       "        text-align: right;\n",
       "    }\n",
       "</style>\n",
       "<table border=\"1\" class=\"dataframe\">\n",
       "  <thead>\n",
       "    <tr style=\"text-align: right;\">\n",
       "      <th></th>\n",
       "      <th>Ages</th>\n",
       "    </tr>\n",
       "    <tr>\n",
       "      <th>Animals</th>\n",
       "      <th></th>\n",
       "    </tr>\n",
       "  </thead>\n",
       "  <tbody>\n",
       "    <tr>\n",
       "      <th>Lion</th>\n",
       "      <td>2</td>\n",
       "    </tr>\n",
       "    <tr>\n",
       "      <th>Tiger</th>\n",
       "      <td>3</td>\n",
       "    </tr>\n",
       "  </tbody>\n",
       "</table>\n",
       "</div>"
      ],
      "text/plain": [
       "         Ages\n",
       "Animals      \n",
       "Lion        2\n",
       "Tiger       3"
      ]
     },
     "execution_count": 7,
     "metadata": {},
     "output_type": "execute_result"
    }
   ],
   "source": [
    "zoo.loc[\"Lion\":\"Tiger\"]"
   ]
  },
  {
   "cell_type": "code",
   "execution_count": 8,
   "metadata": {},
   "outputs": [
    {
     "data": {
      "text/html": [
       "<div>\n",
       "<style scoped>\n",
       "    .dataframe tbody tr th:only-of-type {\n",
       "        vertical-align: middle;\n",
       "    }\n",
       "\n",
       "    .dataframe tbody tr th {\n",
       "        vertical-align: top;\n",
       "    }\n",
       "\n",
       "    .dataframe thead th {\n",
       "        text-align: right;\n",
       "    }\n",
       "</style>\n",
       "<table border=\"1\" class=\"dataframe\">\n",
       "  <thead>\n",
       "    <tr style=\"text-align: right;\">\n",
       "      <th></th>\n",
       "      <th>Ages</th>\n",
       "    </tr>\n",
       "    <tr>\n",
       "      <th>Animals</th>\n",
       "      <th></th>\n",
       "    </tr>\n",
       "  </thead>\n",
       "  <tbody>\n",
       "    <tr>\n",
       "      <th>Zebra</th>\n",
       "      <td>5</td>\n",
       "    </tr>\n",
       "    <tr>\n",
       "      <th>Lion</th>\n",
       "      <td>2</td>\n",
       "    </tr>\n",
       "    <tr>\n",
       "      <th>Tiger</th>\n",
       "      <td>3</td>\n",
       "    </tr>\n",
       "    <tr>\n",
       "      <th>Bear</th>\n",
       "      <td>4</td>\n",
       "    </tr>\n",
       "  </tbody>\n",
       "</table>\n",
       "</div>"
      ],
      "text/plain": [
       "         Ages\n",
       "Animals      \n",
       "Zebra       5\n",
       "Lion        2\n",
       "Tiger       3\n",
       "Bear        4"
      ]
     },
     "execution_count": 8,
     "metadata": {},
     "output_type": "execute_result"
    }
   ],
   "source": [
    "zoo.loc[\"Zebra\"]=5\n",
    "zoo"
   ]
  },
  {
   "cell_type": "markdown",
   "metadata": {},
   "source": [
    "## Thinking About Games of Chance\n",
    "\n",
    "We can start getting more statistically oriented within our \"calculator of tomorrow\", by working with some of those formulae [dealing with combinatorics](https://wikieducator.org/Casino_Math).\n",
    "\n",
    "We're not \"wasting paper\" when we repeat content in various orders.  We're permuting, as an aid to comprehension.\n",
    "\n",
    "Lets put the algorithm we're implementing side by side with its typeset encoding.\n",
    "\n",
    "$$\n",
    "\\frac{n!}{k!(n - k)!} = \\binom{n}{k} = {}^{n}C_{k} = C_{n}^k\n",
    "$$"
   ]
  },
  {
   "cell_type": "code",
   "execution_count": 9,
   "metadata": {},
   "outputs": [],
   "source": [
    "from math import factorial\n",
    "\n",
    "def binom(n,k):\n",
    "    return (factorial(n)//(factorial(n-k) * factorial(k)))  "
   ]
  },
  {
   "cell_type": "code",
   "execution_count": 10,
   "metadata": {},
   "outputs": [
    {
     "name": "stdout",
     "output_type": "stream",
     "text": [
      "2,598,960\n"
     ]
    }
   ],
   "source": [
    "how_many = binom(52,5) # Poker\n",
    "print(f\"{how_many:,}\") # fancy formatting"
   ]
  },
  {
   "cell_type": "code",
   "execution_count": 11,
   "metadata": {},
   "outputs": [
    {
     "data": {
      "text/plain": [
       "[1, 10, 45, 120, 210, 252, 210, 120, 45, 10, 1]"
      ]
     },
     "execution_count": 11,
     "metadata": {},
     "output_type": "execute_result"
    }
   ],
   "source": [
    "[binom(10,k) for k in range(0,11)]"
   ]
  },
  {
   "cell_type": "markdown",
   "metadata": {},
   "source": [
    "You may encounter PATH issues however.  Your operating system has a PATH in mind, but then so does Python, in the form of a mutable list of strings. We're free to add to it."
   ]
  },
  {
   "cell_type": "markdown",
   "metadata": {},
   "source": [
    "Note that if Python source code modules are present, we're free to import and use them interactively within our Notebook, as we would in any REPL.  You don't have to cram all the source code into a specific Notebook in order to use it."
   ]
  },
  {
   "cell_type": "code",
   "execution_count": 12,
   "metadata": {},
   "outputs": [
    {
     "name": "stdout",
     "output_type": "stream",
     "text": [
      "['/Users/mac/Documents/Curriculum_Development', '/Users/mac/opt/anaconda3/lib/python37.zip', '/Users/mac/opt/anaconda3/lib/python3.7', '/Users/mac/opt/anaconda3/lib/python3.7/lib-dynload', '', '/Users/mac/opt/anaconda3/lib/python3.7/site-packages', '/Users/mac/opt/anaconda3/lib/python3.7/site-packages/aeosa', '/Users/mac/opt/anaconda3/lib/python3.7/site-packages/IPython/extensions', '/Users/mac/.ipython']\n"
     ]
    }
   ],
   "source": [
    "import sys\n",
    "print(sys.path)\n",
    "sys.path.append(\"./python\") # subfolder in Curriculum_Development"
   ]
  },
  {
   "cell_type": "code",
   "execution_count": 13,
   "metadata": {},
   "outputs": [
    {
     "data": {
      "text/plain": [
       "[1, 10, 45, 120, 210, 252, 210, 120, 45, 10, 1]"
      ]
     },
     "execution_count": 13,
     "metadata": {},
     "output_type": "execute_result"
    }
   ],
   "source": [
    "from statsfun import pascal  # in the relative path ./python\n",
    "pascal(10)  # row n of Pascal's Triangle"
   ]
  },
  {
   "cell_type": "markdown",
   "metadata": {},
   "source": [
    "Remember [the Galton Board](https://youtu.be/Kq7e6cj2nDw) at this juncture!\n",
    "\n",
    "\n",
    "![galton](http://4dsolutions.net/ocn/graphics/randtrianim.gif)"
   ]
  },
  {
   "cell_type": "markdown",
   "metadata": {},
   "source": [
    "Lets build a deck of cards showing off more of Python's standard library.  The ```product``` function we're using returns an iterator giving the Cartesian product of all rows of a thing with all columns."
   ]
  },
  {
   "cell_type": "markdown",
   "metadata": {},
   "source": [
    "Python's itertools library will generate actual permutations and combinations from iterables, if that's what you're looking for, but sometimes we just care how many there would be.\n",
    "\n",
    "A combination is like a hand of poker.  The order in which the cards are dealt is unimportant.  A permutation of that hand would put the cards in every possible order and count those separately.\n",
    "\n",
    "Given a 52-card deck, how many unique five card hands might be dealt?  Check below for the answer.\n"
   ]
  },
  {
   "cell_type": "code",
   "execution_count": 14,
   "metadata": {},
   "outputs": [],
   "source": [
    "from itertools import product\n",
    "from random import sample, shuffle\n",
    "\n",
    "def deck_of_cards():\n",
    "    face_cards = ['Ace', 'King', 'Queen', 'Jack']\n",
    "    numb_cards = [str(i) for i in range(2, 11)]\n",
    "    suits      = ['Hearts', 'Diamonds', 'Spades', 'Clubs']\n",
    "    # match every card with every suit\n",
    "    return list(product(face_cards + numb_cards, suits))"
   ]
  },
  {
   "cell_type": "code",
   "execution_count": 15,
   "metadata": {},
   "outputs": [],
   "source": [
    "deck = deck_of_cards()"
   ]
  },
  {
   "cell_type": "code",
   "execution_count": 16,
   "metadata": {},
   "outputs": [],
   "source": [
    "shuffle(deck)"
   ]
  },
  {
   "cell_type": "markdown",
   "metadata": {},
   "source": [
    "The cell below is set off from the rest, because our deck is already defined, created, and shuffled."
   ]
  },
  {
   "cell_type": "code",
   "execution_count": 17,
   "metadata": {},
   "outputs": [
    {
     "data": {
      "text/plain": [
       "[('4', 'Hearts'),\n",
       " ('2', 'Hearts'),\n",
       " ('King', 'Hearts'),\n",
       " ('3', 'Hearts'),\n",
       " ('5', 'Hearts')]"
      ]
     },
     "execution_count": 17,
     "metadata": {},
     "output_type": "execute_result"
    }
   ],
   "source": [
    "sample(deck, 5)"
   ]
  },
  {
   "cell_type": "markdown",
   "metadata": {},
   "source": [
    "Python's numpy.random module lets us sample a population both with and without replacement.  If you put the card back each time, before you again pick a card, writing down your results, you might well get some repeats.  These could not be poker hands, as card dealing does not involve replacement."
   ]
  },
  {
   "cell_type": "code",
   "execution_count": 18,
   "metadata": {},
   "outputs": [
    {
     "data": {
      "text/plain": [
       "array(['10 of Diamonds', 'Ace of Hearts', '7 of Hearts', 'Jack of Hearts',\n",
       "       '3 of Clubs', '6 of Hearts', '6 of Hearts', 'Jack of Spades',\n",
       "       '7 of Spades', '3 of Hearts'], dtype='<U17')"
      ]
     },
     "execution_count": 18,
     "metadata": {},
     "output_type": "execute_result"
    }
   ],
   "source": [
    "import numpy as np\n",
    "\n",
    "# turn all the cards into a long list of strings e.g. \"Ace of Spades\"\n",
    "card_images = [f\"{card} of {suit}\" for card, suit in deck]\n",
    "\n",
    "# now pick 10 cards with replacement i.e. they stay in the deck\n",
    "sample = np.random.choice(card_images, 10, replace=True)\n",
    "\n",
    "# the result is a numpy array of datatype Unicode\n",
    "sample"
   ]
  },
  {
   "cell_type": "markdown",
   "metadata": {},
   "source": [
    "# Of Bayesians and Frequentists\n",
    "\n",
    "Have you ever come late to a fight, and by the time you arrive they're all talking about it as some past civil war.  We're all friends now.  That's how it sounds to the ears of this anthropologist, as I poke around in Data Science World.\n",
    "\n",
    "The Frequentists enjoy the controlled experience of the laboratory and the scientific experiments involving taking many samples, and seeing if any of the rise above the others as noteworthy in some way not explained away by mere chance.\n",
    "\n",
    "The language of p-values < 0.05 comes from Frequentism.\n",
    "\n",
    "The Bayesians have been enjoying a boost recently because of several factors:\n",
    "\n",
    "* an increasing amount of data thanks to the internet especially\n",
    "* an intuitive approach adjusting beliefs outside the laboratory\n",
    "* an increasing amount of computer power, to work with all that data\n",
    "\n",
    "The Bayesian process involves measuring the likelihood of specific data, given a range of  explanatory models or hypotheses, and updating one's assessment of those models accordingly, in light of the incoming data.\n",
    "\n",
    "*Bayesian Belief Update* reminds us to think in terms of curves.  Our prior belief curve, measured against the likelihood of what we're seeing, gives me an updated posterior.  \n",
    "\n",
    "The denominator normalizes by averaging over all the outcomes and may take [a disjoint form](https://www.coursera.org/lecture/probability-intro/disjoint-events-general-addition-rule-qaYwc), as the sum of multiple sources.  In medical testing, any false positives and negatives will tend to dilute the likelihood of whatever hypothesis is proposed."
   ]
  },
  {
   "cell_type": "markdown",
   "metadata": {},
   "source": [
    "## YouTubes\n",
    "\n",
    "You may embed Youtubes in your Jupyter Notebooks.  These may not be rendered and made playable on some versions of the rendering engine, such as the one at Github.  By cutting and pasting a Github notebook (a public one) into nbviewer, you will get the more complete rendering, with Youtubes displayed."
   ]
  },
  {
   "cell_type": "code",
   "execution_count": 19,
   "metadata": {},
   "outputs": [
    {
     "data": {
      "image/jpeg": "[encoded data removed]",
      "text/html": [
       "\n",
       "        <iframe\n",
       "            width=\"400\"\n",
       "            height=\"300\"\n",
       "            src=\"https://www.youtube.com/embed/HZGCoVF3YvM\"\n",
       "            frameborder=\"0\"\n",
       "            allowfullscreen\n",
       "        ></iframe>\n",
       "        "
      ],
      "text/plain": [
       "<IPython.lib.display.YouTubeVideo at 0x114e71790>"
      ]
     },
     "execution_count": 19,
     "metadata": {},
     "output_type": "execute_result"
    }
   ],
   "source": [
    "from IPython.display import YouTubeVideo\n",
    "YouTubeVideo('HZGCoVF3YvM')"
   ]
  },
  {
   "cell_type": "code",
   "execution_count": 20,
   "metadata": {},
   "outputs": [
    {
     "data": {
      "image/jpeg": "[encoded data removed]",
      "text/html": [
       "\n",
       "        <iframe\n",
       "            width=\"400\"\n",
       "            height=\"300\"\n",
       "            src=\"https://www.youtube.com/embed/BrK7X_XlGB8\"\n",
       "            frameborder=\"0\"\n",
       "            allowfullscreen\n",
       "        ></iframe>\n",
       "        "
      ],
      "text/plain": [
       "<IPython.lib.display.YouTubeVideo at 0x114df9050>"
      ]
     },
     "execution_count": 20,
     "metadata": {},
     "output_type": "execute_result"
    }
   ],
   "source": [
    "YouTubeVideo('BrK7X_XlGB8')"
   ]
  },
  {
   "cell_type": "code",
   "execution_count": 21,
   "metadata": {},
   "outputs": [
    {
     "data": {
      "image/jpeg": "[encoded data removed]",
      "text/html": [
       "\n",
       "        <iframe\n",
       "            width=\"400\"\n",
       "            height=\"300\"\n",
       "            src=\"https://www.youtube.com/embed/H71Vl78qCXA\"\n",
       "            frameborder=\"0\"\n",
       "            allowfullscreen\n",
       "        ></iframe>\n",
       "        "
      ],
      "text/plain": [
       "<IPython.lib.display.YouTubeVideo at 0x114e29350>"
      ]
     },
     "execution_count": 21,
     "metadata": {},
     "output_type": "execute_result"
    }
   ],
   "source": [
    "YouTubeVideo('H71Vl78qCXA')"
   ]
  },
  {
   "cell_type": "code",
   "execution_count": 22,
   "metadata": {},
   "outputs": [
    {
     "data": {
      "image/jpeg": "[encoded data removed]",
      "text/html": [
       "\n",
       "        <iframe\n",
       "            width=\"400\"\n",
       "            height=\"300\"\n",
       "            src=\"https://www.youtube.com/embed/9TDjifpGj-k\"\n",
       "            frameborder=\"0\"\n",
       "            allowfullscreen\n",
       "        ></iframe>\n",
       "        "
      ],
      "text/plain": [
       "<IPython.lib.display.YouTubeVideo at 0x114e77d90>"
      ]
     },
     "execution_count": 22,
     "metadata": {},
     "output_type": "execute_result"
    }
   ],
   "source": [
    "YouTubeVideo('9TDjifpGj-k')"
   ]
  },
  {
   "cell_type": "code",
   "execution_count": 23,
   "metadata": {},
   "outputs": [
    {
     "data": {
      "image/jpeg": "[encoded data removed]",
      "text/html": [
       "\n",
       "        <iframe\n",
       "            width=\"400\"\n",
       "            height=\"300\"\n",
       "            src=\"https://www.youtube.com/embed/TpgiFIGXcT4\"\n",
       "            frameborder=\"0\"\n",
       "            allowfullscreen\n",
       "        ></iframe>\n",
       "        "
      ],
      "text/plain": [
       "<IPython.lib.display.YouTubeVideo at 0x114e90290>"
      ]
     },
     "execution_count": 23,
     "metadata": {},
     "output_type": "execute_result"
    }
   ],
   "source": [
    "YouTubeVideo('TpgiFIGXcT4')"
   ]
  },
  {
   "cell_type": "markdown",
   "metadata": {},
   "source": [
    "## The Turing Test\n",
    "\n",
    "A good example of how we might use inferential reasoning is in order to ascertain whether a conversation is what we might call intelligent.  \n",
    "\n",
    "Humans and pets get into a feedback loop, of training each other, thereby finding a dynamic equilibrium.  Humans and their computers get into feedback loops also.  An intelligent relationship may form as a result of synergy between participating\n",
    "\n",
    "Many professionals dream of an ideal conversationalist that provides new insights and understanding, that might also happen to be artificially intelligent, not another human being.\n",
    "\n",
    "Siri, Alexa and other NLP services suggest a trajectory in the direction of more conversationally adept bots.\n",
    "\n",
    "![Sophia](https://media.giphy.com/media/SKT4HdqZSSPbaobtPs/giphy.gif)\n",
    "\n",
    "What kinds of tests would we use to update prior beliefs regarding the probability that we're speaking with a machine intelligence and not another human?  That's what the Turing Test was all about: if we couldn't be sure, and yet the conversant was a machine, we could say \"the machine has passed the test\".\n",
    "\n",
    "The question, and conclusion (either way, pass or fail), only makes sense as long as we're able to keep the meaning of \"machine\" intact, as in \"something humanly contrived\".  \n",
    "\n",
    "If we admit or decide that nature is in the machine-making business (because nature is high tech), then we'll need to work harder to explain the difference we're looking for, perhaps by specifying more clearly the differences that make a difference."
   ]
  },
  {
   "cell_type": "markdown",
   "metadata": {},
   "source": [
    "## Unicode:  More Tools"
   ]
  },
  {
   "cell_type": "code",
   "execution_count": 24,
   "metadata": {},
   "outputs": [],
   "source": [
    "𨭎 = 10"
   ]
  },
  {
   "cell_type": "code",
   "execution_count": 25,
   "metadata": {},
   "outputs": [
    {
     "data": {
      "text/plain": [
       "10"
      ]
     },
     "execution_count": 25,
     "metadata": {},
     "output_type": "execute_result"
    }
   ],
   "source": [
    "𨭎"
   ]
  }
 ],
 "metadata": {
  "kernelspec": {
   "display_name": "Python 3",
   "language": "python",
   "name": "python3"
  },
  "language_info": {
   "codemirror_mode": {
    "name": "ipython",
    "version": 3
   },
   "file_extension": ".py",
   "mimetype": "text/x-python",
   "name": "python",
   "nbconvert_exporter": "python",
   "pygments_lexer": "ipython3",
   "version": "3.7.7"
  }
 },
 "nbformat": 4,
 "nbformat_minor": 4
}
