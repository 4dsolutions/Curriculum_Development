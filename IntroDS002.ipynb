{
 "cells": [
  {
   "cell_type": "markdown",
   "metadata": {},
   "source": [
    "Notebooks: \n",
    "[[1](IntroDS001.ipynb)]\n",
    "[[2](IntroDS002.ipynb)]\n",
    "[[3](IntroDS003.ipynb)]\n",
    "[[4](IntroDS004.ipynb)]\n",
    "[[5](IntroDS005.ipynb)]\n",
    "[[6](IntroDS006.ipynb)]"
   ]
  },
  {
   "cell_type": "markdown",
   "metadata": {},
   "source": [
    "Introduction to Data Science<br/>\n",
    "[Oregon Curriculum Network](http://www.4dsolutions.net/ocn)"
   ]
  },
  {
   "cell_type": "markdown",
   "metadata": {},
   "source": [
    "# Collecting the Tools"
   ]
  },
  {
   "cell_type": "markdown",
   "metadata": {},
   "source": [
    "## Anaconda\n",
    "\n",
    "Like many involved in data science, I encourage getting the Anaconda distribution and relying on the conda package manager, not only to install packages, but to manage environments more generally.\n",
    "\n",
    "However, no introduction to the Python toolchest can afford to ignore pip, and the conda documentation does a good job describing their differences.  One may use both.\n",
    "\n",
    "#### A Story from the Real World\n",
    "\n",
    "This story is examplary of the kind of situation you might encounter.\n",
    "\n",
    "When running on an older MacBook Pro, I encountered an incompatibility with the latest numpy that was frustrating everything my in workhorse Python 3.7 environment.  \n",
    "\n",
    "I had just done ```python upgrade --all``` only later remembering this had led to disaster before.  \n",
    "\n",
    "Fortunately, I was able to track down the source of the bug (the newest numpy [won't run on old Macs](https://github.com/das-developers/condaCDF/issues/1)) and conda managed to figure a way to downgrade to numpy 1.7.3 that apparently involved no other changes, so I got to keep almost all of the upgrade.\n",
    "\n",
    "But then my Python 3.8 environment insisted on numpy=1.7.3 or above, and installing from the default channel, that would not work.  So I added [conda-forge](https://conda-forge.org/) as another channel and [got numpy=1.7.3 from there](https://campus.datacamp.com/courses/conda-essentials/utilizing-channels?ex=5) and that all worked great.\n",
    "\n",
    "Note:  you "
   ]
  },
  {
   "cell_type": "markdown",
   "metadata": {},
   "source": [
    "## Let's Talk About Typesetting...\n",
    "\n",
    "A data scientist likely knows some $\\LaTeX$ but maybe never wrote a whole thesis in it.  We're in a [Jupyter Notebook](https://jupyter-notebook.readthedocs.io/en/stable/examples/Notebook/What%20is%20the%20Jupyter%20Notebook.html) and need some [math expressions]((https://jupyter-notebook.readthedocs.io/en/stable/examples/Notebook/Typesetting%20Equations.html) thanks to [MathJax](https://www.mathjax.org/).\n",
    "\n",
    "Jupyter is our principal tool in many dimensions, as it includes our kernel language (Python), along with many auxilliary features, such as [Markdown](https://github.com/adam-p/markdown-here/wiki/Markdown-Cheatsheet).\n",
    "\n",
    "The console query below requests that Jupyter list its possible kernels on Kirbys-MacBook-Pro:\n",
    "\n",
    "```console\n",
    "(base) Kirbys-MacBook-Pro:python_camp mac$ jupyter kernelspec list\n",
    "Available kernels:\n",
    "  python3    /Users/mac/opt/anaconda3/share/jupyter/kernels/python3\n",
    "```"
   ]
  },
  {
   "cell_type": "markdown",
   "metadata": {},
   "source": [
    "So thanks to LaTeX (OK to write it that way too), I can intersperse typeset mathematics with my runnable code.  Often the two will do the \"same thing\" with the typeset version providing a summary picture of what the source code actually does, when run through its kernel interpreter. \n",
    "\n",
    "The first equation below shows off how the notation of linear algebra, with its many matrices, is within our purview, as $LaTeX$ers. \n",
    "\n",
    "The second equation is one of Ramanujan's.  I'm tempted to verify it using an arbitrary precision library.  The sequence of digits on the right compared to those on the left, serve an inductive reasoning process.  Euler is right:  mathematics proceeds inductively and then, if we're lucky, we'll get a deductive proof someday, from some genius."
   ]
  },
  {
   "cell_type": "markdown",
   "metadata": {},
   "source": [
    "$\\LaTeX$\n",
    "\n",
    "\\begin{equation*}\n",
    "\\mathbf{V}_1 \\times \\mathbf{V}_2 =  \\begin{vmatrix}\n",
    "\\mathbf{i} & \\mathbf{j} & \\mathbf{k} \\\\\n",
    "\\frac{\\partial X}{\\partial u} &  \\frac{\\partial Y}{\\partial u} & 0 \\\\\n",
    "\\frac{\\partial X}{\\partial v} &  \\frac{\\partial Y}{\\partial v} & 0\n",
    "\\end{vmatrix}\n",
    "\\end{equation*}\n",
    "\n",
    "\\begin{equation*}\n",
    "\\frac{1}{\\Bigl(\\sqrt{\\phi \\sqrt{5}}-\\phi\\Bigr) e^{\\frac25 \\pi}} =\n",
    "1+\\frac{e^{-2\\pi}} {1+\\frac{e^{-4\\pi}} {1+\\frac{e^{-6\\pi}}\n",
    "{1+\\frac{e^{-8\\pi}} {1+\\ldots} } } }\n",
    "\\end{equation*}"
   ]
  },
  {
   "cell_type": "markdown",
   "metadata": {},
   "source": [
    "The source code for the two above is demarcated differently than those below, which use \\$\\$.  The first two are the same and have to do with \"choosing\". For example how many five card hands might be dealt from a standard deck of fifty-two cards?  \n",
    "\n",
    "The third shows how that choice algorithm features when computing the coefficients of a polynomial of a specific form. These correspond to the numbers in row n of Pascal's Triangle, a binomial distribution that smooths to a Gaussian distribution at the limit.\n",
    "\n",
    "The last two formulae are likewise special to the statistical sciences (data science, cybernetics, psychometrics):  Bayes' Rule and the Chi-Squared test."
   ]
  },
  {
   "cell_type": "markdown",
   "metadata": {},
   "source": [
    "$$\n",
    "\\frac{n!}{k!(n - k)!} = \\binom{n}{k} = {}^{n}C_{k} = C_{n}^k\n",
    "$$\n",
    "\n",
    "$$\n",
    "\\frac{n!}{k!(n - k)!} = \\binom{n}{k}\n",
    "$$\n",
    "\n",
    "$$\n",
    "(x+y)^n = \\sum_{k=0}^n {n \\choose k} x^{n - k} y^k\n",
    "$$\n",
    "\n",
    "$$ P(A \\mid B) = \\frac{P(B \\mid A) \\, P(A)}{P(B)} $$\n",
    "\n",
    "$$\n",
    "\\tilde{\\chi}^2=\\frac{1}{d}\\sum_{k=1}^{n} \\frac{(O_k - E_k)^2}{E_k}\n",
    "$$\n"
   ]
  },
  {
   "cell_type": "markdown",
   "metadata": {},
   "source": [
    "## Python Itself\n",
    "\n",
    "So far, we have not talked to the Python3 kernel at all.  Lets do so."
   ]
  },
  {
   "cell_type": "markdown",
   "metadata": {},
   "source": [
    "Lets verify the last equation above, one of Ramanujan's, using [mpmath](http://mpmath.org/) for arbitrary precision computations, and generally included with Anaconda.  Try ```conda search mpmath``` if you need to install it.\n",
    "\n",
    "We'll use 60 decimal places of precision, but this could be increased.  You will need to continue the continued fraction if so."
   ]
  },
  {
   "cell_type": "code",
   "execution_count": 1,
   "metadata": {},
   "outputs": [
    {
     "name": "stdout",
     "output_type": "stream",
     "text": [
      "gmpy\n",
      "1.001867436219318606077227680424157087122424127427497054500130190210949798909562825712938250353099963\n",
      "1.001867436219318606077227680424157087122424127427497054500130190210949798909562825712938250353099963\n",
      "Ta daa!\n"
     ]
    }
   ],
   "source": [
    "import mpmath\n",
    "from mpmath import e, pi\n",
    "print(mpmath.libmp.BACKEND)\n",
    "mpmath.mp.dps = 100\n",
    "two   = mpmath.mpf('2')\n",
    "five  = mpmath.mpf('5')\n",
    "root5 = mpmath.mpf('5').sqrt()\n",
    "phi = (1 + root5)/2\n",
    "\n",
    "term = \"(1 + (e ** (-2*{} * pi))/{})\"\n",
    "\n",
    "def cont_frac(n, c=1):\n",
    "    \"\"\"\n",
    "    Recursively build the continued fraction, \n",
    "    as a string, to level of depth n\n",
    "    \"\"\"\n",
    "    if n==0:\n",
    "        return \"1\"\n",
    "    else:    \n",
    "        return \"(1 + ((e ** (-2*{} * pi)/{})))\".format(c, cont_frac(n-1, c+1))\n",
    "\n",
    "print(eval(cont_frac(10))) # evaluate the continued fraction\n",
    "print(1/(((phi * root5).sqrt() - phi) * e ** (two/five * pi))) # left side of the equation\n",
    "print(\"Ta daa!\")"
   ]
  },
  {
   "cell_type": "markdown",
   "metadata": {},
   "source": [
    "Cool!  Now, back to $\\LaTeX$:\n",
    "\n",
    "$$ P(A \\mid B) = \\frac{P(B \\mid A) \\, P(A)}{P(B)} $$"
   ]
  },
  {
   "cell_type": "markdown",
   "metadata": {},
   "source": [
    "The formula above is an expression of Bayes' Theorem, which comes in many forms.  \n",
    "\n",
    "Give $\\LaTeX$ a workout as you feel led.  Here's another look at Bayes' Theorem."
   ]
  },
  {
   "cell_type": "markdown",
   "metadata": {},
   "source": [
    "$$\n",
    "\\frac{P(A \\mid B) \\, P(B)}{P(A)}  = P(A \\cap B) = \\frac{P(B \\mid A) \\, P(A)}{P(B)} \n",
    "$$"
   ]
  },
  {
   "cell_type": "markdown",
   "metadata": {},
   "source": [
    "Links:\n",
    "\n",
    "* https://en.wikiquote.org/wiki/Inductive_reasoning\n",
    "* https://oeis.org/wiki/List_of_LaTeX_mathematical_symbols"
   ]
  },
  {
   "cell_type": "markdown",
   "metadata": {},
   "source": [
    "### Data Formats\n",
    "\n",
    "* JSON\n",
    "* XML\n",
    "  * [Brief History](https://sonra.io/2016/10/18/brief-history-xml-hype-useful-data-format/)\n",
    "  * [pandas to XML?](https://stackoverflow.com/questions/18574108/how-do-convert-a-pandas-dataframe-to-xml)\n",
    "* CSV"
   ]
  },
  {
   "cell_type": "code",
   "execution_count": 2,
   "metadata": {},
   "outputs": [
    {
     "data": {
      "image/jpeg": "[encoded data removed]",
      "text/html": [
       "\n",
       "        <iframe\n",
       "            width=\"400\"\n",
       "            height=\"300\"\n",
       "            src=\"https://www.youtube.com/embed/SrEmzdOT65s\"\n",
       "            frameborder=\"0\"\n",
       "            allowfullscreen\n",
       "        ></iframe>\n",
       "        "
      ],
      "text/plain": [
       "<IPython.lib.display.YouTubeVideo at 0x10de61890>"
      ]
     },
     "execution_count": 2,
     "metadata": {},
     "output_type": "execute_result"
    }
   ],
   "source": [
    "from IPython.display import YouTubeVideo\n",
    "YouTubeVideo('SrEmzdOT65s')"
   ]
  },
  {
   "cell_type": "markdown",
   "metadata": {},
   "source": [
    "## pandas: Our Spreadsheet Workalike\n",
    "\n",
    "As I discussed in class, spreadsheets work well as scratch pads, but are somewhat volatile and tough to nail down programmatically.  \n",
    "\n",
    "How does one include a spreadsheet as one more object in a general purpose programming language?  We're not talking about macros here, and you're afraid of vendor lock in (lets say).\n",
    "\n",
    "Think of a pandas DataFrame as a patch of cloth.  Sometimes you will want to stitch frames together on some common label.  Other times you will want to split them (cut them) into pieces.  You might want to think of yourself as some kind of tailor or clothing designer."
   ]
  },
  {
   "cell_type": "code",
   "execution_count": 3,
   "metadata": {},
   "outputs": [
    {
     "data": {
      "text/plain": [
       "'1.0.3'"
      ]
     },
     "execution_count": 3,
     "metadata": {},
     "output_type": "execute_result"
    }
   ],
   "source": [
    "import pandas as pd\n",
    "pd.__version__"
   ]
  },
  {
   "cell_type": "code",
   "execution_count": 4,
   "metadata": {},
   "outputs": [
    {
     "data": {
      "text/html": [
       "<div>\n",
       "<style scoped>\n",
       "    .dataframe tbody tr th:only-of-type {\n",
       "        vertical-align: middle;\n",
       "    }\n",
       "\n",
       "    .dataframe tbody tr th {\n",
       "        vertical-align: top;\n",
       "    }\n",
       "\n",
       "    .dataframe thead th {\n",
       "        text-align: right;\n",
       "    }\n",
       "</style>\n",
       "<table border=\"1\" class=\"dataframe\">\n",
       "  <thead>\n",
       "    <tr style=\"text-align: right;\">\n",
       "      <th></th>\n",
       "      <th>Male</th>\n",
       "      <th>Female</th>\n",
       "    </tr>\n",
       "    <tr>\n",
       "      <th>Show</th>\n",
       "      <th></th>\n",
       "      <th></th>\n",
       "    </tr>\n",
       "  </thead>\n",
       "  <tbody>\n",
       "    <tr>\n",
       "      <th>GoT</th>\n",
       "      <td>80</td>\n",
       "      <td>120</td>\n",
       "    </tr>\n",
       "    <tr>\n",
       "      <th>WW</th>\n",
       "      <td>100</td>\n",
       "      <td>25</td>\n",
       "    </tr>\n",
       "    <tr>\n",
       "      <th>Other</th>\n",
       "      <td>50</td>\n",
       "      <td>125</td>\n",
       "    </tr>\n",
       "  </tbody>\n",
       "</table>\n",
       "</div>"
      ],
      "text/plain": [
       "       Male  Female\n",
       "Show               \n",
       "GoT      80     120\n",
       "WW      100      25\n",
       "Other    50     125"
      ]
     },
     "execution_count": 4,
     "metadata": {},
     "output_type": "execute_result"
    }
   ],
   "source": [
    "hbo = pd.DataFrame({\"Show\":[\"GoT\",\"WW\", \"Other\"], \n",
    "                    \"Male\":[80, 100, 50], \n",
    "                    \"Female\":[120, 25, 125]})\n",
    "hbo.set_index(\"Show\", inplace=True)\n",
    "hbo"
   ]
  },
  {
   "cell_type": "code",
   "execution_count": 5,
   "metadata": {},
   "outputs": [
    {
     "data": {
      "text/html": [
       "<div>\n",
       "<style scoped>\n",
       "    .dataframe tbody tr th:only-of-type {\n",
       "        vertical-align: middle;\n",
       "    }\n",
       "\n",
       "    .dataframe tbody tr th {\n",
       "        vertical-align: top;\n",
       "    }\n",
       "\n",
       "    .dataframe thead th {\n",
       "        text-align: right;\n",
       "    }\n",
       "</style>\n",
       "<table border=\"1\" class=\"dataframe\">\n",
       "  <thead>\n",
       "    <tr style=\"text-align: right;\">\n",
       "      <th></th>\n",
       "      <th>Male</th>\n",
       "      <th>Female</th>\n",
       "      <th>Total</th>\n",
       "    </tr>\n",
       "    <tr>\n",
       "      <th>Show</th>\n",
       "      <th></th>\n",
       "      <th></th>\n",
       "      <th></th>\n",
       "    </tr>\n",
       "  </thead>\n",
       "  <tbody>\n",
       "    <tr>\n",
       "      <th>GoT</th>\n",
       "      <td>80</td>\n",
       "      <td>120</td>\n",
       "      <td>200</td>\n",
       "    </tr>\n",
       "    <tr>\n",
       "      <th>WW</th>\n",
       "      <td>100</td>\n",
       "      <td>25</td>\n",
       "      <td>125</td>\n",
       "    </tr>\n",
       "    <tr>\n",
       "      <th>Other</th>\n",
       "      <td>50</td>\n",
       "      <td>125</td>\n",
       "      <td>175</td>\n",
       "    </tr>\n",
       "  </tbody>\n",
       "</table>\n",
       "</div>"
      ],
      "text/plain": [
       "       Male  Female  Total\n",
       "Show                      \n",
       "GoT      80     120    200\n",
       "WW      100      25    125\n",
       "Other    50     125    175"
      ]
     },
     "execution_count": 5,
     "metadata": {},
     "output_type": "execute_result"
    }
   ],
   "source": [
    "hbo[\"Total\"] = hbo.Male + hbo.Female\n",
    "hbo"
   ]
  },
  {
   "cell_type": "code",
   "execution_count": 6,
   "metadata": {},
   "outputs": [
    {
     "data": {
      "text/html": [
       "<div>\n",
       "<style scoped>\n",
       "    .dataframe tbody tr th:only-of-type {\n",
       "        vertical-align: middle;\n",
       "    }\n",
       "\n",
       "    .dataframe tbody tr th {\n",
       "        vertical-align: top;\n",
       "    }\n",
       "\n",
       "    .dataframe thead th {\n",
       "        text-align: right;\n",
       "    }\n",
       "</style>\n",
       "<table border=\"1\" class=\"dataframe\">\n",
       "  <thead>\n",
       "    <tr style=\"text-align: right;\">\n",
       "      <th></th>\n",
       "      <th>Male</th>\n",
       "      <th>Female</th>\n",
       "      <th>Total</th>\n",
       "    </tr>\n",
       "    <tr>\n",
       "      <th>Show</th>\n",
       "      <th></th>\n",
       "      <th></th>\n",
       "      <th></th>\n",
       "    </tr>\n",
       "  </thead>\n",
       "  <tbody>\n",
       "    <tr>\n",
       "      <th>GoT</th>\n",
       "      <td>80</td>\n",
       "      <td>120</td>\n",
       "      <td>200</td>\n",
       "    </tr>\n",
       "    <tr>\n",
       "      <th>WW</th>\n",
       "      <td>100</td>\n",
       "      <td>25</td>\n",
       "      <td>125</td>\n",
       "    </tr>\n",
       "    <tr>\n",
       "      <th>Other</th>\n",
       "      <td>50</td>\n",
       "      <td>125</td>\n",
       "      <td>175</td>\n",
       "    </tr>\n",
       "    <tr>\n",
       "      <th>Total</th>\n",
       "      <td>230</td>\n",
       "      <td>270</td>\n",
       "      <td>500</td>\n",
       "    </tr>\n",
       "  </tbody>\n",
       "</table>\n",
       "</div>"
      ],
      "text/plain": [
       "       Male  Female  Total\n",
       "Show                      \n",
       "GoT      80     120    200\n",
       "WW      100      25    125\n",
       "Other    50     125    175\n",
       "Total   230     270    500"
      ]
     },
     "execution_count": 6,
     "metadata": {},
     "output_type": "execute_result"
    }
   ],
   "source": [
    "bottom_row = hbo.sum(axis=0)\n",
    "hbo = hbo.append(pd.Series(bottom_row, index=hbo.columns, name='Total'))\n",
    "hbo"
   ]
  },
  {
   "cell_type": "code",
   "execution_count": 7,
   "metadata": {},
   "outputs": [
    {
     "data": {
      "text/html": [
       "<div>\n",
       "<style scoped>\n",
       "    .dataframe tbody tr th:only-of-type {\n",
       "        vertical-align: middle;\n",
       "    }\n",
       "\n",
       "    .dataframe tbody tr th {\n",
       "        vertical-align: top;\n",
       "    }\n",
       "\n",
       "    .dataframe thead th {\n",
       "        text-align: right;\n",
       "    }\n",
       "</style>\n",
       "<table border=\"1\" class=\"dataframe\">\n",
       "  <thead>\n",
       "    <tr style=\"text-align: right;\">\n",
       "      <th></th>\n",
       "      <th>A</th>\n",
       "      <th>B</th>\n",
       "      <th>C</th>\n",
       "    </tr>\n",
       "  </thead>\n",
       "  <tbody>\n",
       "    <tr>\n",
       "      <th>0</th>\n",
       "      <td>1</td>\n",
       "      <td>0</td>\n",
       "      <td>2</td>\n",
       "    </tr>\n",
       "    <tr>\n",
       "      <th>1</th>\n",
       "      <td>2</td>\n",
       "      <td>1</td>\n",
       "      <td>2</td>\n",
       "    </tr>\n",
       "  </tbody>\n",
       "</table>\n",
       "</div>"
      ],
      "text/plain": [
       "   A  B  C\n",
       "0  1  0  2\n",
       "1  2  1  2"
      ]
     },
     "execution_count": 7,
     "metadata": {},
     "output_type": "execute_result"
    }
   ],
   "source": [
    "df1 = pd.DataFrame({\"A\":[1,2],\"B\":[0,1],\"C\":[2,2]})\n",
    "df2 = pd.DataFrame({\"A\":[5,2],\"C\":[7,7],\"D\":[9,8]})\n",
    "df1"
   ]
  },
  {
   "cell_type": "code",
   "execution_count": 8,
   "metadata": {},
   "outputs": [
    {
     "data": {
      "text/html": [
       "<div>\n",
       "<style scoped>\n",
       "    .dataframe tbody tr th:only-of-type {\n",
       "        vertical-align: middle;\n",
       "    }\n",
       "\n",
       "    .dataframe tbody tr th {\n",
       "        vertical-align: top;\n",
       "    }\n",
       "\n",
       "    .dataframe thead th {\n",
       "        text-align: right;\n",
       "    }\n",
       "</style>\n",
       "<table border=\"1\" class=\"dataframe\">\n",
       "  <thead>\n",
       "    <tr style=\"text-align: right;\">\n",
       "      <th></th>\n",
       "      <th>A</th>\n",
       "      <th>C</th>\n",
       "      <th>D</th>\n",
       "    </tr>\n",
       "  </thead>\n",
       "  <tbody>\n",
       "    <tr>\n",
       "      <th>0</th>\n",
       "      <td>5</td>\n",
       "      <td>7</td>\n",
       "      <td>9</td>\n",
       "    </tr>\n",
       "    <tr>\n",
       "      <th>1</th>\n",
       "      <td>2</td>\n",
       "      <td>7</td>\n",
       "      <td>8</td>\n",
       "    </tr>\n",
       "  </tbody>\n",
       "</table>\n",
       "</div>"
      ],
      "text/plain": [
       "   A  C  D\n",
       "0  5  7  9\n",
       "1  2  7  8"
      ]
     },
     "execution_count": 8,
     "metadata": {},
     "output_type": "execute_result"
    }
   ],
   "source": [
    "df2"
   ]
  },
  {
   "cell_type": "code",
   "execution_count": 9,
   "metadata": {},
   "outputs": [
    {
     "data": {
      "text/html": [
       "<div>\n",
       "<style scoped>\n",
       "    .dataframe tbody tr th:only-of-type {\n",
       "        vertical-align: middle;\n",
       "    }\n",
       "\n",
       "    .dataframe tbody tr th {\n",
       "        vertical-align: top;\n",
       "    }\n",
       "\n",
       "    .dataframe thead th {\n",
       "        text-align: right;\n",
       "    }\n",
       "</style>\n",
       "<table border=\"1\" class=\"dataframe\">\n",
       "  <thead>\n",
       "    <tr style=\"text-align: right;\">\n",
       "      <th></th>\n",
       "      <th>A</th>\n",
       "      <th>B</th>\n",
       "      <th>C</th>\n",
       "      <th>A</th>\n",
       "      <th>C</th>\n",
       "      <th>D</th>\n",
       "    </tr>\n",
       "  </thead>\n",
       "  <tbody>\n",
       "    <tr>\n",
       "      <th>0</th>\n",
       "      <td>1</td>\n",
       "      <td>0</td>\n",
       "      <td>2</td>\n",
       "      <td>5</td>\n",
       "      <td>7</td>\n",
       "      <td>9</td>\n",
       "    </tr>\n",
       "    <tr>\n",
       "      <th>1</th>\n",
       "      <td>2</td>\n",
       "      <td>1</td>\n",
       "      <td>2</td>\n",
       "      <td>2</td>\n",
       "      <td>7</td>\n",
       "      <td>8</td>\n",
       "    </tr>\n",
       "  </tbody>\n",
       "</table>\n",
       "</div>"
      ],
      "text/plain": [
       "   A  B  C  A  C  D\n",
       "0  1  0  2  5  7  9\n",
       "1  2  1  2  2  7  8"
      ]
     },
     "execution_count": 9,
     "metadata": {},
     "output_type": "execute_result"
    }
   ],
   "source": [
    "pd.concat([df1, df2],axis=1)"
   ]
  },
  {
   "cell_type": "code",
   "execution_count": 10,
   "metadata": {},
   "outputs": [
    {
     "data": {
      "text/html": [
       "<div>\n",
       "<style scoped>\n",
       "    .dataframe tbody tr th:only-of-type {\n",
       "        vertical-align: middle;\n",
       "    }\n",
       "\n",
       "    .dataframe tbody tr th {\n",
       "        vertical-align: top;\n",
       "    }\n",
       "\n",
       "    .dataframe thead th {\n",
       "        text-align: right;\n",
       "    }\n",
       "</style>\n",
       "<table border=\"1\" class=\"dataframe\">\n",
       "  <thead>\n",
       "    <tr style=\"text-align: right;\">\n",
       "      <th></th>\n",
       "      <th>A</th>\n",
       "      <th>B</th>\n",
       "      <th>C</th>\n",
       "      <th>D</th>\n",
       "    </tr>\n",
       "  </thead>\n",
       "  <tbody>\n",
       "    <tr>\n",
       "      <th>0</th>\n",
       "      <td>1</td>\n",
       "      <td>0.0</td>\n",
       "      <td>2</td>\n",
       "      <td>NaN</td>\n",
       "    </tr>\n",
       "    <tr>\n",
       "      <th>1</th>\n",
       "      <td>2</td>\n",
       "      <td>1.0</td>\n",
       "      <td>2</td>\n",
       "      <td>NaN</td>\n",
       "    </tr>\n",
       "    <tr>\n",
       "      <th>0</th>\n",
       "      <td>5</td>\n",
       "      <td>NaN</td>\n",
       "      <td>7</td>\n",
       "      <td>9.0</td>\n",
       "    </tr>\n",
       "    <tr>\n",
       "      <th>1</th>\n",
       "      <td>2</td>\n",
       "      <td>NaN</td>\n",
       "      <td>7</td>\n",
       "      <td>8.0</td>\n",
       "    </tr>\n",
       "  </tbody>\n",
       "</table>\n",
       "</div>"
      ],
      "text/plain": [
       "   A    B  C    D\n",
       "0  1  0.0  2  NaN\n",
       "1  2  1.0  2  NaN\n",
       "0  5  NaN  7  9.0\n",
       "1  2  NaN  7  8.0"
      ]
     },
     "execution_count": 10,
     "metadata": {},
     "output_type": "execute_result"
    }
   ],
   "source": [
    "pd.concat([df1, df2],axis=0)"
   ]
  },
  {
   "cell_type": "code",
   "execution_count": 11,
   "metadata": {},
   "outputs": [
    {
     "data": {
      "text/html": [
       "<div>\n",
       "<style scoped>\n",
       "    .dataframe tbody tr th:only-of-type {\n",
       "        vertical-align: middle;\n",
       "    }\n",
       "\n",
       "    .dataframe tbody tr th {\n",
       "        vertical-align: top;\n",
       "    }\n",
       "\n",
       "    .dataframe thead th {\n",
       "        text-align: right;\n",
       "    }\n",
       "</style>\n",
       "<table border=\"1\" class=\"dataframe\">\n",
       "  <thead>\n",
       "    <tr style=\"text-align: right;\">\n",
       "      <th></th>\n",
       "      <th>A</th>\n",
       "      <th>B</th>\n",
       "      <th>C</th>\n",
       "      <th>D</th>\n",
       "    </tr>\n",
       "  </thead>\n",
       "  <tbody>\n",
       "    <tr>\n",
       "      <th>0</th>\n",
       "      <td>1</td>\n",
       "      <td>0.0</td>\n",
       "      <td>2</td>\n",
       "      <td>-1.0</td>\n",
       "    </tr>\n",
       "    <tr>\n",
       "      <th>1</th>\n",
       "      <td>2</td>\n",
       "      <td>1.0</td>\n",
       "      <td>2</td>\n",
       "      <td>-1.0</td>\n",
       "    </tr>\n",
       "    <tr>\n",
       "      <th>0</th>\n",
       "      <td>5</td>\n",
       "      <td>-1.0</td>\n",
       "      <td>7</td>\n",
       "      <td>9.0</td>\n",
       "    </tr>\n",
       "    <tr>\n",
       "      <th>1</th>\n",
       "      <td>2</td>\n",
       "      <td>-1.0</td>\n",
       "      <td>7</td>\n",
       "      <td>8.0</td>\n",
       "    </tr>\n",
       "  </tbody>\n",
       "</table>\n",
       "</div>"
      ],
      "text/plain": [
       "   A    B  C    D\n",
       "0  1  0.0  2 -1.0\n",
       "1  2  1.0  2 -1.0\n",
       "0  5 -1.0  7  9.0\n",
       "1  2 -1.0  7  8.0"
      ]
     },
     "execution_count": 11,
     "metadata": {},
     "output_type": "execute_result"
    }
   ],
   "source": [
    "pd.concat([df1, df2],axis=0).fillna(-1)"
   ]
  },
  {
   "cell_type": "markdown",
   "metadata": {},
   "source": [
    "pandas gives us a way to import data at the top of a worksheet, a Notebook, and then document all the step-by-step transformations that bring us to our (thrilling?) conclusions.  \n",
    "\n",
    "Stakeholders have an opportunity to run the same Notebook and verify conclusions, and/or probe whatever weaknesses, and/or branch off in new directions.\n",
    "\n",
    "Yes, maybe it's more work to manipulate a DataFrame programmatically, than to mouse around in a spreadsheet, but once it's all working, you have a potentially better documented and more robust pipeline or workflow."
   ]
  },
  {
   "cell_type": "code",
   "execution_count": 12,
   "metadata": {},
   "outputs": [
    {
     "data": {
      "text/plain": [
       "'1.0.3'"
      ]
     },
     "execution_count": 12,
     "metadata": {},
     "output_type": "execute_result"
    }
   ],
   "source": [
    "import pandas as pd\n",
    "pd.__version__"
   ]
  },
  {
   "cell_type": "markdown",
   "metadata": {},
   "source": [
    "A first DataFrame.  pandas gives us so many ways to get the ball rolling.  However one of the most straightforward ways is by subitting a dictionary, with keys giving column names, and values giving vertically sequenced data."
   ]
  },
  {
   "cell_type": "code",
   "execution_count": 13,
   "metadata": {},
   "outputs": [
    {
     "data": {
      "text/html": [
       "<div>\n",
       "<style scoped>\n",
       "    .dataframe tbody tr th:only-of-type {\n",
       "        vertical-align: middle;\n",
       "    }\n",
       "\n",
       "    .dataframe tbody tr th {\n",
       "        vertical-align: top;\n",
       "    }\n",
       "\n",
       "    .dataframe thead th {\n",
       "        text-align: right;\n",
       "    }\n",
       "</style>\n",
       "<table border=\"1\" class=\"dataframe\">\n",
       "  <thead>\n",
       "    <tr style=\"text-align: right;\">\n",
       "      <th></th>\n",
       "      <th>Species</th>\n",
       "      <th>Age</th>\n",
       "      <th>Weight</th>\n",
       "    </tr>\n",
       "    <tr>\n",
       "      <th>Name</th>\n",
       "      <th></th>\n",
       "      <th></th>\n",
       "      <th></th>\n",
       "    </tr>\n",
       "  </thead>\n",
       "  <tbody>\n",
       "    <tr>\n",
       "      <th>Zorro</th>\n",
       "      <td>Zebra</td>\n",
       "      <td>1</td>\n",
       "      <td>150.1</td>\n",
       "    </tr>\n",
       "    <tr>\n",
       "      <th>Lila</th>\n",
       "      <td>Lion</td>\n",
       "      <td>2</td>\n",
       "      <td>200.0</td>\n",
       "    </tr>\n",
       "    <tr>\n",
       "      <th>Telly</th>\n",
       "      <td>Tiger</td>\n",
       "      <td>3</td>\n",
       "      <td>190.2</td>\n",
       "    </tr>\n",
       "    <tr>\n",
       "      <th>Boris</th>\n",
       "      <td>Bear</td>\n",
       "      <td>4</td>\n",
       "      <td>345.4</td>\n",
       "    </tr>\n",
       "  </tbody>\n",
       "</table>\n",
       "</div>"
      ],
      "text/plain": [
       "      Species  Age  Weight\n",
       "Name                      \n",
       "Zorro   Zebra    1   150.1\n",
       "Lila     Lion    2   200.0\n",
       "Telly   Tiger    3   190.2\n",
       "Boris    Bear    4   345.4"
      ]
     },
     "execution_count": 13,
     "metadata": {},
     "output_type": "execute_result"
    }
   ],
   "source": [
    "# regular python conventions\n",
    "zoo = pd.DataFrame({\"Species\":[\"Zebra\",\"Lion\",\"Tiger\",\"Bear\"],\n",
    "                    \"Name\":[\"Zorro\", \"Lila\", \"Telly\", \"Boris\"],\n",
    "                    \"Age\":[1,2,3,4],  # integers, not exact\n",
    "                    \"Weight\":[150.1, 200.0, 190.2, 345.4]})\n",
    "\n",
    "zoo.set_index(\"Name\", inplace=True)\n",
    "zoo  # this works too"
   ]
  },
  {
   "cell_type": "code",
   "execution_count": 14,
   "metadata": {},
   "outputs": [
    {
     "data": {
      "text/plain": [
       "'{\"Species\":{\"Zorro\":\"Zebra\",\"Lila\":\"Lion\",\"Telly\":\"Tiger\",\"Boris\":\"Bear\"},\"Age\":{\"Zorro\":1,\"Lila\":2,\"Telly\":3,\"Boris\":4},\"Weight\":{\"Zorro\":150.1,\"Lila\":200.0,\"Telly\":190.2,\"Boris\":345.4}}'"
      ]
     },
     "execution_count": 14,
     "metadata": {},
     "output_type": "execute_result"
    }
   ],
   "source": [
    "storage = zoo.to_json()\n",
    "storage"
   ]
  },
  {
   "cell_type": "code",
   "execution_count": 15,
   "metadata": {},
   "outputs": [
    {
     "data": {
      "text/html": [
       "<div>\n",
       "<style scoped>\n",
       "    .dataframe tbody tr th:only-of-type {\n",
       "        vertical-align: middle;\n",
       "    }\n",
       "\n",
       "    .dataframe tbody tr th {\n",
       "        vertical-align: top;\n",
       "    }\n",
       "\n",
       "    .dataframe thead th {\n",
       "        text-align: right;\n",
       "    }\n",
       "</style>\n",
       "<table border=\"1\" class=\"dataframe\">\n",
       "  <thead>\n",
       "    <tr style=\"text-align: right;\">\n",
       "      <th></th>\n",
       "      <th>Species</th>\n",
       "      <th>Age</th>\n",
       "      <th>Weight</th>\n",
       "    </tr>\n",
       "  </thead>\n",
       "  <tbody>\n",
       "    <tr>\n",
       "      <th>Zorro</th>\n",
       "      <td>Zebra</td>\n",
       "      <td>1</td>\n",
       "      <td>150.1</td>\n",
       "    </tr>\n",
       "    <tr>\n",
       "      <th>Lila</th>\n",
       "      <td>Lion</td>\n",
       "      <td>2</td>\n",
       "      <td>200.0</td>\n",
       "    </tr>\n",
       "    <tr>\n",
       "      <th>Telly</th>\n",
       "      <td>Tiger</td>\n",
       "      <td>3</td>\n",
       "      <td>190.2</td>\n",
       "    </tr>\n",
       "    <tr>\n",
       "      <th>Boris</th>\n",
       "      <td>Bear</td>\n",
       "      <td>4</td>\n",
       "      <td>345.4</td>\n",
       "    </tr>\n",
       "  </tbody>\n",
       "</table>\n",
       "</div>"
      ],
      "text/plain": [
       "      Species  Age  Weight\n",
       "Zorro   Zebra    1   150.1\n",
       "Lila     Lion    2   200.0\n",
       "Telly   Tiger    3   190.2\n",
       "Boris    Bear    4   345.4"
      ]
     },
     "execution_count": 15,
     "metadata": {},
     "output_type": "execute_result"
    }
   ],
   "source": [
    "new_zoo = pd.read_json(storage)\n",
    "new_zoo"
   ]
  },
  {
   "cell_type": "code",
   "execution_count": 16,
   "metadata": {},
   "outputs": [],
   "source": [
    "periodic_table = pd.read_json(\"http://thekirbster.pythonanywhere.com/api/elements?elem=all\")"
   ]
  },
  {
   "cell_type": "code",
   "execution_count": 17,
   "metadata": {},
   "outputs": [
    {
     "data": {
      "text/plain": [
       "pandas.core.frame.DataFrame"
      ]
     },
     "execution_count": 17,
     "metadata": {},
     "output_type": "execute_result"
    }
   ],
   "source": [
    "type(periodic_table)"
   ]
  },
  {
   "cell_type": "code",
   "execution_count": 18,
   "metadata": {},
   "outputs": [
    {
     "data": {
      "text/html": [
       "<div>\n",
       "<style scoped>\n",
       "    .dataframe tbody tr th:only-of-type {\n",
       "        vertical-align: middle;\n",
       "    }\n",
       "\n",
       "    .dataframe tbody tr th {\n",
       "        vertical-align: top;\n",
       "    }\n",
       "\n",
       "    .dataframe thead th {\n",
       "        text-align: right;\n",
       "    }\n",
       "</style>\n",
       "<table border=\"1\" class=\"dataframe\">\n",
       "  <thead>\n",
       "    <tr style=\"text-align: right;\">\n",
       "      <th></th>\n",
       "      <th>Species</th>\n",
       "      <th>Age</th>\n",
       "      <th>Weight</th>\n",
       "    </tr>\n",
       "    <tr>\n",
       "      <th>Name</th>\n",
       "      <th></th>\n",
       "      <th></th>\n",
       "      <th></th>\n",
       "    </tr>\n",
       "  </thead>\n",
       "  <tbody>\n",
       "    <tr>\n",
       "      <th>Zorro</th>\n",
       "      <td>Zebra</td>\n",
       "      <td>1</td>\n",
       "      <td>150.1</td>\n",
       "    </tr>\n",
       "    <tr>\n",
       "      <th>Lila</th>\n",
       "      <td>Lion</td>\n",
       "      <td>2</td>\n",
       "      <td>200.0</td>\n",
       "    </tr>\n",
       "    <tr>\n",
       "      <th>Telly</th>\n",
       "      <td>Tiger</td>\n",
       "      <td>3</td>\n",
       "      <td>190.2</td>\n",
       "    </tr>\n",
       "    <tr>\n",
       "      <th>Boris</th>\n",
       "      <td>Bear</td>\n",
       "      <td>4</td>\n",
       "      <td>345.4</td>\n",
       "    </tr>\n",
       "  </tbody>\n",
       "</table>\n",
       "</div>"
      ],
      "text/plain": [
       "      Species  Age  Weight\n",
       "Name                      \n",
       "Zorro   Zebra    1   150.1\n",
       "Lila     Lion    2   200.0\n",
       "Telly   Tiger    3   190.2\n",
       "Boris    Bear    4   345.4"
      ]
     },
     "execution_count": 18,
     "metadata": {},
     "output_type": "execute_result"
    }
   ],
   "source": [
    "new_zoo.rename_axis(\"Name\", inplace=True)\n",
    "new_zoo"
   ]
  },
  {
   "cell_type": "code",
   "execution_count": 19,
   "metadata": {},
   "outputs": [
    {
     "name": "stdout",
     "output_type": "stream",
     "text": [
      "Name\n"
     ]
    }
   ],
   "source": [
    "print(new_zoo.index.name)"
   ]
  },
  {
   "cell_type": "code",
   "execution_count": 20,
   "metadata": {},
   "outputs": [
    {
     "name": "stdout",
     "output_type": "stream",
     "text": [
      "Name,Species,Age,Weight\n",
      "Zorro,Zebra,1,150.1\n",
      "Lila,Lion,2,200.0\n",
      "Telly,Tiger,3,190.2\n",
      "Boris,Bear,4,345.4\n",
      "\n"
     ]
    }
   ],
   "source": [
    "outbound = zoo.to_csv()\n",
    "print(outbound) # remove print to see single string\n",
    "with open(\"zoo.csv\", \"w\") as f:\n",
    "    f.write(outbound)"
   ]
  },
  {
   "cell_type": "code",
   "execution_count": 21,
   "metadata": {},
   "outputs": [
    {
     "data": {
      "text/html": [
       "<div>\n",
       "<style scoped>\n",
       "    .dataframe tbody tr th:only-of-type {\n",
       "        vertical-align: middle;\n",
       "    }\n",
       "\n",
       "    .dataframe tbody tr th {\n",
       "        vertical-align: top;\n",
       "    }\n",
       "\n",
       "    .dataframe thead th {\n",
       "        text-align: right;\n",
       "    }\n",
       "</style>\n",
       "<table border=\"1\" class=\"dataframe\">\n",
       "  <thead>\n",
       "    <tr style=\"text-align: right;\">\n",
       "      <th></th>\n",
       "      <th>Name</th>\n",
       "      <th>Species</th>\n",
       "      <th>Age</th>\n",
       "      <th>Weight</th>\n",
       "    </tr>\n",
       "  </thead>\n",
       "  <tbody>\n",
       "    <tr>\n",
       "      <th>0</th>\n",
       "      <td>Zorro</td>\n",
       "      <td>Zebra</td>\n",
       "      <td>1</td>\n",
       "      <td>150.1</td>\n",
       "    </tr>\n",
       "    <tr>\n",
       "      <th>1</th>\n",
       "      <td>Lila</td>\n",
       "      <td>Lion</td>\n",
       "      <td>2</td>\n",
       "      <td>200.0</td>\n",
       "    </tr>\n",
       "    <tr>\n",
       "      <th>2</th>\n",
       "      <td>Telly</td>\n",
       "      <td>Tiger</td>\n",
       "      <td>3</td>\n",
       "      <td>190.2</td>\n",
       "    </tr>\n",
       "    <tr>\n",
       "      <th>3</th>\n",
       "      <td>Boris</td>\n",
       "      <td>Bear</td>\n",
       "      <td>4</td>\n",
       "      <td>345.4</td>\n",
       "    </tr>\n",
       "  </tbody>\n",
       "</table>\n",
       "</div>"
      ],
      "text/plain": [
       "    Name Species  Age  Weight\n",
       "0  Zorro   Zebra    1   150.1\n",
       "1   Lila    Lion    2   200.0\n",
       "2  Telly   Tiger    3   190.2\n",
       "3  Boris    Bear    4   345.4"
      ]
     },
     "execution_count": 21,
     "metadata": {},
     "output_type": "execute_result"
    }
   ],
   "source": [
    "with open(\"zoo.csv\", \"r\") as f:\n",
    "    zoo = pd.read_csv(f)\n",
    "zoo"
   ]
  },
  {
   "cell_type": "code",
   "execution_count": 22,
   "metadata": {},
   "outputs": [
    {
     "data": {
      "text/html": [
       "<div>\n",
       "<style scoped>\n",
       "    .dataframe tbody tr th:only-of-type {\n",
       "        vertical-align: middle;\n",
       "    }\n",
       "\n",
       "    .dataframe tbody tr th {\n",
       "        vertical-align: top;\n",
       "    }\n",
       "\n",
       "    .dataframe thead th {\n",
       "        text-align: right;\n",
       "    }\n",
       "</style>\n",
       "<table border=\"1\" class=\"dataframe\">\n",
       "  <thead>\n",
       "    <tr style=\"text-align: right;\">\n",
       "      <th></th>\n",
       "      <th>Species</th>\n",
       "      <th>Age</th>\n",
       "      <th>Weight</th>\n",
       "    </tr>\n",
       "    <tr>\n",
       "      <th>Name</th>\n",
       "      <th></th>\n",
       "      <th></th>\n",
       "      <th></th>\n",
       "    </tr>\n",
       "  </thead>\n",
       "  <tbody>\n",
       "    <tr>\n",
       "      <th>Zorro</th>\n",
       "      <td>Zebra</td>\n",
       "      <td>1</td>\n",
       "      <td>150.1</td>\n",
       "    </tr>\n",
       "    <tr>\n",
       "      <th>Lila</th>\n",
       "      <td>Lion</td>\n",
       "      <td>2</td>\n",
       "      <td>200.0</td>\n",
       "    </tr>\n",
       "    <tr>\n",
       "      <th>Telly</th>\n",
       "      <td>Tiger</td>\n",
       "      <td>3</td>\n",
       "      <td>190.2</td>\n",
       "    </tr>\n",
       "    <tr>\n",
       "      <th>Boris</th>\n",
       "      <td>Bear</td>\n",
       "      <td>4</td>\n",
       "      <td>345.4</td>\n",
       "    </tr>\n",
       "  </tbody>\n",
       "</table>\n",
       "</div>"
      ],
      "text/plain": [
       "      Species  Age  Weight\n",
       "Name                      \n",
       "Zorro   Zebra    1   150.1\n",
       "Lila     Lion    2   200.0\n",
       "Telly   Tiger    3   190.2\n",
       "Boris    Bear    4   345.4"
      ]
     },
     "execution_count": 22,
     "metadata": {},
     "output_type": "execute_result"
    }
   ],
   "source": [
    "zoo.set_index(\"Name\", inplace=True)\n",
    "zoo"
   ]
  },
  {
   "cell_type": "code",
   "execution_count": 23,
   "metadata": {},
   "outputs": [
    {
     "data": {
      "text/html": [
       "<div>\n",
       "<style scoped>\n",
       "    .dataframe tbody tr th:only-of-type {\n",
       "        vertical-align: middle;\n",
       "    }\n",
       "\n",
       "    .dataframe tbody tr th {\n",
       "        vertical-align: top;\n",
       "    }\n",
       "\n",
       "    .dataframe thead th {\n",
       "        text-align: right;\n",
       "    }\n",
       "</style>\n",
       "<table border=\"1\" class=\"dataframe\">\n",
       "  <thead>\n",
       "    <tr style=\"text-align: right;\">\n",
       "      <th></th>\n",
       "      <th>Species</th>\n",
       "      <th>Age</th>\n",
       "      <th>Weight</th>\n",
       "    </tr>\n",
       "    <tr>\n",
       "      <th>Name</th>\n",
       "      <th></th>\n",
       "      <th></th>\n",
       "      <th></th>\n",
       "    </tr>\n",
       "  </thead>\n",
       "  <tbody>\n",
       "    <tr>\n",
       "      <th>Lila</th>\n",
       "      <td>Lion</td>\n",
       "      <td>2</td>\n",
       "      <td>200.0</td>\n",
       "    </tr>\n",
       "    <tr>\n",
       "      <th>Telly</th>\n",
       "      <td>Tiger</td>\n",
       "      <td>3</td>\n",
       "      <td>190.2</td>\n",
       "    </tr>\n",
       "    <tr>\n",
       "      <th>Boris</th>\n",
       "      <td>Bear</td>\n",
       "      <td>4</td>\n",
       "      <td>345.4</td>\n",
       "    </tr>\n",
       "  </tbody>\n",
       "</table>\n",
       "</div>"
      ],
      "text/plain": [
       "      Species  Age  Weight\n",
       "Name                      \n",
       "Lila     Lion    2   200.0\n",
       "Telly   Tiger    3   190.2\n",
       "Boris    Bear    4   345.4"
      ]
     },
     "execution_count": 23,
     "metadata": {},
     "output_type": "execute_result"
    }
   ],
   "source": [
    "zoo.loc['Lila':'Boris']"
   ]
  },
  {
   "cell_type": "code",
   "execution_count": 24,
   "metadata": {},
   "outputs": [
    {
     "data": {
      "text/html": [
       "<div>\n",
       "<style scoped>\n",
       "    .dataframe tbody tr th:only-of-type {\n",
       "        vertical-align: middle;\n",
       "    }\n",
       "\n",
       "    .dataframe tbody tr th {\n",
       "        vertical-align: top;\n",
       "    }\n",
       "\n",
       "    .dataframe thead th {\n",
       "        text-align: right;\n",
       "    }\n",
       "</style>\n",
       "<table border=\"1\" class=\"dataframe\">\n",
       "  <thead>\n",
       "    <tr style=\"text-align: right;\">\n",
       "      <th></th>\n",
       "      <th>Species</th>\n",
       "      <th>Age</th>\n",
       "      <th>Weight</th>\n",
       "    </tr>\n",
       "    <tr>\n",
       "      <th>Name</th>\n",
       "      <th></th>\n",
       "      <th></th>\n",
       "      <th></th>\n",
       "    </tr>\n",
       "  </thead>\n",
       "  <tbody>\n",
       "    <tr>\n",
       "      <th>Zorro</th>\n",
       "      <td>Zebra</td>\n",
       "      <td>5</td>\n",
       "      <td>150.1</td>\n",
       "    </tr>\n",
       "    <tr>\n",
       "      <th>Lila</th>\n",
       "      <td>Lion</td>\n",
       "      <td>2</td>\n",
       "      <td>200.0</td>\n",
       "    </tr>\n",
       "    <tr>\n",
       "      <th>Telly</th>\n",
       "      <td>Tiger</td>\n",
       "      <td>3</td>\n",
       "      <td>190.2</td>\n",
       "    </tr>\n",
       "    <tr>\n",
       "      <th>Boris</th>\n",
       "      <td>Bear</td>\n",
       "      <td>4</td>\n",
       "      <td>345.4</td>\n",
       "    </tr>\n",
       "  </tbody>\n",
       "</table>\n",
       "</div>"
      ],
      "text/plain": [
       "      Species  Age  Weight\n",
       "Name                      \n",
       "Zorro   Zebra    5   150.1\n",
       "Lila     Lion    2   200.0\n",
       "Telly   Tiger    3   190.2\n",
       "Boris    Bear    4   345.4"
      ]
     },
     "execution_count": 24,
     "metadata": {},
     "output_type": "execute_result"
    }
   ],
   "source": [
    "zoo.loc[\"Zorro\", \"Age\"]=5\n",
    "zoo"
   ]
  },
  {
   "cell_type": "code",
   "execution_count": 25,
   "metadata": {},
   "outputs": [
    {
     "data": {
      "text/html": [
       "<div>\n",
       "<style scoped>\n",
       "    .dataframe tbody tr th:only-of-type {\n",
       "        vertical-align: middle;\n",
       "    }\n",
       "\n",
       "    .dataframe tbody tr th {\n",
       "        vertical-align: top;\n",
       "    }\n",
       "\n",
       "    .dataframe thead th {\n",
       "        text-align: right;\n",
       "    }\n",
       "</style>\n",
       "<table border=\"1\" class=\"dataframe\">\n",
       "  <thead>\n",
       "    <tr style=\"text-align: right;\">\n",
       "      <th></th>\n",
       "      <th>Species</th>\n",
       "      <th>Age</th>\n",
       "      <th>Weight</th>\n",
       "    </tr>\n",
       "    <tr>\n",
       "      <th>Name</th>\n",
       "      <th></th>\n",
       "      <th></th>\n",
       "      <th></th>\n",
       "    </tr>\n",
       "  </thead>\n",
       "  <tbody>\n",
       "    <tr>\n",
       "      <th>Zorro</th>\n",
       "      <td>Zebra</td>\n",
       "      <td>5</td>\n",
       "      <td>150.1</td>\n",
       "    </tr>\n",
       "    <tr>\n",
       "      <th>Lila</th>\n",
       "      <td>Lion</td>\n",
       "      <td>2</td>\n",
       "      <td>200.0</td>\n",
       "    </tr>\n",
       "    <tr>\n",
       "      <th>Telly</th>\n",
       "      <td>Tiger</td>\n",
       "      <td>3</td>\n",
       "      <td>190.2</td>\n",
       "    </tr>\n",
       "    <tr>\n",
       "      <th>Boris</th>\n",
       "      <td>Bear</td>\n",
       "      <td>4</td>\n",
       "      <td>345.4</td>\n",
       "    </tr>\n",
       "  </tbody>\n",
       "</table>\n",
       "</div>"
      ],
      "text/plain": [
       "      Species  Age  Weight\n",
       "Name                      \n",
       "Zorro   Zebra    5   150.1\n",
       "Lila     Lion    2   200.0\n",
       "Telly   Tiger    3   190.2\n",
       "Boris    Bear    4   345.4"
      ]
     },
     "execution_count": 25,
     "metadata": {},
     "output_type": "execute_result"
    }
   ],
   "source": [
    "zoo"
   ]
  },
  {
   "cell_type": "code",
   "execution_count": 26,
   "metadata": {},
   "outputs": [
    {
     "data": {
      "text/html": [
       "<div>\n",
       "<style scoped>\n",
       "    .dataframe tbody tr th:only-of-type {\n",
       "        vertical-align: middle;\n",
       "    }\n",
       "\n",
       "    .dataframe tbody tr th {\n",
       "        vertical-align: top;\n",
       "    }\n",
       "\n",
       "    .dataframe thead th {\n",
       "        text-align: right;\n",
       "    }\n",
       "</style>\n",
       "<table border=\"1\" class=\"dataframe\">\n",
       "  <thead>\n",
       "    <tr style=\"text-align: right;\">\n",
       "      <th></th>\n",
       "      <th>Species</th>\n",
       "      <th>Age</th>\n",
       "      <th>Weight</th>\n",
       "    </tr>\n",
       "    <tr>\n",
       "      <th>Name</th>\n",
       "      <th></th>\n",
       "      <th></th>\n",
       "      <th></th>\n",
       "    </tr>\n",
       "  </thead>\n",
       "  <tbody>\n",
       "    <tr>\n",
       "      <th>Lila</th>\n",
       "      <td>Lion</td>\n",
       "      <td>2</td>\n",
       "      <td>200.0</td>\n",
       "    </tr>\n",
       "    <tr>\n",
       "      <th>Boris</th>\n",
       "      <td>Bear</td>\n",
       "      <td>4</td>\n",
       "      <td>345.4</td>\n",
       "    </tr>\n",
       "  </tbody>\n",
       "</table>\n",
       "</div>"
      ],
      "text/plain": [
       "      Species  Age  Weight\n",
       "Name                      \n",
       "Lila     Lion    2   200.0\n",
       "Boris    Bear    4   345.4"
      ]
     },
     "execution_count": 26,
     "metadata": {},
     "output_type": "execute_result"
    }
   ],
   "source": [
    "# animals that have the letter i in them\n",
    "zoo.loc[[row for row in zoo.index if \"i\" in row]]"
   ]
  },
  {
   "cell_type": "code",
   "execution_count": 27,
   "metadata": {},
   "outputs": [],
   "source": [
    "web_data = pd.read_json(\"http://thekirbster.pythonanywhere.com/\"\n",
    "                        \"api/elements?elem=all\")"
   ]
  },
  {
   "cell_type": "code",
   "execution_count": 28,
   "metadata": {},
   "outputs": [
    {
     "data": {
      "text/html": [
       "<div>\n",
       "<style scoped>\n",
       "    .dataframe tbody tr th:only-of-type {\n",
       "        vertical-align: middle;\n",
       "    }\n",
       "\n",
       "    .dataframe tbody tr th {\n",
       "        vertical-align: top;\n",
       "    }\n",
       "\n",
       "    .dataframe thead th {\n",
       "        text-align: right;\n",
       "    }\n",
       "</style>\n",
       "<table border=\"1\" class=\"dataframe\">\n",
       "  <thead>\n",
       "    <tr style=\"text-align: right;\">\n",
       "      <th></th>\n",
       "      <th>Lr</th>\n",
       "      <th>Sm</th>\n",
       "      <th>Be</th>\n",
       "      <th>Mo</th>\n",
       "      <th>Cr</th>\n",
       "      <th>Se</th>\n",
       "      <th>Cs</th>\n",
       "      <th>Fl</th>\n",
       "      <th>Mc</th>\n",
       "      <th>Zn</th>\n",
       "      <th>...</th>\n",
       "      <th>Co</th>\n",
       "      <th>Pa</th>\n",
       "      <th>N</th>\n",
       "      <th>Tl</th>\n",
       "      <th>Am</th>\n",
       "      <th>Mt</th>\n",
       "      <th>O</th>\n",
       "      <th>Ni</th>\n",
       "      <th>Md</th>\n",
       "      <th>Lv</th>\n",
       "    </tr>\n",
       "  </thead>\n",
       "  <tbody>\n",
       "    <tr>\n",
       "      <th>0</th>\n",
       "      <td>103</td>\n",
       "      <td>62</td>\n",
       "      <td>4</td>\n",
       "      <td>42</td>\n",
       "      <td>24</td>\n",
       "      <td>34</td>\n",
       "      <td>55</td>\n",
       "      <td>114</td>\n",
       "      <td>115</td>\n",
       "      <td>30</td>\n",
       "      <td>...</td>\n",
       "      <td>27</td>\n",
       "      <td>91</td>\n",
       "      <td>7</td>\n",
       "      <td>81</td>\n",
       "      <td>95</td>\n",
       "      <td>109</td>\n",
       "      <td>8</td>\n",
       "      <td>28</td>\n",
       "      <td>101</td>\n",
       "      <td>116</td>\n",
       "    </tr>\n",
       "    <tr>\n",
       "      <th>1</th>\n",
       "      <td>Lr</td>\n",
       "      <td>Sm</td>\n",
       "      <td>Be</td>\n",
       "      <td>Mo</td>\n",
       "      <td>Cr</td>\n",
       "      <td>Se</td>\n",
       "      <td>Cs</td>\n",
       "      <td>Fl</td>\n",
       "      <td>Mc</td>\n",
       "      <td>Zn</td>\n",
       "      <td>...</td>\n",
       "      <td>Co</td>\n",
       "      <td>Pa</td>\n",
       "      <td>N</td>\n",
       "      <td>Tl</td>\n",
       "      <td>Am</td>\n",
       "      <td>Mt</td>\n",
       "      <td>O</td>\n",
       "      <td>Ni</td>\n",
       "      <td>Md</td>\n",
       "      <td>Lv</td>\n",
       "    </tr>\n",
       "    <tr>\n",
       "      <th>2</th>\n",
       "      <td>Lawrencium</td>\n",
       "      <td>Samarium</td>\n",
       "      <td>Beryllium</td>\n",
       "      <td>Molybdenum</td>\n",
       "      <td>Chromium</td>\n",
       "      <td>Selenium</td>\n",
       "      <td>Cesium</td>\n",
       "      <td>Flerovium</td>\n",
       "      <td>Moscovium</td>\n",
       "      <td>Zinc</td>\n",
       "      <td>...</td>\n",
       "      <td>Cobalt</td>\n",
       "      <td>Protactinium</td>\n",
       "      <td>Nitrogen</td>\n",
       "      <td>Thallium</td>\n",
       "      <td>Americium</td>\n",
       "      <td>Meitnerium</td>\n",
       "      <td>Oxygen</td>\n",
       "      <td>Nickel</td>\n",
       "      <td>Mendelevium</td>\n",
       "      <td>Livermorium</td>\n",
       "    </tr>\n",
       "    <tr>\n",
       "      <th>3</th>\n",
       "      <td>266</td>\n",
       "      <td>150.362</td>\n",
       "      <td>9.01218</td>\n",
       "      <td>95.951</td>\n",
       "      <td>51.9962</td>\n",
       "      <td>78.9718</td>\n",
       "      <td>132.905</td>\n",
       "      <td>289</td>\n",
       "      <td>289</td>\n",
       "      <td>65.382</td>\n",
       "      <td>...</td>\n",
       "      <td>58.9332</td>\n",
       "      <td>231.036</td>\n",
       "      <td>14.007</td>\n",
       "      <td>204.38</td>\n",
       "      <td>243</td>\n",
       "      <td>278</td>\n",
       "      <td>15.999</td>\n",
       "      <td>58.6934</td>\n",
       "      <td>258</td>\n",
       "      <td>293</td>\n",
       "    </tr>\n",
       "    <tr>\n",
       "      <th>4</th>\n",
       "      <td>actinide</td>\n",
       "      <td>lanthanide</td>\n",
       "      <td>alkaline earth metal</td>\n",
       "      <td>transition metal</td>\n",
       "      <td>transition metal</td>\n",
       "      <td>polyatomic nonmetal</td>\n",
       "      <td>alkali metal</td>\n",
       "      <td>post-transition metal</td>\n",
       "      <td>unknown, probably post transition metal</td>\n",
       "      <td>transition metal</td>\n",
       "      <td>...</td>\n",
       "      <td>transition metal</td>\n",
       "      <td>actinide</td>\n",
       "      <td>diatomic nonmetal</td>\n",
       "      <td>post-transition metal</td>\n",
       "      <td>actinide</td>\n",
       "      <td>unknown, probably transition metal</td>\n",
       "      <td>diatomic nonmetal</td>\n",
       "      <td>transition metal</td>\n",
       "      <td>actinide</td>\n",
       "      <td>unknown, probably post transition metal</td>\n",
       "    </tr>\n",
       "  </tbody>\n",
       "</table>\n",
       "<p>5 rows × 118 columns</p>\n",
       "</div>"
      ],
      "text/plain": [
       "           Lr          Sm                    Be                Mo  \\\n",
       "0         103          62                     4                42   \n",
       "1          Lr          Sm                    Be                Mo   \n",
       "2  Lawrencium    Samarium             Beryllium        Molybdenum   \n",
       "3         266     150.362               9.01218            95.951   \n",
       "4    actinide  lanthanide  alkaline earth metal  transition metal   \n",
       "\n",
       "                 Cr                   Se            Cs                     Fl  \\\n",
       "0                24                   34            55                    114   \n",
       "1                Cr                   Se            Cs                     Fl   \n",
       "2          Chromium             Selenium        Cesium              Flerovium   \n",
       "3           51.9962              78.9718       132.905                    289   \n",
       "4  transition metal  polyatomic nonmetal  alkali metal  post-transition metal   \n",
       "\n",
       "                                        Mc                Zn  ...  \\\n",
       "0                                      115                30  ...   \n",
       "1                                       Mc                Zn  ...   \n",
       "2                                Moscovium              Zinc  ...   \n",
       "3                                      289            65.382  ...   \n",
       "4  unknown, probably post transition metal  transition metal  ...   \n",
       "\n",
       "                 Co            Pa                  N                     Tl  \\\n",
       "0                27            91                  7                     81   \n",
       "1                Co            Pa                  N                     Tl   \n",
       "2            Cobalt  Protactinium           Nitrogen               Thallium   \n",
       "3           58.9332       231.036             14.007                 204.38   \n",
       "4  transition metal      actinide  diatomic nonmetal  post-transition metal   \n",
       "\n",
       "          Am                                  Mt                  O  \\\n",
       "0         95                                 109                  8   \n",
       "1         Am                                  Mt                  O   \n",
       "2  Americium                          Meitnerium             Oxygen   \n",
       "3        243                                 278             15.999   \n",
       "4   actinide  unknown, probably transition metal  diatomic nonmetal   \n",
       "\n",
       "                 Ni           Md                                       Lv  \n",
       "0                28          101                                      116  \n",
       "1                Ni           Md                                       Lv  \n",
       "2            Nickel  Mendelevium                              Livermorium  \n",
       "3           58.6934          258                                      293  \n",
       "4  transition metal     actinide  unknown, probably post transition metal  \n",
       "\n",
       "[5 rows x 118 columns]"
      ]
     },
     "execution_count": 28,
     "metadata": {},
     "output_type": "execute_result"
    }
   ],
   "source": [
    "web_data.head()"
   ]
  },
  {
   "cell_type": "code",
   "execution_count": 29,
   "metadata": {},
   "outputs": [
    {
     "data": {
      "text/html": [
       "<div>\n",
       "<style scoped>\n",
       "    .dataframe tbody tr th:only-of-type {\n",
       "        vertical-align: middle;\n",
       "    }\n",
       "\n",
       "    .dataframe tbody tr th {\n",
       "        vertical-align: top;\n",
       "    }\n",
       "\n",
       "    .dataframe thead th {\n",
       "        text-align: right;\n",
       "    }\n",
       "</style>\n",
       "<table border=\"1\" class=\"dataframe\">\n",
       "  <thead>\n",
       "    <tr style=\"text-align: right;\">\n",
       "      <th></th>\n",
       "      <th>0</th>\n",
       "      <th>1</th>\n",
       "      <th>2</th>\n",
       "      <th>3</th>\n",
       "      <th>4</th>\n",
       "      <th>5</th>\n",
       "      <th>6</th>\n",
       "    </tr>\n",
       "  </thead>\n",
       "  <tbody>\n",
       "    <tr>\n",
       "      <th>H</th>\n",
       "      <td>1</td>\n",
       "      <td>H</td>\n",
       "      <td>Hydrogen</td>\n",
       "      <td>1.008</td>\n",
       "      <td>diatomic nonmetal</td>\n",
       "      <td>1498013115</td>\n",
       "      <td>KTU</td>\n",
       "    </tr>\n",
       "    <tr>\n",
       "      <th>He</th>\n",
       "      <td>2</td>\n",
       "      <td>He</td>\n",
       "      <td>Helium</td>\n",
       "      <td>4.0026</td>\n",
       "      <td>noble gas</td>\n",
       "      <td>1493462392</td>\n",
       "      <td>KTU</td>\n",
       "    </tr>\n",
       "    <tr>\n",
       "      <th>Li</th>\n",
       "      <td>3</td>\n",
       "      <td>Li</td>\n",
       "      <td>Lithium</td>\n",
       "      <td>6.94</td>\n",
       "      <td>alkali metal</td>\n",
       "      <td>1493462392</td>\n",
       "      <td>KTU</td>\n",
       "    </tr>\n",
       "    <tr>\n",
       "      <th>Be</th>\n",
       "      <td>4</td>\n",
       "      <td>Be</td>\n",
       "      <td>Beryllium</td>\n",
       "      <td>9.01218</td>\n",
       "      <td>alkaline earth metal</td>\n",
       "      <td>1493462392</td>\n",
       "      <td>KTU</td>\n",
       "    </tr>\n",
       "    <tr>\n",
       "      <th>B</th>\n",
       "      <td>5</td>\n",
       "      <td>B</td>\n",
       "      <td>Boron</td>\n",
       "      <td>10.81</td>\n",
       "      <td>metalloid</td>\n",
       "      <td>1493462392</td>\n",
       "      <td>KTU</td>\n",
       "    </tr>\n",
       "  </tbody>\n",
       "</table>\n",
       "</div>"
      ],
      "text/plain": [
       "    0   1          2        3                     4           5    6\n",
       "H   1   H   Hydrogen    1.008     diatomic nonmetal  1498013115  KTU\n",
       "He  2  He     Helium   4.0026             noble gas  1493462392  KTU\n",
       "Li  3  Li    Lithium     6.94          alkali metal  1493462392  KTU\n",
       "Be  4  Be  Beryllium  9.01218  alkaline earth metal  1493462392  KTU\n",
       "B   5   B      Boron    10.81             metalloid  1493462392  KTU"
      ]
     },
     "execution_count": 29,
     "metadata": {},
     "output_type": "execute_result"
    }
   ],
   "source": [
    "periodic_table = web_data.T\n",
    "periodic_table.sort_values(0).head()"
   ]
  },
  {
   "cell_type": "markdown",
   "metadata": {},
   "source": [
    "Want to try [the Kaggle tutorial](https://www.kaggle.com/learn/pandas)?  I'm going to start it now.  [Some faculty](https://towardsdatascience.com/if-i-had-to-start-learning-data-science-again-how-would-i-do-it-78a72b80fd93) swear by Kaggle."
   ]
  },
  {
   "cell_type": "markdown",
   "metadata": {},
   "source": [
    "## Thinking About Games of Chance\n",
    "\n",
    "We can start getting more statistically oriented within our \"calculator of tomorrow\", by working with some of those formulae [dealing with combinatorics](https://wikieducator.org/Casino_Math).\n",
    "\n",
    "We're not \"wasting paper\" when we repeat content in various orders.  We're permuting, as an aid to comprehension.\n",
    "\n",
    "Lets put the algorithm we're implementing side by side with its typeset encoding.\n",
    "\n",
    "$$\n",
    "\\frac{n!}{k!(n - k)!} = \\binom{n}{k} = {}^{n}C_{k} = C_{n}^k\n",
    "$$"
   ]
  },
  {
   "cell_type": "code",
   "execution_count": 30,
   "metadata": {},
   "outputs": [],
   "source": [
    "from math import factorial\n",
    "\n",
    "def binom(n,k):\n",
    "    return (factorial(n)//(factorial(n-k) * factorial(k)))  "
   ]
  },
  {
   "cell_type": "code",
   "execution_count": 31,
   "metadata": {},
   "outputs": [
    {
     "name": "stdout",
     "output_type": "stream",
     "text": [
      "2,598,960\n"
     ]
    }
   ],
   "source": [
    "how_many = binom(52,5) # Poker\n",
    "print(f\"{how_many:,}\") # fancy formatting"
   ]
  },
  {
   "cell_type": "code",
   "execution_count": 32,
   "metadata": {},
   "outputs": [
    {
     "data": {
      "text/plain": [
       "[1, 10, 45, 120, 210, 252, 210, 120, 45, 10, 1]"
      ]
     },
     "execution_count": 32,
     "metadata": {},
     "output_type": "execute_result"
    }
   ],
   "source": [
    "[binom(10,k) for k in range(0,11)]"
   ]
  },
  {
   "cell_type": "markdown",
   "metadata": {},
   "source": [
    "You may encounter PATH issues however.  Your operating system has a PATH in mind, but then so does Python, in the form of a mutable list of strings. We're free to add to it."
   ]
  },
  {
   "cell_type": "markdown",
   "metadata": {},
   "source": [
    "Note that if Python source code modules are present, we're free to import and use them interactively within our Notebook, as we would in any REPL.  You don't have to cram all the source code into a specific Notebook in order to use it."
   ]
  },
  {
   "cell_type": "code",
   "execution_count": 33,
   "metadata": {},
   "outputs": [
    {
     "name": "stdout",
     "output_type": "stream",
     "text": [
      "['/Users/mac/Documents/Curriculum_Development', '/Users/mac/opt/anaconda3/lib/python37.zip', '/Users/mac/opt/anaconda3/lib/python3.7', '/Users/mac/opt/anaconda3/lib/python3.7/lib-dynload', '', '/Users/mac/opt/anaconda3/lib/python3.7/site-packages', '/Users/mac/opt/anaconda3/lib/python3.7/site-packages/aeosa', '/Users/mac/opt/anaconda3/lib/python3.7/site-packages/IPython/extensions', '/Users/mac/.ipython']\n"
     ]
    }
   ],
   "source": [
    "import sys\n",
    "print(sys.path)\n",
    "sys.path.append(\"./python\") # subfolder in Curriculum_Development"
   ]
  },
  {
   "cell_type": "code",
   "execution_count": 34,
   "metadata": {},
   "outputs": [
    {
     "data": {
      "text/plain": [
       "<module 'statsfun' from './python/statsfun.py'>"
      ]
     },
     "execution_count": 34,
     "metadata": {},
     "output_type": "execute_result"
    }
   ],
   "source": [
    "import imp\n",
    "import statsfun\n",
    "imp.reload(statsfun)"
   ]
  },
  {
   "cell_type": "code",
   "execution_count": 35,
   "metadata": {},
   "outputs": [
    {
     "data": {
      "text/plain": [
       "[1, 10, 45, 120, 210, 252, 210, 120, 45, 10, 1]"
      ]
     },
     "execution_count": 35,
     "metadata": {},
     "output_type": "execute_result"
    }
   ],
   "source": [
    "from statsfun import pascal  # in the relative path ./python\n",
    "pascal(10)  # row n of Pascal's Triangle"
   ]
  },
  {
   "cell_type": "markdown",
   "metadata": {},
   "source": [
    "Remember [the Galton Board](https://youtu.be/Kq7e6cj2nDw) at this juncture!\n",
    "\n",
    "\n",
    "![galton](http://4dsolutions.net/ocn/graphics/randtrianim.gif)"
   ]
  },
  {
   "cell_type": "markdown",
   "metadata": {},
   "source": [
    "Lets build a deck of cards showing off more of Python's standard library.  The ```product``` function we're using returns an iterator giving the Cartesian product of all rows of a thing with all columns."
   ]
  },
  {
   "cell_type": "markdown",
   "metadata": {},
   "source": [
    "Python's itertools library will generate actual permutations and combinations from iterables, if that's what you're looking for, but sometimes we just care how many there would be.\n",
    "\n",
    "```python\n",
    "\n",
    "def deck_of_cards(shuffled = True):\n",
    "    face_cards = ['Ace', 'King', 'Queen', 'Jack']\n",
    "    numb_cards = [str(i) for i in range(2, 11)]\n",
    "    suits      = ['Hearts', 'Diamonds', 'Spades', 'Clubs']\n",
    "    # match every card with every suit\n",
    "    cards = list(product(face_cards + numb_cards, suits)) \n",
    "    if shuffled:\n",
    "        shuffle(cards)\n",
    "    return cards\n",
    "```\n",
    "\n",
    "A combination is like a hand of poker.  The order in which the cards are dealt is unimportant.  A permutation of that hand would put the cards in every possible order and count those separately.\n",
    "\n",
    "Given a 52-card deck, how many unique five card hands might be dealt?  Check below for the answer.\n"
   ]
  },
  {
   "cell_type": "code",
   "execution_count": 36,
   "metadata": {},
   "outputs": [],
   "source": [
    "from random import sample, shuffle\n",
    "from statsfun import deck_of_cards"
   ]
  },
  {
   "cell_type": "code",
   "execution_count": 37,
   "metadata": {},
   "outputs": [],
   "source": [
    "deck = deck_of_cards()"
   ]
  },
  {
   "cell_type": "code",
   "execution_count": 38,
   "metadata": {},
   "outputs": [],
   "source": [
    "thedeck = pd.DataFrame({\"Rank\":[card[0] for card in deck],\"Suit\":[card[1] for card in deck]})"
   ]
  },
  {
   "cell_type": "code",
   "execution_count": 39,
   "metadata": {},
   "outputs": [
    {
     "data": {
      "text/plain": [
       "{'10': Int64Index([13, 14, 21, 22], dtype='int64'),\n",
       " '2': Int64Index([29, 41, 46, 48], dtype='int64'),\n",
       " '3': Int64Index([9, 15, 28, 38], dtype='int64'),\n",
       " '4': Int64Index([0, 19, 34, 45], dtype='int64'),\n",
       " '5': Int64Index([11, 43, 47, 50], dtype='int64'),\n",
       " '6': Int64Index([2, 6, 12, 18], dtype='int64'),\n",
       " '7': Int64Index([3, 25, 27, 51], dtype='int64'),\n",
       " '8': Int64Index([4, 17, 23, 35], dtype='int64'),\n",
       " '9': Int64Index([24, 31, 32, 40], dtype='int64'),\n",
       " 'Ace': Int64Index([1, 5, 36, 42], dtype='int64'),\n",
       " 'Jack': Int64Index([7, 20, 26, 39], dtype='int64'),\n",
       " 'King': Int64Index([8, 16, 30, 49], dtype='int64'),\n",
       " 'Queen': Int64Index([10, 33, 37, 44], dtype='int64')}"
      ]
     },
     "execution_count": 39,
     "metadata": {},
     "output_type": "execute_result"
    }
   ],
   "source": [
    "grouped = thedeck.groupby(by=\"Rank\")\n",
    "grouped.groups"
   ]
  },
  {
   "cell_type": "code",
   "execution_count": 40,
   "metadata": {},
   "outputs": [],
   "source": [
    "grouped = thedeck.groupby(by=\"Suit\")"
   ]
  },
  {
   "cell_type": "code",
   "execution_count": 41,
   "metadata": {},
   "outputs": [
    {
     "data": {
      "text/plain": [
       "{'Clubs': Int64Index([0, 4, 9, 12, 22, 24, 27, 29, 30, 33, 36, 39, 47], dtype='int64'),\n",
       " 'Diamonds': Int64Index([5, 6, 7, 14, 25, 32, 35, 38, 43, 44, 45, 48, 49], dtype='int64'),\n",
       " 'Hearts': Int64Index([1, 2, 8, 11, 13, 15, 19, 23, 26, 37, 40, 41, 51], dtype='int64'),\n",
       " 'Spades': Int64Index([3, 10, 16, 17, 18, 20, 21, 28, 31, 34, 42, 46, 50], dtype='int64')}"
      ]
     },
     "execution_count": 41,
     "metadata": {},
     "output_type": "execute_result"
    }
   ],
   "source": [
    "grouped.groups"
   ]
  },
  {
   "cell_type": "code",
   "execution_count": 42,
   "metadata": {},
   "outputs": [
    {
     "data": {
      "text/html": [
       "<div>\n",
       "<style scoped>\n",
       "    .dataframe tbody tr th:only-of-type {\n",
       "        vertical-align: middle;\n",
       "    }\n",
       "\n",
       "    .dataframe tbody tr th {\n",
       "        vertical-align: top;\n",
       "    }\n",
       "\n",
       "    .dataframe thead th {\n",
       "        text-align: right;\n",
       "    }\n",
       "</style>\n",
       "<table border=\"1\" class=\"dataframe\">\n",
       "  <thead>\n",
       "    <tr style=\"text-align: right;\">\n",
       "      <th></th>\n",
       "      <th>Rank</th>\n",
       "      <th>Suit</th>\n",
       "    </tr>\n",
       "  </thead>\n",
       "  <tbody>\n",
       "    <tr>\n",
       "      <th>3</th>\n",
       "      <td>7</td>\n",
       "      <td>Spades</td>\n",
       "    </tr>\n",
       "    <tr>\n",
       "      <th>10</th>\n",
       "      <td>Queen</td>\n",
       "      <td>Spades</td>\n",
       "    </tr>\n",
       "    <tr>\n",
       "      <th>16</th>\n",
       "      <td>King</td>\n",
       "      <td>Spades</td>\n",
       "    </tr>\n",
       "    <tr>\n",
       "      <th>17</th>\n",
       "      <td>8</td>\n",
       "      <td>Spades</td>\n",
       "    </tr>\n",
       "    <tr>\n",
       "      <th>18</th>\n",
       "      <td>6</td>\n",
       "      <td>Spades</td>\n",
       "    </tr>\n",
       "    <tr>\n",
       "      <th>20</th>\n",
       "      <td>Jack</td>\n",
       "      <td>Spades</td>\n",
       "    </tr>\n",
       "    <tr>\n",
       "      <th>21</th>\n",
       "      <td>10</td>\n",
       "      <td>Spades</td>\n",
       "    </tr>\n",
       "    <tr>\n",
       "      <th>28</th>\n",
       "      <td>3</td>\n",
       "      <td>Spades</td>\n",
       "    </tr>\n",
       "    <tr>\n",
       "      <th>31</th>\n",
       "      <td>9</td>\n",
       "      <td>Spades</td>\n",
       "    </tr>\n",
       "    <tr>\n",
       "      <th>34</th>\n",
       "      <td>4</td>\n",
       "      <td>Spades</td>\n",
       "    </tr>\n",
       "    <tr>\n",
       "      <th>42</th>\n",
       "      <td>Ace</td>\n",
       "      <td>Spades</td>\n",
       "    </tr>\n",
       "    <tr>\n",
       "      <th>46</th>\n",
       "      <td>2</td>\n",
       "      <td>Spades</td>\n",
       "    </tr>\n",
       "    <tr>\n",
       "      <th>50</th>\n",
       "      <td>5</td>\n",
       "      <td>Spades</td>\n",
       "    </tr>\n",
       "  </tbody>\n",
       "</table>\n",
       "</div>"
      ],
      "text/plain": [
       "     Rank    Suit\n",
       "3       7  Spades\n",
       "10  Queen  Spades\n",
       "16   King  Spades\n",
       "17      8  Spades\n",
       "18      6  Spades\n",
       "20   Jack  Spades\n",
       "21     10  Spades\n",
       "28      3  Spades\n",
       "31      9  Spades\n",
       "34      4  Spades\n",
       "42    Ace  Spades\n",
       "46      2  Spades\n",
       "50      5  Spades"
      ]
     },
     "execution_count": 42,
     "metadata": {},
     "output_type": "execute_result"
    }
   ],
   "source": [
    "spades = dict(list(grouped))[\"Spades\"]\n",
    "spades"
   ]
  },
  {
   "cell_type": "code",
   "execution_count": 43,
   "metadata": {},
   "outputs": [],
   "source": [
    "shuffle(deck)"
   ]
  },
  {
   "cell_type": "markdown",
   "metadata": {},
   "source": [
    "The cell below is set off from the rest, because our deck is already defined, created, and shuffled."
   ]
  },
  {
   "cell_type": "code",
   "execution_count": 44,
   "metadata": {},
   "outputs": [
    {
     "data": {
      "text/plain": [
       "[('Queen', 'Hearts'),\n",
       " ('8', 'Diamonds'),\n",
       " ('Jack', 'Hearts'),\n",
       " ('Ace', 'Diamonds'),\n",
       " ('6', 'Diamonds')]"
      ]
     },
     "execution_count": 44,
     "metadata": {},
     "output_type": "execute_result"
    }
   ],
   "source": [
    "sample(deck, 5)"
   ]
  },
  {
   "cell_type": "markdown",
   "metadata": {},
   "source": [
    "Python's numpy.random module lets us sample a population both with and without replacement.  If you put the card back each time, before you again pick a card, writing down your results, you might well get some repeats.  These could not be poker hands, as card dealing does not involve replacement."
   ]
  },
  {
   "cell_type": "markdown",
   "metadata": {},
   "source": [
    "## Turning to numpy"
   ]
  },
  {
   "cell_type": "code",
   "execution_count": 45,
   "metadata": {},
   "outputs": [
    {
     "data": {
      "image/jpeg": "[encoded data removed]",
      "text/html": [
       "\n",
       "        <iframe\n",
       "            width=\"400\"\n",
       "            height=\"300\"\n",
       "            src=\"https://www.youtube.com/embed/OfHoxRuxuW0\"\n",
       "            frameborder=\"0\"\n",
       "            allowfullscreen\n",
       "        ></iframe>\n",
       "        "
      ],
      "text/plain": [
       "<IPython.lib.display.YouTubeVideo at 0x11df79dd0>"
      ]
     },
     "execution_count": 45,
     "metadata": {},
     "output_type": "execute_result"
    }
   ],
   "source": [
    "YouTubeVideo('OfHoxRuxuW0')"
   ]
  },
  {
   "cell_type": "markdown",
   "metadata": {},
   "source": [
    "In the above Youtube I wander around (random walk) in the space of PRNGs, or pseudo-random number generators.  \n",
    "\n",
    "The numpy ecosystem is [giving us new semantics](https://docs.scipy.org/doc/numpy/reference/random/new-or-different.html) with which to extricate ourselves from the old RandomState class, and gravitate towards a Generator instead, inside of which a new PRNG, named PCG64, takes precedence.  \n",
    "\n",
    "The old Mersenne Twister is now in what's considered an older area of our data science themed park.\n",
    "\n",
    "Here's the new way of doing it."
   ]
  },
  {
   "cell_type": "code",
   "execution_count": 46,
   "metadata": {},
   "outputs": [],
   "source": [
    "import numpy as np\n",
    "\n",
    "rng = np.random.default_rng(12345)\n",
    "# uncomment to learn more\n",
    "# ? rng"
   ]
  },
  {
   "cell_type": "markdown",
   "metadata": {},
   "source": [
    "```integers``` is now the canonical way to generate integer random numbers from a discrete uniform distribution. The ```rand``` and ```randn``` methods are only available through the legacy ```RandomState```. This replaces both randint and the deprecated random_integers."
   ]
  },
  {
   "cell_type": "code",
   "execution_count": 47,
   "metadata": {},
   "outputs": [
    {
     "data": {
      "text/plain": [
       "array(['Ace of Spades', '8 of Clubs', '2 of Diamonds', '3 of Hearts',\n",
       "       '3 of Spades', '2 of Diamonds', '4 of Diamonds', '4 of Clubs',\n",
       "       '6 of Diamonds', '10 of Hearts'], dtype='<U17')"
      ]
     },
     "execution_count": 47,
     "metadata": {},
     "output_type": "execute_result"
    }
   ],
   "source": [
    "# turn all the cards into a long list of strings e.g. \"Ace of Spades\"\n",
    "card_images = [f\"{card} of {suit}\" for card, suit in deck]\n",
    "\n",
    "# now pick 10 cards with replacement i.e. they stay in the deck\n",
    "sample = rng.choice(card_images, 10, replace=True)\n",
    "\n",
    "# the result is a numpy array of datatype Unicode\n",
    "sample"
   ]
  },
  {
   "cell_type": "markdown",
   "metadata": {},
   "source": [
    "# Of Bayesians and Frequentists\n",
    "\n",
    "Have you ever come late to a fight, and by the time you arrive they're all talking about it as some past civil war.  We're all friends now.  That's how it sounds to the ears of this anthropologist, as I poke around in Data Science World.\n",
    "\n",
    "The Frequentists enjoy the controlled experience of the laboratory and the scientific experiments involving taking many samples, and seeing if any of the rise above the others as noteworthy in some way not explained away by mere chance.\n",
    "\n",
    "The language of p-values < 0.05 comes from Frequentism.\n",
    "\n",
    "The Bayesians have been enjoying a boost recently because of several factors:\n",
    "\n",
    "* an increasing amount of data thanks to the internet especially\n",
    "* an intuitive approach adjusting beliefs outside the laboratory\n",
    "* an increasing amount of computer power, to work with all that data\n",
    "\n",
    "The Bayesian process involves measuring the likelihood of specific data, given a range of  explanatory models or hypotheses, and updating one's assessment of those models accordingly, in light of the incoming data.\n",
    "\n",
    "*Bayesian Belief Update* reminds us to think in terms of curves.  Our prior belief curve, measured against the likelihood of what we're seeing, gives me an updated posterior.  \n",
    "\n",
    "The denominator normalizes by averaging over all the outcomes and may take [a disjoint form](https://www.coursera.org/lecture/probability-intro/disjoint-events-general-addition-rule-qaYwc), as the sum of multiple sources.  In medical testing, any false positives and negatives will tend to dilute the likelihood of whatever hypothesis is proposed."
   ]
  },
  {
   "cell_type": "markdown",
   "metadata": {},
   "source": [
    "## YouTubes\n",
    "\n",
    "You may embed Youtubes in your Jupyter Notebooks.  These may not be rendered and made playable on some versions of the rendering engine, such as the one at Github.  By cutting and pasting a Github notebook (a public one) into nbviewer, you will get the more complete rendering, with Youtubes displayed."
   ]
  },
  {
   "cell_type": "code",
   "execution_count": 48,
   "metadata": {},
   "outputs": [
    {
     "data": {
      "image/jpeg": "[encoded data removed]",
      "text/html": [
       "\n",
       "        <iframe\n",
       "            width=\"400\"\n",
       "            height=\"300\"\n",
       "            src=\"https://www.youtube.com/embed/HZGCoVF3YvM\"\n",
       "            frameborder=\"0\"\n",
       "            allowfullscreen\n",
       "        ></iframe>\n",
       "        "
      ],
      "text/plain": [
       "<IPython.lib.display.YouTubeVideo at 0x11dfb7250>"
      ]
     },
     "execution_count": 48,
     "metadata": {},
     "output_type": "execute_result"
    }
   ],
   "source": [
    "from IPython.display import YouTubeVideo\n",
    "YouTubeVideo('HZGCoVF3YvM')"
   ]
  },
  {
   "cell_type": "code",
   "execution_count": 49,
   "metadata": {},
   "outputs": [
    {
     "data": {
      "image/jpeg": "[encoded data removed]",
      "text/html": [
       "\n",
       "        <iframe\n",
       "            width=\"400\"\n",
       "            height=\"300\"\n",
       "            src=\"https://www.youtube.com/embed/BrK7X_XlGB8\"\n",
       "            frameborder=\"0\"\n",
       "            allowfullscreen\n",
       "        ></iframe>\n",
       "        "
      ],
      "text/plain": [
       "<IPython.lib.display.YouTubeVideo at 0x11df98d90>"
      ]
     },
     "execution_count": 49,
     "metadata": {},
     "output_type": "execute_result"
    }
   ],
   "source": [
    "YouTubeVideo('BrK7X_XlGB8')"
   ]
  },
  {
   "cell_type": "code",
   "execution_count": 50,
   "metadata": {},
   "outputs": [
    {
     "data": {
      "image/jpeg": "[encoded data removed]",
      "text/html": [
       "\n",
       "        <iframe\n",
       "            width=\"400\"\n",
       "            height=\"300\"\n",
       "            src=\"https://www.youtube.com/embed/H71Vl78qCXA\"\n",
       "            frameborder=\"0\"\n",
       "            allowfullscreen\n",
       "        ></iframe>\n",
       "        "
      ],
      "text/plain": [
       "<IPython.lib.display.YouTubeVideo at 0x11dfb6c90>"
      ]
     },
     "execution_count": 50,
     "metadata": {},
     "output_type": "execute_result"
    }
   ],
   "source": [
    "YouTubeVideo('H71Vl78qCXA')"
   ]
  },
  {
   "cell_type": "code",
   "execution_count": 51,
   "metadata": {},
   "outputs": [
    {
     "data": {
      "image/jpeg": "[encoded data removed]",
      "text/html": [
       "\n",
       "        <iframe\n",
       "            width=\"400\"\n",
       "            height=\"300\"\n",
       "            src=\"https://www.youtube.com/embed/9TDjifpGj-k\"\n",
       "            frameborder=\"0\"\n",
       "            allowfullscreen\n",
       "        ></iframe>\n",
       "        "
      ],
      "text/plain": [
       "<IPython.lib.display.YouTubeVideo at 0x11dfb6b10>"
      ]
     },
     "execution_count": 51,
     "metadata": {},
     "output_type": "execute_result"
    }
   ],
   "source": [
    "YouTubeVideo('9TDjifpGj-k')"
   ]
  },
  {
   "cell_type": "code",
   "execution_count": 52,
   "metadata": {},
   "outputs": [
    {
     "data": {
      "image/jpeg": "[encoded data removed]",
      "text/html": [
       "\n",
       "        <iframe\n",
       "            width=\"400\"\n",
       "            height=\"300\"\n",
       "            src=\"https://www.youtube.com/embed/TpgiFIGXcT4\"\n",
       "            frameborder=\"0\"\n",
       "            allowfullscreen\n",
       "        ></iframe>\n",
       "        "
      ],
      "text/plain": [
       "<IPython.lib.display.YouTubeVideo at 0x11df85a90>"
      ]
     },
     "execution_count": 52,
     "metadata": {},
     "output_type": "execute_result"
    }
   ],
   "source": [
    "YouTubeVideo('TpgiFIGXcT4')"
   ]
  },
  {
   "cell_type": "markdown",
   "metadata": {},
   "source": [
    "## The Turing Test\n",
    "\n",
    "A good example of how we might use inferential reasoning is in order to ascertain whether a conversation is what we might call intelligent.  \n",
    "\n",
    "Humans and pets get into a feedback loop, of training each other, thereby finding a dynamic equilibrium.  Humans and their computers get into feedback loops also.  An intelligent relationship may form as a result of synergy between participating\n",
    "\n",
    "Many professionals dream of an ideal conversationalist that provides new insights and understanding, that might also happen to be artificially intelligent, not another human being.\n",
    "\n",
    "Siri, Alexa and other NLP services suggest a trajectory in the direction of more conversationally adept bots.\n",
    "\n",
    "![Sophia](https://media.giphy.com/media/SKT4HdqZSSPbaobtPs/giphy.gif)\n",
    "\n",
    "What kinds of tests would we use to update prior beliefs regarding the probability that we're speaking with a machine intelligence and not another human?  That's what the Turing Test was all about: if we couldn't be sure, and yet the conversant was a machine, we could say \"the machine has passed the test\".\n",
    "\n",
    "The question, and conclusion (either way, pass or fail), only makes sense as long as we're able to keep the meaning of \"machine\" intact, as in \"something humanly contrived\".  \n",
    "\n",
    "If we admit or decide that nature is in the machine-making business (because nature is high tech), then we'll need to work harder to explain the difference we're looking for, perhaps by specifying more clearly the differences that make a difference."
   ]
  },
  {
   "cell_type": "markdown",
   "metadata": {},
   "source": [
    "## Unicode:  More Tools"
   ]
  },
  {
   "cell_type": "code",
   "execution_count": 53,
   "metadata": {},
   "outputs": [],
   "source": [
    "𨭎 = 10"
   ]
  },
  {
   "cell_type": "code",
   "execution_count": 54,
   "metadata": {},
   "outputs": [
    {
     "data": {
      "text/plain": [
       "10"
      ]
     },
     "execution_count": 54,
     "metadata": {},
     "output_type": "execute_result"
    }
   ],
   "source": [
    "𨭎"
   ]
  }
 ],
 "metadata": {
  "kernelspec": {
   "display_name": "Python 3",
   "language": "python",
   "name": "python3"
  },
  "language_info": {
   "codemirror_mode": {
    "name": "ipython",
    "version": 3
   },
   "file_extension": ".py",
   "mimetype": "text/x-python",
   "name": "python",
   "nbconvert_exporter": "python",
   "pygments_lexer": "ipython3",
   "version": "3.7.7"
  }
 },
 "nbformat": 4,
 "nbformat_minor": 4
}
