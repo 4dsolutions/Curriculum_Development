{
 "cells": [
  {
   "cell_type": "markdown",
   "metadata": {},
   "source": [
    "Introduction to Data Science<br/>\n",
    "[Oregon Curriculum Network](http://www.4dsolutions.net/ocn)"
   ]
  },
  {
   "cell_type": "markdown",
   "metadata": {},
   "source": [
    "Notebooks: \n",
    "[[1](IntroDS001.ipynb)]\n",
    "[[2](IntroDS002.ipynb)]\n",
    "[[3](IntroDS003.ipynb)]\n",
    "[[4](IntroDS004.ipynb)]\n",
    "[[5](IntroDS005.ipynb)]\n",
    "[[6](IntroDS006.ipynb)]\n",
    "[[Appendix](Appendix.ipynb)]"
   ]
  },
  {
   "cell_type": "markdown",
   "metadata": {},
   "source": [
    "# Collecting the Tools"
   ]
  },
  {
   "cell_type": "markdown",
   "metadata": {},
   "source": [
    "## Anaconda\n",
    "\n",
    "Like many involved in data science, I encourage getting the Anaconda distribution and relying on the conda package manager, not only to install packages, but to manage environments more generally.\n",
    "\n",
    "However, no introduction to the Python toolchest can afford to ignore pip, and the conda documentation does a good job describing their differences.  One may use both.\n",
    "\n",
    "#### A Story from the Real World\n",
    "\n",
    "This story is examplary of the kind of situation you might encounter.\n",
    "\n",
    "When running on an older MacBook Pro, I encountered an incompatibility with the latest numpy that was frustrating everything my in workhorse Python 3.7 environment.  \n",
    "\n",
    "I had just done ```python upgrade --all``` only later remembering this had led to disaster before.  \n",
    "\n",
    "Fortunately, I was able to track down the source of the bug (the newest numpy [won't run on old Macs](https://github.com/das-developers/condaCDF/issues/1)) and conda managed to figure a way to downgrade to numpy 1.7.3 that apparently involved no other changes, so I got to keep almost all of the upgrade.\n",
    "\n",
    "But then my Python 3.8 environment insisted on numpy=1.7.3 or above, and installing from the default channel, that would not work.  So I added [conda-forge](https://conda-forge.org/) as another channel and [got numpy=1.7.3 from there](https://campus.datacamp.com/courses/conda-essentials/utilizing-channels?ex=5) and that all worked great."
   ]
  },
  {
   "cell_type": "markdown",
   "metadata": {},
   "source": [
    "## Let's Talk About Typesetting...\n",
    "\n",
    "A data scientist likely knows some $\\LaTeX$ but maybe never wrote a whole thesis in it.  We're in a [Jupyter Notebook](https://jupyter-notebook.readthedocs.io/en/stable/examples/Notebook/What%20is%20the%20Jupyter%20Notebook.html) and need some [math expressions]((https://jupyter-notebook.readthedocs.io/en/stable/examples/Notebook/Typesetting%20Equations.html) thanks to [MathJax](https://www.mathjax.org/).\n",
    "\n",
    "Jupyter is our principal tool in many dimensions, as it includes our kernel language (Python), along with many auxilliary features, such as [Markdown](https://github.com/adam-p/markdown-here/wiki/Markdown-Cheatsheet).\n",
    "\n",
    "The console query below requests that Jupyter list its possible kernels on Kirbys-MacBook-Pro:\n",
    "\n",
    "```console\n",
    "(base) Kirbys-MacBook-Pro:python_camp mac$ jupyter kernelspec list\n",
    "Available kernels:\n",
    "  python3    /Users/mac/opt/anaconda3/share/jupyter/kernels/python3\n",
    "```"
   ]
  },
  {
   "cell_type": "markdown",
   "metadata": {},
   "source": [
    "So thanks to LaTeX (OK to write it that way too), I can intersperse typeset mathematics with my runnable code.  Often the two will do the \"same thing\" with the typeset version providing a summary picture of what the source code actually does, when run through its kernel interpreter. \n",
    "\n",
    "The first equation below shows off how the notation of linear algebra, with its many matrices, is within our purview, as $LaTeX$ers. \n",
    "\n",
    "The second equation is one of Ramanujan's.  I'm tempted to verify it using an arbitrary precision library.  The sequence of digits on the right compared to those on the left, serve an inductive reasoning process.  Euler is right:  mathematics proceeds inductively and then, if we're lucky, we'll get a deductive proof someday, from some genius."
   ]
  },
  {
   "cell_type": "markdown",
   "metadata": {},
   "source": [
    "$\\LaTeX$\n",
    "\n",
    "\\begin{equation*}\n",
    "\\mathbf{V}_1 \\times \\mathbf{V}_2 =  \\begin{vmatrix}\n",
    "\\mathbf{i} & \\mathbf{j} & \\mathbf{k} \\\\\n",
    "\\frac{\\partial X}{\\partial u} &  \\frac{\\partial Y}{\\partial u} & 0 \\\\\n",
    "\\frac{\\partial X}{\\partial v} &  \\frac{\\partial Y}{\\partial v} & 0\n",
    "\\end{vmatrix}\n",
    "\\end{equation*}\n",
    "\n",
    "\\begin{equation*}\n",
    "\\frac{1}{\\Bigl(\\sqrt{\\phi \\sqrt{5}}-\\phi\\Bigr) e^{\\frac25 \\pi}} =\n",
    "1+\\frac{e^{-2\\pi}} {1+\\frac{e^{-4\\pi}} {1+\\frac{e^{-6\\pi}}\n",
    "{1+\\frac{e^{-8\\pi}} {1+\\ldots} } } }\n",
    "\\end{equation*}"
   ]
  },
  {
   "cell_type": "markdown",
   "metadata": {},
   "source": [
    "The source code for the two above is demarcated differently than those below, which use \\$\\$.  The first two are the same and have to do with \"choosing\". For example how many five card hands might be dealt from a standard deck of fifty-two cards?  \n",
    "\n",
    "The third shows how that choice algorithm features when computing the coefficients of a polynomial of a specific form. These correspond to the numbers in row n of Pascal's Triangle, a binomial distribution that smooths to a Gaussian distribution at the limit.\n",
    "\n",
    "The last two formulae are likewise special to the statistical sciences (data science, cybernetics, psychometrics):  Bayes' Rule and the Chi-Squared test."
   ]
  },
  {
   "cell_type": "markdown",
   "metadata": {},
   "source": [
    "$$\n",
    "\\frac{n!}{k!(n - k)!} = \\binom{n}{k} = {}^{n}C_{k} = C_{n}^k\n",
    "$$\n",
    "<br />\n",
    "$$\n",
    "\\frac{n!}{k!(n - k)!} = \\binom{n}{k}\n",
    "$$\n",
    "<br />\n",
    "$$\n",
    "(x+y)^n = \\sum_{k=0}^n {n \\choose k} x^{n - k} y^k\n",
    "$$\n",
    "<br />\n",
    "$$ P(A \\mid B) = \\frac{P(B \\mid A) \\, P(A)}{P(B)} $$\n",
    "<br />\n",
    "$$\n",
    "\\tilde{\\chi}^2=\\frac{1}{d}\\sum_{k=1}^{n} \\frac{(O_k - E_k)^2}{E_k}\n",
    "$$\n"
   ]
  },
  {
   "cell_type": "markdown",
   "metadata": {},
   "source": [
    "## Python Itself\n",
    "\n",
    "So far, we have not talked to the Python3 kernel at all.  Lets do so.\n",
    "\n",
    "\\begin{equation*}\n",
    "\\frac{1}{\\Bigl(\\sqrt{\\phi \\sqrt{5}}-\\phi\\Bigr) e^{\\frac25 \\pi}} =\n",
    "1+\\frac{e^{-2\\pi}} {1+\\frac{e^{-4\\pi}} {1+\\frac{e^{-6\\pi}}\n",
    "{1+\\frac{e^{-8\\pi}} {1+\\ldots} } } }\n",
    "\\end{equation*}"
   ]
  },
  {
   "cell_type": "markdown",
   "metadata": {},
   "source": [
    "Lets verify the equation above, one of Ramanujan's, using [mpmath](http://mpmath.org/) for arbitrary precision computations, and generally included with Anaconda.  Try ```conda search mpmath``` if you need to install it.\n",
    "\n",
    "We'll use 60 decimal places of precision, but this could be increased.  You will need to continue the continued fraction if so."
   ]
  },
  {
   "cell_type": "code",
   "execution_count": 1,
   "metadata": {},
   "outputs": [
    {
     "name": "stdout",
     "output_type": "stream",
     "text": [
      "gmpy\n",
      "1.001867436219318606077227680424157087122424127427497054500130190210949798909562825712938250353099963\n",
      "1.001867436219318606077227680424157087122424127427497054500130190210949798909562825712938250353099963\n",
      "Ta daa!\n"
     ]
    }
   ],
   "source": [
    "import mpmath\n",
    "from mpmath import e, pi\n",
    "print(mpmath.libmp.BACKEND)\n",
    "mpmath.mp.dps = 100\n",
    "two   = mpmath.mpf('2')\n",
    "five  = mpmath.mpf('5')\n",
    "root5 = mpmath.mpf('5').sqrt()\n",
    "phi = (1 + root5)/2\n",
    "\n",
    "term = \"(1 + (e ** (-2*{} * pi))/{})\"\n",
    "\n",
    "def cont_frac(n, c=1):\n",
    "    \"\"\"\n",
    "    Recursively build the continued fraction, \n",
    "    as a string, to level of depth n\n",
    "    \"\"\"\n",
    "    if n==0:\n",
    "        return \"1\"\n",
    "    else:    \n",
    "        return \"(1 + ((e ** (-2*{} * pi)/{})))\".format(c, cont_frac(n-1, c+1))\n",
    "\n",
    "print(eval(cont_frac(10))) # evaluate the continued fraction\n",
    "print(1/(((phi * root5).sqrt() - phi) * e ** (two/five * pi))) # left side of the equation\n",
    "print(\"Ta daa!\")"
   ]
  },
  {
   "cell_type": "markdown",
   "metadata": {},
   "source": [
    "Cool!  Now, back to $\\LaTeX$:\n",
    "\n",
    "$$ P(A \\mid B) = \\frac{P(B \\mid A) \\, P(A)}{P(B)} $$"
   ]
  },
  {
   "cell_type": "markdown",
   "metadata": {},
   "source": [
    "The formula above is an expression of Bayes' Theorem, which comes in many forms.  \n",
    "\n",
    "Give $\\LaTeX$ a workout as you feel led.  Here's another look at Bayes' Theorem."
   ]
  },
  {
   "cell_type": "markdown",
   "metadata": {},
   "source": [
    "$$\n",
    "\\frac{P(A \\mid B) \\, P(B)}{P(A)}  = P(A \\cap B) = \\frac{P(B \\mid A) \\, P(A)}{P(B)} \n",
    "$$"
   ]
  },
  {
   "cell_type": "markdown",
   "metadata": {},
   "source": [
    "Links:\n",
    "\n",
    "* [Inductive Reasoning](https://en.wikiquote.org/wiki/Inductive_reasoning)\n",
    "* [LaTeX Symbols](https://oeis.org/wiki/List_of_LaTeX_mathematical_symbols)\n",
    "* [Calculator of Tomorrow: Using Arbitrary Precision](https://medium.com/@kirbyurner/calculator-of-tomorrow-using-arbitrary-precision-8f219b0092d9)"
   ]
  },
  {
   "cell_type": "markdown",
   "metadata": {},
   "source": [
    "### Data Formats\n",
    "\n",
    "* JSON\n",
    "* XML\n",
    "  * [Brief History](https://sonra.io/2016/10/18/brief-history-xml-hype-useful-data-format/)\n",
    "  * [pandas to XML?](https://stackoverflow.com/questions/18574108/how-do-convert-a-pandas-dataframe-to-xml)\n",
    "* CSV"
   ]
  },
  {
   "cell_type": "code",
   "execution_count": 2,
   "metadata": {},
   "outputs": [
    {
     "data": {
      "image/jpeg": "[encoded data removed]",
      "text/html": [
       "\n",
       "        <iframe\n",
       "            width=\"400\"\n",
       "            height=\"300\"\n",
       "            src=\"https://www.youtube.com/embed/SrEmzdOT65s\"\n",
       "            frameborder=\"0\"\n",
       "            allowfullscreen\n",
       "        ></iframe>\n",
       "        "
      ],
      "text/plain": [
       "<IPython.lib.display.YouTubeVideo at 0x111523ad0>"
      ]
     },
     "execution_count": 2,
     "metadata": {},
     "output_type": "execute_result"
    }
   ],
   "source": [
    "from IPython.display import YouTubeVideo\n",
    "YouTubeVideo('SrEmzdOT65s')"
   ]
  },
  {
   "cell_type": "markdown",
   "metadata": {},
   "source": [
    "## pandas: Our Spreadsheet Workalike\n",
    "\n",
    "As I discussed in class, spreadsheets work well as scratch pads, but are somewhat volatile and tough to nail down programmatically.  \n",
    "\n",
    "How does one include a spreadsheet as one more object in a general purpose programming language?  We're not talking about macros here, and you're afraid of vendor lock in (lets say).\n",
    "\n",
    "Think of a pandas DataFrame as a patch of cloth.  Sometimes you will want to stitch frames together on some common label.  Other times you will want to split them (cut them) into pieces.  You might want to think of yourself as some kind of tailor or clothing designer."
   ]
  },
  {
   "cell_type": "code",
   "execution_count": 3,
   "metadata": {},
   "outputs": [
    {
     "data": {
      "text/plain": [
       "'1.0.3'"
      ]
     },
     "execution_count": 3,
     "metadata": {},
     "output_type": "execute_result"
    }
   ],
   "source": [
    "import pandas as pd\n",
    "pd.__version__"
   ]
  },
  {
   "cell_type": "code",
   "execution_count": 4,
   "metadata": {},
   "outputs": [
    {
     "data": {
      "text/html": [
       "<div>\n",
       "<style scoped>\n",
       "    .dataframe tbody tr th:only-of-type {\n",
       "        vertical-align: middle;\n",
       "    }\n",
       "\n",
       "    .dataframe tbody tr th {\n",
       "        vertical-align: top;\n",
       "    }\n",
       "\n",
       "    .dataframe thead th {\n",
       "        text-align: right;\n",
       "    }\n",
       "</style>\n",
       "<table border=\"1\" class=\"dataframe\">\n",
       "  <thead>\n",
       "    <tr style=\"text-align: right;\">\n",
       "      <th></th>\n",
       "      <th>Male</th>\n",
       "      <th>Female</th>\n",
       "    </tr>\n",
       "    <tr>\n",
       "      <th>Show</th>\n",
       "      <th></th>\n",
       "      <th></th>\n",
       "    </tr>\n",
       "  </thead>\n",
       "  <tbody>\n",
       "    <tr>\n",
       "      <th>GoT</th>\n",
       "      <td>80</td>\n",
       "      <td>120</td>\n",
       "    </tr>\n",
       "    <tr>\n",
       "      <th>WW</th>\n",
       "      <td>100</td>\n",
       "      <td>25</td>\n",
       "    </tr>\n",
       "    <tr>\n",
       "      <th>Other</th>\n",
       "      <td>50</td>\n",
       "      <td>125</td>\n",
       "    </tr>\n",
       "  </tbody>\n",
       "</table>\n",
       "</div>"
      ],
      "text/plain": [
       "       Male  Female\n",
       "Show               \n",
       "GoT      80     120\n",
       "WW      100      25\n",
       "Other    50     125"
      ]
     },
     "execution_count": 4,
     "metadata": {},
     "output_type": "execute_result"
    }
   ],
   "source": [
    "hbo = pd.DataFrame({\"Show\":[\"GoT\",\"WW\", \"Other\"], \n",
    "                    \"Male\":[80, 100, 50], \n",
    "                    \"Female\":[120, 25, 125]})\n",
    "hbo.set_index(\"Show\", inplace=True)\n",
    "hbo"
   ]
  },
  {
   "cell_type": "code",
   "execution_count": 5,
   "metadata": {},
   "outputs": [
    {
     "data": {
      "text/html": [
       "<div>\n",
       "<style scoped>\n",
       "    .dataframe tbody tr th:only-of-type {\n",
       "        vertical-align: middle;\n",
       "    }\n",
       "\n",
       "    .dataframe tbody tr th {\n",
       "        vertical-align: top;\n",
       "    }\n",
       "\n",
       "    .dataframe thead th {\n",
       "        text-align: right;\n",
       "    }\n",
       "</style>\n",
       "<table border=\"1\" class=\"dataframe\">\n",
       "  <thead>\n",
       "    <tr style=\"text-align: right;\">\n",
       "      <th></th>\n",
       "      <th>Male</th>\n",
       "      <th>Female</th>\n",
       "      <th>Total</th>\n",
       "    </tr>\n",
       "    <tr>\n",
       "      <th>Show</th>\n",
       "      <th></th>\n",
       "      <th></th>\n",
       "      <th></th>\n",
       "    </tr>\n",
       "  </thead>\n",
       "  <tbody>\n",
       "    <tr>\n",
       "      <th>GoT</th>\n",
       "      <td>80</td>\n",
       "      <td>120</td>\n",
       "      <td>200</td>\n",
       "    </tr>\n",
       "    <tr>\n",
       "      <th>WW</th>\n",
       "      <td>100</td>\n",
       "      <td>25</td>\n",
       "      <td>125</td>\n",
       "    </tr>\n",
       "    <tr>\n",
       "      <th>Other</th>\n",
       "      <td>50</td>\n",
       "      <td>125</td>\n",
       "      <td>175</td>\n",
       "    </tr>\n",
       "  </tbody>\n",
       "</table>\n",
       "</div>"
      ],
      "text/plain": [
       "       Male  Female  Total\n",
       "Show                      \n",
       "GoT      80     120    200\n",
       "WW      100      25    125\n",
       "Other    50     125    175"
      ]
     },
     "execution_count": 5,
     "metadata": {},
     "output_type": "execute_result"
    }
   ],
   "source": [
    "hbo[\"Total\"] = hbo.Male + hbo.Female\n",
    "hbo"
   ]
  },
  {
   "cell_type": "code",
   "execution_count": 6,
   "metadata": {},
   "outputs": [
    {
     "data": {
      "text/html": [
       "<div>\n",
       "<style scoped>\n",
       "    .dataframe tbody tr th:only-of-type {\n",
       "        vertical-align: middle;\n",
       "    }\n",
       "\n",
       "    .dataframe tbody tr th {\n",
       "        vertical-align: top;\n",
       "    }\n",
       "\n",
       "    .dataframe thead th {\n",
       "        text-align: right;\n",
       "    }\n",
       "</style>\n",
       "<table border=\"1\" class=\"dataframe\">\n",
       "  <thead>\n",
       "    <tr style=\"text-align: right;\">\n",
       "      <th></th>\n",
       "      <th>Male</th>\n",
       "      <th>Female</th>\n",
       "      <th>Total</th>\n",
       "    </tr>\n",
       "    <tr>\n",
       "      <th>Show</th>\n",
       "      <th></th>\n",
       "      <th></th>\n",
       "      <th></th>\n",
       "    </tr>\n",
       "  </thead>\n",
       "  <tbody>\n",
       "    <tr>\n",
       "      <th>GoT</th>\n",
       "      <td>80</td>\n",
       "      <td>120</td>\n",
       "      <td>200</td>\n",
       "    </tr>\n",
       "    <tr>\n",
       "      <th>WW</th>\n",
       "      <td>100</td>\n",
       "      <td>25</td>\n",
       "      <td>125</td>\n",
       "    </tr>\n",
       "    <tr>\n",
       "      <th>Other</th>\n",
       "      <td>50</td>\n",
       "      <td>125</td>\n",
       "      <td>175</td>\n",
       "    </tr>\n",
       "    <tr>\n",
       "      <th>Total</th>\n",
       "      <td>230</td>\n",
       "      <td>270</td>\n",
       "      <td>500</td>\n",
       "    </tr>\n",
       "  </tbody>\n",
       "</table>\n",
       "</div>"
      ],
      "text/plain": [
       "       Male  Female  Total\n",
       "Show                      \n",
       "GoT      80     120    200\n",
       "WW      100      25    125\n",
       "Other    50     125    175\n",
       "Total   230     270    500"
      ]
     },
     "execution_count": 6,
     "metadata": {},
     "output_type": "execute_result"
    }
   ],
   "source": [
    "bottom_row = hbo.sum(axis=0)\n",
    "hbo = hbo.append(pd.Series(bottom_row, index=hbo.columns, name='Total'))\n",
    "hbo"
   ]
  },
  {
   "cell_type": "code",
   "execution_count": 7,
   "metadata": {},
   "outputs": [
    {
     "data": {
      "text/html": [
       "<div>\n",
       "<style scoped>\n",
       "    .dataframe tbody tr th:only-of-type {\n",
       "        vertical-align: middle;\n",
       "    }\n",
       "\n",
       "    .dataframe tbody tr th {\n",
       "        vertical-align: top;\n",
       "    }\n",
       "\n",
       "    .dataframe thead th {\n",
       "        text-align: right;\n",
       "    }\n",
       "</style>\n",
       "<table border=\"1\" class=\"dataframe\">\n",
       "  <thead>\n",
       "    <tr style=\"text-align: right;\">\n",
       "      <th></th>\n",
       "      <th>A</th>\n",
       "      <th>B</th>\n",
       "      <th>C</th>\n",
       "    </tr>\n",
       "  </thead>\n",
       "  <tbody>\n",
       "    <tr>\n",
       "      <th>0</th>\n",
       "      <td>1</td>\n",
       "      <td>0</td>\n",
       "      <td>2</td>\n",
       "    </tr>\n",
       "    <tr>\n",
       "      <th>1</th>\n",
       "      <td>2</td>\n",
       "      <td>1</td>\n",
       "      <td>2</td>\n",
       "    </tr>\n",
       "  </tbody>\n",
       "</table>\n",
       "</div>"
      ],
      "text/plain": [
       "   A  B  C\n",
       "0  1  0  2\n",
       "1  2  1  2"
      ]
     },
     "execution_count": 7,
     "metadata": {},
     "output_type": "execute_result"
    }
   ],
   "source": [
    "df1 = pd.DataFrame({\"A\":[1,2],\"B\":[0,1],\"C\":[2,2]})\n",
    "df2 = pd.DataFrame({\"A\":[5,2],\"C\":[7,7],\"D\":[9,8]})\n",
    "df1"
   ]
  },
  {
   "cell_type": "code",
   "execution_count": 8,
   "metadata": {},
   "outputs": [
    {
     "data": {
      "text/html": [
       "<div>\n",
       "<style scoped>\n",
       "    .dataframe tbody tr th:only-of-type {\n",
       "        vertical-align: middle;\n",
       "    }\n",
       "\n",
       "    .dataframe tbody tr th {\n",
       "        vertical-align: top;\n",
       "    }\n",
       "\n",
       "    .dataframe thead th {\n",
       "        text-align: right;\n",
       "    }\n",
       "</style>\n",
       "<table border=\"1\" class=\"dataframe\">\n",
       "  <thead>\n",
       "    <tr style=\"text-align: right;\">\n",
       "      <th></th>\n",
       "      <th>A</th>\n",
       "      <th>C</th>\n",
       "      <th>D</th>\n",
       "    </tr>\n",
       "  </thead>\n",
       "  <tbody>\n",
       "    <tr>\n",
       "      <th>0</th>\n",
       "      <td>5</td>\n",
       "      <td>7</td>\n",
       "      <td>9</td>\n",
       "    </tr>\n",
       "    <tr>\n",
       "      <th>1</th>\n",
       "      <td>2</td>\n",
       "      <td>7</td>\n",
       "      <td>8</td>\n",
       "    </tr>\n",
       "  </tbody>\n",
       "</table>\n",
       "</div>"
      ],
      "text/plain": [
       "   A  C  D\n",
       "0  5  7  9\n",
       "1  2  7  8"
      ]
     },
     "execution_count": 8,
     "metadata": {},
     "output_type": "execute_result"
    }
   ],
   "source": [
    "df2"
   ]
  },
  {
   "cell_type": "code",
   "execution_count": 9,
   "metadata": {},
   "outputs": [
    {
     "data": {
      "text/html": [
       "<div>\n",
       "<style scoped>\n",
       "    .dataframe tbody tr th:only-of-type {\n",
       "        vertical-align: middle;\n",
       "    }\n",
       "\n",
       "    .dataframe tbody tr th {\n",
       "        vertical-align: top;\n",
       "    }\n",
       "\n",
       "    .dataframe thead th {\n",
       "        text-align: right;\n",
       "    }\n",
       "</style>\n",
       "<table border=\"1\" class=\"dataframe\">\n",
       "  <thead>\n",
       "    <tr style=\"text-align: right;\">\n",
       "      <th></th>\n",
       "      <th>A</th>\n",
       "      <th>B</th>\n",
       "      <th>C</th>\n",
       "      <th>A</th>\n",
       "      <th>C</th>\n",
       "      <th>D</th>\n",
       "    </tr>\n",
       "  </thead>\n",
       "  <tbody>\n",
       "    <tr>\n",
       "      <th>0</th>\n",
       "      <td>1</td>\n",
       "      <td>0</td>\n",
       "      <td>2</td>\n",
       "      <td>5</td>\n",
       "      <td>7</td>\n",
       "      <td>9</td>\n",
       "    </tr>\n",
       "    <tr>\n",
       "      <th>1</th>\n",
       "      <td>2</td>\n",
       "      <td>1</td>\n",
       "      <td>2</td>\n",
       "      <td>2</td>\n",
       "      <td>7</td>\n",
       "      <td>8</td>\n",
       "    </tr>\n",
       "  </tbody>\n",
       "</table>\n",
       "</div>"
      ],
      "text/plain": [
       "   A  B  C  A  C  D\n",
       "0  1  0  2  5  7  9\n",
       "1  2  1  2  2  7  8"
      ]
     },
     "execution_count": 9,
     "metadata": {},
     "output_type": "execute_result"
    }
   ],
   "source": [
    "pd.concat([df1, df2],axis=1)"
   ]
  },
  {
   "cell_type": "code",
   "execution_count": 10,
   "metadata": {},
   "outputs": [
    {
     "data": {
      "text/html": [
       "<div>\n",
       "<style scoped>\n",
       "    .dataframe tbody tr th:only-of-type {\n",
       "        vertical-align: middle;\n",
       "    }\n",
       "\n",
       "    .dataframe tbody tr th {\n",
       "        vertical-align: top;\n",
       "    }\n",
       "\n",
       "    .dataframe thead th {\n",
       "        text-align: right;\n",
       "    }\n",
       "</style>\n",
       "<table border=\"1\" class=\"dataframe\">\n",
       "  <thead>\n",
       "    <tr style=\"text-align: right;\">\n",
       "      <th></th>\n",
       "      <th>A</th>\n",
       "      <th>B</th>\n",
       "      <th>C</th>\n",
       "      <th>D</th>\n",
       "    </tr>\n",
       "  </thead>\n",
       "  <tbody>\n",
       "    <tr>\n",
       "      <th>0</th>\n",
       "      <td>1</td>\n",
       "      <td>0.0</td>\n",
       "      <td>2</td>\n",
       "      <td>NaN</td>\n",
       "    </tr>\n",
       "    <tr>\n",
       "      <th>1</th>\n",
       "      <td>2</td>\n",
       "      <td>1.0</td>\n",
       "      <td>2</td>\n",
       "      <td>NaN</td>\n",
       "    </tr>\n",
       "    <tr>\n",
       "      <th>0</th>\n",
       "      <td>5</td>\n",
       "      <td>NaN</td>\n",
       "      <td>7</td>\n",
       "      <td>9.0</td>\n",
       "    </tr>\n",
       "    <tr>\n",
       "      <th>1</th>\n",
       "      <td>2</td>\n",
       "      <td>NaN</td>\n",
       "      <td>7</td>\n",
       "      <td>8.0</td>\n",
       "    </tr>\n",
       "  </tbody>\n",
       "</table>\n",
       "</div>"
      ],
      "text/plain": [
       "   A    B  C    D\n",
       "0  1  0.0  2  NaN\n",
       "1  2  1.0  2  NaN\n",
       "0  5  NaN  7  9.0\n",
       "1  2  NaN  7  8.0"
      ]
     },
     "execution_count": 10,
     "metadata": {},
     "output_type": "execute_result"
    }
   ],
   "source": [
    "pd.concat([df1, df2],axis=0)"
   ]
  },
  {
   "cell_type": "code",
   "execution_count": 11,
   "metadata": {},
   "outputs": [
    {
     "data": {
      "text/html": [
       "<div>\n",
       "<style scoped>\n",
       "    .dataframe tbody tr th:only-of-type {\n",
       "        vertical-align: middle;\n",
       "    }\n",
       "\n",
       "    .dataframe tbody tr th {\n",
       "        vertical-align: top;\n",
       "    }\n",
       "\n",
       "    .dataframe thead th {\n",
       "        text-align: right;\n",
       "    }\n",
       "</style>\n",
       "<table border=\"1\" class=\"dataframe\">\n",
       "  <thead>\n",
       "    <tr style=\"text-align: right;\">\n",
       "      <th></th>\n",
       "      <th>A</th>\n",
       "      <th>B</th>\n",
       "      <th>C</th>\n",
       "      <th>D</th>\n",
       "    </tr>\n",
       "  </thead>\n",
       "  <tbody>\n",
       "    <tr>\n",
       "      <th>0</th>\n",
       "      <td>1</td>\n",
       "      <td>0.0</td>\n",
       "      <td>2</td>\n",
       "      <td>-1.0</td>\n",
       "    </tr>\n",
       "    <tr>\n",
       "      <th>1</th>\n",
       "      <td>2</td>\n",
       "      <td>1.0</td>\n",
       "      <td>2</td>\n",
       "      <td>-1.0</td>\n",
       "    </tr>\n",
       "    <tr>\n",
       "      <th>0</th>\n",
       "      <td>5</td>\n",
       "      <td>-1.0</td>\n",
       "      <td>7</td>\n",
       "      <td>9.0</td>\n",
       "    </tr>\n",
       "    <tr>\n",
       "      <th>1</th>\n",
       "      <td>2</td>\n",
       "      <td>-1.0</td>\n",
       "      <td>7</td>\n",
       "      <td>8.0</td>\n",
       "    </tr>\n",
       "  </tbody>\n",
       "</table>\n",
       "</div>"
      ],
      "text/plain": [
       "   A    B  C    D\n",
       "0  1  0.0  2 -1.0\n",
       "1  2  1.0  2 -1.0\n",
       "0  5 -1.0  7  9.0\n",
       "1  2 -1.0  7  8.0"
      ]
     },
     "execution_count": 11,
     "metadata": {},
     "output_type": "execute_result"
    }
   ],
   "source": [
    "pd.concat([df1, df2],axis=0).fillna(-1)"
   ]
  },
  {
   "cell_type": "markdown",
   "metadata": {},
   "source": [
    "pandas gives us a way to import data at the top of a worksheet, a Notebook, and then document all the step-by-step transformations that bring us to our (thrilling?) conclusions.  \n",
    "\n",
    "Stakeholders have an opportunity to run the same Notebook and verify conclusions, and/or probe whatever weaknesses, and/or branch off in new directions.\n",
    "\n",
    "Yes, maybe it's more work to manipulate a DataFrame programmatically, than to mouse around in a spreadsheet, but once it's all working, you have a potentially better documented and more robust pipeline or workflow."
   ]
  },
  {
   "cell_type": "markdown",
   "metadata": {},
   "source": [
    "A first DataFrame.  pandas gives us so many ways to get the ball rolling.  However one of the most straightforward ways is by subitting a dictionary, with keys giving column names, and values giving vertically sequenced data."
   ]
  },
  {
   "cell_type": "code",
   "execution_count": 13,
   "metadata": {},
   "outputs": [
    {
     "data": {
      "text/html": [
       "<div>\n",
       "<style scoped>\n",
       "    .dataframe tbody tr th:only-of-type {\n",
       "        vertical-align: middle;\n",
       "    }\n",
       "\n",
       "    .dataframe tbody tr th {\n",
       "        vertical-align: top;\n",
       "    }\n",
       "\n",
       "    .dataframe thead th {\n",
       "        text-align: right;\n",
       "    }\n",
       "</style>\n",
       "<table border=\"1\" class=\"dataframe\">\n",
       "  <thead>\n",
       "    <tr style=\"text-align: right;\">\n",
       "      <th></th>\n",
       "      <th>Species</th>\n",
       "      <th>Age</th>\n",
       "      <th>Weight</th>\n",
       "    </tr>\n",
       "    <tr>\n",
       "      <th>Name</th>\n",
       "      <th></th>\n",
       "      <th></th>\n",
       "      <th></th>\n",
       "    </tr>\n",
       "  </thead>\n",
       "  <tbody>\n",
       "    <tr>\n",
       "      <th>Zorro</th>\n",
       "      <td>Zebra</td>\n",
       "      <td>1</td>\n",
       "      <td>150.1</td>\n",
       "    </tr>\n",
       "    <tr>\n",
       "      <th>Lila</th>\n",
       "      <td>Lion</td>\n",
       "      <td>2</td>\n",
       "      <td>200.0</td>\n",
       "    </tr>\n",
       "    <tr>\n",
       "      <th>Telly</th>\n",
       "      <td>Tiger</td>\n",
       "      <td>3</td>\n",
       "      <td>190.2</td>\n",
       "    </tr>\n",
       "    <tr>\n",
       "      <th>Boris</th>\n",
       "      <td>Bear</td>\n",
       "      <td>4</td>\n",
       "      <td>345.4</td>\n",
       "    </tr>\n",
       "  </tbody>\n",
       "</table>\n",
       "</div>"
      ],
      "text/plain": [
       "      Species  Age  Weight\n",
       "Name                      \n",
       "Zorro   Zebra    1   150.1\n",
       "Lila     Lion    2   200.0\n",
       "Telly   Tiger    3   190.2\n",
       "Boris    Bear    4   345.4"
      ]
     },
     "execution_count": 13,
     "metadata": {},
     "output_type": "execute_result"
    }
   ],
   "source": [
    "# regular python conventions\n",
    "zoo = pd.DataFrame({\"Species\":[\"Zebra\",\"Lion\",\"Tiger\",\"Bear\"],\n",
    "                    \"Name\":[\"Zorro\", \"Lila\", \"Telly\", \"Boris\"],\n",
    "                    \"Age\":[1,2,3,4],  # integers, not exact\n",
    "                    \"Weight\":[150.1, 200.0, 190.2, 345.4]})\n",
    "\n",
    "zoo.set_index(\"Name\", inplace=True)\n",
    "zoo  # this works too"
   ]
  },
  {
   "cell_type": "code",
   "execution_count": 14,
   "metadata": {},
   "outputs": [
    {
     "data": {
      "text/plain": [
       "'{\"Species\":{\"Zorro\":\"Zebra\",\"Lila\":\"Lion\",\"Telly\":\"Tiger\",\"Boris\":\"Bear\"},\"Age\":{\"Zorro\":1,\"Lila\":2,\"Telly\":3,\"Boris\":4},\"Weight\":{\"Zorro\":150.1,\"Lila\":200.0,\"Telly\":190.2,\"Boris\":345.4}}'"
      ]
     },
     "execution_count": 14,
     "metadata": {},
     "output_type": "execute_result"
    }
   ],
   "source": [
    "storage = zoo.to_json()\n",
    "storage"
   ]
  },
  {
   "cell_type": "code",
   "execution_count": 15,
   "metadata": {},
   "outputs": [
    {
     "data": {
      "text/html": [
       "<div>\n",
       "<style scoped>\n",
       "    .dataframe tbody tr th:only-of-type {\n",
       "        vertical-align: middle;\n",
       "    }\n",
       "\n",
       "    .dataframe tbody tr th {\n",
       "        vertical-align: top;\n",
       "    }\n",
       "\n",
       "    .dataframe thead th {\n",
       "        text-align: right;\n",
       "    }\n",
       "</style>\n",
       "<table border=\"1\" class=\"dataframe\">\n",
       "  <thead>\n",
       "    <tr style=\"text-align: right;\">\n",
       "      <th></th>\n",
       "      <th>Species</th>\n",
       "      <th>Age</th>\n",
       "      <th>Weight</th>\n",
       "    </tr>\n",
       "  </thead>\n",
       "  <tbody>\n",
       "    <tr>\n",
       "      <th>Zorro</th>\n",
       "      <td>Zebra</td>\n",
       "      <td>1</td>\n",
       "      <td>150.1</td>\n",
       "    </tr>\n",
       "    <tr>\n",
       "      <th>Lila</th>\n",
       "      <td>Lion</td>\n",
       "      <td>2</td>\n",
       "      <td>200.0</td>\n",
       "    </tr>\n",
       "    <tr>\n",
       "      <th>Telly</th>\n",
       "      <td>Tiger</td>\n",
       "      <td>3</td>\n",
       "      <td>190.2</td>\n",
       "    </tr>\n",
       "    <tr>\n",
       "      <th>Boris</th>\n",
       "      <td>Bear</td>\n",
       "      <td>4</td>\n",
       "      <td>345.4</td>\n",
       "    </tr>\n",
       "  </tbody>\n",
       "</table>\n",
       "</div>"
      ],
      "text/plain": [
       "      Species  Age  Weight\n",
       "Zorro   Zebra    1   150.1\n",
       "Lila     Lion    2   200.0\n",
       "Telly   Tiger    3   190.2\n",
       "Boris    Bear    4   345.4"
      ]
     },
     "execution_count": 15,
     "metadata": {},
     "output_type": "execute_result"
    }
   ],
   "source": [
    "new_zoo = pd.read_json(storage)\n",
    "new_zoo"
   ]
  },
  {
   "cell_type": "code",
   "execution_count": 16,
   "metadata": {},
   "outputs": [],
   "source": [
    "periodic_table = pd.read_json(\"http://thekirbster.pythonanywhere.com/api/elements?elem=all\")"
   ]
  },
  {
   "cell_type": "code",
   "execution_count": 17,
   "metadata": {},
   "outputs": [
    {
     "data": {
      "text/plain": [
       "pandas.core.frame.DataFrame"
      ]
     },
     "execution_count": 17,
     "metadata": {},
     "output_type": "execute_result"
    }
   ],
   "source": [
    "type(periodic_table)"
   ]
  },
  {
   "cell_type": "code",
   "execution_count": 18,
   "metadata": {},
   "outputs": [
    {
     "data": {
      "text/html": [
       "<div>\n",
       "<style scoped>\n",
       "    .dataframe tbody tr th:only-of-type {\n",
       "        vertical-align: middle;\n",
       "    }\n",
       "\n",
       "    .dataframe tbody tr th {\n",
       "        vertical-align: top;\n",
       "    }\n",
       "\n",
       "    .dataframe thead th {\n",
       "        text-align: right;\n",
       "    }\n",
       "</style>\n",
       "<table border=\"1\" class=\"dataframe\">\n",
       "  <thead>\n",
       "    <tr style=\"text-align: right;\">\n",
       "      <th></th>\n",
       "      <th>Species</th>\n",
       "      <th>Age</th>\n",
       "      <th>Weight</th>\n",
       "    </tr>\n",
       "    <tr>\n",
       "      <th>Name</th>\n",
       "      <th></th>\n",
       "      <th></th>\n",
       "      <th></th>\n",
       "    </tr>\n",
       "  </thead>\n",
       "  <tbody>\n",
       "    <tr>\n",
       "      <th>Zorro</th>\n",
       "      <td>Zebra</td>\n",
       "      <td>1</td>\n",
       "      <td>150.1</td>\n",
       "    </tr>\n",
       "    <tr>\n",
       "      <th>Lila</th>\n",
       "      <td>Lion</td>\n",
       "      <td>2</td>\n",
       "      <td>200.0</td>\n",
       "    </tr>\n",
       "    <tr>\n",
       "      <th>Telly</th>\n",
       "      <td>Tiger</td>\n",
       "      <td>3</td>\n",
       "      <td>190.2</td>\n",
       "    </tr>\n",
       "    <tr>\n",
       "      <th>Boris</th>\n",
       "      <td>Bear</td>\n",
       "      <td>4</td>\n",
       "      <td>345.4</td>\n",
       "    </tr>\n",
       "  </tbody>\n",
       "</table>\n",
       "</div>"
      ],
      "text/plain": [
       "      Species  Age  Weight\n",
       "Name                      \n",
       "Zorro   Zebra    1   150.1\n",
       "Lila     Lion    2   200.0\n",
       "Telly   Tiger    3   190.2\n",
       "Boris    Bear    4   345.4"
      ]
     },
     "execution_count": 18,
     "metadata": {},
     "output_type": "execute_result"
    }
   ],
   "source": [
    "new_zoo.rename_axis(\"Name\", inplace=True)\n",
    "new_zoo"
   ]
  },
  {
   "cell_type": "code",
   "execution_count": 19,
   "metadata": {},
   "outputs": [
    {
     "name": "stdout",
     "output_type": "stream",
     "text": [
      "Name\n"
     ]
    }
   ],
   "source": [
    "print(new_zoo.index.name)"
   ]
  },
  {
   "cell_type": "code",
   "execution_count": 20,
   "metadata": {},
   "outputs": [
    {
     "name": "stdout",
     "output_type": "stream",
     "text": [
      "Name,Species,Age,Weight\n",
      "Zorro,Zebra,1,150.1\n",
      "Lila,Lion,2,200.0\n",
      "Telly,Tiger,3,190.2\n",
      "Boris,Bear,4,345.4\n",
      "\n"
     ]
    }
   ],
   "source": [
    "outbound = zoo.to_csv()\n",
    "print(outbound) # remove print to see single string\n",
    "with open(\"zoo.csv\", \"w\") as f:\n",
    "    f.write(outbound)"
   ]
  },
  {
   "cell_type": "code",
   "execution_count": 21,
   "metadata": {},
   "outputs": [
    {
     "data": {
      "text/html": [
       "<div>\n",
       "<style scoped>\n",
       "    .dataframe tbody tr th:only-of-type {\n",
       "        vertical-align: middle;\n",
       "    }\n",
       "\n",
       "    .dataframe tbody tr th {\n",
       "        vertical-align: top;\n",
       "    }\n",
       "\n",
       "    .dataframe thead th {\n",
       "        text-align: right;\n",
       "    }\n",
       "</style>\n",
       "<table border=\"1\" class=\"dataframe\">\n",
       "  <thead>\n",
       "    <tr style=\"text-align: right;\">\n",
       "      <th></th>\n",
       "      <th>Name</th>\n",
       "      <th>Species</th>\n",
       "      <th>Age</th>\n",
       "      <th>Weight</th>\n",
       "    </tr>\n",
       "  </thead>\n",
       "  <tbody>\n",
       "    <tr>\n",
       "      <th>0</th>\n",
       "      <td>Zorro</td>\n",
       "      <td>Zebra</td>\n",
       "      <td>1</td>\n",
       "      <td>150.1</td>\n",
       "    </tr>\n",
       "    <tr>\n",
       "      <th>1</th>\n",
       "      <td>Lila</td>\n",
       "      <td>Lion</td>\n",
       "      <td>2</td>\n",
       "      <td>200.0</td>\n",
       "    </tr>\n",
       "    <tr>\n",
       "      <th>2</th>\n",
       "      <td>Telly</td>\n",
       "      <td>Tiger</td>\n",
       "      <td>3</td>\n",
       "      <td>190.2</td>\n",
       "    </tr>\n",
       "    <tr>\n",
       "      <th>3</th>\n",
       "      <td>Boris</td>\n",
       "      <td>Bear</td>\n",
       "      <td>4</td>\n",
       "      <td>345.4</td>\n",
       "    </tr>\n",
       "  </tbody>\n",
       "</table>\n",
       "</div>"
      ],
      "text/plain": [
       "    Name Species  Age  Weight\n",
       "0  Zorro   Zebra    1   150.1\n",
       "1   Lila    Lion    2   200.0\n",
       "2  Telly   Tiger    3   190.2\n",
       "3  Boris    Bear    4   345.4"
      ]
     },
     "execution_count": 21,
     "metadata": {},
     "output_type": "execute_result"
    }
   ],
   "source": [
    "with open(\"zoo.csv\", \"r\") as f:\n",
    "    zoo = pd.read_csv(f)\n",
    "zoo"
   ]
  },
  {
   "cell_type": "code",
   "execution_count": 22,
   "metadata": {},
   "outputs": [
    {
     "data": {
      "text/html": [
       "<div>\n",
       "<style scoped>\n",
       "    .dataframe tbody tr th:only-of-type {\n",
       "        vertical-align: middle;\n",
       "    }\n",
       "\n",
       "    .dataframe tbody tr th {\n",
       "        vertical-align: top;\n",
       "    }\n",
       "\n",
       "    .dataframe thead th {\n",
       "        text-align: right;\n",
       "    }\n",
       "</style>\n",
       "<table border=\"1\" class=\"dataframe\">\n",
       "  <thead>\n",
       "    <tr style=\"text-align: right;\">\n",
       "      <th></th>\n",
       "      <th>Species</th>\n",
       "      <th>Age</th>\n",
       "      <th>Weight</th>\n",
       "    </tr>\n",
       "    <tr>\n",
       "      <th>Name</th>\n",
       "      <th></th>\n",
       "      <th></th>\n",
       "      <th></th>\n",
       "    </tr>\n",
       "  </thead>\n",
       "  <tbody>\n",
       "    <tr>\n",
       "      <th>Zorro</th>\n",
       "      <td>Zebra</td>\n",
       "      <td>1</td>\n",
       "      <td>150.1</td>\n",
       "    </tr>\n",
       "    <tr>\n",
       "      <th>Lila</th>\n",
       "      <td>Lion</td>\n",
       "      <td>2</td>\n",
       "      <td>200.0</td>\n",
       "    </tr>\n",
       "    <tr>\n",
       "      <th>Telly</th>\n",
       "      <td>Tiger</td>\n",
       "      <td>3</td>\n",
       "      <td>190.2</td>\n",
       "    </tr>\n",
       "    <tr>\n",
       "      <th>Boris</th>\n",
       "      <td>Bear</td>\n",
       "      <td>4</td>\n",
       "      <td>345.4</td>\n",
       "    </tr>\n",
       "  </tbody>\n",
       "</table>\n",
       "</div>"
      ],
      "text/plain": [
       "      Species  Age  Weight\n",
       "Name                      \n",
       "Zorro   Zebra    1   150.1\n",
       "Lila     Lion    2   200.0\n",
       "Telly   Tiger    3   190.2\n",
       "Boris    Bear    4   345.4"
      ]
     },
     "execution_count": 22,
     "metadata": {},
     "output_type": "execute_result"
    }
   ],
   "source": [
    "zoo.set_index(\"Name\", inplace=True)\n",
    "zoo"
   ]
  },
  {
   "cell_type": "code",
   "execution_count": 23,
   "metadata": {},
   "outputs": [
    {
     "data": {
      "text/html": [
       "<div>\n",
       "<style scoped>\n",
       "    .dataframe tbody tr th:only-of-type {\n",
       "        vertical-align: middle;\n",
       "    }\n",
       "\n",
       "    .dataframe tbody tr th {\n",
       "        vertical-align: top;\n",
       "    }\n",
       "\n",
       "    .dataframe thead th {\n",
       "        text-align: right;\n",
       "    }\n",
       "</style>\n",
       "<table border=\"1\" class=\"dataframe\">\n",
       "  <thead>\n",
       "    <tr style=\"text-align: right;\">\n",
       "      <th></th>\n",
       "      <th>Species</th>\n",
       "      <th>Age</th>\n",
       "      <th>Weight</th>\n",
       "    </tr>\n",
       "    <tr>\n",
       "      <th>Name</th>\n",
       "      <th></th>\n",
       "      <th></th>\n",
       "      <th></th>\n",
       "    </tr>\n",
       "  </thead>\n",
       "  <tbody>\n",
       "    <tr>\n",
       "      <th>Lila</th>\n",
       "      <td>Lion</td>\n",
       "      <td>2</td>\n",
       "      <td>200.0</td>\n",
       "    </tr>\n",
       "    <tr>\n",
       "      <th>Telly</th>\n",
       "      <td>Tiger</td>\n",
       "      <td>3</td>\n",
       "      <td>190.2</td>\n",
       "    </tr>\n",
       "    <tr>\n",
       "      <th>Boris</th>\n",
       "      <td>Bear</td>\n",
       "      <td>4</td>\n",
       "      <td>345.4</td>\n",
       "    </tr>\n",
       "  </tbody>\n",
       "</table>\n",
       "</div>"
      ],
      "text/plain": [
       "      Species  Age  Weight\n",
       "Name                      \n",
       "Lila     Lion    2   200.0\n",
       "Telly   Tiger    3   190.2\n",
       "Boris    Bear    4   345.4"
      ]
     },
     "execution_count": 23,
     "metadata": {},
     "output_type": "execute_result"
    }
   ],
   "source": [
    "zoo.loc['Lila':'Boris']"
   ]
  },
  {
   "cell_type": "code",
   "execution_count": 24,
   "metadata": {},
   "outputs": [
    {
     "data": {
      "text/html": [
       "<div>\n",
       "<style scoped>\n",
       "    .dataframe tbody tr th:only-of-type {\n",
       "        vertical-align: middle;\n",
       "    }\n",
       "\n",
       "    .dataframe tbody tr th {\n",
       "        vertical-align: top;\n",
       "    }\n",
       "\n",
       "    .dataframe thead th {\n",
       "        text-align: right;\n",
       "    }\n",
       "</style>\n",
       "<table border=\"1\" class=\"dataframe\">\n",
       "  <thead>\n",
       "    <tr style=\"text-align: right;\">\n",
       "      <th></th>\n",
       "      <th>Species</th>\n",
       "      <th>Age</th>\n",
       "      <th>Weight</th>\n",
       "    </tr>\n",
       "    <tr>\n",
       "      <th>Name</th>\n",
       "      <th></th>\n",
       "      <th></th>\n",
       "      <th></th>\n",
       "    </tr>\n",
       "  </thead>\n",
       "  <tbody>\n",
       "    <tr>\n",
       "      <th>Zorro</th>\n",
       "      <td>Zebra</td>\n",
       "      <td>5</td>\n",
       "      <td>150.1</td>\n",
       "    </tr>\n",
       "    <tr>\n",
       "      <th>Lila</th>\n",
       "      <td>Lion</td>\n",
       "      <td>2</td>\n",
       "      <td>200.0</td>\n",
       "    </tr>\n",
       "    <tr>\n",
       "      <th>Telly</th>\n",
       "      <td>Tiger</td>\n",
       "      <td>3</td>\n",
       "      <td>190.2</td>\n",
       "    </tr>\n",
       "    <tr>\n",
       "      <th>Boris</th>\n",
       "      <td>Bear</td>\n",
       "      <td>4</td>\n",
       "      <td>345.4</td>\n",
       "    </tr>\n",
       "  </tbody>\n",
       "</table>\n",
       "</div>"
      ],
      "text/plain": [
       "      Species  Age  Weight\n",
       "Name                      \n",
       "Zorro   Zebra    5   150.1\n",
       "Lila     Lion    2   200.0\n",
       "Telly   Tiger    3   190.2\n",
       "Boris    Bear    4   345.4"
      ]
     },
     "execution_count": 24,
     "metadata": {},
     "output_type": "execute_result"
    }
   ],
   "source": [
    "zoo.loc[\"Zorro\", \"Age\"]=5\n",
    "zoo"
   ]
  },
  {
   "cell_type": "code",
   "execution_count": 25,
   "metadata": {},
   "outputs": [
    {
     "data": {
      "text/html": [
       "<div>\n",
       "<style scoped>\n",
       "    .dataframe tbody tr th:only-of-type {\n",
       "        vertical-align: middle;\n",
       "    }\n",
       "\n",
       "    .dataframe tbody tr th {\n",
       "        vertical-align: top;\n",
       "    }\n",
       "\n",
       "    .dataframe thead th {\n",
       "        text-align: right;\n",
       "    }\n",
       "</style>\n",
       "<table border=\"1\" class=\"dataframe\">\n",
       "  <thead>\n",
       "    <tr style=\"text-align: right;\">\n",
       "      <th></th>\n",
       "      <th>Species</th>\n",
       "      <th>Age</th>\n",
       "      <th>Weight</th>\n",
       "    </tr>\n",
       "    <tr>\n",
       "      <th>Name</th>\n",
       "      <th></th>\n",
       "      <th></th>\n",
       "      <th></th>\n",
       "    </tr>\n",
       "  </thead>\n",
       "  <tbody>\n",
       "    <tr>\n",
       "      <th>Zorro</th>\n",
       "      <td>Zebra</td>\n",
       "      <td>5</td>\n",
       "      <td>150.1</td>\n",
       "    </tr>\n",
       "    <tr>\n",
       "      <th>Lila</th>\n",
       "      <td>Lion</td>\n",
       "      <td>2</td>\n",
       "      <td>200.0</td>\n",
       "    </tr>\n",
       "    <tr>\n",
       "      <th>Telly</th>\n",
       "      <td>Tiger</td>\n",
       "      <td>3</td>\n",
       "      <td>190.2</td>\n",
       "    </tr>\n",
       "    <tr>\n",
       "      <th>Boris</th>\n",
       "      <td>Bear</td>\n",
       "      <td>4</td>\n",
       "      <td>345.4</td>\n",
       "    </tr>\n",
       "  </tbody>\n",
       "</table>\n",
       "</div>"
      ],
      "text/plain": [
       "      Species  Age  Weight\n",
       "Name                      \n",
       "Zorro   Zebra    5   150.1\n",
       "Lila     Lion    2   200.0\n",
       "Telly   Tiger    3   190.2\n",
       "Boris    Bear    4   345.4"
      ]
     },
     "execution_count": 25,
     "metadata": {},
     "output_type": "execute_result"
    }
   ],
   "source": [
    "zoo"
   ]
  },
  {
   "cell_type": "code",
   "execution_count": 26,
   "metadata": {},
   "outputs": [
    {
     "data": {
      "text/html": [
       "<div>\n",
       "<style scoped>\n",
       "    .dataframe tbody tr th:only-of-type {\n",
       "        vertical-align: middle;\n",
       "    }\n",
       "\n",
       "    .dataframe tbody tr th {\n",
       "        vertical-align: top;\n",
       "    }\n",
       "\n",
       "    .dataframe thead th {\n",
       "        text-align: right;\n",
       "    }\n",
       "</style>\n",
       "<table border=\"1\" class=\"dataframe\">\n",
       "  <thead>\n",
       "    <tr style=\"text-align: right;\">\n",
       "      <th></th>\n",
       "      <th>Species</th>\n",
       "      <th>Age</th>\n",
       "      <th>Weight</th>\n",
       "    </tr>\n",
       "    <tr>\n",
       "      <th>Name</th>\n",
       "      <th></th>\n",
       "      <th></th>\n",
       "      <th></th>\n",
       "    </tr>\n",
       "  </thead>\n",
       "  <tbody>\n",
       "    <tr>\n",
       "      <th>Lila</th>\n",
       "      <td>Lion</td>\n",
       "      <td>2</td>\n",
       "      <td>200.0</td>\n",
       "    </tr>\n",
       "    <tr>\n",
       "      <th>Boris</th>\n",
       "      <td>Bear</td>\n",
       "      <td>4</td>\n",
       "      <td>345.4</td>\n",
       "    </tr>\n",
       "  </tbody>\n",
       "</table>\n",
       "</div>"
      ],
      "text/plain": [
       "      Species  Age  Weight\n",
       "Name                      \n",
       "Lila     Lion    2   200.0\n",
       "Boris    Bear    4   345.4"
      ]
     },
     "execution_count": 26,
     "metadata": {},
     "output_type": "execute_result"
    }
   ],
   "source": [
    "# animals that have the letter i in them\n",
    "zoo.loc[[row for row in zoo.index if \"i\" in row]]"
   ]
  },
  {
   "cell_type": "code",
   "execution_count": 103,
   "metadata": {},
   "outputs": [],
   "source": [
    "web_data = pd.read_json(\"http://thekirbster.pythonanywhere.com/\"\n",
    "                        \"api/elements?elem=all\")"
   ]
  },
  {
   "cell_type": "code",
   "execution_count": 104,
   "metadata": {},
   "outputs": [
    {
     "data": {
      "text/html": [
       "<div>\n",
       "<style scoped>\n",
       "    .dataframe tbody tr th:only-of-type {\n",
       "        vertical-align: middle;\n",
       "    }\n",
       "\n",
       "    .dataframe tbody tr th {\n",
       "        vertical-align: top;\n",
       "    }\n",
       "\n",
       "    .dataframe thead th {\n",
       "        text-align: right;\n",
       "    }\n",
       "</style>\n",
       "<table border=\"1\" class=\"dataframe\">\n",
       "  <thead>\n",
       "    <tr style=\"text-align: right;\">\n",
       "      <th></th>\n",
       "      <th>Rg</th>\n",
       "      <th>Cr</th>\n",
       "      <th>Th</th>\n",
       "      <th>Fe</th>\n",
       "      <th>Lr</th>\n",
       "      <th>Cn</th>\n",
       "      <th>Np</th>\n",
       "      <th>Mt</th>\n",
       "      <th>Ts</th>\n",
       "      <th>Be</th>\n",
       "      <th>...</th>\n",
       "      <th>Ge</th>\n",
       "      <th>Re</th>\n",
       "      <th>I</th>\n",
       "      <th>Ga</th>\n",
       "      <th>Se</th>\n",
       "      <th>Os</th>\n",
       "      <th>Ta</th>\n",
       "      <th>No</th>\n",
       "      <th>Pu</th>\n",
       "      <th>Cl</th>\n",
       "    </tr>\n",
       "  </thead>\n",
       "  <tbody>\n",
       "    <tr>\n",
       "      <th>0</th>\n",
       "      <td>111</td>\n",
       "      <td>24</td>\n",
       "      <td>90</td>\n",
       "      <td>26</td>\n",
       "      <td>103</td>\n",
       "      <td>112</td>\n",
       "      <td>93</td>\n",
       "      <td>109</td>\n",
       "      <td>117</td>\n",
       "      <td>4</td>\n",
       "      <td>...</td>\n",
       "      <td>32</td>\n",
       "      <td>75</td>\n",
       "      <td>53</td>\n",
       "      <td>31</td>\n",
       "      <td>34</td>\n",
       "      <td>76</td>\n",
       "      <td>73</td>\n",
       "      <td>102</td>\n",
       "      <td>94</td>\n",
       "      <td>17</td>\n",
       "    </tr>\n",
       "    <tr>\n",
       "      <th>1</th>\n",
       "      <td>Rg</td>\n",
       "      <td>Cr</td>\n",
       "      <td>Th</td>\n",
       "      <td>Fe</td>\n",
       "      <td>Lr</td>\n",
       "      <td>Cn</td>\n",
       "      <td>Np</td>\n",
       "      <td>Mt</td>\n",
       "      <td>Ts</td>\n",
       "      <td>Be</td>\n",
       "      <td>...</td>\n",
       "      <td>Ge</td>\n",
       "      <td>Re</td>\n",
       "      <td>I</td>\n",
       "      <td>Ga</td>\n",
       "      <td>Se</td>\n",
       "      <td>Os</td>\n",
       "      <td>Ta</td>\n",
       "      <td>No</td>\n",
       "      <td>Pu</td>\n",
       "      <td>Cl</td>\n",
       "    </tr>\n",
       "    <tr>\n",
       "      <th>2</th>\n",
       "      <td>Roentgenium</td>\n",
       "      <td>Chromium</td>\n",
       "      <td>Thorium</td>\n",
       "      <td>Iron</td>\n",
       "      <td>Lawrencium</td>\n",
       "      <td>Copernicium</td>\n",
       "      <td>Neptunium</td>\n",
       "      <td>Meitnerium</td>\n",
       "      <td>Tennessine</td>\n",
       "      <td>Beryllium</td>\n",
       "      <td>...</td>\n",
       "      <td>Germanium</td>\n",
       "      <td>Rhenium</td>\n",
       "      <td>Iodine</td>\n",
       "      <td>Gallium</td>\n",
       "      <td>Selenium</td>\n",
       "      <td>Osmium</td>\n",
       "      <td>Tantalum</td>\n",
       "      <td>Nobelium</td>\n",
       "      <td>Plutonium</td>\n",
       "      <td>Chlorine</td>\n",
       "    </tr>\n",
       "    <tr>\n",
       "      <th>3</th>\n",
       "      <td>282</td>\n",
       "      <td>51.9962</td>\n",
       "      <td>232.038</td>\n",
       "      <td>55.8452</td>\n",
       "      <td>266</td>\n",
       "      <td>285</td>\n",
       "      <td>237</td>\n",
       "      <td>278</td>\n",
       "      <td>294</td>\n",
       "      <td>9.01218</td>\n",
       "      <td>...</td>\n",
       "      <td>72.6308</td>\n",
       "      <td>186.207</td>\n",
       "      <td>126.904</td>\n",
       "      <td>69.7231</td>\n",
       "      <td>78.9718</td>\n",
       "      <td>190.233</td>\n",
       "      <td>180.948</td>\n",
       "      <td>259</td>\n",
       "      <td>244</td>\n",
       "      <td>35.45</td>\n",
       "    </tr>\n",
       "    <tr>\n",
       "      <th>4</th>\n",
       "      <td>unknown, probably transition metal</td>\n",
       "      <td>transition metal</td>\n",
       "      <td>actinide</td>\n",
       "      <td>transition metal</td>\n",
       "      <td>actinide</td>\n",
       "      <td>transition metal</td>\n",
       "      <td>actinide</td>\n",
       "      <td>unknown, probably transition metal</td>\n",
       "      <td>unknown,probably metalloid</td>\n",
       "      <td>alkaline earth metal</td>\n",
       "      <td>...</td>\n",
       "      <td>metalloid</td>\n",
       "      <td>transition metal</td>\n",
       "      <td>diatomic nonmetal</td>\n",
       "      <td>post-transition metal</td>\n",
       "      <td>polyatomic nonmetal</td>\n",
       "      <td>transition metal</td>\n",
       "      <td>transition metal</td>\n",
       "      <td>actinide</td>\n",
       "      <td>actinide</td>\n",
       "      <td>diatomic nonmetal</td>\n",
       "    </tr>\n",
       "  </tbody>\n",
       "</table>\n",
       "<p>5 rows × 118 columns</p>\n",
       "</div>"
      ],
      "text/plain": [
       "                                   Rg                Cr        Th  \\\n",
       "0                                 111                24        90   \n",
       "1                                  Rg                Cr        Th   \n",
       "2                         Roentgenium          Chromium   Thorium   \n",
       "3                                 282           51.9962   232.038   \n",
       "4  unknown, probably transition metal  transition metal  actinide   \n",
       "\n",
       "                 Fe          Lr                Cn         Np  \\\n",
       "0                26         103               112         93   \n",
       "1                Fe          Lr                Cn         Np   \n",
       "2              Iron  Lawrencium       Copernicium  Neptunium   \n",
       "3           55.8452         266               285        237   \n",
       "4  transition metal    actinide  transition metal   actinide   \n",
       "\n",
       "                                   Mt                          Ts  \\\n",
       "0                                 109                         117   \n",
       "1                                  Mt                          Ts   \n",
       "2                          Meitnerium                  Tennessine   \n",
       "3                                 278                         294   \n",
       "4  unknown, probably transition metal  unknown,probably metalloid   \n",
       "\n",
       "                     Be  ...         Ge                Re                  I  \\\n",
       "0                     4  ...         32                75                 53   \n",
       "1                    Be  ...         Ge                Re                  I   \n",
       "2             Beryllium  ...  Germanium           Rhenium             Iodine   \n",
       "3               9.01218  ...    72.6308           186.207            126.904   \n",
       "4  alkaline earth metal  ...  metalloid  transition metal  diatomic nonmetal   \n",
       "\n",
       "                      Ga                   Se                Os  \\\n",
       "0                     31                   34                76   \n",
       "1                     Ga                   Se                Os   \n",
       "2                Gallium             Selenium            Osmium   \n",
       "3                69.7231              78.9718           190.233   \n",
       "4  post-transition metal  polyatomic nonmetal  transition metal   \n",
       "\n",
       "                 Ta        No         Pu                 Cl  \n",
       "0                73       102         94                 17  \n",
       "1                Ta        No         Pu                 Cl  \n",
       "2          Tantalum  Nobelium  Plutonium           Chlorine  \n",
       "3           180.948       259        244              35.45  \n",
       "4  transition metal  actinide   actinide  diatomic nonmetal  \n",
       "\n",
       "[5 rows x 118 columns]"
      ]
     },
     "execution_count": 104,
     "metadata": {},
     "output_type": "execute_result"
    }
   ],
   "source": [
    "web_data.head()"
   ]
  },
  {
   "cell_type": "markdown",
   "metadata": {},
   "source": [
    "Let's transpose the above, with a single T (for transpose). Rows become columns, columns become rows."
   ]
  },
  {
   "cell_type": "code",
   "execution_count": 105,
   "metadata": {},
   "outputs": [
    {
     "data": {
      "text/html": [
       "<div>\n",
       "<style scoped>\n",
       "    .dataframe tbody tr th:only-of-type {\n",
       "        vertical-align: middle;\n",
       "    }\n",
       "\n",
       "    .dataframe tbody tr th {\n",
       "        vertical-align: top;\n",
       "    }\n",
       "\n",
       "    .dataframe thead th {\n",
       "        text-align: right;\n",
       "    }\n",
       "</style>\n",
       "<table border=\"1\" class=\"dataframe\">\n",
       "  <thead>\n",
       "    <tr style=\"text-align: right;\">\n",
       "      <th></th>\n",
       "      <th>0</th>\n",
       "      <th>1</th>\n",
       "      <th>2</th>\n",
       "      <th>3</th>\n",
       "      <th>4</th>\n",
       "      <th>5</th>\n",
       "      <th>6</th>\n",
       "    </tr>\n",
       "  </thead>\n",
       "  <tbody>\n",
       "    <tr>\n",
       "      <th>H</th>\n",
       "      <td>1</td>\n",
       "      <td>H</td>\n",
       "      <td>Hydrogen</td>\n",
       "      <td>1.008</td>\n",
       "      <td>diatomic nonmetal</td>\n",
       "      <td>1498013115</td>\n",
       "      <td>KTU</td>\n",
       "    </tr>\n",
       "    <tr>\n",
       "      <th>He</th>\n",
       "      <td>2</td>\n",
       "      <td>He</td>\n",
       "      <td>Helium</td>\n",
       "      <td>4.0026</td>\n",
       "      <td>noble gas</td>\n",
       "      <td>1493462392</td>\n",
       "      <td>KTU</td>\n",
       "    </tr>\n",
       "    <tr>\n",
       "      <th>Li</th>\n",
       "      <td>3</td>\n",
       "      <td>Li</td>\n",
       "      <td>Lithium</td>\n",
       "      <td>6.94</td>\n",
       "      <td>alkali metal</td>\n",
       "      <td>1493462392</td>\n",
       "      <td>KTU</td>\n",
       "    </tr>\n",
       "    <tr>\n",
       "      <th>Be</th>\n",
       "      <td>4</td>\n",
       "      <td>Be</td>\n",
       "      <td>Beryllium</td>\n",
       "      <td>9.01218</td>\n",
       "      <td>alkaline earth metal</td>\n",
       "      <td>1493462392</td>\n",
       "      <td>KTU</td>\n",
       "    </tr>\n",
       "    <tr>\n",
       "      <th>B</th>\n",
       "      <td>5</td>\n",
       "      <td>B</td>\n",
       "      <td>Boron</td>\n",
       "      <td>10.81</td>\n",
       "      <td>metalloid</td>\n",
       "      <td>1493462392</td>\n",
       "      <td>KTU</td>\n",
       "    </tr>\n",
       "  </tbody>\n",
       "</table>\n",
       "</div>"
      ],
      "text/plain": [
       "    0   1          2        3                     4           5    6\n",
       "H   1   H   Hydrogen    1.008     diatomic nonmetal  1498013115  KTU\n",
       "He  2  He     Helium   4.0026             noble gas  1493462392  KTU\n",
       "Li  3  Li    Lithium     6.94          alkali metal  1493462392  KTU\n",
       "Be  4  Be  Beryllium  9.01218  alkaline earth metal  1493462392  KTU\n",
       "B   5   B      Boron    10.81             metalloid  1493462392  KTU"
      ]
     },
     "execution_count": 105,
     "metadata": {},
     "output_type": "execute_result"
    }
   ],
   "source": [
    "periodic_table = web_data.T\n",
    "periodic_table.sort_values(0).head()"
   ]
  },
  {
   "cell_type": "markdown",
   "metadata": {},
   "source": [
    "Now lets rename the columns after dropping a couple."
   ]
  },
  {
   "cell_type": "code",
   "execution_count": 106,
   "metadata": {},
   "outputs": [],
   "source": [
    "periodic_table.drop([1], axis=1, inplace=True)\n",
    "periodic_table.rename({0:\"Protons\", 1:\"Symbol\", 2:\"Element\", 3:\"Mass\", 4:\"Category\", \n",
    "                       5:\"Last Modified\", 6:\"Initials\"}, axis=1, inplace=True)"
   ]
  },
  {
   "cell_type": "code",
   "execution_count": 107,
   "metadata": {},
   "outputs": [
    {
     "data": {
      "text/html": [
       "<div>\n",
       "<style scoped>\n",
       "    .dataframe tbody tr th:only-of-type {\n",
       "        vertical-align: middle;\n",
       "    }\n",
       "\n",
       "    .dataframe tbody tr th {\n",
       "        vertical-align: top;\n",
       "    }\n",
       "\n",
       "    .dataframe thead th {\n",
       "        text-align: right;\n",
       "    }\n",
       "</style>\n",
       "<table border=\"1\" class=\"dataframe\">\n",
       "  <thead>\n",
       "    <tr style=\"text-align: right;\">\n",
       "      <th></th>\n",
       "      <th>Protons</th>\n",
       "      <th>Element</th>\n",
       "      <th>Mass</th>\n",
       "      <th>Category</th>\n",
       "      <th>Last Modified</th>\n",
       "      <th>Initials</th>\n",
       "    </tr>\n",
       "  </thead>\n",
       "  <tbody>\n",
       "    <tr>\n",
       "      <th>Rg</th>\n",
       "      <td>111</td>\n",
       "      <td>Roentgenium</td>\n",
       "      <td>282</td>\n",
       "      <td>unknown, probably transition metal</td>\n",
       "      <td>1493462392</td>\n",
       "      <td>KTU</td>\n",
       "    </tr>\n",
       "    <tr>\n",
       "      <th>Cr</th>\n",
       "      <td>24</td>\n",
       "      <td>Chromium</td>\n",
       "      <td>51.9962</td>\n",
       "      <td>transition metal</td>\n",
       "      <td>1493462392</td>\n",
       "      <td>KTU</td>\n",
       "    </tr>\n",
       "    <tr>\n",
       "      <th>Th</th>\n",
       "      <td>90</td>\n",
       "      <td>Thorium</td>\n",
       "      <td>232.038</td>\n",
       "      <td>actinide</td>\n",
       "      <td>1493462392</td>\n",
       "      <td>KTU</td>\n",
       "    </tr>\n",
       "    <tr>\n",
       "      <th>Fe</th>\n",
       "      <td>26</td>\n",
       "      <td>Iron</td>\n",
       "      <td>55.8452</td>\n",
       "      <td>transition metal</td>\n",
       "      <td>1493462392</td>\n",
       "      <td>KTU</td>\n",
       "    </tr>\n",
       "    <tr>\n",
       "      <th>Lr</th>\n",
       "      <td>103</td>\n",
       "      <td>Lawrencium</td>\n",
       "      <td>266</td>\n",
       "      <td>actinide</td>\n",
       "      <td>1493462392</td>\n",
       "      <td>KTU</td>\n",
       "    </tr>\n",
       "  </tbody>\n",
       "</table>\n",
       "</div>"
      ],
      "text/plain": [
       "   Protons      Element     Mass                            Category  \\\n",
       "Rg     111  Roentgenium      282  unknown, probably transition metal   \n",
       "Cr      24     Chromium  51.9962                    transition metal   \n",
       "Th      90      Thorium  232.038                            actinide   \n",
       "Fe      26         Iron  55.8452                    transition metal   \n",
       "Lr     103   Lawrencium      266                            actinide   \n",
       "\n",
       "   Last Modified Initials  \n",
       "Rg    1493462392      KTU  \n",
       "Cr    1493462392      KTU  \n",
       "Th    1493462392      KTU  \n",
       "Fe    1493462392      KTU  \n",
       "Lr    1493462392      KTU  "
      ]
     },
     "execution_count": 107,
     "metadata": {},
     "output_type": "execute_result"
    }
   ],
   "source": [
    "periodic_table.head()"
   ]
  },
  {
   "cell_type": "markdown",
   "metadata": {},
   "source": [
    "Let's rename the row index column to Symbol.  That a row index should have a name is somewhat optional."
   ]
  },
  {
   "cell_type": "code",
   "execution_count": 108,
   "metadata": {},
   "outputs": [],
   "source": [
    "periodic_table.index.name = \"Symbol\""
   ]
  },
  {
   "cell_type": "code",
   "execution_count": 109,
   "metadata": {},
   "outputs": [
    {
     "data": {
      "text/html": [
       "<div>\n",
       "<style scoped>\n",
       "    .dataframe tbody tr th:only-of-type {\n",
       "        vertical-align: middle;\n",
       "    }\n",
       "\n",
       "    .dataframe tbody tr th {\n",
       "        vertical-align: top;\n",
       "    }\n",
       "\n",
       "    .dataframe thead th {\n",
       "        text-align: right;\n",
       "    }\n",
       "</style>\n",
       "<table border=\"1\" class=\"dataframe\">\n",
       "  <thead>\n",
       "    <tr style=\"text-align: right;\">\n",
       "      <th></th>\n",
       "      <th>Protons</th>\n",
       "      <th>Element</th>\n",
       "      <th>Mass</th>\n",
       "      <th>Category</th>\n",
       "      <th>Last Modified</th>\n",
       "      <th>Initials</th>\n",
       "    </tr>\n",
       "    <tr>\n",
       "      <th>Symbol</th>\n",
       "      <th></th>\n",
       "      <th></th>\n",
       "      <th></th>\n",
       "      <th></th>\n",
       "      <th></th>\n",
       "      <th></th>\n",
       "    </tr>\n",
       "  </thead>\n",
       "  <tbody>\n",
       "    <tr>\n",
       "      <th>Rg</th>\n",
       "      <td>111</td>\n",
       "      <td>Roentgenium</td>\n",
       "      <td>282</td>\n",
       "      <td>unknown, probably transition metal</td>\n",
       "      <td>1493462392</td>\n",
       "      <td>KTU</td>\n",
       "    </tr>\n",
       "    <tr>\n",
       "      <th>Cr</th>\n",
       "      <td>24</td>\n",
       "      <td>Chromium</td>\n",
       "      <td>51.9962</td>\n",
       "      <td>transition metal</td>\n",
       "      <td>1493462392</td>\n",
       "      <td>KTU</td>\n",
       "    </tr>\n",
       "    <tr>\n",
       "      <th>Th</th>\n",
       "      <td>90</td>\n",
       "      <td>Thorium</td>\n",
       "      <td>232.038</td>\n",
       "      <td>actinide</td>\n",
       "      <td>1493462392</td>\n",
       "      <td>KTU</td>\n",
       "    </tr>\n",
       "    <tr>\n",
       "      <th>Fe</th>\n",
       "      <td>26</td>\n",
       "      <td>Iron</td>\n",
       "      <td>55.8452</td>\n",
       "      <td>transition metal</td>\n",
       "      <td>1493462392</td>\n",
       "      <td>KTU</td>\n",
       "    </tr>\n",
       "    <tr>\n",
       "      <th>Lr</th>\n",
       "      <td>103</td>\n",
       "      <td>Lawrencium</td>\n",
       "      <td>266</td>\n",
       "      <td>actinide</td>\n",
       "      <td>1493462392</td>\n",
       "      <td>KTU</td>\n",
       "    </tr>\n",
       "  </tbody>\n",
       "</table>\n",
       "</div>"
      ],
      "text/plain": [
       "       Protons      Element     Mass                            Category  \\\n",
       "Symbol                                                                     \n",
       "Rg         111  Roentgenium      282  unknown, probably transition metal   \n",
       "Cr          24     Chromium  51.9962                    transition metal   \n",
       "Th          90      Thorium  232.038                            actinide   \n",
       "Fe          26         Iron  55.8452                    transition metal   \n",
       "Lr         103   Lawrencium      266                            actinide   \n",
       "\n",
       "       Last Modified Initials  \n",
       "Symbol                         \n",
       "Rg        1493462392      KTU  \n",
       "Cr        1493462392      KTU  \n",
       "Th        1493462392      KTU  \n",
       "Fe        1493462392      KTU  \n",
       "Lr        1493462392      KTU  "
      ]
     },
     "execution_count": 109,
     "metadata": {},
     "output_type": "execute_result"
    }
   ],
   "source": [
    "periodic_table.head()"
   ]
  },
  {
   "cell_type": "markdown",
   "metadata": {},
   "source": [
    "The Last Modified column is somewhat opaque. The number of seconds since January 1, Year 1, is a convenient format in what to store datetimes or dates.  Lets convert."
   ]
  },
  {
   "cell_type": "code",
   "execution_count": 110,
   "metadata": {},
   "outputs": [
    {
     "data": {
      "text/plain": [
       "datetime.datetime(2017, 4, 29, 3, 39, 52)"
      ]
     },
     "execution_count": 110,
     "metadata": {},
     "output_type": "execute_result"
    }
   ],
   "source": [
    "test = periodic_table.loc[\"Ds\",\"Last Modified\"]\n",
    "from datetime import datetime\n",
    "datetime.fromtimestamp(test)"
   ]
  },
  {
   "cell_type": "code",
   "execution_count": 111,
   "metadata": {},
   "outputs": [],
   "source": [
    "periodic_table[\"Last Modified\"] = \\\n",
    "periodic_table[\"Last Modified\"].apply(lambda x: datetime.fromtimestamp(x))"
   ]
  },
  {
   "cell_type": "code",
   "execution_count": 112,
   "metadata": {},
   "outputs": [
    {
     "data": {
      "text/html": [
       "<div>\n",
       "<style scoped>\n",
       "    .dataframe tbody tr th:only-of-type {\n",
       "        vertical-align: middle;\n",
       "    }\n",
       "\n",
       "    .dataframe tbody tr th {\n",
       "        vertical-align: top;\n",
       "    }\n",
       "\n",
       "    .dataframe thead th {\n",
       "        text-align: right;\n",
       "    }\n",
       "</style>\n",
       "<table border=\"1\" class=\"dataframe\">\n",
       "  <thead>\n",
       "    <tr style=\"text-align: right;\">\n",
       "      <th></th>\n",
       "      <th>Protons</th>\n",
       "      <th>Element</th>\n",
       "      <th>Mass</th>\n",
       "      <th>Category</th>\n",
       "      <th>Last Modified</th>\n",
       "      <th>Initials</th>\n",
       "    </tr>\n",
       "    <tr>\n",
       "      <th>Symbol</th>\n",
       "      <th></th>\n",
       "      <th></th>\n",
       "      <th></th>\n",
       "      <th></th>\n",
       "      <th></th>\n",
       "      <th></th>\n",
       "    </tr>\n",
       "  </thead>\n",
       "  <tbody>\n",
       "    <tr>\n",
       "      <th>Rg</th>\n",
       "      <td>111</td>\n",
       "      <td>Roentgenium</td>\n",
       "      <td>282</td>\n",
       "      <td>unknown, probably transition metal</td>\n",
       "      <td>2017-04-29 03:39:52</td>\n",
       "      <td>KTU</td>\n",
       "    </tr>\n",
       "    <tr>\n",
       "      <th>Cr</th>\n",
       "      <td>24</td>\n",
       "      <td>Chromium</td>\n",
       "      <td>51.9962</td>\n",
       "      <td>transition metal</td>\n",
       "      <td>2017-04-29 03:39:52</td>\n",
       "      <td>KTU</td>\n",
       "    </tr>\n",
       "    <tr>\n",
       "      <th>Th</th>\n",
       "      <td>90</td>\n",
       "      <td>Thorium</td>\n",
       "      <td>232.038</td>\n",
       "      <td>actinide</td>\n",
       "      <td>2017-04-29 03:39:52</td>\n",
       "      <td>KTU</td>\n",
       "    </tr>\n",
       "    <tr>\n",
       "      <th>Fe</th>\n",
       "      <td>26</td>\n",
       "      <td>Iron</td>\n",
       "      <td>55.8452</td>\n",
       "      <td>transition metal</td>\n",
       "      <td>2017-04-29 03:39:52</td>\n",
       "      <td>KTU</td>\n",
       "    </tr>\n",
       "    <tr>\n",
       "      <th>Lr</th>\n",
       "      <td>103</td>\n",
       "      <td>Lawrencium</td>\n",
       "      <td>266</td>\n",
       "      <td>actinide</td>\n",
       "      <td>2017-04-29 03:39:52</td>\n",
       "      <td>KTU</td>\n",
       "    </tr>\n",
       "  </tbody>\n",
       "</table>\n",
       "</div>"
      ],
      "text/plain": [
       "       Protons      Element     Mass                            Category  \\\n",
       "Symbol                                                                     \n",
       "Rg         111  Roentgenium      282  unknown, probably transition metal   \n",
       "Cr          24     Chromium  51.9962                    transition metal   \n",
       "Th          90      Thorium  232.038                            actinide   \n",
       "Fe          26         Iron  55.8452                    transition metal   \n",
       "Lr         103   Lawrencium      266                            actinide   \n",
       "\n",
       "             Last Modified Initials  \n",
       "Symbol                               \n",
       "Rg     2017-04-29 03:39:52      KTU  \n",
       "Cr     2017-04-29 03:39:52      KTU  \n",
       "Th     2017-04-29 03:39:52      KTU  \n",
       "Fe     2017-04-29 03:39:52      KTU  \n",
       "Lr     2017-04-29 03:39:52      KTU  "
      ]
     },
     "execution_count": 112,
     "metadata": {},
     "output_type": "execute_result"
    }
   ],
   "source": [
    "periodic_table.head()"
   ]
  },
  {
   "cell_type": "markdown",
   "metadata": {},
   "source": [
    "Finally, how about grouping by Category, what might that look like?"
   ]
  },
  {
   "cell_type": "code",
   "execution_count": 116,
   "metadata": {},
   "outputs": [
    {
     "data": {
      "text/plain": [
       "array(['unknown, probably transition metal', 'transition metal',\n",
       "       'actinide', 'unknown,probably metalloid', 'alkaline earth metal',\n",
       "       'lanthanide', 'metalloid', 'post-transition metal', 'alkali metal',\n",
       "       'noble gas', 'unknown, predicted to be noble gas',\n",
       "       'diatomic nonmetal', 'unknown, probably post transition metal',\n",
       "       'polyatomic nonmetal'], dtype=object)"
      ]
     },
     "execution_count": 116,
     "metadata": {},
     "output_type": "execute_result"
    }
   ],
   "source": [
    "periodic_table.Category.unique()"
   ]
  },
  {
   "cell_type": "code",
   "execution_count": 118,
   "metadata": {},
   "outputs": [
    {
     "data": {
      "text/html": [
       "<div>\n",
       "<style scoped>\n",
       "    .dataframe tbody tr th:only-of-type {\n",
       "        vertical-align: middle;\n",
       "    }\n",
       "\n",
       "    .dataframe tbody tr th {\n",
       "        vertical-align: top;\n",
       "    }\n",
       "\n",
       "    .dataframe thead th {\n",
       "        text-align: right;\n",
       "    }\n",
       "</style>\n",
       "<table border=\"1\" class=\"dataframe\">\n",
       "  <thead>\n",
       "    <tr style=\"text-align: right;\">\n",
       "      <th></th>\n",
       "      <th>Protons</th>\n",
       "      <th>Element</th>\n",
       "      <th>Mass</th>\n",
       "      <th>Category</th>\n",
       "      <th>Last Modified</th>\n",
       "      <th>Initials</th>\n",
       "    </tr>\n",
       "    <tr>\n",
       "      <th>Symbol</th>\n",
       "      <th></th>\n",
       "      <th></th>\n",
       "      <th></th>\n",
       "      <th></th>\n",
       "      <th></th>\n",
       "      <th></th>\n",
       "    </tr>\n",
       "  </thead>\n",
       "  <tbody>\n",
       "    <tr>\n",
       "      <th>Ar</th>\n",
       "      <td>18</td>\n",
       "      <td>Argon</td>\n",
       "      <td>39.9481</td>\n",
       "      <td>noble gas</td>\n",
       "      <td>2017-04-29 03:39:52</td>\n",
       "      <td>KTU</td>\n",
       "    </tr>\n",
       "    <tr>\n",
       "      <th>He</th>\n",
       "      <td>2</td>\n",
       "      <td>Helium</td>\n",
       "      <td>4.0026</td>\n",
       "      <td>noble gas</td>\n",
       "      <td>2017-04-29 03:39:52</td>\n",
       "      <td>KTU</td>\n",
       "    </tr>\n",
       "    <tr>\n",
       "      <th>Kr</th>\n",
       "      <td>36</td>\n",
       "      <td>Krypton</td>\n",
       "      <td>83.7982</td>\n",
       "      <td>noble gas</td>\n",
       "      <td>2017-04-29 03:39:52</td>\n",
       "      <td>KTU</td>\n",
       "    </tr>\n",
       "    <tr>\n",
       "      <th>Ne</th>\n",
       "      <td>10</td>\n",
       "      <td>Neon</td>\n",
       "      <td>20.1798</td>\n",
       "      <td>noble gas</td>\n",
       "      <td>2017-04-29 03:39:52</td>\n",
       "      <td>KTU</td>\n",
       "    </tr>\n",
       "    <tr>\n",
       "      <th>Rn</th>\n",
       "      <td>86</td>\n",
       "      <td>Radon</td>\n",
       "      <td>222</td>\n",
       "      <td>noble gas</td>\n",
       "      <td>2017-04-29 03:39:52</td>\n",
       "      <td>KTU</td>\n",
       "    </tr>\n",
       "    <tr>\n",
       "      <th>Xe</th>\n",
       "      <td>54</td>\n",
       "      <td>Xenon</td>\n",
       "      <td>131.294</td>\n",
       "      <td>noble gas</td>\n",
       "      <td>2017-04-29 03:39:52</td>\n",
       "      <td>KTU</td>\n",
       "    </tr>\n",
       "  </tbody>\n",
       "</table>\n",
       "</div>"
      ],
      "text/plain": [
       "       Protons  Element     Mass   Category       Last Modified Initials\n",
       "Symbol                                                                  \n",
       "Ar          18    Argon  39.9481  noble gas 2017-04-29 03:39:52      KTU\n",
       "He           2   Helium   4.0026  noble gas 2017-04-29 03:39:52      KTU\n",
       "Kr          36  Krypton  83.7982  noble gas 2017-04-29 03:39:52      KTU\n",
       "Ne          10     Neon  20.1798  noble gas 2017-04-29 03:39:52      KTU\n",
       "Rn          86    Radon      222  noble gas 2017-04-29 03:39:52      KTU\n",
       "Xe          54    Xenon  131.294  noble gas 2017-04-29 03:39:52      KTU"
      ]
     },
     "execution_count": 118,
     "metadata": {},
     "output_type": "execute_result"
    }
   ],
   "source": [
    "periodic_table.groupby(\"Category\").get_group(\"noble gas\").sort_index()"
   ]
  },
  {
   "cell_type": "markdown",
   "metadata": {},
   "source": [
    "Want to try [the Kaggle tutorial](https://www.kaggle.com/learn/pandas)?  I'm going to start it now.  [Some faculty](https://towardsdatascience.com/if-i-had-to-start-learning-data-science-again-how-would-i-do-it-78a72b80fd93) swear by Kaggle."
   ]
  },
  {
   "cell_type": "markdown",
   "metadata": {},
   "source": [
    "## Thinking About Games of Chance\n",
    "\n",
    "We can start getting more statistically oriented within our \"calculator of tomorrow\", by working with some of those formulae [dealing with combinatorics](https://wikieducator.org/Casino_Math).\n",
    "\n",
    "We're not \"wasting paper\" when we the same repeat content in various orders.  We're permuting, as an aid to comprehension. Expect to see these formulae again and again.\n",
    "\n",
    "Lets put the algorithm we're implementing side by side with its typeset encoding.\n",
    "\n",
    "$$\n",
    "\\frac{n!}{k!(n - k)!} = \\binom{n}{k} = {}^{n}C_{k} = C_{n}^k\n",
    "$$"
   ]
  },
  {
   "cell_type": "code",
   "execution_count": 30,
   "metadata": {},
   "outputs": [],
   "source": [
    "from math import factorial\n",
    "\n",
    "def binom(n,k):\n",
    "    return (factorial(n)//(factorial(n-k) * factorial(k)))  "
   ]
  },
  {
   "cell_type": "code",
   "execution_count": 31,
   "metadata": {},
   "outputs": [
    {
     "name": "stdout",
     "output_type": "stream",
     "text": [
      "2,598,960\n"
     ]
    }
   ],
   "source": [
    "how_many = binom(52,5) # Poker\n",
    "print(f\"{how_many:,}\") # fancy formatting"
   ]
  },
  {
   "cell_type": "code",
   "execution_count": 129,
   "metadata": {},
   "outputs": [
    {
     "data": {
      "text/plain": [
       "[1, 10, 45, 120, 210, 252, 210, 120, 45, 10, 1]"
      ]
     },
     "execution_count": 129,
     "metadata": {},
     "output_type": "execute_result"
    }
   ],
   "source": [
    "n = 10\n",
    "[binom(n,k) for k in range(0,n+1)]  # row of Pascal's Triangle"
   ]
  },
  {
   "cell_type": "markdown",
   "metadata": {},
   "source": [
    "You may encounter PATH issues from time to time.  Your operating system has a PATH in mind, but then so does Python have its own search path, in the form of a mutable list of strings. We're free to add to it."
   ]
  },
  {
   "cell_type": "code",
   "execution_count": 130,
   "metadata": {},
   "outputs": [
    {
     "name": "stdout",
     "output_type": "stream",
     "text": [
      "/Users/mac/opt/anaconda3/bin:/Users/mac/opt/anaconda3/condabin:/usr/bin:/bin:/usr/sbin:/sbin\n"
     ]
    }
   ],
   "source": [
    "import os\n",
    "print(os.environ['PATH'])"
   ]
  },
  {
   "cell_type": "markdown",
   "metadata": {},
   "source": [
    "Note that if Python source code modules are present anywhere along the Python path, we're free to import and use them interactively within our Notebook, as we would be in any REPL.  \n",
    "\n",
    "You don't have to cram all the source code into a specific Notebook in order to use it."
   ]
  },
  {
   "cell_type": "code",
   "execution_count": 131,
   "metadata": {},
   "outputs": [
    {
     "name": "stdout",
     "output_type": "stream",
     "text": [
      "['/Users/mac/Documents/Curriculum_Development', '/Users/mac/opt/anaconda3/lib/python37.zip', '/Users/mac/opt/anaconda3/lib/python3.7', '/Users/mac/opt/anaconda3/lib/python3.7/lib-dynload', '', '/Users/mac/opt/anaconda3/lib/python3.7/site-packages', '/Users/mac/opt/anaconda3/lib/python3.7/site-packages/aeosa', '/Users/mac/opt/anaconda3/lib/python3.7/site-packages/IPython/extensions', '/Users/mac/.ipython', './python']\n"
     ]
    }
   ],
   "source": [
    "import sys\n",
    "print(sys.path)\n",
    "sys.path.append(\"./python\") # subfolder in Curriculum_Development"
   ]
  },
  {
   "cell_type": "code",
   "execution_count": 132,
   "metadata": {},
   "outputs": [
    {
     "data": {
      "text/plain": [
       "<module 'statsfun' from './python/statsfun.py'>"
      ]
     },
     "execution_count": 132,
     "metadata": {},
     "output_type": "execute_result"
    }
   ],
   "source": [
    "import imp\n",
    "import statsfun\n",
    "imp.reload(statsfun)"
   ]
  },
  {
   "cell_type": "code",
   "execution_count": 133,
   "metadata": {},
   "outputs": [
    {
     "data": {
      "text/plain": [
       "[1, 10, 45, 120, 210, 252, 210, 120, 45, 10, 1]"
      ]
     },
     "execution_count": 133,
     "metadata": {},
     "output_type": "execute_result"
    }
   ],
   "source": [
    "from statsfun import pascal  # in the relative path ./python\n",
    "pascal(10)  # row n of Pascal's Triangle"
   ]
  },
  {
   "cell_type": "markdown",
   "metadata": {},
   "source": [
    "Remember [the Galton Board](https://youtu.be/Kq7e6cj2nDw) at this juncture!\n",
    "\n",
    "\n",
    "![galton](http://4dsolutions.net/ocn/graphics/randtrianim.gif)"
   ]
  },
  {
   "cell_type": "markdown",
   "metadata": {},
   "source": [
    "Lets build a deck of cards showing off more of Python's standard library.  The ```product``` function we're using returns an iterator giving the Cartesian product of all rows of a thing with all columns."
   ]
  },
  {
   "cell_type": "markdown",
   "metadata": {},
   "source": [
    "Python's itertools library will generate actual permutations and combinations from iterables, if that's what you're looking for, but sometimes we just care how many there would be.\n",
    "\n",
    "```python\n",
    "\n",
    "def deck_of_cards(shuffled = True):\n",
    "    face_cards = ['Ace', 'King', 'Queen', 'Jack']\n",
    "    numb_cards = [str(i) for i in range(2, 11)]\n",
    "    suits      = ['Hearts', 'Diamonds', 'Spades', 'Clubs']\n",
    "    # match every card with every suit\n",
    "    cards = list(product(face_cards + numb_cards, suits)) \n",
    "    if shuffled:\n",
    "        shuffle(cards)\n",
    "    return cards\n",
    "```\n",
    "\n",
    "A combination is like a hand of poker.  The order in which the cards are dealt is unimportant.  A permutation of that hand would put the cards in every possible order and count those separately.\n",
    "\n",
    "Given a 52-card deck, how many unique five card hands might be dealt?  Check below for the answer.\n"
   ]
  },
  {
   "cell_type": "code",
   "execution_count": 138,
   "metadata": {},
   "outputs": [],
   "source": [
    "from random import sample, shuffle\n",
    "from statsfun import deck_of_cards"
   ]
  },
  {
   "cell_type": "code",
   "execution_count": 139,
   "metadata": {},
   "outputs": [],
   "source": [
    "deck = deck_of_cards()"
   ]
  },
  {
   "cell_type": "code",
   "execution_count": 140,
   "metadata": {},
   "outputs": [],
   "source": [
    "thedeck = pd.DataFrame({\"Rank\":[card[0] for card in deck],\"Suit\":[card[1] for card in deck]})"
   ]
  },
  {
   "cell_type": "code",
   "execution_count": 141,
   "metadata": {},
   "outputs": [
    {
     "data": {
      "text/plain": [
       "{'10': Int64Index([19, 23, 25, 28], dtype='int64'),\n",
       " '2': Int64Index([7, 10, 13, 24], dtype='int64'),\n",
       " '3': Int64Index([3, 37, 38, 49], dtype='int64'),\n",
       " '4': Int64Index([12, 17, 21, 35], dtype='int64'),\n",
       " '5': Int64Index([2, 31, 39, 50], dtype='int64'),\n",
       " '6': Int64Index([5, 15, 27, 34], dtype='int64'),\n",
       " '7': Int64Index([9, 11, 41, 42], dtype='int64'),\n",
       " '8': Int64Index([26, 30, 36, 47], dtype='int64'),\n",
       " '9': Int64Index([4, 16, 32, 43], dtype='int64'),\n",
       " 'Ace': Int64Index([1, 14, 22, 45], dtype='int64'),\n",
       " 'Jack': Int64Index([8, 18, 20, 33], dtype='int64'),\n",
       " 'King': Int64Index([29, 40, 46, 51], dtype='int64'),\n",
       " 'Queen': Int64Index([0, 6, 44, 48], dtype='int64')}"
      ]
     },
     "execution_count": 141,
     "metadata": {},
     "output_type": "execute_result"
    }
   ],
   "source": [
    "grouped = thedeck.groupby(by=\"Rank\")\n",
    "grouped.groups"
   ]
  },
  {
   "cell_type": "code",
   "execution_count": 142,
   "metadata": {},
   "outputs": [],
   "source": [
    "grouped = thedeck.groupby(by=\"Suit\")"
   ]
  },
  {
   "cell_type": "code",
   "execution_count": 41,
   "metadata": {},
   "outputs": [
    {
     "data": {
      "text/plain": [
       "{'Clubs': Int64Index([10, 13, 14, 19, 20, 22, 26, 29, 32, 36, 48, 49, 51], dtype='int64'),\n",
       " 'Diamonds': Int64Index([0, 6, 7, 9, 11, 17, 24, 35, 37, 45, 46, 47, 50], dtype='int64'),\n",
       " 'Hearts': Int64Index([1, 2, 4, 15, 21, 27, 30, 31, 33, 38, 41, 43, 44], dtype='int64'),\n",
       " 'Spades': Int64Index([3, 5, 8, 12, 16, 18, 23, 25, 28, 34, 39, 40, 42], dtype='int64')}"
      ]
     },
     "execution_count": 41,
     "metadata": {},
     "output_type": "execute_result"
    }
   ],
   "source": [
    "grouped.groups"
   ]
  },
  {
   "cell_type": "code",
   "execution_count": 143,
   "metadata": {},
   "outputs": [
    {
     "data": {
      "text/html": [
       "<div>\n",
       "<style scoped>\n",
       "    .dataframe tbody tr th:only-of-type {\n",
       "        vertical-align: middle;\n",
       "    }\n",
       "\n",
       "    .dataframe tbody tr th {\n",
       "        vertical-align: top;\n",
       "    }\n",
       "\n",
       "    .dataframe thead th {\n",
       "        text-align: right;\n",
       "    }\n",
       "</style>\n",
       "<table border=\"1\" class=\"dataframe\">\n",
       "  <thead>\n",
       "    <tr style=\"text-align: right;\">\n",
       "      <th></th>\n",
       "      <th>Rank</th>\n",
       "      <th>Suit</th>\n",
       "    </tr>\n",
       "  </thead>\n",
       "  <tbody>\n",
       "    <tr>\n",
       "      <th>1</th>\n",
       "      <td>Ace</td>\n",
       "      <td>Spades</td>\n",
       "    </tr>\n",
       "    <tr>\n",
       "      <th>4</th>\n",
       "      <td>9</td>\n",
       "      <td>Spades</td>\n",
       "    </tr>\n",
       "    <tr>\n",
       "      <th>8</th>\n",
       "      <td>Jack</td>\n",
       "      <td>Spades</td>\n",
       "    </tr>\n",
       "    <tr>\n",
       "      <th>9</th>\n",
       "      <td>7</td>\n",
       "      <td>Spades</td>\n",
       "    </tr>\n",
       "    <tr>\n",
       "      <th>12</th>\n",
       "      <td>4</td>\n",
       "      <td>Spades</td>\n",
       "    </tr>\n",
       "    <tr>\n",
       "      <th>24</th>\n",
       "      <td>2</td>\n",
       "      <td>Spades</td>\n",
       "    </tr>\n",
       "    <tr>\n",
       "      <th>26</th>\n",
       "      <td>8</td>\n",
       "      <td>Spades</td>\n",
       "    </tr>\n",
       "    <tr>\n",
       "      <th>28</th>\n",
       "      <td>10</td>\n",
       "      <td>Spades</td>\n",
       "    </tr>\n",
       "    <tr>\n",
       "      <th>34</th>\n",
       "      <td>6</td>\n",
       "      <td>Spades</td>\n",
       "    </tr>\n",
       "    <tr>\n",
       "      <th>40</th>\n",
       "      <td>King</td>\n",
       "      <td>Spades</td>\n",
       "    </tr>\n",
       "    <tr>\n",
       "      <th>48</th>\n",
       "      <td>Queen</td>\n",
       "      <td>Spades</td>\n",
       "    </tr>\n",
       "    <tr>\n",
       "      <th>49</th>\n",
       "      <td>3</td>\n",
       "      <td>Spades</td>\n",
       "    </tr>\n",
       "    <tr>\n",
       "      <th>50</th>\n",
       "      <td>5</td>\n",
       "      <td>Spades</td>\n",
       "    </tr>\n",
       "  </tbody>\n",
       "</table>\n",
       "</div>"
      ],
      "text/plain": [
       "     Rank    Suit\n",
       "1     Ace  Spades\n",
       "4       9  Spades\n",
       "8    Jack  Spades\n",
       "9       7  Spades\n",
       "12      4  Spades\n",
       "24      2  Spades\n",
       "26      8  Spades\n",
       "28     10  Spades\n",
       "34      6  Spades\n",
       "40   King  Spades\n",
       "48  Queen  Spades\n",
       "49      3  Spades\n",
       "50      5  Spades"
      ]
     },
     "execution_count": 143,
     "metadata": {},
     "output_type": "execute_result"
    }
   ],
   "source": [
    "spades = dict(list(grouped))[\"Spades\"]\n",
    "spades"
   ]
  },
  {
   "cell_type": "code",
   "execution_count": 144,
   "metadata": {},
   "outputs": [],
   "source": [
    "shuffle(deck)"
   ]
  },
  {
   "cell_type": "markdown",
   "metadata": {},
   "source": [
    "The cell below is set off from the rest, because our deck is already defined, created, and shuffled."
   ]
  },
  {
   "cell_type": "code",
   "execution_count": 149,
   "metadata": {},
   "outputs": [
    {
     "data": {
      "text/plain": [
       "[('6', 'Hearts'),\n",
       " ('Queen', 'Diamonds'),\n",
       " ('Queen', 'Clubs'),\n",
       " ('6', 'Diamonds'),\n",
       " ('4', 'Diamonds')]"
      ]
     },
     "execution_count": 149,
     "metadata": {},
     "output_type": "execute_result"
    }
   ],
   "source": [
    "sample(deck, 5)"
   ]
  },
  {
   "cell_type": "markdown",
   "metadata": {},
   "source": [
    "Python's numpy.random module lets us sample a population both with and without replacement.  If you put the card back each time, before you again pick a card, writing down your results, you might well get some repeats.  These could not be poker hands, as card dealing does not involve replacement."
   ]
  },
  {
   "cell_type": "markdown",
   "metadata": {},
   "source": [
    "## Turning to numpy"
   ]
  },
  {
   "cell_type": "code",
   "execution_count": 45,
   "metadata": {},
   "outputs": [
    {
     "data": {
      "image/jpeg": "[encoded data removed]",
      "text/html": [
       "\n",
       "        <iframe\n",
       "            width=\"400\"\n",
       "            height=\"300\"\n",
       "            src=\"https://www.youtube.com/embed/OfHoxRuxuW0\"\n",
       "            frameborder=\"0\"\n",
       "            allowfullscreen\n",
       "        ></iframe>\n",
       "        "
      ],
      "text/plain": [
       "<IPython.lib.display.YouTubeVideo at 0x11243e250>"
      ]
     },
     "execution_count": 45,
     "metadata": {},
     "output_type": "execute_result"
    }
   ],
   "source": [
    "YouTubeVideo('OfHoxRuxuW0')"
   ]
  },
  {
   "cell_type": "markdown",
   "metadata": {},
   "source": [
    "In the above Youtube I wander around (random walk) in the space of PRNGs, or pseudo-random number generators.  \n",
    "\n",
    "The numpy ecosystem is [giving us new semantics](https://docs.scipy.org/doc/numpy/reference/random/new-or-different.html) with which to extricate ourselves from the old RandomState class, and gravitate towards a Generator instead, inside of which a new pseudo-random number generator, named [PCG64](https://www.pcg-random.org/), takes precedence.  \n",
    "\n",
    "The old Mersenne Twister is now in what's considered an older area of our data science themed park.\n",
    "\n",
    "Here's the new way of doing it."
   ]
  },
  {
   "cell_type": "code",
   "execution_count": 46,
   "metadata": {},
   "outputs": [],
   "source": [
    "import numpy as np\n",
    "\n",
    "rng = np.random.default_rng(12345)\n",
    "# uncomment to learn more\n",
    "# ? rng"
   ]
  },
  {
   "cell_type": "markdown",
   "metadata": {},
   "source": [
    "```integers``` is now the canonical way to generate integer random numbers from a discrete uniform distribution. The ```rand``` and ```randn``` methods are only available through the legacy ```RandomState```. This replaces both randint and the deprecated random_integers."
   ]
  },
  {
   "cell_type": "code",
   "execution_count": 157,
   "metadata": {},
   "outputs": [
    {
     "data": {
      "text/plain": [
       "array(['Ace of Hearts', '4 of Spades', '8 of Hearts', '3 of Diamonds',\n",
       "       '7 of Clubs', '9 of Clubs', '3 of Hearts', '7 of Clubs',\n",
       "       '4 of Spades', 'Queen of Spades'], dtype='<U17')"
      ]
     },
     "execution_count": 157,
     "metadata": {},
     "output_type": "execute_result"
    }
   ],
   "source": [
    "# turn all the cards into a long list of strings e.g. \"Ace of Spades\"\n",
    "card_images = [f\"{card} of {suit}\" for card, suit in deck]\n",
    "\n",
    "# now pick 10 cards with replacement i.e. they stay in the deck\n",
    "sample = rng.choice(card_images, 10, replace=True)\n",
    "\n",
    "# the result is a numpy array of datatype Unicode\n",
    "sample"
   ]
  },
  {
   "cell_type": "markdown",
   "metadata": {},
   "source": [
    "# Of Bayesians and Frequentists\n",
    "\n",
    "Have you ever come late to a fight, and by the time you arrive they're all talking about it as some past civil war.  We're all friends now.  That's how it sounds to the ears of this anthropologist, as I poke around in Data Science World.\n",
    "\n",
    "The Frequentists enjoy the controlled experience of the laboratory and the scientific experiments involving taking many samples, and seeing if any of the rise above the others as noteworthy in some way not explained away by mere chance.\n",
    "\n",
    "The language of p-values < 0.05 comes from Frequentism.\n",
    "\n",
    "The Bayesians have been enjoying a boost recently because of several factors:\n",
    "\n",
    "* an increasing amount of data thanks to the internet especially\n",
    "* an intuitive approach adjusting beliefs outside the laboratory\n",
    "* an increasing amount of computer power, to work with all that data\n",
    "\n",
    "The Bayesian process involves measuring the likelihood of specific data, given a range of  explanatory models or hypotheses, and updating one's assessment of those models accordingly, in light of the incoming data.\n",
    "\n",
    "*Bayesian Belief Update* reminds us to think in terms of curves.  Our prior belief curve, measured against the likelihood of what we're seeing, gives me an updated posterior.  \n",
    "\n",
    "The denominator normalizes by averaging over all the outcomes and may take [a disjoint form](https://www.coursera.org/lecture/probability-intro/disjoint-events-general-addition-rule-qaYwc), as the sum of multiple sources.  In medical testing, any false positives and negatives will tend to dilute the likelihood of whatever hypothesis is proposed."
   ]
  },
  {
   "cell_type": "markdown",
   "metadata": {},
   "source": [
    "## YouTubes\n",
    "\n",
    "You may embed Youtubes in your Jupyter Notebooks.  These may not be rendered and made playable on some versions of the rendering engine, such as the one at Github.  By cutting and pasting a Github notebook (a public one) into nbviewer, you will get the more complete rendering, with Youtubes displayed."
   ]
  },
  {
   "cell_type": "code",
   "execution_count": 48,
   "metadata": {},
   "outputs": [
    {
     "data": {
      "image/jpeg": "[encoded data removed]",
      "text/html": [
       "\n",
       "        <iframe\n",
       "            width=\"400\"\n",
       "            height=\"300\"\n",
       "            src=\"https://www.youtube.com/embed/HZGCoVF3YvM\"\n",
       "            frameborder=\"0\"\n",
       "            allowfullscreen\n",
       "        ></iframe>\n",
       "        "
      ],
      "text/plain": [
       "<IPython.lib.display.YouTubeVideo at 0x1124461d0>"
      ]
     },
     "execution_count": 48,
     "metadata": {},
     "output_type": "execute_result"
    }
   ],
   "source": [
    "from IPython.display import YouTubeVideo\n",
    "YouTubeVideo('HZGCoVF3YvM')"
   ]
  },
  {
   "cell_type": "code",
   "execution_count": 49,
   "metadata": {},
   "outputs": [
    {
     "data": {
      "image/jpeg": "[encoded data removed]",
      "text/html": [
       "\n",
       "        <iframe\n",
       "            width=\"400\"\n",
       "            height=\"300\"\n",
       "            src=\"https://www.youtube.com/embed/BrK7X_XlGB8\"\n",
       "            frameborder=\"0\"\n",
       "            allowfullscreen\n",
       "        ></iframe>\n",
       "        "
      ],
      "text/plain": [
       "<IPython.lib.display.YouTubeVideo at 0x1115238d0>"
      ]
     },
     "execution_count": 49,
     "metadata": {},
     "output_type": "execute_result"
    }
   ],
   "source": [
    "YouTubeVideo('BrK7X_XlGB8')"
   ]
  },
  {
   "cell_type": "code",
   "execution_count": 50,
   "metadata": {},
   "outputs": [
    {
     "data": {
      "image/jpeg": "[encoded data removed]",
      "text/html": [
       "\n",
       "        <iframe\n",
       "            width=\"400\"\n",
       "            height=\"300\"\n",
       "            src=\"https://www.youtube.com/embed/82q3uYw6MuY\"\n",
       "            frameborder=\"0\"\n",
       "            allowfullscreen\n",
       "        ></iframe>\n",
       "        "
      ],
      "text/plain": [
       "<IPython.lib.display.YouTubeVideo at 0x112445d10>"
      ]
     },
     "execution_count": 50,
     "metadata": {},
     "output_type": "execute_result"
    }
   ],
   "source": [
    "YouTubeVideo('82q3uYw6MuY')"
   ]
  },
  {
   "cell_type": "code",
   "execution_count": 51,
   "metadata": {},
   "outputs": [
    {
     "data": {
      "image/jpeg": "[encoded data removed]",
      "text/html": [
       "\n",
       "        <iframe\n",
       "            width=\"400\"\n",
       "            height=\"300\"\n",
       "            src=\"https://www.youtube.com/embed/H71Vl78qCXA\"\n",
       "            frameborder=\"0\"\n",
       "            allowfullscreen\n",
       "        ></iframe>\n",
       "        "
      ],
      "text/plain": [
       "<IPython.lib.display.YouTubeVideo at 0x112445910>"
      ]
     },
     "execution_count": 51,
     "metadata": {},
     "output_type": "execute_result"
    }
   ],
   "source": [
    "YouTubeVideo('H71Vl78qCXA')"
   ]
  },
  {
   "cell_type": "code",
   "execution_count": 52,
   "metadata": {},
   "outputs": [
    {
     "data": {
      "image/jpeg": "[encoded data removed]",
      "text/html": [
       "\n",
       "        <iframe\n",
       "            width=\"400\"\n",
       "            height=\"300\"\n",
       "            src=\"https://www.youtube.com/embed/9TDjifpGj-k\"\n",
       "            frameborder=\"0\"\n",
       "            allowfullscreen\n",
       "        ></iframe>\n",
       "        "
      ],
      "text/plain": [
       "<IPython.lib.display.YouTubeVideo at 0x112408550>"
      ]
     },
     "execution_count": 52,
     "metadata": {},
     "output_type": "execute_result"
    }
   ],
   "source": [
    "YouTubeVideo('9TDjifpGj-k')"
   ]
  },
  {
   "cell_type": "code",
   "execution_count": 53,
   "metadata": {},
   "outputs": [
    {
     "data": {
      "image/jpeg": "[encoded data removed]",
      "text/html": [
       "\n",
       "        <iframe\n",
       "            width=\"400\"\n",
       "            height=\"300\"\n",
       "            src=\"https://www.youtube.com/embed/TpgiFIGXcT4\"\n",
       "            frameborder=\"0\"\n",
       "            allowfullscreen\n",
       "        ></iframe>\n",
       "        "
      ],
      "text/plain": [
       "<IPython.lib.display.YouTubeVideo at 0x11246dc90>"
      ]
     },
     "execution_count": 53,
     "metadata": {},
     "output_type": "execute_result"
    }
   ],
   "source": [
    "YouTubeVideo('TpgiFIGXcT4')"
   ]
  },
  {
   "cell_type": "markdown",
   "metadata": {},
   "source": [
    "## The Turing Test\n",
    "\n",
    "A good example of how we might use inferential reasoning is in order to ascertain whether a conversation is what we might call intelligent.  \n",
    "\n",
    "Humans and pets get into a feedback loop, of training each other, thereby finding a dynamic equilibrium.  Humans and their computers get into feedback loops also.  An intelligent relationship may form as a result of synergy between participants.\n",
    "\n",
    "Many professionals dream of an ideal conversationalist that provides new insights and understanding, that might also happen to be artificially intelligent, not another human being.\n",
    "\n",
    "Siri, Alexa and other NLP services suggest a trajectory in the direction of more conversationally adept bots.\n",
    "\n",
    "#### Uncanny Valley\n",
    "\n",
    "![Sophia](https://media.giphy.com/media/SKT4HdqZSSPbaobtPs/giphy.gif)\n",
    "\n",
    "Wikipedia [gives a lot of background](https://en.wikipedia.org/wiki/Uncanny_valley) on this particular meme.\n",
    "\n",
    "Uncanny means like eerie or bizarre in some way, in a way we may find repulsive (the opposite of attractive).  Wikipedia goes into some detail with regard to films (especially animations) and what critics have said about them.\n",
    "\n",
    "Uncanny may be [related to grotesque](https://designyoutrust.com/2018/02/mad-im-mad-youre-mad-superb-concept-artworks-michael-kutsche/?fbclid=IwAR3ksDII-YBx6PLV67mfcgQ-xVHK5MqLxNm5faRs3ZREar3KohXHiPVnCRE) but has more of that context of being tricked into thinking something's real that we're not prepared to accept as such.\n",
    "\n",
    "If the mannequin makes no attempt to seem really humanlike, then we don't sense the possibility of being fooled.  However something with a wax museum quality likeness, and animation to boot, may leave us imaging all manner of future confusions, should such robots become commonplace.  We become anxious.  That's one of the theories.\n",
    "\n",
    "What kinds of tests would we use to update prior beliefs regarding the probability that we're speaking with a machine intelligence and not another human?  That's what the Turing Test was all about: if we couldn't be sure, and yet the conversant was a machine, we could say \"the machine has passed the test\".\n",
    "\n",
    "What expectation should we have that even humans will pass the Turing Test, once machines get more human-like and our standards change.  Might Alexa make better conversation than some of your friends?\n",
    "\n",
    "Uncanny valley is not usually applied in this way but imagine:  you've taken some personality test and now conform to predictions.  Once you're shown your own conformity (predictability), you may go out of your way to surprise, but up to that point, you might say \"the efficacy of their model in predicting my behavior was uncanny.\"\n",
    "\n",
    "The question, and conclusion (either way, pass or fail), only makes sense as long as we're able to keep the meaning of \"machine\" intact, as in \"something humanly contrived\".  \n",
    "\n",
    "If we admit or decide that nature is in the machine-making business (because nature is high tech), then we'll need to work harder to explain the difference we're looking for, perhaps by specifying more clearly the differences that make a difference."
   ]
  },
  {
   "cell_type": "code",
   "execution_count": 54,
   "metadata": {},
   "outputs": [
    {
     "data": {
      "image/jpeg": "[encoded data removed]",
      "text/html": [
       "\n",
       "        <iframe\n",
       "            width=\"400\"\n",
       "            height=\"300\"\n",
       "            src=\"https://www.youtube.com/embed/uPUEq8d73JI\"\n",
       "            frameborder=\"0\"\n",
       "            allowfullscreen\n",
       "        ></iframe>\n",
       "        "
      ],
      "text/plain": [
       "<IPython.lib.display.YouTubeVideo at 0x112467e50>"
      ]
     },
     "execution_count": 54,
     "metadata": {},
     "output_type": "execute_result"
    }
   ],
   "source": [
    "YouTubeVideo('uPUEq8d73JI')"
   ]
  },
  {
   "cell_type": "markdown",
   "metadata": {},
   "source": [
    "## What about Hardware?\n",
    "\n",
    "GPUs\n",
    "\n",
    "* \n",
    "\n",
    "Data Science Workstations:\n",
    "\n",
    "* [Exxact](https://www.exxactcorp.com/NVIDIA-Data-Science-Workstations)"
   ]
  }
 ],
 "metadata": {
  "kernelspec": {
   "display_name": "Python 3",
   "language": "python",
   "name": "python3"
  },
  "language_info": {
   "codemirror_mode": {
    "name": "ipython",
    "version": 3
   },
   "file_extension": ".py",
   "mimetype": "text/x-python",
   "name": "python",
   "nbconvert_exporter": "python",
   "pygments_lexer": "ipython3",
   "version": "3.7.9"
  }
 },
 "nbformat": 4,
 "nbformat_minor": 4
}
